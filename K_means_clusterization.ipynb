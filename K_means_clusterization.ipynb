{
  "nbformat": 4,
  "nbformat_minor": 0,
  "metadata": {
    "colab": {
      "provenance": []
    },
    "kernelspec": {
      "name": "python3",
      "display_name": "Python 3"
    },
    "language_info": {
      "name": "python"
    }
  },
  "cells": [
    {
      "cell_type": "markdown",
      "metadata": {
        "id": "rpsIhFKXjTQi"
      },
      "source": [
        "### Работа с текстовыми файлами: деление и подсчет и объединение"
      ]
    },
    {
      "cell_type": "markdown",
      "metadata": {
        "id": "ye-nfwFTBVYP"
      },
      "source": [
        "делю текстовый файл с человеческими текстами на файлы по 500, 1000, 5000, 10000, 15000, 20000, 25000 и 30000 слов.\n",
        "\n",
        "В папке human сохранилось 6689 файлов\n",
        "\n",
        "- bigmGPT - 470 файлов\n",
        "- bigbalaboba - 968 файлов\n",
        "- biggpt2 - 1161 файла\n",
        "- newlstm - 1049 файлов"
      ]
    },
    {
      "cell_type": "code",
      "execution_count": null,
      "metadata": {
        "colab": {
          "base_uri": "https://localhost:8080/"
        },
        "id": "AJBZ69yDWfvE",
        "outputId": "0c846757-bd1c-47ed-9642-2500c3b046d2"
      },
      "outputs": [
        {
          "name": "stdout",
          "output_type": "stream",
          "text": [
            "Drive already mounted at /content/drive; to attempt to forcibly remount, call drive.mount(\"/content/drive\", force_remount=True).\n",
            "✅ Успешно сохранено 1049 файлов в папку: /content/drive/MyDrive/K_means/texts_for_classificator/newlstm_texts\n"
          ]
        }
      ],
      "source": [
        "# Подключаем Google Диск\n",
        "from google.colab import drive\n",
        "drive.mount('/content/drive')\n",
        "\n",
        "import os\n",
        "import random\n",
        "\n",
        "# Путь к вашему файлу и папке на Google Диске\n",
        "drive_root = \"/content/drive/MyDrive/K_means/texts_for_classificator\"\n",
        "input_file = os.path.join(drive_root, \"russian_newlstm_corpus.txt\")\n",
        "output_dir = os.path.join(drive_root, \"newlstm_texts\")\n",
        "\n",
        "# Создаем папку, если её нет\n",
        "os.makedirs(output_dir, exist_ok=True)\n",
        "\n",
        "# Размеры сегментов (в словах)\n",
        "chunk_sizes = [500, 1000, 5000, 10000, 15000, 20000, 25000, 30000]\n",
        "\n",
        "# Функция: сбалансированное распределение размеров\n",
        "def get_balanced_sizes(total_words):\n",
        "    sizes = []\n",
        "    counts = {size: 0 for size in chunk_sizes}\n",
        "    while total_words >= min(chunk_sizes):\n",
        "        size = random.choice(chunk_sizes)\n",
        "        if total_words >= size:\n",
        "            sizes.append(size)\n",
        "            counts[size] += 1\n",
        "            total_words -= size\n",
        "    return sizes\n",
        "\n",
        "# Чтение исходного файла\n",
        "with open(input_file, \"r\", encoding=\"utf-8\") as f:\n",
        "    text = f.read()\n",
        "\n",
        "words = text.split()\n",
        "total_words = len(words)\n",
        "\n",
        "# Получаем размеры сегментов\n",
        "segment_sizes = get_balanced_sizes(total_words)\n",
        "\n",
        "# Разделяем и сохраняем текст по сегментам\n",
        "start = 0\n",
        "for i, size in enumerate(segment_sizes):\n",
        "    end = start + size\n",
        "    chunk = words[start:end]\n",
        "    filename = os.path.join(output_dir, f\"part_{i+1:03d}.txt\")\n",
        "    with open(filename, \"w\", encoding=\"utf-8\") as f:\n",
        "        f.write(\" \".join(chunk))\n",
        "    start = end\n",
        "\n",
        "print(f\"✅ Успешно сохранено {len(segment_sizes)} файлов в папку: {output_dir}\")"
      ]
    },
    {
      "cell_type": "markdown",
      "source": [
        "создаю корпусы с одинаковым количеством слов (20 тыс) в файлах\n",
        "\n",
        "- newlit - 4439 файлов\n",
        "- newlstm - 687 файлов\n",
        "- bigmGPT - 317 файлов\n",
        "- balaboba - 645 файлов\n",
        "- biggpt2 - 789 файлов"
      ],
      "metadata": {
        "id": "9K6NZyR0-94c"
      }
    },
    {
      "cell_type": "code",
      "source": [
        "# Подключаем Google Диск\n",
        "from google.colab import drive\n",
        "drive.mount('/content/drive')\n",
        "\n",
        "import os\n",
        "\n",
        "# Путь к вашему файлу и папке на Google Диске\n",
        "drive_root = \"/content/drive/MyDrive/K_means/\"\n",
        "input_file = os.path.join(drive_root, \"russian_biggpt2_corpus.txt\")\n",
        "output_dir = os.path.join(drive_root, \"biggpt2_by_20k\")\n",
        "\n",
        "# Создаем папку, если её нет\n",
        "os.makedirs(output_dir, exist_ok=True)\n",
        "\n",
        "# Размер сегмента (в словах)\n",
        "chunk_size = 20000\n",
        "\n",
        "# Чтение исходного файла\n",
        "with open(input_file, \"r\", encoding=\"utf-8\") as f:\n",
        "    text = f.read()\n",
        "\n",
        "words = text.split()\n",
        "total_words = len(words)\n",
        "num_chunks = (total_words + chunk_size - 1) // chunk_size  # округляем вверх\n",
        "\n",
        "# Разделяем и сохраняем текст по сегментам\n",
        "for i in range(num_chunks):\n",
        "    start = i * chunk_size\n",
        "    end = min((i + 1) * chunk_size, total_words)\n",
        "    chunk = words[start:end]\n",
        "    filename = os.path.join(output_dir, f\"part_{i+1:03d}.txt\")\n",
        "    with open(filename, \"w\", encoding=\"utf-8\") as f:\n",
        "        f.write(\" \".join(chunk))\n",
        "\n",
        "print(f\"✅ Успешно сохранено {num_chunks} файлов в папку: {output_dir}\")\n"
      ],
      "metadata": {
        "colab": {
          "base_uri": "https://localhost:8080/"
        },
        "id": "7AjJQwz_-9Gd",
        "outputId": "bb97e4f6-56b0-4fe7-de00-095adac576f4"
      },
      "execution_count": null,
      "outputs": [
        {
          "output_type": "stream",
          "name": "stdout",
          "text": [
            "Drive already mounted at /content/drive; to attempt to forcibly remount, call drive.mount(\"/content/drive\", force_remount=True).\n",
            "✅ Успешно сохранено 789 файлов в папку: /content/drive/MyDrive/K_means/biggpt2_by_20k\n"
          ]
        }
      ]
    },
    {
      "cell_type": "markdown",
      "metadata": {
        "id": "nhbJ2Iy4uY9t"
      },
      "source": [
        "разделила данные на тренировочные и тестовые папки, в каждой из которых хранятся три файла: human + 2 bot\n",
        "\n",
        "- Train human: 3347\n",
        "- Test human: 3347\n",
        "- Train bots (['biggpt2', 'newlstm']): 2210\n",
        "- Test bots (['bigmGPT', 'bigbalaboba']): 1438"
      ]
    },
    {
      "cell_type": "code",
      "execution_count": null,
      "metadata": {
        "colab": {
          "base_uri": "https://localhost:8080/"
        },
        "id": "OdhlDg16C09K",
        "outputId": "3e45caae-0d66-4d9b-c19a-19ed9c4b690c"
      },
      "outputs": [
        {
          "output_type": "stream",
          "name": "stdout",
          "text": [
            "Drive already mounted at /content/drive; to attempt to forcibly remount, call drive.mount(\"/content/drive\", force_remount=True).\n",
            "Train human: 2219\n",
            "Test human: 2220\n",
            "Train bots (['bigmGPT_by_20k', 'biggpt2_by_20k']): 1106\n",
            "Test bots (['balaboba_by_20k', 'newlstm_by_20k']): 1332\n"
          ]
        }
      ],
      "source": [
        "import os\n",
        "import random\n",
        "import shutil\n",
        "from pathlib import Path\n",
        "from google.colab import drive\n",
        "drive.mount('/content/drive')\n",
        "\n",
        "# Параметры\n",
        "random.seed(42)\n",
        "data_dir = Path(\"/content/drive/MyDrive/K_means/equal_files_20000\")      # исходная папка с human/, gpt2/, mgpt/ и т.д.\n",
        "output_dir = Path(\"/content/drive/MyDrive/K_means/split_20\")   # куда сохраняются train/ и test/\n",
        "output_dir.mkdir(exist_ok=True)\n",
        "\n",
        "# Бот-модели\n",
        "all_bot_models = [\"bigmGPT_by_20k\", \"balaboba_by_20k\", \"biggpt2_by_20k\", \"newlstm_by_20k\"]\n",
        "\n",
        "# 1. Получаем human-тексты и делим\n",
        "human_files = list((data_dir / \"human_by_20k\").rglob(\"*.txt\"))\n",
        "random.shuffle(human_files)\n",
        "split_idx = len(human_files) // 2\n",
        "train_human = human_files[:split_idx]\n",
        "test_human = human_files[split_idx:]\n",
        "\n",
        "# 2. Делим ботов на train/test модели\n",
        "bot_models = all_bot_models.copy()\n",
        "random.shuffle(bot_models)\n",
        "train_bot_models = bot_models[:2]\n",
        "test_bot_models = bot_models[2:]\n",
        "\n",
        "# 3. Получаем файлы ботов\n",
        "def get_bot_files(model_names):\n",
        "    files = []\n",
        "    for model in model_names:\n",
        "        files += list((data_dir / model).rglob(\"*.txt\"))\n",
        "    return files\n",
        "\n",
        "train_bot = get_bot_files(train_bot_models)\n",
        "test_bot = get_bot_files(test_bot_models)\n",
        "\n",
        "# 4. Функция копирования файлов в нужную папку\n",
        "def copy_files(files, subset: str, label: str):\n",
        "    \"\"\"\n",
        "    subset: 'train_20' или 'test_20'\n",
        "    label: 'human', 'gpt2', 'mgpt', и т.п.\n",
        "    \"\"\"\n",
        "    subset_dir = output_dir / subset / label\n",
        "    subset_dir.mkdir(parents=True, exist_ok=True)\n",
        "    for src_file in files:\n",
        "        dest_file = subset_dir / src_file.name\n",
        "        shutil.copy2(src_file, dest_file)\n",
        "\n",
        "# 5. Копируем файлы\n",
        "copy_files(train_human, \"train_20\", \"human_by_20k\")\n",
        "copy_files(test_human, \"test_20\", \"human_by_20k\")\n",
        "for model in train_bot_models:\n",
        "    model_files = list((data_dir / model).rglob(\"*.txt\"))\n",
        "    copy_files(model_files, \"train_20\", model)\n",
        "\n",
        "for model in test_bot_models:\n",
        "    model_files = list((data_dir / model).rglob(\"*.txt\"))\n",
        "    copy_files(model_files, \"test_20\", model)\n",
        "\n",
        "# 6. Печать инфо\n",
        "print(f\"Train human: {len(train_human)}\")\n",
        "print(f\"Test human: {len(test_human)}\")\n",
        "print(f\"Train bots ({train_bot_models}): {len(train_bot)}\")\n",
        "print(f\"Test bots ({test_bot_models}): {len(test_bot)}\")\n"
      ]
    },
    {
      "cell_type": "markdown",
      "metadata": {
        "id": "cIHUlBnjbJlM"
      },
      "source": [
        "### реализую метрику CVNN (Оценивает разделение на основе геометрического расположения точек в кластерах, используя динамические представления для различных кластеров)"
      ]
    },
    {
      "cell_type": "code",
      "execution_count": null,
      "metadata": {
        "id": "ZXm88UqIRoLX"
      },
      "outputs": [],
      "source": [
        "import numpy as np\n",
        "from scipy.spatial import distance\n",
        "from sklearn.neighbors import NearestNeighbors\n",
        "\n",
        "class CVNNValidator:\n",
        "    def __init__(self, k_neighbors=5):\n",
        "        self.k = max(1, k_neighbors)  # Гарантируем хотя бы 1 соседа\n",
        "\n",
        "    def compute_index(self, data, labels):\n",
        "        unique_labels, counts = np.unique(labels, return_counts=True)\n",
        "        n_clusters = len(unique_labels)\n",
        "\n",
        "        # Краевые случаи\n",
        "        if n_clusters == 1 or len(data) < 2:\n",
        "            return float('inf')\n",
        "\n",
        "        # Отсеиваем шумовые точки (метка -1)\n",
        "        valid_mask = labels != -1\n",
        "        data = data[valid_mask]\n",
        "        labels = labels[valid_mask]\n",
        "\n",
        "        total_compactness = 0.0\n",
        "        total_separability = 0.0\n",
        "        valid_clusters = 0\n",
        "\n",
        "        for label in unique_labels:\n",
        "            if label == -1:\n",
        "                continue\n",
        "\n",
        "            cluster_points = data[labels == label]\n",
        "            other_points = data[labels != label]\n",
        "\n",
        "            if len(cluster_points) < 2:\n",
        "                continue\n",
        "\n",
        "            # Компактность\n",
        "            pairwise_dist = distance.pdist(cluster_points)\n",
        "            compactness = np.mean(pairwise_dist)\n",
        "\n",
        "            # Разделимость\n",
        "            if len(other_points) > 0:\n",
        "                n_neighbors = min(self.k, len(other_points))\n",
        "                nbrs = NearestNeighbors(n_neighbors=n_neighbors).fit(other_points)\n",
        "                distances, _ = nbrs.kneighbors(cluster_points)\n",
        "                separability = np.mean(distances)\n",
        "            else:\n",
        "                separability = 0.0\n",
        "\n",
        "            total_compactness += compactness\n",
        "            total_separability += separability\n",
        "            valid_clusters += 1\n",
        "\n",
        "        if valid_clusters == 0 or total_separability == 0:\n",
        "            return float('inf')\n",
        "\n",
        "        # Финальная формула\n",
        "        raw_score = (total_compactness / valid_clusters) / (total_separability / valid_clusters)\n",
        "        return 1 - np.exp(-raw_score)"
      ]
    },
    {
      "cell_type": "markdown",
      "metadata": {
        "id": "nkCYaX5iQJr5"
      },
      "source": [
        "### метрика s_dbw"
      ]
    },
    {
      "cell_type": "code",
      "execution_count": null,
      "metadata": {
        "id": "eY8Z2i4CR3K3"
      },
      "outputs": [],
      "source": [
        "import numpy as np\n",
        "from scipy.spatial.distance import cdist\n",
        "from sklearn.neighbors import NearestNeighbors\n",
        "\n",
        "def S_Dbw(X, labels, centers=None, k_neighbors=5):\n",
        "    \"\"\"\n",
        "    Вычисляет Score Density-based (S_Dbw) для оценки кластеризации.\n",
        "\n",
        "    Параметры:\n",
        "        X : array-like, shape (n_samples, n_features)\n",
        "            Входные данные.\n",
        "        labels : array-like, shape (n_samples,)\n",
        "            Метки кластеров.\n",
        "        centers : array-like, shape (n_clusters, n_features), optional\n",
        "            Центры кластеров. Если None, будут вычислены как средние.\n",
        "        k_neighbors : int, optional\n",
        "            Количество соседей для оценки плотности.\n",
        "\n",
        "    Возвращает:\n",
        "        s_dbw : float\n",
        "            Значение метрики S_Dbw (чем меньше, тем лучше).\n",
        "    \"\"\"\n",
        "    # Проверка входных данных\n",
        "    if len(X) != len(labels):\n",
        "        raise ValueError(\"Размеры X и labels должны совпадать\")\n",
        "\n",
        "    unique_labels = np.unique(labels)\n",
        "    n_clusters = len(unique_labels)\n",
        "    n_samples, n_features = X.shape\n",
        "\n",
        "    # Если только один кластер, возвращаем плохое значение\n",
        "    if n_clusters < 2:\n",
        "        return float('inf')\n",
        "\n",
        "    # Вычисляем центры кластеров, если не предоставлены\n",
        "    if centers is None:\n",
        "        centers = np.array([X[labels == k].mean(axis=0) for k in unique_labels])\n",
        "\n",
        "    # 1. Вычисляем Scat (компактность)\n",
        "    scat = 0.0\n",
        "    sigma = np.zeros(n_features)\n",
        "\n",
        "    for k in unique_labels:\n",
        "        cluster_points = X[labels == k]\n",
        "        if len(cluster_points) > 0:\n",
        "            sigma += np.std(cluster_points, axis=0) ** 2\n",
        "\n",
        "    sigma = np.sqrt(sigma / n_clusters)\n",
        "    scat = np.linalg.norm(sigma) / (np.linalg.norm(np.std(X, axis=0)) * np.sqrt(n_clusters))\n",
        "\n",
        "    # 2. Вычисляем Dens_bw (разделимость)\n",
        "    dens_bw = 0.0\n",
        "    stdev = np.mean(np.std(X, axis=0))\n",
        "\n",
        "    # Находим все пары кластеров\n",
        "    for i in range(n_clusters):\n",
        "        for j in range(i+1, n_clusters):\n",
        "            # Точка посередине между центрами кластеров\n",
        "            u_ij = (centers[i] + centers[j]) / 2\n",
        "\n",
        "            # Плотность в точке u_ij\n",
        "            dist_to_u = cdist(X, [u_ij])\n",
        "            radius = stdev / 2\n",
        "            points_in_radius = np.sum(dist_to_u <= radius)\n",
        "\n",
        "            # Плотность в кластерах i и j\n",
        "            cluster_i = X[labels == unique_labels[i]]\n",
        "            cluster_j = X[labels == unique_labels[j]]\n",
        "\n",
        "            if len(cluster_i) > 0:\n",
        "                dist_i = cdist(cluster_i, [centers[i]])\n",
        "                dens_i = np.sum(dist_i <= radius)\n",
        "                dens_i = dens_i / len(cluster_i) if len(cluster_i) > 0 else 0\n",
        "            else:\n",
        "                dens_i = 0\n",
        "\n",
        "            if len(cluster_j) > 0:\n",
        "                dist_j = cdist(cluster_j, [centers[j]])\n",
        "                dens_j = np.sum(dist_j <= radius)\n",
        "                dens_j = dens_j / len(cluster_j) if len(cluster_j) > 0 else 0\n",
        "            else:\n",
        "                dens_j = 0\n",
        "\n",
        "            # Максимальная плотность между двумя кластерами\n",
        "            max_dens = max(dens_i, dens_j)\n",
        "\n",
        "            if max_dens != 0:\n",
        "                dens_bw += points_in_radius / max_dens\n",
        "    # Нормализация\n",
        "    n_pairs = n_clusters * (n_clusters - 1) / 2\n",
        "    dens_bw = dens_bw / n_pairs if n_pairs > 0 else 0\n",
        "\n",
        "    # Финальный показатель\n",
        "    s_dbw = scat + dens_bw\n",
        "\n",
        "    return s_dbw"
      ]
    },
    {
      "cell_type": "code",
      "execution_count": null,
      "metadata": {
        "colab": {
          "base_uri": "https://localhost:8080/"
        },
        "id": "Ju6iq6YcEtyL",
        "outputId": "4fcea64e-75df-4950-98ec-850742a9d142"
      },
      "outputs": [
        {
          "output_type": "stream",
          "name": "stdout",
          "text": [
            "Collecting kneed\n",
            "  Downloading kneed-0.8.5-py3-none-any.whl.metadata (5.5 kB)\n",
            "Requirement already satisfied: numpy>=1.14.2 in /usr/local/lib/python3.11/dist-packages (from kneed) (2.0.2)\n",
            "Requirement already satisfied: scipy>=1.0.0 in /usr/local/lib/python3.11/dist-packages (from kneed) (1.15.3)\n",
            "Downloading kneed-0.8.5-py3-none-any.whl (10 kB)\n",
            "Installing collected packages: kneed\n",
            "Successfully installed kneed-0.8.5\n",
            "Collecting s_dbw\n",
            "  Downloading s_dbw-0.4.0-py3-none-any.whl.metadata (4.4 kB)\n",
            "Requirement already satisfied: scipy in /usr/local/lib/python3.11/dist-packages (from s_dbw) (1.15.3)\n",
            "Requirement already satisfied: numpy>=1.14.2 in /usr/local/lib/python3.11/dist-packages (from s_dbw) (2.0.2)\n",
            "Downloading s_dbw-0.4.0-py3-none-any.whl (8.0 kB)\n",
            "Installing collected packages: s_dbw\n",
            "Successfully installed s_dbw-0.4.0\n"
          ]
        }
      ],
      "source": [
        "!pip install kneed\n",
        "!pip install s_dbw"
      ]
    },
    {
      "cell_type": "markdown",
      "source": [
        "### K-means with PCA + внешние метрики"
      ],
      "metadata": {
        "id": "Yk015NWqUy1h"
      }
    },
    {
      "cell_type": "code",
      "source": [
        "from sklearn.decomposition import PCA\n",
        "import matplotlib.pyplot as plt\n",
        "from sklearn.decomposition import PCA\n",
        "from sklearn.manifold import TSNE\n",
        "import numpy as np\n",
        "from matplotlib.colors import ListedColormap\n",
        "from kneed import KneeLocator\n",
        "import numpy as np\n",
        "import os\n",
        "from tqdm.auto import tqdm\n",
        "import gc\n",
        "import pandas as pd\n",
        "from google.colab import drive\n",
        "from sklearn.cluster import KMeans, MiniBatchKMeans\n",
        "from sklearn.utils import resample\n",
        "from sklearn.metrics import silhouette_score, davies_bouldin_score\n",
        "from scipy.spatial.distance import pdist\n",
        "\n",
        "class BatchTextProcessor:\n",
        "    def __init__(self, dict_path, batch_size=10000):\n",
        "        self.wdict = np.load(dict_path, allow_pickle=True).item()\n",
        "        self.batch_size = batch_size\n",
        "        self.cvnn_validator = CVNNValidator(k_neighbors=5)\n",
        "\n",
        "    def _apply_pca(self, X, n_components=25):\n",
        "        if X.shape[1] <= n_components:\n",
        "            return X\n",
        "        pca = PCA(n_components=n_components, random_state=42)\n",
        "        return pca.fit_transform(X)\n",
        "\n",
        "    def _find_optimal_k(self, X_n, max_k=10, n_init=3, stability_checks=3):\n",
        "        \"\"\"\n",
        "        Улучшенный метод определения оптимального числа кластеров:\n",
        "        1. Использует KneeLocator для точного нахождения \"локтя\"\n",
        "        2. Комбинирует с Silhouette Score и SDbw\n",
        "        3. Проверяет стабильность кластеров\n",
        "        \"\"\"\n",
        "        # Инициализация\n",
        "        distortions = []\n",
        "        silhouette_scores = []\n",
        "        sdbw_scores = []\n",
        "        K_range = range(2, max_k + 1)\n",
        "\n",
        "        # Вычисление метрик для каждого k\n",
        "        for k in K_range:\n",
        "            kmeans = KMeans(n_clusters=k, n_init=n_init, random_state=123)\n",
        "            kmeans.fit(X_n)\n",
        "            labels = kmeans.labels_\n",
        "            distortions.append(kmeans.inertia_)\n",
        "\n",
        "            if k > 1:  # Silhouette требует минимум 2 кластера\n",
        "                silhouette_scores.append(silhouette_score(X_n, labels))\n",
        "                sdbw_scores.append(S_Dbw(X_n, labels))\n",
        "\n",
        "        # 1. Автоматическое определение \"локтя\" через KneeLocator\n",
        "        kneedle = KneeLocator(\n",
        "            K_range,\n",
        "            distortions,\n",
        "            curve='convex',\n",
        "            direction='decreasing'\n",
        "        )\n",
        "        optimal_k_elbow = kneedle.elbow if kneedle.elbow else 3  # fallback\n",
        "\n",
        "        # 2. Оптимальное k по Silhouette Score\n",
        "        optimal_k_sil = np.argmax(silhouette_scores) + 2 if silhouette_scores else optimal_k_elbow\n",
        "\n",
        "        # 3. Оптимальное k по SDbw (минимизируем)\n",
        "        optimal_k_sdbw = np.argmin(sdbw_scores) + 2 if sdbw_scores else optimal_k_elbow\n",
        "\n",
        "        # 4. Комбинированный результат (берем медиану)\n",
        "        combined_k = int(np.median([optimal_k_elbow, optimal_k_sil, optimal_k_sdbw]))\n",
        "\n",
        "        # 5. Проверка стабильности (опционально)\n",
        "        if stability_checks > 1:\n",
        "            stability = self._check_cluster_stability(X_n, combined_k, n_iter=stability_checks)\n",
        "            if stability > 0.1 * distortions[combined_k-2]:  # Если разброс >10% от inertia\n",
        "                combined_k = max(optimal_k_elbow, optimal_k_sil - 1)  # Уменьшаем k\n",
        "\n",
        "        return int(min(combined_k, max_k))\n",
        "\n",
        "    def _check_cluster_stability(self, X_n, k, n_iter=5):\n",
        "        \"\"\"Проверяет стабильность кластеров через бутстрап\"\"\"\n",
        "        inertia_values = []\n",
        "        for _ in range(n_iter):\n",
        "            X_resampled = resample(X_n, replace=True, n_samples=len(X_n))\n",
        "            kmeans = KMeans(n_clusters=k, n_init=1).fit(X_resampled)\n",
        "            inertia_values.append(kmeans.inertia_)\n",
        "        return np.std(inertia_values)\n",
        "\n",
        "    def _calculate_cluster_metrics(self, X_n, labels):\n",
        "        \"\"\"Вычисляет все метрики кластеризации для текущего батча\"\"\"\n",
        "        metrics = {}\n",
        "        n_clusters = len(np.unique(labels))\n",
        "\n",
        "        # Инициализация валидатора CVNN\n",
        "        cvnn_validator = CVNNValidator(k_neighbors=5)\n",
        "\n",
        "        # Общие метрики для всех случаев\n",
        "        metrics.update({\n",
        "            'silhouette': -1 if n_clusters < 2 else silhouette_score(X_n, labels),\n",
        "            'davies_bouldin': float('inf') if n_clusters < 2 else davies_bouldin_score(X_n, labels),\n",
        "            'sdbw': float('inf') if n_clusters < 2 else S_Dbw(X_n, labels),\n",
        "            'cvnn': cvnn_validator.compute_index(X_n, labels)  # Всегда вычисляем, так как метод сам обрабатывает краевые случаи\n",
        "        })\n",
        "\n",
        "        return metrics\n",
        "\n",
        "    def _calculate_inter_cluster_metrics(self, kmeans):\n",
        "        \"\"\"Вычисляет расстояния между центроидами кластеров\"\"\"\n",
        "        centroids = kmeans.cluster_centers_\n",
        "        if len(centroids) < 2:\n",
        "            return {'min_inter': 0.0, 'max_inter': 0.0, 'mean_inter': 0.0}\n",
        "\n",
        "        centroid_distances = pdist(centroids, metric='euclidean')\n",
        "        return {\n",
        "            'min_inter': np.min(centroid_distances),\n",
        "            'max_inter': np.max(centroid_distances),\n",
        "            'mean_inter': np.mean(centroid_distances)\n",
        "        }\n",
        "\n",
        "\n",
        "    def _handle_small_last_batch(self, batch_files, n):\n",
        "        if len(batch_files) == 1:\n",
        "            raise ValueError(f\"Недостаточно данных. Нужно минимум {n} слов, а получено {len(np.load(batch_files[0], allow_pickle=True))}\")\n",
        "\n",
        "        last_batch = np.load(batch_files.pop(), allow_pickle=True)\n",
        "        prev_batch = np.load(batch_files[-1], allow_pickle=True)\n",
        "        combined = np.vstack((prev_batch, last_batch))\n",
        "        np.save(batch_files[-1], combined)\n",
        "\n",
        "        print(f\"Объединены последние пакеты. Новый размер: {len(combined)}\")\n",
        "        return batch_files\n",
        "\n",
        "    def _create_batches(self, file_path, temp_dir):\n",
        "        batch_files = []\n",
        "        with open(file_path, 'r', encoding='utf-8') as f:\n",
        "            words = []\n",
        "            for line in f:\n",
        "                words.extend(line.split())\n",
        "                if len(words) >= self.batch_size:\n",
        "                    batch_file = os.path.join(temp_dir, f\"batch_{len(batch_files)}.npy\")\n",
        "                    self._save_batch(words[:self.batch_size], batch_file)\n",
        "                    batch_files.append(batch_file)\n",
        "                    words = words[self.batch_size:]\n",
        "                    gc.collect()\n",
        "\n",
        "        if words:\n",
        "            batch_file = os.path.join(temp_dir, f\"batch_{len(batch_files)}.npy\")\n",
        "            self._save_batch(words, batch_file)\n",
        "            batch_files.append(batch_file)\n",
        "\n",
        "        return batch_files\n",
        "\n",
        "    def _save_batch(self, words, batch_file):\n",
        "        embs = [self.wdict[w] for w in words if w in self.wdict]\n",
        "        if embs:\n",
        "            np.save(batch_file, np.vstack(embs))\n",
        "\n",
        "\n",
        "    def get_ngram_stats(self, batch_files, n):\n",
        "        \"\"\"Печатает статистику по n-граммам\"\"\"\n",
        "        total_ngrams = 0\n",
        "        unique_ngrams = set()\n",
        "\n",
        "        for batch_file in tqdm(batch_files, desc=f\"Анализ {n}-грамм\"):  # Исправлено здесь\n",
        "            batch = np.load(batch_file, allow_pickle=True)\n",
        "            if len(batch) >= n:\n",
        "                for i in range(len(batch) - n + 1):\n",
        "                    ngram = tuple(batch[i:i+n].flatten())\n",
        "                    unique_ngrams.add(ngram)\n",
        "                    total_ngrams += 1\n",
        "\n",
        "        uniqueness_ratio = len(unique_ngrams)/total_ngrams if total_ngrams > 0 else 0\n",
        "\n",
        "        print(f\"\\n📊 Итоговая статистика {n}-грамм:\")  # Здесь n берется из параметров метода\n",
        "        print(f\"Общее количество {n}-грамм: {total_ngrams}\")  # Добавлено n для ясности\n",
        "        print(f\"Количество уникальных {n}-грамм: {len(unique_ngrams)}\")\n",
        "        print(f\"Коэффициент уникальности: {uniqueness_ratio:.2%}\")\n",
        "\n",
        "        return total_ngrams, len(unique_ngrams), uniqueness_ratio\n",
        "\n",
        "    def _process_batches(self, batch_files, n, k, temp_dir, start_idx, all_stats):\n",
        "        use_minibatch = len(batch_files) * self.batch_size > 100000\n",
        "\n",
        "        # Автоматическое определение k для первого батча\n",
        "        if isinstance(k, str) and k == 'auto':\n",
        "            first_batch = np.load(batch_files[0], allow_pickle=True)\n",
        "            X_n_sample = self._create_ngrams(first_batch, n)\n",
        "            if X_n_sample is not None:\n",
        "                k = self._find_optimal_k(X_n_sample)\n",
        "                print(f\"Автоматически определено оптимальное k = {k}\")\n",
        "            else:\n",
        "                k = 5\n",
        "                print(f\"Не удалось определить оптимальное k, использую k = {k}\")\n",
        "\n",
        "        if not isinstance(k, int) or k < 1:\n",
        "            raise ValueError(f\"Количество кластеров должно быть положительным целым числом. Получено: {k}\")\n",
        "\n",
        "        kmeans = MiniBatchKMeans(n_clusters=k, random_state=123, batch_size=self.batch_size) if use_minibatch \\\n",
        "            else KMeans(n_clusters=k, init='k-means++', n_init=1, random_state=123)\n",
        "\n",
        "        with tqdm(total=len(batch_files) * 2, desc=\"Общая прогрессия\") as main_pbar:\n",
        "            X_all = []\n",
        "            # Фаза обучения\n",
        "            for idx, batch_file in enumerate(batch_files[start_idx:]):\n",
        "                try:\n",
        "                    batch = np.load(batch_file, allow_pickle=True)\n",
        "                    X_n = self._create_ngrams(batch, n)\n",
        "\n",
        "                    if X_n is not None:\n",
        "                        if use_minibatch:\n",
        "                            kmeans.partial_fit(X_n)\n",
        "                        else:\n",
        "                            X_all.append(X_n)\n",
        "                except Exception as e:\n",
        "                    print(f\"Ошибка при обработке батча {idx}: {str(e)}\")\n",
        "                    continue\n",
        "\n",
        "                main_pbar.update(1)\n",
        "                main_pbar.set_postfix({\"фаза\": \"обучение\"})\n",
        "                gc.collect()\n",
        "\n",
        "            if not use_minibatch and X_all:\n",
        "                X_all = np.vstack(X_all)\n",
        "                kmeans.fit(X_all)\n",
        "                del X_all\n",
        "                gc.collect()\n",
        "\n",
        "            # Фаза предсказания\n",
        "            all_stats = []\n",
        "            for idx, batch_file in enumerate(batch_files[start_idx:]):\n",
        "                try:\n",
        "                    batch = np.load(batch_file, allow_pickle=True)\n",
        "                    X_n = self._create_ngrams(batch, n)\n",
        "\n",
        "                    if X_n is not None:\n",
        "                        labels = kmeans.predict(X_n)\n",
        "                        stats = self._calculate_stats(X_n, labels, k)\n",
        "                        all_stats.append(stats)\n",
        "                except Exception as e:\n",
        "                    print(f\"Ошибка при предсказании для батча {idx}: {str(e)}\")\n",
        "                    continue\n",
        "\n",
        "                main_pbar.update(1)\n",
        "                main_pbar.set_postfix({\"фаза\": \"предсказание\"})\n",
        "                gc.collect()\n",
        "\n",
        "        return self._aggregate_stats(all_stats)\n",
        "\n",
        "    def _create_ngrams(self, data, n):\n",
        "        if len(data) < n:\n",
        "            return None\n",
        "        try:\n",
        "            ngrams = np.concatenate([data[i:len(data)-n+i] for i in range(n)], axis=1)\n",
        "            unique_ngrams = np.unique(ngrams, axis=0)\n",
        "            return unique_ngrams\n",
        "        except:\n",
        "            return None\n",
        "\n",
        "    def _calculate_stats(self, X_n, labels, k):\n",
        "        X_dist = pdist(X_n)\n",
        "        stats = {\n",
        "            'mean': [],\n",
        "            'min': [],\n",
        "            'max': [],\n",
        "            'counts': np.zeros(k),\n",
        "            'metrics': self._calculate_cluster_metrics(X_n, labels)\n",
        "        }\n",
        "\n",
        "        # Внутрикластерные расстояния\n",
        "        for c in range(k):\n",
        "            cluster_idx = np.where(labels == c)[0]\n",
        "            if len(cluster_idx) > 1:\n",
        "                mean, min1, max1 = cluster_distances(X_dist, cluster_idx, len(X_n))\n",
        "                stats['mean'].append(mean)\n",
        "                stats['min'].append(min1)\n",
        "                stats['max'].append(max1)\n",
        "            stats['counts'][c] += len(cluster_idx)\n",
        "\n",
        "        # Межкластерные расстояния (используем сохранённый kmeans)\n",
        "        if hasattr(self, 'kmeans') and self.kmeans is not None:\n",
        "            inter_metrics = self._calculate_inter_cluster_metrics(self.kmeans)\n",
        "            stats.update(inter_metrics)  # Добавляем min_inter, max_inter, mean_inter напрямую в stats\n",
        "        else:\n",
        "            stats.update({'min_inter': 0.0, 'max_inter': 0.0, 'mean_inter': 0.0})\n",
        "\n",
        "        return stats\n",
        "\n",
        "    def _aggregate_stats(self, all_stats):\n",
        "        if not all_stats:\n",
        "            return {\n",
        "                'mean_icd': 0.0,\n",
        "                'min_icd': 0.0,\n",
        "                'max_icd': 0.0,\n",
        "                'min_inter': 0.0,\n",
        "                'max_inter': 0.0,\n",
        "                'mean_inter': 0.0,\n",
        "                'cluster_distribution': [],\n",
        "                'silhouette': 0.0,\n",
        "                'davies_bouldin': 0.0,\n",
        "                'sdbw': 0.0,\n",
        "                'cvnn': 0.0,\n",
        "                'uniqueness_ratio': 0.0\n",
        "            }\n",
        "\n",
        "        # Средние значения для внутрикластерных метрик\n",
        "        mean_icd = np.mean([np.mean(s['mean']) for s in all_stats if s.get('mean')]) if any(s.get('mean') for s in all_stats) else 0.0\n",
        "        min_icd = np.mean([np.mean(s['min']) for s in all_stats if s.get('min')]) if any(s.get('min') for s in all_stats) else 0.0\n",
        "        max_icd = np.mean([np.mean(s['max']) for s in all_stats if s.get('max')]) if any(s.get('max') for s in all_stats) else 0.0\n",
        "\n",
        "        # Средние значения для межкластерных метрик (теперь они уже в корне stats, а не в inter_metrics)\n",
        "        min_inter = np.mean([s.get('min_inter', 0.0) for s in all_stats])\n",
        "        max_inter = np.mean([s.get('max_inter', 0.0) for s in all_stats])\n",
        "        mean_inter = np.mean([s.get('mean_inter', 0.0) for s in all_stats])\n",
        "\n",
        "        # Остальные метрики\n",
        "        silhouette = np.mean([s['metrics']['silhouette'] for s in all_stats])\n",
        "        davies_bouldin = np.mean([s['metrics']['davies_bouldin'] for s in all_stats])\n",
        "        sdbw = np.mean([s['metrics']['sdbw'] for s in all_stats])\n",
        "        cvnn = np.mean([s['metrics']['cvnn'] for s in all_stats])\n",
        "\n",
        "        cluster_counts = np.zeros_like(all_stats[0]['counts']) if 'counts' in all_stats[0] else np.zeros(self.k)\n",
        "\n",
        "        for s in all_stats:\n",
        "            if 'counts' in s:\n",
        "                cluster_counts += s['counts']\n",
        "\n",
        "        return {\n",
        "            'mean_icd': mean_icd,\n",
        "            'min_icd': min_icd,\n",
        "            'max_icd': max_icd,\n",
        "            'min_inter': min_inter,\n",
        "            'max_inter': max_inter,\n",
        "            'mean_inter': mean_inter,\n",
        "            'cluster_distribution': cluster_counts.tolist(),\n",
        "            'silhouette': silhouette,\n",
        "            'davies_bouldin': davies_bouldin,\n",
        "            'sdbw': sdbw,\n",
        "            'cvnn': cvnn,\n",
        "            'uniqueness_ratio': all_stats[0].get('uniqueness_ratio', 0.0) if all_stats else 0.0\n",
        "        }\n",
        "    def _cleanup(self, temp_dir):\n",
        "        # Не удаляем временные батчи, чтобы не потерять данные при перезапуске\n",
        "        pass\n",
        "\n",
        "\n",
        "    def process_text(self, file_path, n, k):\n",
        "        temp_dir = \"./temp_batches/\"\n",
        "        os.makedirs(temp_dir, exist_ok=True)\n",
        "        try:\n",
        "            batch_files = self._create_batches(file_path, temp_dir)\n",
        "            total_ngrams, unique_ngrams, uniqueness_ratio = self.get_ngram_stats(batch_files, n)\n",
        "            all_stats = []\n",
        "            for batch_file in batch_files:\n",
        "                try:\n",
        "                    batch = np.load(batch_file, allow_pickle=True)\n",
        "                    X_n = self._create_ngrams(batch, n)\n",
        "                    if X_n is not None:\n",
        "                        X_n = self._apply_pca(X_n, n_components=25)\n",
        "                        if k == 'auto':\n",
        "                            k = self._find_optimal_k(X_n)\n",
        "                        self.kmeans = KMeans(n_clusters=k, random_state=42)\n",
        "                        labels = self.kmeans.fit_predict(X_n)\n",
        "                        stats = self._calculate_stats(X_n, labels, k)\n",
        "                        stats['uniqueness_ratio'] = uniqueness_ratio\n",
        "                        all_stats.append(stats)\n",
        "                except Exception as e:\n",
        "                    print(f\"⚠️ Ошибка при обработке батча {batch_file}: {str(e)}\")\n",
        "                    continue\n",
        "            if not all_stats:\n",
        "                raise ValueError(\"Не удалось обработать ни один батч\")\n",
        "            return self._aggregate_stats(all_stats)\n",
        "        finally:\n",
        "            self._cleanup(temp_dir)\n",
        "\n",
        "    def process_text_pca25(self, file_path, n, k):\n",
        "        return self.process_text(file_path, n, k)\n",
        "\n",
        "\n",
        "def cluster_distances(X_dist, cluster_idx, n_max):\n",
        "    d = X_dist[get_dist_idx(cluster_idx, n_max)]\n",
        "    if len(d) == 0:\n",
        "        return 0.0, 0.0, 0.0\n",
        "    return d.mean(), d.min(), d.max()\n",
        "\n",
        "def get_dist_idx(idx, n_max=1000):\n",
        "    idx = sorted(idx)\n",
        "    return [n_max * idx[ii] + idx[jj] - ((idx[ii] + 2) * (idx[ii] + 1)) // 2\n",
        "            for ii in range(len(idx)) for jj in range(ii + 1, len(idx))]\n",
        "\n",
        "def process_and_cluster_files():\n",
        "    print(\"⏳ Монтирую Google Drive...\")\n",
        "    drive.mount('/content/drive')\n",
        "    print(\"✅ Google Drive смонтирован\")\n",
        "\n",
        "    BASE_PATH = '/content/drive/MyDrive/K_means/split_20/train_20'\n",
        "    SPLIT_DIR = os.path.join(BASE_PATH, 'human_by_20k')\n",
        "    OUTPUT_CSV = os.path.join(BASE_PATH, 'metrics_human_train_pca_20.csv')\n",
        "    TEMP_CSV = os.path.join(BASE_PATH, 'temp_metrics.csv')\n",
        "\n",
        "    if not os.path.exists(SPLIT_DIR):\n",
        "        raise FileNotFoundError(f\"Папка с разделенными текстами не найдена: {SPLIT_DIR}\")\n",
        "\n",
        "    params = {\n",
        "        'n': 1,\n",
        "        'k': 'auto',\n",
        "        'batch_size': 10000\n",
        "    }\n",
        "\n",
        "    processor = BatchTextProcessor(\n",
        "        dict_path=os.path.join(BASE_PATH, \"ru_cbow_dictionary.npy\"),\n",
        "        batch_size=params['batch_size']\n",
        "    )\n",
        "\n",
        "    if os.path.exists(OUTPUT_CSV):\n",
        "        existing_df = pd.read_csv(OUTPUT_CSV)\n",
        "        processed_files = set(existing_df['filename']) if not existing_df.empty else set()\n",
        "        print(f\"\\n📂 Найдено {len(existing_df)} предыдущих записей в файле {OUTPUT_CSV}\")\n",
        "    else:\n",
        "        existing_df = pd.DataFrame()\n",
        "        processed_files = set()\n",
        "        print(\"\\n🆕 Файл с результатами не найден, создаем новый\")\n",
        "\n",
        "    all_text_files = sorted(\n",
        "        [f for f in os.listdir(SPLIT_DIR) if f.endswith('.txt')],\n",
        "        key=lambda x: int(x.split('_')[1].split('.')[0]) if not x.startswith('full_text') else 0\n",
        "    )\n",
        "\n",
        "    text_files = [f for f in all_text_files if f not in processed_files]\n",
        "\n",
        "    if not text_files:\n",
        "        print(\"\\nℹ️ Все файлы уже обработаны ранее. Новых файлов для обработки нет.\")\n",
        "        return\n",
        "\n",
        "    print(f\"\\n🔍 Найдено {len(text_files)} файлов для обработки\")\n",
        "\n",
        "    if os.path.exists(TEMP_CSV):\n",
        "        temp_df = pd.read_csv(TEMP_CSV)\n",
        "    else:\n",
        "        temp_df = pd.DataFrame()\n",
        "\n",
        "    for i, text_file in enumerate(text_files, 1):\n",
        "        file_path = os.path.join(SPLIT_DIR, text_file)\n",
        "        print(f\"\\n🚀 Обрабатываю файл {i}/{len(text_files)}: {text_file}\")\n",
        "\n",
        "        try:\n",
        "            text_id = os.path.basename(os.path.dirname(file_path))\n",
        "\n",
        "            results = processor.process_text_pca25(\n",
        "                file_path=file_path,\n",
        "                n=params['n'],\n",
        "                k=params['k']\n",
        "            )\n",
        "\n",
        "            new_row = {\n",
        "                'text_id': text_id,\n",
        "                'filename': text_file,\n",
        "                'mean_icd': results['mean_icd'],\n",
        "                'min_icd': results['min_icd'],\n",
        "                'max_icd': results['max_icd'],\n",
        "                'min_inter': results.get('min_inter', 0.0),\n",
        "                'max_inter': results.get('max_inter', 0.0),\n",
        "                'mean_inter': results.get('mean_inter', 0.0),\n",
        "                'silhouette': results.get('silhouette', -1),\n",
        "                'davies_bouldin': results.get('davies_bouldin', float('inf')),\n",
        "                'sdbw': results.get('sdbw', float('inf')),\n",
        "                'cvnn': results.get('cvnn', float('inf')),\n",
        "                'uniqueness_ratio': results.get('uniqueness_ratio', 0),\n",
        "                'total_clusters': len(results['cluster_distribution']),\n",
        "                'cluster_distribution': str(results['cluster_distribution']),\n",
        "                'human': 1,\n",
        "                'bot': 0\n",
        "            }\n",
        "\n",
        "            temp_df = pd.concat([temp_df, pd.DataFrame([new_row])], ignore_index=True)\n",
        "            temp_df.to_csv(TEMP_CSV, index=False)\n",
        "            print(f\"💾 Промежуточные результаты сохранены в {TEMP_CSV}\")\n",
        "\n",
        "            existing_df = pd.concat([existing_df, pd.DataFrame([new_row])], ignore_index=True)\n",
        "            print(f\"✅ Файл обработан. Всего записей: {len(existing_df)}\")\n",
        "\n",
        "        except Exception as e:\n",
        "            print(f\"⚠️ Ошибка при обработке файла {text_file}: {str(e)}\")\n",
        "            temp_df.to_csv(TEMP_CSV, index=False)\n",
        "            continue\n",
        "\n",
        "    existing_df.to_csv(OUTPUT_CSV, index=False)\n",
        "    print(f\"\\n💾 Все метрики сохранены в: {OUTPUT_CSV}\")\n",
        "\n",
        "    if os.path.exists(TEMP_CSV):\n",
        "        os.remove(TEMP_CSV)\n",
        "        print(\"Временный файл удален\")\n",
        "\n",
        "    print(\"\\n📊 Итоговые метрики кластеризации:\")\n",
        "    if not existing_df.empty:\n",
        "        print(existing_df.describe())\n",
        "    else:\n",
        "        print(\"Нет данных для отображения\")\n",
        "\n",
        "if __name__ == '__main__':\n",
        "  process_and_cluster_files()"
      ],
      "metadata": {
        "colab": {
          "base_uri": "https://localhost:8080/",
          "height": 1000,
          "referenced_widgets": [
            "00b1a59526854ed293f0e2a74d3ebd88",
            "c0ead0a36f1d4328bc1544671a543fe9",
            "07d7062886fb4ba99f2befe1fe117706",
            "c4350bf52cb34bf1a9099019af3d3714",
            "52cbf2ac79e543428174415aa2670b2b",
            "615e4b34bb3f4793a838c82079222e6e",
            "112e6deb7a8b4fdab23affc2dffcf1bc",
            "d897e769bf30444a9a75d7261e35b973",
            "83819f13c2cb4545965129b6f8734954",
            "95a283cab7dc45ca8a35f3227339778d",
            "2ea8ad1efb364325a4cbf6096278c839",
            "661b07f9051a4d3fb4f5e165b5deee52",
            "c45d4cb10b204a4d8e7dd8bff6ca0bbc",
            "7fcdb4237cfb45b4836935334fce5d51",
            "e76696f5d22444ddb2b2a70f292cf1af",
            "16a51934cb4d4081a1a1598adc8b91c5",
            "f7d564af9b694c8aa47368e5e68b6a1d",
            "3f848338b3f842ba9c82c81e2468f8db",
            "5712be38d7d04d32ba3aca553f2d663d",
            "7598268793704234b21db82a597a14c7",
            "c2f75c3432b94d3b983546139b628597",
            "0771b17fd6054c80b7ad5b419aba31a8",
            "070e60787c43456eb83034d255b20482",
            "44ed11a16bf8437590e6547990b5d9e4",
            "971c195db55b4fc288f20341a353e1b9",
            "0f073356858f4788841d5b714977079b",
            "9f14613702e6477a8d1020a9ca9fe36c",
            "7b8304855a564724bd8ebaa633d05baf",
            "35395d7720d648658039774e5cb33bd4",
            "fae1d94d07304387b5b4f68ec1d5b337",
            "faca9db60ae4431cbdb36eb8ffff2413",
            "36af6fbaa78147e1b1642b53843ec30a",
            "2aa7db4b3e2c4c609935245ad9a34af2",
            "e259ca9aa0f2405e91fab6c13edda753",
            "8988a51071ed445ab158e653b83c3300",
            "86abacb3126c48878cad6e3d6bf2f5b7",
            "56db8c64afd946abbc0eed02d6ef1a89",
            "bcbc15a548d54b5bafc225ebcf16ae5a",
            "e68a31c768fe4b55971c19d1737e8329",
            "9ee178763f1c40afb4cb87df80d6ca05",
            "dfced2c2c42d491e86429599e9ec5cff",
            "0e209c386f294932abba430382c65d7a",
            "3a5da1f4477f47ffb631664f9040b585",
            "1b1720edaab34134bfeafc43c56ceba6",
            "fea23d3c40b64e9b97d60e38f8f9b899",
            "888eff4c5451434baf3a9bd5183d65c0",
            "6bcf2d81b6124651b8975c320b81c0ef",
            "e2bb77c0c0eb4f31906bc65583d4aa40",
            "ca0d7b67b85d4d9896222c14f944e68d",
            "6a850afa436f4aca911ffcb900a396ef",
            "83ec782636a644dcb9705141a3562c48",
            "4973d38d24054b4c9ae334da5782748b",
            "483dfbe0dd3c495088e42b5840a76e2d",
            "f555c524579d414399e3370498e87dbd",
            "79a916610ac14c0cae0bd5d9e186d1c2",
            "a8e4bf1e4518447e9b2353224bdd8eff",
            "6dc87406d24b489fbbf8050f434d39f0",
            "3eab3cf6543c47e6b6121e218a8d6215",
            "5f4064c1949a4a7ba71530960eb18eee",
            "d8dc30a39b4e444281e69cface3ef068",
            "966f87dada2b46bcbc2e565908cc899d",
            "26a8ec38ffeb4a1883e530600b5b519f",
            "a8f711e95676464fac7fc308ce8a7a77",
            "1389f6e1595a4a8aa50645340d59ecda",
            "08737af9ad8845609de8569638688540",
            "dfbb19f27f7b4aabbd433bd809fb4d18",
            "0762272dface47b9815a75a84f9c741d",
            "8e627062a9094ed890db98315e5fb987",
            "e2e3a14a3a394fc59eb631e991901df4",
            "e5035ee177244b1cbd8ea441eb15a4df",
            "4f7fabc9a48b402eb4b312f41b91e47e",
            "b54621365ad54112bd771d9eeeb9d39c",
            "ae87c2ca5ab94999b7f8254d84b238b0",
            "d300a2989c9b4d23b13a30d6fb443a86",
            "d691e90389c5452582e3b63fcf101bbe",
            "afd243e022cc493bb5abfa250c298919",
            "021b82d69e9d48c584d87d2f10fd349b",
            "71175a6a6b614c5a80878fdfc10e65ef",
            "6c3509059aed41d7865e5ed4bf7c2b42",
            "b503f4efb2f84ce6b6f3a1edee52b109",
            "701ccc5cc9054294ac5d8bbad0d1abef",
            "68d7f75e57e147f9858264a2b477d6a3",
            "cbde42d6febe4b1588814679ddc60071",
            "a59200bd961643a4b7fbf20b6e2d41ae",
            "af3ebc8a7f434c4eacd27a13c0827f84",
            "8897a465c85b4f38a91c213b2fd67e37",
            "e521b34e216b41b1aa4f89ade0cae3a4",
            "bd3e59fe60e54a5fad592467e859988a",
            "711fc61b948b45b98e13cda485ed6ab8",
            "3406a7f5b8174bc7a6bf71893a8641b0",
            "f8bdf275df194396888b8eb61020da74",
            "d967703d3a5e4a0abfc7ea2ce0572949",
            "eb09c09667bc43c1ab8e3dc17b541386",
            "2017d63f1a56412eb17d7e89234046a3",
            "fff7fec99579476badd3fbf996be78f0",
            "c0f038e30693496db33ed3fdea4b5bbc",
            "cada726cb51c4cde923d3a46dbc0a151",
            "2767e9edd6664dcdab3a2ebd577a6d65",
            "a8e069f93d10400f970a2da0ee70ccbd",
            "b21052625f5b4e8db961759fc6344d39",
            "03052d035a5947ee877a6d9ebf2afba3",
            "866565fecb8344a8bcd2634792299f63",
            "386b8b26728b44b2936a139afc468138",
            "67a8f69b3c634a22861cabac62c6c949",
            "d391549e795149d1af4c87426bdf6d98",
            "04433f6622e944ba86503ed0a83ac331",
            "1c62bdbd471c41df8370abf7cca5ee28",
            "89e679fb346e4796a6ef831a9fe19d20",
            "4d8d7ae1a1f645c4bc60dff84d75715b",
            "3603b8c0eaea49239a92df5288909247",
            "036b890f9256490397dfd2ee1f3688e9",
            "7bc62049f672493d8a1e654fbcd4cb44",
            "d0feff72e97c466397c83132e4028a5b",
            "95d1a2a552a7406099b3b70357edeaf4",
            "5eb5c2f3da8d46d0a6d258f970eecb2b",
            "2ee6e6e298374f1e9493b0f757785dfc",
            "0cccfbf9d431464d9c47de98d305b9a9",
            "e294c5e2bef44fffb9501d59c7310662",
            "b28dfb2a2d6541e39f0293c9f798570d",
            "b522a5da9ee6442e82db80ec9dc700fb",
            "863eb5be28be4d788842f8108ad94f83",
            "b982984930c24eaf86d0e8b456ba1635",
            "b884d943fa9e49d28e10c4fa644d3ec9",
            "814fdb77be3a463f8105b63b4283e4a0",
            "2b29c4559ef54eb68f5041740f62bb46",
            "c7034eab5fff44fa9f1389dc81dce80b",
            "f1c463019b304f8a8ed7bcce95b3d3c0",
            "27caabe25bb249ffbfb806375722e733",
            "02a62a2a73eb442cb77a4c27a8dc8792",
            "a80e0de8e07f42669c18100ec691b2ff",
            "2813d208ad4d4090b0f61b095b053cab",
            "adc7743c1b1c43a9b5ca19a79cf8bddb",
            "f9d72ce3c826460393c25470ecda00a9",
            "e43ff5de6ff246b7bbdb5978e59c0008",
            "287b68cbbfc44e88ad1e044f43a46072",
            "b11b14801de84c7cb111aad4c29504e7",
            "10c8d0314fd648ce93b3f1e547e63ce2",
            "d796ad6320dd494680d7ae330dcb099b",
            "c70de730539842fe944d2d87837cc09b",
            "ab29c63bfba0463fbb4ba382efee8f3f",
            "07489293c52545999f0fb41d490737f4",
            "186f06f9d5f14e13b0fd1c5b72550f86",
            "e060abc27c484a52877c8f7c96e72fbb",
            "4bd9fbb593364c56adcfe16863e4c4ff",
            "a29f190e95794746b3cc2e243226c74d",
            "2777d58cb00e4366a681415ac8ab2ad5",
            "b6d1178a36604004b89dc9924c42f3fc",
            "c1628cbf39f74d6d855f261208f04c4d",
            "5384303f27a84fbfbceef801ac14101e",
            "be450fa18f964872a3c2d4503c0e8b46",
            "0b3836ef1ba24594bc90ea9988245fb6",
            "51764cdbc6754f848bd6f4e18796ae51",
            "913559fe56d9441783de4321ade0aed2",
            "a6665ab32d774111a14559e8eecf2cf8",
            "f35533599f724cfe90d39d0da13dcaed",
            "c03684c360674e42b601b46a5ba7cd01",
            "8d212bafb1b0488a9aadfa98235a71d7",
            "63710bae14cc44e9951f3f0cb0b0c3e8",
            "ff7a34ef2bfa48e68fd672941ffefe4a",
            "8176ac4dea5441528fc19d7949216120",
            "d0cae0be8e1249218cab3ba504daf7a8",
            "4d79187946b94bc8bd5174784e930546",
            "2ab3c2ff37744374b4a79af449304516",
            "f9407e7c0c4e47ba889824b2120e5997",
            "0cf7d80282314a3f9dcc0a39236e0c70",
            "f7c810c2f5b849848ae33927a3c053a6",
            "82b905b35aa04da9a5c388a514fafab5",
            "23ea9fd86cf8484fbe1b64524366294b",
            "8bdeacad8d564d37a0711f58e344b39b",
            "b40a52d5a3bd4bfbb5a713f7a2472733",
            "4515be27a0b84fbaa56e8f886f4aad2f",
            "11df357101f643bdb325dc33ddf767d7",
            "c345248e597044b68682994fa1a8f729",
            "b2433e8bf0e14c138cfb6cb0b1d9e802",
            "6924706e25b545ff89323ec86b114ad7",
            "aa4fbf9e1308424baffa50c0c41dadda",
            "fa4e54f66faa424faa1c4fa88fbf0ea1",
            "4f192c9237b34d3d85db1fc54b99696c",
            "14ab8e05cf68453aa448441c85c076c4",
            "e66d28cad2c24b20b725dcaf92391295",
            "689c34ec3a7d4956a4ad534519278f4d",
            "d20583b4c54c401093767fc8c8494b30",
            "3240c2f8cf98466587227b553dec292b",
            "7158356705a747db8b45720959381fdb",
            "e6e4203283b64c6bb77fed7dbaba2fec",
            "f58597984ce7474095b0648cb61bc983",
            "9038ff720e5749ef97bcf9b44cbf0a8c",
            "d5004b9430c44061896ad5df349b6838",
            "b08b407d84d5422c9e71499209395ff6",
            "509d1fca4c0b4cb6a66193ead7afeb09",
            "2de1d69ca65d4c1d80b296b66c6ff073",
            "40b0f59e3283458391f453c07d961dec",
            "4aafe07ab3774cb48c5d9c4649836a70",
            "de48dc65f5344286bedb1a145d3c9786",
            "defc80050e3f4ff186b7e26c973051fe",
            "321804313abc4ab9a5dd9fb56f86ffae",
            "9523c8e6c84d43959768ff28f2c51735",
            "c45424f5acf5459faa9e7e2f4e4994f7",
            "6f380387e06b4b56a8abd07cd99db5eb",
            "126e70d39e5b41c9ae22d3294ffa50fe",
            "a4e0e70e9b8f41628ff9a2bdd48caad4",
            "18fa34ac4423424682a5e85aa932d3c3",
            "a8441b7042504bef82988888c23a0625",
            "a0b2900015f44e50968367db5f255889",
            "b93427ec97974d04966e8957adc77824",
            "f607993f5a754ff19c083db3cb2d77aa",
            "c80bfa5de3cc4a138b02b2f07b72f8bc",
            "744143a4cdee480fb2cd59bf6fac54b2",
            "83b600341ec1461ca6be9edde14f18fe",
            "bb7f0700ad3147018e566e6fba3acd17",
            "48394b1c2eb54187871f71dc476ea7d7",
            "75a8204d150b44d0bef890d3fc0f548f",
            "52bee179288549b397bad2ca553a43cb",
            "2bfcfae8acb5481db4617eb4efa69fdb",
            "f8929bc6fbfa4a83b3f11942ac8b483f",
            "905a010a0cfa4e5e9b45d584be808768",
            "7e527d8a19c94cfba8c98f5caa07783c",
            "fde2f6a2bf9d417788f0eb5a4382ce6d",
            "22aa66579dfb483e88266fd906816fe9",
            "0cf323c9eed447848b85c453dac5d744",
            "49085cf16efe424bbf846217ecc5f90d",
            "00312d49826e42f185cf5dca4b4a262b",
            "d57ec7a1fbac4e4abe67109fb7f923ca",
            "3b165413a06e4781ad578c23b931aefc",
            "abd9415cad854ee0af912571605e77b5",
            "14fba99aa49c4999812f018e9331dffa",
            "dae542885c37496f9c5eeb4d47c3222b",
            "74f168676fa44ab784b797a852dd74a9",
            "511316c880ee49ecb3f62d138db510ce",
            "d4ea7fa146674ba4b9b7422ad1c3138b",
            "56d5815906074e02ae4a8d800c565a06",
            "c4abec6d0b81419caceeb78f3a55f42a",
            "5704b958b2b048e18df232843fe2a03b",
            "2c0e31e752c3430ebd064f27a8b9b664",
            "1a3f7e40ff60465ebe5f3fa6cf6cbd3e",
            "e7c8e73f637d465d95b9089dfa2dab40",
            "a16bdb92f0104ff9bb00394eecb60b55",
            "ad4c5461827a46e9a720e3e884213922",
            "5f65ff9412c442fc95700f987c910bd3",
            "9a45beebcf9a49409523bf2c06bc6363",
            "57ff4d355fda40259736eeedb4e89b43",
            "1f3566651d954f72944819a774877673",
            "373aa22220934f73b295366b9e847598",
            "92ab19bb114f4157b0bf1bb58633f8b8",
            "0a0a1c537a3d411892b971cac162d1d5",
            "d3360488eed14ae0a9e0a15ab6be47cd",
            "036e66cf61854bfe9ada3203feddd2a3",
            "469af9e2e8f449389dd359a5d64b73df",
            "c8b5ab01c3ed4ea59318cbc3cb015809",
            "c77aee829e044ef388f1d5d46b9bec48",
            "5b4e1c6e0ef8449f894cb55ed26ba7b8",
            "b5b632dc5a504d2c96fb2dc13d7955e9",
            "91f6325573484ddfb86de726abc08279",
            "7e9f379098544e71b080f3c5062a3f11",
            "9fccf5d61c5c4d66b1d5fae959644060",
            "2aa73fc45af74be987f9a3555fe20707",
            "d44be6fe348446ee8ea647ee37be543e",
            "bd7d9bca934b4380b4536ffd6fdd6db1",
            "c38d22d320a34b3d855e9fcaceb7b2fe",
            "1b54123cc335420da00b2fd4cf33fd47",
            "62ef78ce5dad49f587640fb9d8f542a6",
            "8e27e79bf7924a06b389e7b85b425846",
            "965491273d9641d4bd91e40136f06b7b",
            "86e6ca35d1374215b3b3f5942c2fef33",
            "ae783c4c7f1c438999d6f71b7d0f94dc",
            "cefdc8c4cc4944448685431103b69990",
            "a2194ab8681e48dea551dac8721028bd",
            "31410bd4e57c4cd5992b309c0c2bdac5",
            "60b72907393e488e8afcb63ba25ded7b",
            "af66d2dc8be2487cbfa3a098fef010ab",
            "08d90f2f9ab94aeaa5c16aeb2f171448",
            "298c7b604f874869b179c90a91c2289c",
            "b4092b0f231d45c7aeb9d75684fc36ee",
            "5485c68a0d69432bbf627842ff35d566",
            "660371aedbfb4b9d8558ffc372450d74",
            "9f3d2318ae58423a881abede3dd52dd2",
            "9c2f21f25a45489dbb8648f70fccf9c2",
            "658f5fd1be9d46ae9c5138106852897a",
            "fe0d571b67cb4f629898390da1bcb36b",
            "4f06cf25a12544da9e5760585043698d",
            "2fe908c349c942c7b995f01e40668f6d",
            "a6116b9b03634f959805aeebb345793b",
            "214644f684a24a72850b89b2dbb678b9",
            "96394380865849db9b30381612401b22",
            "9a34bb7511af44c7b08ebf5b6ff318e2",
            "aa39cf9b033345b580b6bd4981482f56",
            "24afb213226a4170aaae0f2abd6c728d",
            "fd24cf8166144bc7aa6d63cc6d00ae64",
            "1315cc80a47a48acbf63f5ce98e84973",
            "4092b94498584cfca1dd7b804b75f144",
            "49fddea5772242b5a18a5c0b7cfd75e5",
            "ed1566eaa95a43a29937d67d46b9782e",
            "dcd6b6a96f094dc3a6738c1f287c9260",
            "b7b6174d37bb4e0781880192474887f0",
            "ac386ad882664ff18b0cd6f48a719b14",
            "05f1a7827c9e4213ba76cfba377c417c",
            "54c616d638e44305972cb13cbf1698ef",
            "b204ec62636a408db34df0b3d16ce57b",
            "5f5d5644b75246139730bc56f12cee24",
            "6afd4eecf4c64178ae110c777f0889e8",
            "ad2eff58f77e49e6bdc1131257a2aeb5",
            "6a2e5fbaac6d4468b6d7af83532b60b7",
            "56e79c3ad8dc46ce99bec08f1731f277",
            "1e619997261840ce8b25460162d1c9cc",
            "0a8278cef70344ecbb8b0f332da65b5b",
            "44a3e473b8134fe2bff2197a74a0f395",
            "ff9dc01451344f40b899fac3869e6af7",
            "ab30d0c30bcf4998a8b886dc12c24cbe",
            "dd735c284a29439094117e5cbc6ea89b",
            "1eec6abf1191443aac0708a70cb62eb4",
            "a8f525c99fe34025ab260a026f3d0914",
            "8c5c1810c411451c92aa90c15d06b6b5",
            "0d141721be2f4d76ab062a158aa7f388",
            "264af48d9e21427eaa1240a3a0fa6f2c",
            "e838accd09424908b49249e18f73ec91",
            "92b31b88dbfd4b6e9f8375b6baa75bcb",
            "5df729c92e144019a57c45d075978d59",
            "bece30a6d7474488b804fd4f081fdfcd",
            "a1f6fc8ffb36400f95e68539649141ac",
            "d4bb8ceb23db4f50b619633f3ccc14c7",
            "fa06d62a869a4803bc45fe3ddef25b9b",
            "0522d4779acf4878a9d7fb87773764f5",
            "45345db3e916436e93d9eea78b930a4f",
            "3e8c0359bcf14ac38e1f78dc1f425c6d",
            "da4ddf3c814f4a51ac954e29dd1b3598",
            "bfa28c12a33442cca4ef7cb15740e69a",
            "0e50acb674cf49c79fcd13da6516a234",
            "6d2a7a1324f34a7ab96e900568e50603",
            "0e8c21f32990473c95b0a11d9108dec8",
            "0684a916790c4e16b08dc2581b913fff",
            "780d0477990b49aca717d51bd70debe8",
            "c71250de804f431385a8593c2c6997c3",
            "35c520351c434d9fa9e242f7f40f7970",
            "7b6e01904d264f3fbddcd4156c9b607e",
            "b894d3cc5ce04b8caa6e2c285499178d",
            "8f3d4166c91c428d8394179e762c8737",
            "a0052999bc944067bde3f89a0e4e8c9d",
            "5d69a0e0908d49579985fd8a7ddacc7c",
            "c60c9c688303461d8a3e1c25fd29184e",
            "37d7ad6ca6aa4ea6908534f033be1916",
            "69b42ae0ce934db686ab3962c167b509",
            "5eb25e80a02e4af48d97a4efe1923605",
            "15773e034796441999a6d1098ed79da4",
            "c80ff0a941d54039be8547d83735dc6d",
            "055663ed5b5d4525b02a253d718fdc56",
            "fa0652476ea1489c80773aea5202a1f7",
            "8e3cfd3b38074789b9bab9c5025f0c1b",
            "85cd52e7522049b7bd7ef452ccc1e60b",
            "1354395da8314526aebae31fb98a5fb4",
            "eea2a8e6ce12444c95ae8b118883c8c3",
            "9d79c02505d1400e8fb9b6f63e703396",
            "d74f3e4068d94fbb81d529972a8aba90",
            "8ca36db31bce49aba225a4f81d4c47e4",
            "7b4e5139c957473289dcbe3a24bc601d",
            "67a51ee2c08f46eba9f9277e3d2bdf6d",
            "14cee7fbd8624cda832f102b14a56524",
            "07fb9ef6f1594419b740277b69f533f8",
            "9a737f53c7d04f47a49b8e05a8df9209",
            "a8605d86c7c2477c9c2d4d20337946f9",
            "d8ee2f39534d4cf6bcd7d4b601bf4bbd",
            "4a193ae681474d2ab3e9609d24b733db",
            "a5d4b7086cf44e2abd4442340bf8686f",
            "4139172f08f348768bae3b581123aa26",
            "dced7e11d7a545afb561ca2f0906faf7",
            "a9c52e8980ab4b1fb068891e56805e95",
            "7c481741ab5a49a78c29e88eafabb10d",
            "e420ab067fe543bb85d0d35c759f6ab9",
            "bc1f08fdebd34276816816fdc70f3144",
            "2d0d851a955741c697c1ca5d4f2805b2",
            "9026e252a9994384825e6059d54ad6f8",
            "40956dab170543ebbffdaba60ff0dc35",
            "c1baa6ee500049afa27165cc1a6fc1e8",
            "62856071553a42fe9039511f43724202",
            "d5a6a65bd23b4eabbee37ecb7e1520b4",
            "5d568cd87dc5432fa2f5f498b3c48c2f",
            "61dbbae9ee6e48399df22bf71071159a",
            "adbb636131084a44951dfea59546c5cb",
            "09bb211c02a9446fb478c3e928386f22",
            "22ca61e2576842c08b4e5c55b598201b",
            "53e875b7edca4da8834cc980654a5530",
            "a8aa003e161644d9bdcfc3a4f42a531a",
            "e67db235f6554036a2f23c89cb39be46",
            "0748856843b84a18b0f0e38085a0dab7",
            "6efc357fa7ea40968f3d0457d0319ecc",
            "a65426ba01c34c258ed02ddec6954366",
            "c02a65a25fb448d1a498e5bae62f6a7b",
            "5f9dd761519149489737c4d6454750a0",
            "51acd7b5b5764f83b5dddd65ca8f1a09",
            "7fd1bf51af88443fbb34cea419fdc3dc",
            "551ed6766b8b4083a4b3c81600e89a9a",
            "cb0b95673a6f4b1a9eebb9b47fe1294e",
            "70b6d1d2782041d5b9d7dc49f8e8a93a",
            "2331eea5eed64f599c27ffdec48995f0",
            "7a28cbeb600b4b868bd9bf4a2d1373dc",
            "1b5f52a15b054b22aa4bff3e61dffe15",
            "00d4f64ebb994ae78207643a7ac22acc",
            "9333ac75d6de45fbbb014f7afd00e864",
            "c9a8916d3a704b36bc17373bcfcb1204",
            "beef82c30d77426fbca9c7b846fdf674",
            "1837e08fc68b4b99914ca7dfb5b731a8",
            "218f06ce04764bc1a92f8fe220f5a352",
            "e23bfffc19b74d39b255103c5a56bce4",
            "5b1ab64a9f654048909a54c46114e776",
            "499ec440c0494783b55230592b0cc9ec",
            "271fa7a36209488f8bc9ebe176ea3432",
            "af79c6e9eabd427883ee4d424773feb9",
            "eaa1b38f128149f0aba19c48766a0f13",
            "a5cff946b68644d48b8736af7b70fa23",
            "4e84173c47e44f76b0a56d1b2dc94f4c",
            "fab0c766510f4e87adeda273728d7062",
            "b3c756164ea740938e2e629983c3e92a",
            "57f84b9803fe452d83367cb5c447c4f1",
            "ec77ef350b1e4301a7f1c45611e3b061",
            "1344610c158a465694c9b2ea5965526e",
            "ff227d1c196a4812874aa670e54c891f",
            "1cfc1889d3e840d3a557aa573a3d1849",
            "e6243ca08e2948d18f5b1f84bfe1b2b2",
            "e2b8ab1443ce425e814992e0ddd95af7",
            "3a2025e709d74ba49608e53bda5c8de3",
            "cd86d99df81d47ba8b88557fea60389f",
            "f1ff2d32fe224161b15439a3722b5444",
            "ddbde66c2d1b447ea4f89ce7b434f39a",
            "3b21f36552594cf8943d75686e294f79",
            "082daa2784824d56b0812099866414b7",
            "e117e83dd8874e6189b72b388882090c",
            "482ef56d4b80447faf76b12142d57a7a",
            "dd251cfff7e1478e9c49e8d914ee90ef",
            "382ec76e52bf4c9881a21b8e931980f2",
            "f3319a60cbfc40c3a53dcf3ce1b4d2f4",
            "8a4a1ca89938419893329018e2014af7",
            "5429364630db40b4b1341bf93ce6430c",
            "f689e37d66c0437d8911b3b3408a1ddb",
            "0c7a6b07ded84977ba3695d448129422",
            "156573907824498285f06291b507f834",
            "d9f8bde492a3429bb34f854d73d6c4ba",
            "ea8b84a3f6e04a43a18c1d511f5e9480",
            "13c8cab2fa574c88a205862de3b4947f",
            "4bd4c439c1b24429b132803a77a92f51",
            "744a2dbec4da467787231cea40f0dba3",
            "e47142d15a8a4a8ebcf0091e6a7c8bdc",
            "0a521de0007f4cefbd8bab811df34df8",
            "a62167b514944f2f9e9f9d6758aa3b9c",
            "c5cd26e31fd548df8bc3a7ac629f3b5b",
            "754e77f9e7ac4e6b96d2d070c0cfe984",
            "770de0d86fca4ad8abaea5b1d8e1763e",
            "68eb2cc4acc44bf982808a9bb7336e3e",
            "3517ac584343410d83f8119d0c9ac854",
            "ee73940ad7ba4f80af66c470e30ac302",
            "7cf2ef14e1e242128289ba6a2430f1ae",
            "aa6d840f2015484094a4258aa09a0494",
            "12e0c7fa1f494bc7abdd5af90b2e96af",
            "766b95e88876440b90449460f019faa0",
            "5362fed74b56429aa54005e20dae9567",
            "0d1c69d074944218886d3a67d24b694e",
            "5cd4201437964b1c9c387c828576bae7",
            "e5de36b5186041b2992564e9229cd34d",
            "1ebcc77d1a4444f297365c90750ccb8b",
            "f882099cd3004214b6cff9aebeeb088c",
            "cc97bb6a8c7e427eb005a2307dcd1935",
            "362859b0c28641beb1f2a60d4d39f98d",
            "c585d64199ec44648ad909f20d50f089",
            "4a8686f995dc4707a0de254efd852087",
            "8a52a8e4837e4def95d014098b59d1a4",
            "a5d10f59f387495ab5981d26ea48413b",
            "30a71de034e644b0a315480e42b73c1a",
            "a6c0f6a9456b43ffbc2d51f7c6f11baf",
            "c3104dd8538b455f8922f0c5b52bfdf9",
            "b1131dee01594cdeb24ac5e43b1861e1",
            "c65cf83c1ef94271b1a89266d7d109db",
            "10057b484b6d42e39f244cc5f3595a57",
            "300054bbe8c742eeacdd911a3be3abee",
            "a36b69467f104695b0da65dd84280e68",
            "b92ec2ef27634fd594f2d71df631712a",
            "e01c14264fe945c7bef8eccf8df574e7",
            "c22cf52354534891aa1116c7386ff597",
            "7998bf3d5d8840c4a281cf7e4b410abb",
            "9a3e3661969945448cde4aea7aa1bf9c",
            "0d7ee350bf8c457cb9ae83091c2dda4d",
            "e6efb6f0e0664d86bf42c2ea6d4fcd44",
            "1f91798d47d945639c9b78d36c57f221",
            "034f9536f68344d981f17b4c880d4a2e",
            "f8d60e29fa814247ba71ae5aef19a10c",
            "fd9b56f99bc1457892b50006c41545a6",
            "bb5310376bc14e01b3d532c2922d59e3",
            "f0745e84b80d4049a5f2afe89d1e2030",
            "320a853f229e45c997854452d0bb258f",
            "0849966e54f1403d96a559e4aacd661f",
            "f54d879bd74c4e4b8aef474c4c12a25a",
            "b43a226063f948358871ab73a37863d1",
            "4d09e28bbe32458ab429cc59e5e71f59",
            "b9489d7b23784b1499a34339695acc58",
            "b3ba4b9068b34ae2bbd59adad5205b97",
            "bf77f4d128da425e8f84581f0e606b5e",
            "621c17a298d44a61a2ff4e21c0d3ee54",
            "a8ee05743a4b41bab4cbe69497863ac8",
            "7ffb03e8f16a44c0bad27f503ad31525",
            "3bcd9da7eb0c4e7090d24e5a8aebb4ee",
            "3de1582572344b2bb759a3441504caa9",
            "d155dfb43b1c41caad03f754c6543839",
            "1100aa138af84fa78554f592c0075a7a",
            "b95619ce3b8841f4bb3c9da3f0948a97",
            "e49afaee0fe54122b8025e098ba33c5a",
            "71a715187e3a4fcb99053e2fe6d7d502",
            "b553600972b744f798206a6934f6bc1c",
            "44d89ef8913f4aa6ae70f4f0ae7af5ed",
            "d72d4aa6c9b944cb883c484df3adf37b",
            "28a2d20aa0af4d448f906e79ad57002b",
            "3c2312cc50cc4649bbb8afb4305a864a",
            "fa8bdd8863f04d37b43c759517c37be3",
            "78fb73bfa06c4fd0ab5a2725fe1947fb",
            "3ee3e25efbcf423797fe58bfadf53c2b",
            "aac0c57756844a12ba0c8f0691a0f9f0",
            "e22d840d2c9b4c3ead969bc900b42d1b",
            "890593f7519a461fb0d20143c29ba0ce",
            "8d2e98dadb35481baa5a2d8a6d6222f9",
            "fd950f19ab754c5893fff3d15fdf3830",
            "69a73b19ca9c49879c1d38e1f8216fff",
            "610bf203602c4388a969fead96091f70",
            "ce2feff9b7164d53a031f7c5cd6a7b68",
            "235b678c9ed6403ba83919ec0e8af9a0",
            "05800172710b49b7beaab2500c4dbd20",
            "914a933dab6049afadab15d4dcc3a3f0",
            "44f1bf17a5f44f80a850df1cad1d20b6",
            "7bcb9c1a92784a019cb86dd1ec525136",
            "ebafea64c37d4ce0be698cbfcf197937",
            "41d44e26a89042e2bdd9ec62b3587a25",
            "a83a9b5c0c8f44c7ba5f728158de2e02",
            "078857de6181414c980876e76c90ce0b",
            "b1e9f50c3dd64a7e9cf5f4a2131110e9",
            "a311c97f0cb346a7bc06dfaaa0d9bb8d",
            "1cc370bcc37947a6b6b572e651cb1780",
            "1b588c8360c14c7bb908b5fe5742c7ca",
            "e5383714c66646a1abce51d4dd1e0805",
            "9b9f28739c4f496eace961e04f204ec3",
            "6b28e041a4734165b5a403f35dcf1b6c",
            "cbee845c9ca34577b7efe65dead5cbbe",
            "19ccd0fa62734adc9fd979a32fdf5aba",
            "1489d213472c485d8491a87a0b583a34",
            "8dbff96a7c6c435a85744dfa5ee91a41",
            "1aed3e6cc5e446588efe7c46cf608852",
            "222b719c5e5244baa0c773c612140184",
            "bec39fd810e34abca74258a6dcb7b775",
            "9099f4f14fd340089bb86129ab84861a",
            "33bff505546f4b9b9fd811c728f87992",
            "647b15e1a6834bd3bebed3d68d25fd6f",
            "c374589d36544c29a855a2ec1b495024",
            "9900130852e547078ca4c3946c53ca81",
            "89535b3003084a61a748f3bc10f49510",
            "1fd743359c784ed992fc72759817937b",
            "81f70e7eaa644dd6a4c6bc4c1225bef9",
            "0d11c5f6846147709452a47198dec956",
            "e7fdde1f369e4cd1a08fe6e0490abf82",
            "fc8d222f5ade4e7d8e1951df4724ca6b",
            "17d41fb2a41247c69527d3afd1610534",
            "59263c2be05e4a2484f0028720e31937",
            "4c7db72b9d654a4f826438b672890595",
            "3e86054f461a400b895cc5dff13b69f9",
            "982d2b9e94f24de4bb141b4b8625cb24",
            "19ced78fb61e4108b31f0e3c7f65f141",
            "1f464a551bff464eab0fe49d5b729df5",
            "629a0b6fcdef43588592c3d61e144e8e",
            "bbf4154387f5499198b6f4d9ca3463f4",
            "bcbc6e2b8f004fd796e187691593c0c2",
            "f90f8892f4bb4704b90a33de8635dea4",
            "12e09a8c8e01484a850c609a793f4ddf",
            "32df8a4b1f9d4fb5baf0a80b5690670c",
            "cb0a0b10089d43588b1367106bd72413",
            "f2f9f71bbfa044e2a73cf56282ccd76c",
            "388fed256c4947218a49d411bfe32f29",
            "111632eb7d4b49eab75c104e397dd6d5",
            "582db785b2d24a30b9106decb1eaf543",
            "7654cc6fb84b4e3c81fc937138e6a2ea",
            "2978088ca5ae49ec970b7aabc9097f5b",
            "439fecf7d8b24dbe84452463e0d38490",
            "f9d9a824db4d427ba0d7d1dba58af3bf",
            "dddb84f6e35a48958c20f950d47bc4c1",
            "3bca93755ab849368ed7199edeb528f6",
            "f184f27463114ee8a8d739cd55213350",
            "d93da1e271ed42c4943e4566b76d7898",
            "a4025e3682eb42cdb9c90adbc7ace4f5",
            "e5471913f6e649b1953f2503b507ee53",
            "cedb55bad6184f249d58f50a3c9b5580",
            "4b7c703ea0284871ab48473d220772ec",
            "b025df201d634aaa81ee5b5fed389830",
            "6b54ada02fb14d57947210fe278cfcbd",
            "9edbcca5097346f09f1629e853168936",
            "14cea6afab0c49279d3c47cb9823d647",
            "4bda2faf340f441b969a6267e78e0ef8",
            "c37f905839a944d38c846e130d5ff781",
            "9dab60065d064594969b10aba0323509",
            "3c27129241684a4cacfcfb540da75787",
            "749425e3b4854cccae347ad3b805dbe8",
            "18bab178d79f41caa792964353561ed7",
            "27d256baf00244ba89c51cea1d1787f1",
            "c19dfa032d434b9987eba3123deaa35e",
            "e7244604a63843169fb9bfd4df2f8507",
            "d94657c5548644e9850350a345551e33",
            "40500cfddf284f1b806c66c7f0bec879",
            "d31628e7060a4bce9085c86e96e48662",
            "ecaa4249b7964bb994cdd292d80cc9fe",
            "fd80d64b2fac4f0c8960102e12fa9046",
            "be30aa029d5e4054827f74a3d2a6732c",
            "3d3900368f674ed599d466ce183e2c42",
            "ebec80915c374e5890c7415aebc58270",
            "1943d1235ca142e78e2e96f41b1eff8e",
            "c54147cf69ba4b129d3b0fba22a90586",
            "fcacc6a31f3c43c2be3845c82864a3f1",
            "55fefbe670804510982285bf518faaba",
            "01f65bd9150248e1b503f7c63466966c",
            "8b8c7a632edb48a3a0fb53a550842c13",
            "f45ceab5690748c3829e214ec6bc87e5",
            "3c73496d3f6c44c285848f9aad51f0ed",
            "f66ae4cbbff345b8bb8e13f84d88c5f6",
            "a04cd385506042c7a228c476eccb834a",
            "bf50f4d6a45e4a3fb8de3771958a63c0",
            "3548901d1de24a5fa5280f9386b62643",
            "bcb90301ba48453ab298554776f6c609",
            "779728350e824f93ae3273419a14b363",
            "effdd539c1384b62b5539647d9fd5122",
            "5ce1ef404a9e42cfa230067e69b2ae53",
            "0c825508675f4aa39d85c646737f21da",
            "9f0962a3efc64b509ab3be026186173c",
            "cb8516989c8d47c884704dfebe6e8257",
            "da409cb022f84f2188571884497b36a9",
            "e46140f17e0a44bcb726c25354407d97",
            "25c66482f52c44ebb789a275744699e6",
            "60b3fad4ab0549b9b2c79c282f5c1ef4",
            "edab5a82f0a94c028db1e91cf02dc722",
            "34112187a8544d88ab494e0860d83650",
            "fe54805b041543c5be953e921cf3d4d0",
            "edd4164bb44d4cde8f47840775e40382",
            "8ff4446ab0a24b0ebeee0c9706540eb5",
            "a5a8306892c944bb8cb530322ff7c602",
            "caf8b458a030432ca6b6f737c499ebd4",
            "217a0778f27b4818948cbcd82fb4b0b7",
            "d8945794eb0844fcba6220ac651f90d9",
            "829f2d46045f4383a9f344de507b683f",
            "7310d6f8af2a486b823923ad898fd2d1",
            "fc665b7c627140d39d679189acb63384",
            "1c986db8d15c4165a93e6839fa1b632c",
            "7c8c9ce7463747ae968ae604be302320",
            "5d0249098e79433f9fd7859dae47e6a0",
            "3898a38b78af44bcafa10312694a33b7",
            "6b71d251c71c4c35bbd479eab94617ed",
            "15b764fbbbc74c0882425a296fb4d332",
            "ce1e286996fa4b0fb8e6e1ffc83e17c2",
            "e87cdf0c6e3d450f938d10c6f6d71c38",
            "8f112ac962724358880a79491787e53d",
            "6babe364247445c198d462dde4264b27",
            "9f6708c47a2f4263ae53ce3d1c5069ed",
            "16a686c8279842ab94a91bfdf5d5ad68",
            "8dd0f206808545b0b3ec9c8b6fc1672e",
            "706d60c44b27471abae17e2ce2f3d5b9",
            "00c19fbeb0c34bd5bef0e3fbdd081919",
            "8ae14c111ac344cc873865a22fc9fe6c",
            "f374a02409304974b39be8432eb5503d",
            "f4fdc5cd04d2410cbfd9328f3843b5f5",
            "129a91520d034fac88e2e3b3c6cc7ec6",
            "abe9766100ae4a7f8eecd3e844c18119",
            "1954b92a0c7c4c20bb6d121ec93f04f7",
            "693d4a6526694a12b1ac8672f70108a1",
            "4f72ff98313c418faac406f51338e502",
            "091b93674e7a4d6b8f31e76d4fd77d73",
            "fe5bc37e974b4fbeabdf8b331e51a9ee",
            "0eceb2c86c8b47baa374fecc02027849",
            "44d9f725cd0e4157b9c3827b2ebb9d72",
            "c20d7ae43dfe4ebeae645028be254b14",
            "393aac09dab646c2b5190285bc0435e9",
            "a79284e233004ae6a6f199666670a289",
            "ef07682a9d854fff91dde8db6957fda5",
            "18e27c85c5a54d419e18100f550edc35",
            "272ee3f38fd440e282b02275b40e3dda",
            "b8719a456e0c4ff0881d587c5da81235",
            "2686cd9a63a64d408b4aff1dff9b34fc",
            "3288e77f6a834a948814e5d5e7225923",
            "169b6846b16543728e0e6cd290ef638d",
            "b7309da5058f4cab9e515a3cfbcfcc87",
            "1403a9c1d71843ccb059b304211fb3e5",
            "a2c280213a3549c49ab4cc2429fb2521",
            "1ddc75df454b474dac14a391f1596845",
            "99afe3dd948c42ceae6f2e27e7b35571",
            "8849054a91bb4cb39963ea7d2a33f24c",
            "b800a43548ef46779c33df69db8cda65",
            "c59ee5821db44eefb7f74083c517258e",
            "a08337b8abc8401dab48ecd3eb8dd33f",
            "c34cf9ffe0fc458689c8aaefff247567",
            "a4210c479ce14a2b8f67a80c7f356749",
            "f78f1f38b0f6412390681b612fd8f0d7",
            "9b391f70d1de4490b07afc35b9b4d929",
            "4f7e92ca4d684d6f92be034cda67a7b9",
            "7318fdbcaf9b49ef890bb54a7ccf697a",
            "f461fa8602664d8c9a907d2f99fd744e",
            "d89490cde164475bb775b2bf1bafaef1",
            "b5a1a16b0e70461b916a727389885471",
            "9371de8d712542a0868c47f4110ca550",
            "19b270cc7f7c4c33b5ed09e85a401455",
            "962bfac61fea48d9bb0d47b910558807",
            "ec9d8d4dfa58411795bb059bd523625d",
            "cdea60fc3a2f40df9c91d84c05619a0e",
            "cc9f616dbf3c47e994a9bbfb989514b7",
            "a469d6ee5e784170a8654705b007b61d",
            "05c456515d654eab8f9cf7fd7ed3e591",
            "c6c5c486aa584c61b35db7377abb4dc5",
            "19c581b4206248eb91918573ad43624e",
            "bfde410c441247c08f20121c9e7d8d62",
            "660f472ef2f848d6bddf1d7108419938",
            "4642f08f7f1a491a889bdf90599d4914",
            "38a02e1c45614fba8036bdf82fab9636",
            "821d844a51c14fdcbd3cdd18273a240d",
            "164ebf8d8df74868b683742f60d2479a",
            "cde86c24fff3416a8e7d3b627e88e0a4",
            "1ea6070950864ea687720fc567155a1a",
            "caca607dc8a84c2da6df7bf3e6eafb5b",
            "b910050c495d40a4b3dbb944c687fa57",
            "5daa11cca3924b68a3666fc1380ba752",
            "afab6691dbd74908af6bece7e1ee7374",
            "b0d8696cdacb4c73b942bc5d8d46cc7b",
            "33d8341e03d34104a4cd0af7e7e1f2a5",
            "57701a09dc6d445a9f7de0002ef6fb2e",
            "1ac9f8f6b33c41efbdbe903fc6db88db",
            "644b064ae45044519681ad1a1e22a05e",
            "e1c297ebdffd4807ac0d4e050f23da7d",
            "7327bbb3817e482eb500610c5d1a83d7",
            "619d2e0b06c34bcaaf0b65cdde7dd8bd",
            "a4d8cf3c983343658137183af0fea549",
            "c588d877c66042caacc1e55dbaf61c3b",
            "43b08e0308bc497db25e3d800213681e",
            "0c48f31812ff48bf8f1b8c38151d594b",
            "4f9c094c2f954d92a7597d37a2f98fdc",
            "13ce2eab47084edbae5929602b1a8c8e",
            "4179f0c9e3674dd0922726a07476e472",
            "c3ecf1a375e84511bf90707fa167434f",
            "9999d07f841347bfaeff17775219c584",
            "495c42d316ce44bfbe06e8f6766c2682",
            "4985cc5ac476426a9a8bd5ecb50be2a6",
            "14d73b8791b74996b05d0b8cc42c8dab",
            "eed70fa08c0d4444b47f20eb0afee1d7",
            "6ad5d6d92afa4536ac4560e42cee236c",
            "2304d7bfcac44e0992e11df5874c2775",
            "cc6371cdb9e34951b9f634dccbbe58d9",
            "2ed86567af264a609f8092266332619e",
            "54e21b638b9347d984cc0460f5b5ce9f",
            "8ccb51331a754a69a856ac39388b6955",
            "7166754a8ad94b189f1a743621af9ff8",
            "e292fe4c1b0549508853ad07e2f0c37d",
            "4835a9a24700449ca0d32288e3a3d30a",
            "4ba54e4bf04f4401af2d09c9e7aae2bc",
            "85dc63fa6747429e8c368b85268f09ac",
            "64babfbbcce5444aba2304f08138aa02",
            "b6ecc25129db4a81a869de3816bdfe5b",
            "8a677f70980648569ce805798fe6731f",
            "f2e7dec6860d44b09ef9872ad497ec12",
            "7fcbad1127044f9987e9d2dc83f44841",
            "0c6aacc07e1d4a619493f5fc60ba15dd",
            "3cb5d26d686a4995a9b8c4785121ea94",
            "cb86753cf54e43b9a720db82fafb23dd",
            "2636911f6ee0452f9bdeba9ffad70c7c",
            "55a400b76b184df8a11c21533272866d",
            "b888f2ae816344dc8242dbee6448de75",
            "7648eefd0bb7458d8fc959681e4c9d7f",
            "2d3e8663a6b244628b31ddb0ef61d2da",
            "af78a2d8f98a44b88c31ef9dd48c1d4a",
            "cb5bfd8e77e140b2a49d2e319fbc8dbe",
            "aabeaae2e8c1458781a07f7ff8927fe2",
            "4ae825001d8942e3b4fcbf97d27a9438",
            "c4ff960743af4e368f8119cc389284af",
            "f1ac9cf5296e4eb0bc104697f58bc23d",
            "c7570f2e5d334265acaca4a0624ccec7",
            "5838268c56ab417681888bd122123a15",
            "231d4323d21e42c4a6132867c2e4fa18",
            "2aa12113fb354ab18318483b762913d3",
            "3271c8351aa34f329223d1624a47fab5",
            "ce086351e50049f994438c5b4f94aca2",
            "5e1d63f37163411e9e6c36bd7d433ee1",
            "1b3ca4f67f1e42a28d4cdd4c39e430a6",
            "261187823cd748bdb7d41a2d9c904bdc",
            "79320fff19994b068811d3c94e212aa6",
            "1605d483d9764c2fa1e8c2b5c022ab64",
            "ed21ba452b5948a7b6d4731f54fb1dcd",
            "de66157cbdd943f4bd91eecb2e4aa46c",
            "bff8e1895e8149aeb93f8822a8ef2382",
            "a129d566c3c14ba68efed34b641935dc",
            "af20242aae664415a79b0376100b96e7",
            "04b789d8d6724a73aacd6229ac2beb27",
            "689fa6245cf448699c6e33b1819ac4de",
            "20c3a85faaba43dc9fa930c3c4746c65",
            "f7f4e87e667b4f9898e4e31015ce20a8",
            "66ffc6688bef4750b2564e079d15095f",
            "5bf1368b2912476dbe81a5a4ae3ee44d",
            "885add354a134f7e952a9f2fbbde020a",
            "63c4294fced847c89cee266fb8a62db0",
            "3dedf1e0c78f492b9032eeb78b9f1f6b",
            "448d840edaf84f3a8718a2f6ddca8f2e",
            "a7c8db290be942399bead2d4d6920889",
            "11643b19b18f444baec25306c6121db8",
            "9dbb8b0a50464f23b42915b51ed19222",
            "a4928c7d23184d528e79f0af0b12f66a",
            "ef9bd3d38fc04842b81ba6a3911c4ed3",
            "2081fb7c26c740b4bd4aa9395b0bf5da",
            "10338db046ae41c4b780bc141ec84a21",
            "5a0b4f5ceb4b4bd3b7df117e7448391c",
            "1e5730988f7a4964aee08dcffbc578e5",
            "40c75f34d2034d2aa0363e44c6b548db",
            "518b7815fd9a415a9d6f0e8d6a348d2e",
            "8c8bdebfa633494cb08b3e6dd04a007d",
            "d785874762d9413ba0326abf9a551a8c",
            "3cc216e670e44749b8e162fb6611f39c",
            "f5687ed714b049a2b3dc24896f396d45",
            "6aa707715bc14b9699e3375ba0f74c59",
            "57d2a3e877de4d03b9aa558135aa2a73",
            "db61e6a2eb494b6d80eb761435e8d823",
            "4f8ba2314fab4bfc8bf13d45e95dae14",
            "747789b33375412186284ad6aeb5aa47",
            "6a08716fb597424ca2e772b47350ecea",
            "c9a086d6c80e4c898a105df9127d0b8e",
            "2d15bbb52ff946fdb5f3d546c4fb6aa9",
            "5ed4be2e848344e9bf80bb0e7dd9ba00",
            "5ddde5d011b9457db1cf767b1142f11c",
            "2b8638c3aa304f39ae2bdb634f2b40f0",
            "34d3b3123b3f4a7a9e40fc4b182fc2d2",
            "8b8e1d6d0fa34bf3b24b939265d7c905",
            "bc532e50756d4e62aa81d0a2032dc7c8",
            "6e0c3c4178c04bfb9d91407a78bf2d2a",
            "333fa3d845e04bf58cf0c94d7679cd35",
            "dbcecaf076c249f5800dcb70dd64a815",
            "5bd077dca08a4cd49259f70a829c17aa",
            "885cc1afac93444780215abda7a41b22",
            "d48cea52c6fa4cfdbe6c4499f713ac45",
            "e1318d5cd5674581b5cad55eecf946e2",
            "b10f199d85a9411eb6d5c4b200323344",
            "8ee5cfbadc904d5aa4bea70e453111fd",
            "43a1dddfe7c2481fa37cd2a0c71000ca",
            "23889284618d409e9c791500e8cae302",
            "28e0850ab91c465cbacadaf0f1bd8427",
            "b3ed5a7e9f444a9ea2edf4a84fd04d22",
            "0d19c282f2fd4d50b750befe43156936",
            "13e4a6cad5ac47eda277e273fa8ead55",
            "8210ee5cdf9b4565b6f9fc2ae136c5f9",
            "d7fc9aab2a674588ad2e51aeaf5cea65",
            "1d135b46fc12459288b57d6b403e9e33",
            "62172686b5d3483eaa2844ddd1365e3c",
            "5bd1ad97a8bf4fde8d0a1b4654bccff7",
            "a856b5fa1db44579a925d663b94be43a",
            "43e653a7a2124cd28cc7c91a6d8da857",
            "3bd1bb3e615249e1875b35d0cba0c458",
            "2937b89d0b714cb69909ade93b366f11",
            "cfc66f9eb7f74f0bbf69e4986b6058a7",
            "683538e7198749c3bc4838bae08c9fe7",
            "537db53d9a384cf189408f38182caf44",
            "783c6c5d29324a6192504498fa52971e",
            "f9d8464b220a4e7799ef1641ec4115f7",
            "9e90be3b01e648969b188700c571b1b3",
            "90fb52b9c06347679b08cb534e2e1015",
            "2574eb62076d4e24820ab5ebcfe86344",
            "bc02576fba4f44adb76b3015236d84a2",
            "d14e3c29f1b74c83a573dd1fe061b310",
            "9665514aa70e43f3b612f25ac2c01168",
            "20fe47b570f546ee9190fb7d7c3038ed",
            "8591a4b212aa49ecae1aaf291890782c",
            "5b1d881073e1427bb22a58f74ad8ac32",
            "25adf96416c842f3ada1d40c7967154e",
            "c07fb09ca8854f8cbc8d22e34ac09409",
            "cba75fb967ab4fe4a5955b252a7e7801",
            "9ed1f9d140a14760b551d4b2bc665229",
            "375038797bb147e081b870b6f819c0da",
            "3a7a0968872c4190989da0182814e758",
            "852787cbef364a86848abf83d4cd3151",
            "d4baa97223de4c859f4e11d51548b3fe",
            "d817bd094c2441e9800be485db2097be",
            "ad36876c3aef4e3fbe249f77a310b506",
            "f5410824324e4aef996a413f89ec31e2",
            "f0657fc63c0b436bbb2e184159ca95e9",
            "6b0ca4637c29462a8dc823adb98dfb95",
            "f5ab35ffe19b476eb9077c523b5c3efb",
            "9363dc0c990f456898f82d1118d0285c",
            "4a4645d1fa7a49a6a0a357e88a015a32",
            "f31561053edc46e78e9dd536958b697a",
            "3ad96ffecfd2450a97adf52dd4f75150",
            "29da4b484aba4216b35f5e70c6064e95",
            "508d775bffed423fbb07a0e3ada305e5",
            "61cc51ea892248f188a439f03355a6f9",
            "7c62c51350674618996ae1809abd947e",
            "cd2221228238422d9d076555112b9c58",
            "5d37e9f8ffd24edaa4f6ec993ac37364",
            "a93d927b644e42bab180adadd7dd4cb5",
            "6d2254837aa54d3da1518320c47b40e2",
            "75b8bf840aca4cc0b692be4a3376289b",
            "cfed87138d2944c6bc4cffbb7ed88014",
            "030134156f5f4c29b61cd71956e8c4e5",
            "d3e7b3d7d6dd447f8e34b93c3557e224",
            "039812b17c8748c7b95940b22fe42290",
            "a0212347eb5d48d5bd73646b90fbee7c",
            "1ccab119a3924a9fa2782e84a939d425",
            "eec1fe39ece9425bb321d9439afb4945",
            "b4a2aeb02649462cb1f6674452510456",
            "ce5cc9c01e7141518bb3df3e52cd376a",
            "60f779c9ccca44bd8d6eed21c8d697fa",
            "8e94895c8bbb41ec972148856b85f690",
            "837e687745564042a562618f2041f56a",
            "14a3c7c8b33b48a1922484c50ea094f8",
            "b8e2dead3f174a218a98b4abe0dc15ce",
            "81cabcf1f0d841578df0ccc6706a8583",
            "25bb166408964caa999b07ff2c1145fc",
            "497a02b75d054c35ac0c5baaa39132cd",
            "d90af1a89dac4059a869a85516517404",
            "8c283205a0aa461eb174db287cc82e23",
            "3c65900c9b444329a3c7e5325e11bd09",
            "b10c8db17db94a978679dc44926f233d",
            "035cd7b57d3443ea9ccf14c6d20a96c8",
            "b985d3b3974c4099abc2ba9bb2b3cd13",
            "3e78ff08fd36461ea55ee25d2c5e38f1",
            "26fea5fc29d947169485c2cab731f6ef",
            "42989945c43c48f08831241e1422d9bc",
            "7e87fd7abe1e46f58ceaed7cb367c847",
            "e4052ec657944288b3b782226c7522b0",
            "869932037ab844f4a2b8d914363ffa88",
            "f1f6b62472c14bf380c731872d8dc5eb",
            "ffd115890b5b4940a2b1b24f13bb0fc2",
            "b6f13cfc999a47628f123e3f785eeb83",
            "d7dc6f0207ba4e21bc88f500cc5c20e3",
            "3a93e0632b9f49d990ade23b5fd4eee3",
            "513cf5b0732546ffac3451d91a2a66af",
            "bad30df3d6564cdfaac4f70fa43875da",
            "b66b5dd668e9415084e9c68326396195",
            "45c4e01d07ce475db67ef02a58e1964c",
            "0e3562daaefb4ea0afee72c9ba0a4f78",
            "34e78fc71d52466e974f7f80761b2a8a",
            "f93d4067390f4500bd5edf046ca68a1e",
            "a945360e2128418b9c8b408049d05825",
            "e5247b97a221463280e574944951fd40",
            "d4b9e01e8ead44eeae6ac02fcf53fe9a",
            "b33e4e8906ff45fca12a9d81fb4871f1",
            "177d0cf539f947b5ad64718eec7641e8",
            "2b58125f916d42d199ef40fd817e2a6c",
            "89b341e26ad0414da08e8af249d03c1f",
            "06a47a8b8454457dac1a246f71e608e9",
            "1de9b11ccf6440458ff61c0539c9a332",
            "475fc83da29a48298f92354b94ee6a0d",
            "2c75c95c167a4adfab009e5e9eb19e33",
            "a8b875e5c11c4b739fadde8f9e1ed510",
            "ba615a3b33854466b57d084126cc26d0",
            "1b869830e8734c568b8329ecfddff4eb",
            "08c516cc06b24313a652bb58f1088268",
            "39ee1d1a12454c9c8a065fdbdcf0a42f",
            "4e22824215924c4a93b1a781b65628b4",
            "361b1bcdcb724a499455e37867461890",
            "cebe27c5566e4f54a3c1eb088b6e5fff",
            "9733fae26c444dfcbf771ed7e529b3db",
            "c2566ebfa1af49ad8350e714bc439226",
            "dc084f7acae5442ba5fd14d248af1db7",
            "ed230310cd184f9d9d2108b07f98461b",
            "79debc22ef534f4bb3f47c92cbbc0d9a",
            "0067dfb3e8294850b7df1eba20cc66fe",
            "b9956405870e4972acc5ef0f4fe1a733",
            "263f99b2f2d844839347af63c132d908",
            "352866fa8e394964ac4352a54957958b",
            "e298564932c84fde92068e2c3fd10175",
            "135251d30d604d5bb4c51706c7c04b90",
            "35b25ccdbebd4e82a9cb8e47f8d2c667",
            "45b58a8423f645c18672e40852cd831f",
            "d838778500da4961b3b6baa9991f3aa9",
            "8ec95a518d4f47f089b48179f1761a16",
            "78e8ce720e444212808fc4de5bf74435",
            "1fb6d2083108462188c354f9c924807e",
            "5a3fc5b3cead49cba780d9b2f33f5e16",
            "7910f36cd25e40e29eac4dd62bb520a9",
            "ff79a61b99f14721a5340736298d6d2c",
            "2b8d53be16034f4082de2858f5c950bc",
            "d55c208703e64007be78c7fafb9c4fee",
            "7cdfb945776d4d759dad7ef5d61cc8c0",
            "fd348b18a7164fbca658e929dd7f4e54",
            "8bfba81b0e304923a605cd09772ce95f",
            "73d10d2873f8476f878bb07bbb313f40",
            "4f344e0fcbd34cd4b372b1f631cc66a3",
            "e768ba14da974e329d72d4f740d7d5aa",
            "d562f374218b4322a6e91b43ba48df02",
            "456eedfe6b984526a02d1e29084d2785",
            "0b2d4c2fd39b459689ac2b6ebd9653f8",
            "ce1689a1d7cd42b8b6931cc72f2ab264",
            "2f12c348b1044d8aa82ee7fcf20810b7",
            "73fa46d73a674e16876a0228e47333ef",
            "b55989867baa43b38ca687841d35c24f",
            "0a128f3549094f2e8abf8d24d668d3ec",
            "aeddad4faef24dca9bfdf17ab6fb7b50",
            "54b7902847e548908e06236ede800fbe",
            "7766c60a900c4f7084628d1c25763f45",
            "c482b7efaed342fcb395a618f0f3f696",
            "1d10c295b8a84071ac7cb95d153c2db1",
            "35d72d783a414bd79e9e0ccaff870f04",
            "0f0cf8e7829640458cddaf194320d466",
            "994a256bfe7f485498d259ddeb607e17",
            "6f02c6bc54044f07ae56e6e64f03d129",
            "bd6353ee83a14089aa846a4d942de973",
            "dc5a8112f4b34023a77c9029c377c755",
            "75999b7f55b24cdfb9c72926133aac30",
            "7505fa8e554f47dd9f7cc7dc71854991",
            "0310a0cdf41a490b89d84b3c3520b4af",
            "71f79b273b5f4f63845bba1bd80cf189",
            "5ac9bbdb596648dea0a9bd93ec670a5d",
            "9dc173a9c2d84703b917df334947deb6",
            "9e04f3357fd242d789d1599500c322b1",
            "3c2157c0e718442d9d2604997addd67f",
            "f43e0f3dd916444681f790ec7d936bab",
            "1db11b8489ca4e7a85707b8f9ca5011a",
            "4c0dbb6e8e634887a4b3dffec8aa0d19",
            "667060120a9c46eda65f87987313b926",
            "eb456ec34b1642bf904d2ab2edf9a2f7",
            "6aebfc0d25a24d53a97344e3fe0531e0",
            "17b2fe03f2c84380b0f901d0527cd708",
            "41aba577aab347f9b7947f78f04898d3",
            "fff38bdd820c4f2889e198d60f4774a7",
            "bf3ca68e238544daa407bb1607b7d789",
            "ad2d83eb79b9487f8488f558f54779e7",
            "d2706bf275984e68be1c4ce0a5fd1253",
            "32b4891a205d4b76939b94551f4d4dc3",
            "a81ebfaed522403c8265d657498713b0",
            "f4b56ccda4b141ba8e863fa373f3a1d7",
            "b3fec33fa508474b9710fe4ceec76cfd",
            "7b5cc409b0cc43219000125af22d8fdb",
            "0c572aa298234cc689d092b4feabd260",
            "6a476d88f4bd40858ce5837488c6a538",
            "3a8fba4dfae04081842fb98e661b5c54",
            "7c0a1f303230497484af6125e460b186",
            "6d69d33a17eb4d92bea8c8c03d16d77b",
            "40ba21a06abb4c2099424703ce247df6",
            "dfa69ee0d4d94f169807fc12f1037381",
            "371c29c346ca4c5fbeeddf7a5080f5c1",
            "1eb1d77f610541b5931a22e340b4e70e",
            "2f47c6df63504dcb968d576f331e4f01",
            "1240d80d154f4b089eac7e5c0f43d7ef",
            "79fe30e6181c4884a59f5b3bf4995440",
            "2224acdce9b04aa186b47d2e787e737b",
            "0f950fd09a2f4af7a9e09508be0cb85f",
            "3bba93e4493141d891ed31cde2ca20c3",
            "e721b64fc32f4613bc9d1781b7fc1f0c",
            "a45407f0419b4d1097482671159b3c99",
            "e8df181083b147b1abaa47d879da8e14",
            "8521d9a562be401b9114ac316e2ccdfe",
            "f37bc4fde52945cbbd3354f8c082c159",
            "67a8203291c84ac48e1cacc7218997ee",
            "c3f35e26fe634331b0b8e03aa71d7647",
            "4b70cfcfa2284bbb84ac029625d0d98c",
            "a93b456362dd4918aecb7c9b16e581e8",
            "6034d1f0c553466da5e46f71a0c64a3a",
            "096c8f3caced4a40b8734172ab992a0c",
            "ba0f310e9e664011a82f675c21733e6d",
            "1b38a7fca4de4d23a448df4e7695e0cf",
            "3220a28d67e74b7ea053d604ae11d4a6",
            "ed84df5b146e4dbda76cac8ce6c883c1",
            "f7c98df2f9274c2db22353807c1dcc68",
            "a1343c186c2243198a104c235c20ed95",
            "e735d24494274c698222dcffee65769b",
            "80d8932d533c44cca778ae9b546f1bf6",
            "8cf1de50b0f440e3aa50266bb15b1654",
            "d325fd69492543cc93fdf6d347ec0d1c",
            "8e2585a940904070bbfe5c9e919b1190",
            "252fd142246b4132b16ed676b5349c06",
            "e06169836bce42fd88e47c3b8e5e7f68",
            "5e85dc059be44493bef93f3e4bf7456e",
            "b3564a80870344829b7b1abc63979e30",
            "cbc22c81e4984a759ffe8735e8b3898b",
            "684e20d227994dc787b0afded331d420",
            "ed387466533d45428d5b86f34fabfddd",
            "f3b74bc8be594a00bb3e9e29919c631e",
            "aa60b10858334456893db1f88d2c7a17",
            "17b630a38a1d4b9d854dce405660e499",
            "a16d8f0f37da4034a665671599bede00",
            "fe393d76b31645fc90fa438ada27a925",
            "0b370a07c7f948319e4d07d4082ab262",
            "f888bc0b8f544e4ca70f095a4916d984",
            "dfb0b6bb35364ecc91b0d81e1e70591d",
            "ac690c80d2904e89b31a214ac1cbe1df",
            "8907782eb66e4dabaf926d75d6ceae7d",
            "b30f5b085e8b455aadc2a25c489a6423",
            "738dc9653f8d49698c27f74d3b536bb7",
            "5d880507692a40e4b34c1bed634c0b78",
            "bcf653d856104f4f99bb8e4afea68742",
            "aabcce0557754897818954d103525016",
            "310241ef0494420bacfacaf6a8b3da5f",
            "f7fc763d69d847029f262c3008ac7c02",
            "9b640c29b9554f0a83f7c8f457ac0a16",
            "5f0cffe73a0b48d8baa17a45bb900e0d",
            "d62d9b492cc5470fa515569ce26a4f2f",
            "632fa1a46f5f478082bf2db0e81eac23",
            "22f71158484c4fe08d5ed0ba6180fe8c",
            "01808f51cbcb478988b5b7405897180f",
            "c292bc418c0e48929a21c9ef8b333a8a",
            "50b1b94093b9419d926559cd292a3e23",
            "98f0f5398b3f43338afb221cd63b378a",
            "ec790607605743929692daadb8730f80",
            "92e66196efba4d5d8ffc5a81ecf31454",
            "4c41aac5948e4ceb959dc15384ada86e",
            "73efe7cac9bf433e9a96120674b1df7d",
            "dbf8ef61c7614246b07ec89b54294f02",
            "291924cd3faf40eaa9397480df4eb63c",
            "3a11414cdd2148a49f410eea898f6c1f",
            "ee38d67ab19a443793d952c7f8c9050c",
            "aaecea12ddd441928860f34feea647d3",
            "379e880c1d004bc9b302ba370ca8daa9",
            "611e6a587881461d99ced76dcf835d8c",
            "44aa548ddc3a4f65b13134f427c06e17",
            "c0cecc9fe89b44f99d100618f8702857",
            "517e068cda5042b9a2d0162d57d103bb",
            "f252190267dc41348991b9ab9248aefb",
            "19cc84e55fa94fcdb08bf4708f51fe44",
            "6fc2a81492c345d29a07986301830a68",
            "1ff2fe2814354eb48615c6ad143506b4",
            "dbc41d64422d4f00b832d044ca5e8270",
            "8532733ab28c4fbcb5d59b48e11e6f55",
            "7f705fd43a814b9cb47804c8be6ed4d7",
            "b1d4955a32ab4183ba1de1aff961ec2f",
            "8f4fda9725ef468b88d17498efc6aada",
            "014ce2ac41ae4c32b08c8dacdf3f8d6b",
            "28997ea32a9b4915a8a9aa23892ce0f9",
            "73ac1860e5d54a07b927b1eb3c80e83a",
            "773f8ec624114402a7e784e36d3b4c72",
            "0fc1d4c1bf5f47058cdf61035754d485",
            "e28d442aa5f341fa99ff84e3aa1fdaa7",
            "7bacb9ecfdde462fba0e3aef5762f171",
            "aa9afa3abf874e85aad7c59f8e035835",
            "b2b9736a083c4d2496af0fed9e9d199e",
            "6992cbf38aad4c3fb4e9876dc6507946",
            "db7a6d5220654016b54f8d104ddad6e2",
            "5e8bbc3fc7d74098b8723fd8680d0402",
            "df4219ad2b084411b94cdd4532c4374d",
            "579aa72fdc654ae4b23102e777fafddc",
            "d675ee3eed1d479ca8c0bfd14ec6817b",
            "e6da489cbaa24f90a1f5ba18add9a0e8",
            "1945e30ce74849dfb681419afb6a1ec1",
            "58d32ab519394b6984f0ef3b28ebbbd1",
            "de0d1dbeb7a044d1af5fa3dd92dedc1a",
            "c17d034d9f064c20b80f6683af248914",
            "f7920ed332d14241b135206157be9466",
            "a99cbda6ee9c4bd881518ba566081123",
            "d919b751a2674cfc9dcd379b3fce47df",
            "41771de3004645dd9ade98329e44f9d2",
            "07ae07d9d4eb4394a90ca2bcadce01c3",
            "14362a1028be461ab9828e0ef14c1ef2",
            "d9143fbaf07d4b9a8adfd95e5f285174",
            "412c7c1417124dcfb8cf4ac3c97b2c12",
            "09c81b2a1f6b49a1a90e0442b79be6c2",
            "523c900e64224b6d812d184d177389d0",
            "39b92e09058a4131b315e59027df24c0",
            "bfdf86ec38754a8bbdd2e0feeb638cb8",
            "dffc89782ddf4ef89f76f8a29c715666",
            "ba25c2da2c684618b9d83f72aee16c0a",
            "a01358596b234e17949858d2a20a750b",
            "9c82080721d24342950d96cdd31173b8",
            "4889bcde4ecf4e3d92ef4165458a9bf3",
            "966c3624e3a04a5c96e15ce0c04a9538",
            "45404393e7eb4026b01208f6c9b0841f",
            "d4c93bccb5e44f55a04e036ad3451ff7",
            "9723aa131ac6488981f9af1cc1d6f5b4",
            "9adf1b7da9454df3ac7e4425e8886bc6",
            "0bb36cfff5fd4241a57fea9c9dd0ed98",
            "8691229080b248ab8a4f977c72bdf6b9",
            "aded3f91aac04fb3813edf3fe60ba6db",
            "037aa6638c7647e580ec3f2aee1b9794",
            "709896a97b934246b386ac221ad83375",
            "5582416d5acf4c11a982918cff5878f9",
            "c39db8291e1e4f04b8fc952e8adc74a9",
            "da51dae090564f06a98eca8aab1db8d7",
            "cecf4b79a1ad4147b42ba23f60e5b181",
            "febb74f4e2e3485a986eaf62dee22fad",
            "bedea967b4ad4aec8be5ffb8b896739e",
            "630d868497354a399bbb59d54ff2ea31",
            "6d8e11364c3646b3a8e6fd34e5a2b4fc",
            "c0e2329549f74af78d8b25298421bc3e",
            "4035ac11f4dc4222b50d80b1b494fc5f",
            "25919269d2044e1b8a3863f8d50d0ec7",
            "8befaf1285964ee68f10a315ebb13ca6",
            "8a56bcc54f6742a1b92708de42ae1917",
            "4b90971360794541b7ab4d58c08c3d6e",
            "ca87b463c8d64b7ea4753c3e2cb8b7cc",
            "183b9d7d8f67402d904ab7effddff667",
            "f272b147bcb94e0ead6fdcfaa01777b1",
            "4e7938f7123b4ea19ba82f797d5d7ff3",
            "caddb0247e194d02bfdda42eb18f30e2",
            "5421124a174f4cf09c4624329b2028fd",
            "673653d5015a408395dcef727e57f242",
            "893d583867784444a3634a92a4f66c90",
            "1f55204f5d9b42c2a1fd9c3d45cdc6cf",
            "03d979c9761d49cbb6bf95e0d47d9340",
            "18a27bf36bbf4cca81db749f5e10c2dc",
            "3dd5c13ba5d0468eaf8851446fa550fd",
            "503b9ab5c08e416e860549a731992438",
            "51eb65aa00f7406d9a5e4ef65bebf9cd",
            "b1633f21d67841b38105de28daed5234",
            "74bfe2210feb440eacb4ec77ce3e5604",
            "f5a2ce6b47a1407780fdf3afff6b9f6c",
            "ba50593e192a47e3af1cad94458e2cdd",
            "99650f7942c048e4928b7bde4b1b0600",
            "56f0f095ff2c437fa97d85fc20da01a5",
            "aa73b90781f44c5c9693efe6aabe792e",
            "40616ae2adb246d798730bd60b84c216",
            "84515271bc7f45f6b7ebc0461f517e51",
            "8a8c55487c5c4607ba6e7e46b9a7db20",
            "6b462e5485bb4b778f1a53b8dd91c524",
            "370ae75aba574421898d5e8f0cdb3477",
            "4b7a84b71d2a4e50bbf064b1a615ff5c",
            "c11d81c32be84d07841da712680d9ec6",
            "f8c06b28364e4ed5ace0e18a86578073",
            "f51d000076504a3786e74300746e9e68",
            "959cca1b61f549f291bad280b1963eb6",
            "e0e99a5dd16241a7a1a0ea3494622247",
            "46828513f9dd4052943c83159598112a",
            "722f1fd43c03411bab4dba8345e45b97",
            "28f3a8f633a7414daea561ca524dfce2",
            "dc0cfe2d1cd44e4f921da2f95f49f934",
            "e1675806c5ac459f8e732b182c102af0",
            "26dc192bf34840a2b75c10681629a2e4",
            "2f941adf632e4f898d96278dea9bcd9a",
            "70003862d10549f19f1322fdd50ec69b",
            "420e66619d13426a8347670445f04716",
            "b9ff6104adbc4383bcf8f88493bba1f9",
            "a216f2e77b1a43d9a92230ce4580950b",
            "84c99bcf0de54b34a39ceac0cbc6db89",
            "be2c4f1c7e044391b830fc4dffda4937",
            "6f73f578f0ee461b895d3901c4decfae",
            "cd1c0adc71a04f7bb0a57b46201c64de",
            "4acfc38401634b9cbcab46692b5a5284",
            "3dd0a5ee1f034f1ab27eca9bfb723bed",
            "792b28d6a116472195e8faddb18abbe3",
            "3f04953718aa4e538d5324a825247e87",
            "a7315e4a8fbb4c5caab80660883d6cfc",
            "822b2a269e79438fa6f6b9ccad819db6",
            "3bb482469f0f4c39a3add5a8d05ea0b4",
            "a2499269510f4556ab836047c198b755",
            "2faf3a4373ca449b98a01426cec06487",
            "cec1a5bdda1949fdb78ff4f5c333d6f9",
            "5180fe2ff5d14e74bf9b58bee4d4ade3",
            "d956c5dd7f044704a62bfd7ec6b9ab94",
            "4bfc18d6046049819d407cfebada4918",
            "7b3895ea22934ba7ad38a75b56634ab8",
            "4e0748f951bb4f4a811547f9d84fff8f",
            "83f3003f77484dc7b6a1827a9e4e6c95",
            "f17ea8e7ab4a4d758722c29bc347ea55",
            "d59d337f3e6644069a09659f9ff3332d",
            "d42b1fb07581409fbf510c7c706249f7",
            "b0fcb8ca7360474fa7c8d7b8667ec4fb",
            "7e613cb71dd744e580b236b11048c59f",
            "bfdfedaf99434e508b59c81995a953c1",
            "0b41a82e9b4541e8aeab9bc2607cba19",
            "d66948f131aa417ba9439b495aa14be0",
            "46c7e0355e174541a67dc0ad7e24557c",
            "2776cc30aa79456c8aa6df4a9e18b7f4",
            "f9e74af12bd84077ae802d8377a463e4",
            "f06d9e9c88ef4acfb748f2f81a5ccaa2",
            "ce69c8b224494f4eb6fb45fa6bd52f2e",
            "6071777406b7417d8147a2e2d1a5bde3",
            "0dd0d84ab3bd4da5b748ba0bd12f8a9b",
            "ca5ba8d58be04b9aa51f74c6eaa1834c",
            "7e464a37c8e942c6b2834664c705a194",
            "bbfa70a195824a45835bd3163bc8b624",
            "1ed037118788450f9a04aac6eb14558d",
            "5772312f4ff842dbb10037762e0b8a1c",
            "af06261e39634e6bbf880fff67428187",
            "f762850dde9a4bbcb94e618d2103f8d6",
            "318bfd601f7544f0bb907d6ca112c47f",
            "9de343b20e394292a9ef2d3595352108",
            "36b93b621b174008a1d189ca7ee53f76",
            "0575371e8a704c6ca822312a20deef8f",
            "02d801266636497d8a457ce71eb58458",
            "8c34fc2f98a34e528bae7827fb2d3575",
            "3ec16f3628e74a709ac0e9d5f4ef59fd",
            "900ba9cd594d4a9ca978be89106bdb30",
            "5d2e9d5f15f64cff82d2c73c1cde2364",
            "9ace1ab2cae04ba49bdcf8834f7a76a2",
            "e53c04b4107a4d97b9c76aeee9b1c112",
            "67a1f2c0b7564fbd9721690c876a0f4a",
            "9db94b7f08a74b9cb2a9d2d769966ed0",
            "90a4f9a00d82496fa1c28d28c08fa762",
            "bbe9721f20024ddba4b27d3d28479cc5",
            "591618e2d0604b83b11c9e8c58f2c93c",
            "26d6248972cd4d77843dfb114f79a981",
            "440e62015c3a485db288701690ca2242",
            "82dad15ee21e44d09c911e4589b7af88",
            "56d12c6195634cd6ad6f811df3eb7bf8",
            "1bde55db028c46b3b4ddf46278bc6e4c",
            "c0749ccf894642afadf7dc05fc67c1ab",
            "45f42056076b4195a4491ee1d47d1544",
            "0b7260641bc448338ac4b2b25a8c07ed",
            "0f1e95e3699f407d9bd132ba7987de88",
            "88774bd0f5e7458fae571682d5ab25bd",
            "77bf0fcd8db94a23a690a1ddfec7c756",
            "a3582838aa8a452f8f3a37ed2dec0f27",
            "e1aa73c6da95491080e10e2a416a95f0",
            "e9523cdb2c46438d8a11f03a8f74c417",
            "163721b78bea4d33ba792af62bc191b8",
            "3ab6385ed212496f9b96ba7bc014a84b",
            "08b0e67942bd47d28a39bdfb6cf55925",
            "bed6cf7814594b4ba56d315bc671974e",
            "dabc6a1d10e3435d93b07ba0d6f4578a",
            "b943efb25a43450faa08c0a0d28b702f",
            "41fd2dc35dab4173ab8279c7640b1aac",
            "8dd121d4832d4dc1b26139bb758ec57e",
            "18fa2de981d9433abc30aa02219c0f77",
            "6fcaaf679ee34436bea4a13bf4b4e1d1",
            "33534f7e5f20458fa1801a3d861e3c7d",
            "9be3f6bccdbd4caea2ee6f954f561e49",
            "0eff320d31394229942f168bddf192b8",
            "678799c30db546ee906a3883b6c4b5b6",
            "3d63749295a94f31863d0fb23a0a376c",
            "c6236206032d411bb1723103a8c17ca2",
            "5b06bb9858e849d58eb2c871438e313c",
            "fad0631536794f4eb226cc04a343a41e",
            "f536c812614e40938fc5582e55514c63",
            "2aa66761c16e403f9de77a3dde64a884",
            "277551a55ea0489491fedf5596fcf557",
            "0db37b53cf914973917d5d563b336bdd",
            "bbbcac0aa4fa43c79c05f321c0f757bb",
            "6ed5f44a1234488b83bbbf381b8f9f97",
            "c6c8ab24a8834719a654c18318c227d0",
            "77bd1177412b40409d50365a53a66840",
            "b0404bddcb624b9ca00d7e8e8b157ce9",
            "16c80f5e7eaa4861bb81ef87e3c3bc9f",
            "c88f01e4f81d4b42aeb56c701f1b62fb",
            "8e28e2bfe0b3456281faa2cba26d2721",
            "d718d7ebc3364cdb990bdf2982dafdba",
            "ff4ae57f835048cda13e2a962e1abb2b",
            "67e06f39b487494ea195dc9d7571f3c0",
            "e64484d7a0634d23a5fcfcb52c8fb0e4",
            "fb8cd77331eb4b3c91016e8400009511",
            "20c8d2f42f524491a20696dd3cb71eee",
            "c7714eaee5014ee8a9f84e3e8ac90afa",
            "63109f06c5194c7b890fafac3f019c60",
            "818e5f94944c418aab1449740ea1b74f",
            "4b3ad72b852145ce821366997fbe70e0",
            "6d2a9c58414643f393ea8791ee86d89a",
            "10bce57ecb674045b5302e6b5010c7d6",
            "1fb6d8a5bbc84e21b194e4ddafba2f7f",
            "54a873a4814e4039b03e41336f72dd25",
            "416b738c6b4b4287bb0a6585bb78a416",
            "3a4b3961b9c44de7afc9c5dd2a6dd172",
            "30c7e0db63374dd9bc729df5e9c98c76",
            "ee8936aff24344079dc605b7fb047f1e",
            "f2354d71784e43e48cd88160d16aecc0",
            "7426787ad5bf49ce98a8e4358e493a15",
            "55d289ace5a147f2a8b44f419e71780d",
            "9a43bbc911ba4a9a82f35e317743fa1c",
            "a34e9668afda4af0b83eb4bc4e4e5a29",
            "e1140c3a0ec04886972742932939ccb9",
            "5d80a3c2873b4befb2cc8bf96be47772",
            "49e24972ca324800b68b9bc891404d07",
            "32e6a5fe4f40457d82b0b70c85602cdd",
            "150f64cc176e410a8872bf8e762886d2",
            "bc1ab13a389d480ca458bfba3d7a0f95",
            "73a3f78a22d643b58559506a6dbb64ce",
            "e3ed75197cd845e48fe19baaed37c5ad",
            "b8ed140177d94a1081943a7c7cd2bd80",
            "497f144aa11e498abb3d10d64d076f70",
            "4873d617af414707a8fccbe44ba0c815",
            "8d06545f59634e3585b9be6ca716fce4",
            "dbdb276839be4c519006a064787f7fad",
            "6e8e61fd1ac846a3a9d927fe2181390b",
            "c25698c013464c98bd6743c179251b72",
            "4c1efcb390b94c9b8417fbd7cfd3dff4",
            "1a55c7d2cd76410e912d7bedc44fa8ea",
            "53c6069e08f541cb8037be4344aba411",
            "6922524827f141e5acd9ee8dc475528f",
            "b34cff8775f64bb2bec452145e5e9b3f",
            "2bedcc917e8641ba96932ddfcabe7d7e",
            "4037b06eb41c4cac949687bfff3c7065",
            "ea9b047829634d7680193ced132c4636",
            "be79a39dc1844b5fb13303fa0d66e1a4",
            "115786e4c1fb4259bdf32dab225e0f21",
            "dc775d5035c54568a2c9eaacc94551fb",
            "926460a9b6974389a827c905c9b7a24a",
            "bf64c3addd6f4a038705fb5abe4895ec",
            "205bbd89e4494283b0cc15e9b1a7b0c9",
            "5cd566cbe26a4ae18965e45e301841df",
            "8369abed96eb40659fb7a4f40a4eb795",
            "a88e3267c1ae443aa73dddff1091ca2e",
            "83fed9affcc541e389977d53fedd1196",
            "660d704c53ac43d3b5f16bc911c00906",
            "50c30cd0c7f744f8b888e10f4cb99a4f",
            "10f8a4d283dd4910af0adc7ec79e4837",
            "d058b6e08091416f97a86b43e6336733",
            "4566e95e3ac64d069b3e657f33dba3aa",
            "32275184c1664ec78c2f6a5cc914d168",
            "52e4895d9a074538be17408764c65b97",
            "ac897fe9f9904aae82ce2ffa91573389",
            "0e59b7f386854c51b1e4c386ff9189d1",
            "126432924e184e6b8fcaed72429fb58a",
            "5cd4a5d0ce2644adbc07fae1d89671e9",
            "ff6c864771c7445d9e901b641a7b761c",
            "0a089bc6683d4bf792469016801582bf",
            "09468df51b864d3ba04c92c3b91afba8",
            "ea41dc2c47704d6b94cf10a6e4ea26c5",
            "6d417d008fca4df3a7e5074d7fea5143",
            "962d417842434f30aa53342c7f233ec7",
            "a46756e08cca4ead968771a8db117b7a",
            "c69c3c72d6b94e61b56e8936da880cbe",
            "1ffbf1e62d6d4c47af2e6df22b1eeb81",
            "08f72fc8c41a4c7294675d9938baa5dc",
            "6da9c0e73d844eb9b0e6577b29a0ad51",
            "9cec3bb3b90e45e9a1eb7654f2b56aab",
            "cc54bd958eb94cd2a7148c8a11669a00",
            "135c60ffcbd04bd0afaad33a72518408",
            "4f7fd5516ddd4481853f231d17648a8e",
            "52bc8d92ff444ccf8af4c7ddde0b219d",
            "d236ed76067b4c8ea4202e5a55ca7b2b",
            "8993b9a909fd4f19b4009e38c59f5de5",
            "e9d31b62feea4cd5b022223af613a837",
            "9f59003ed4ed44348ba0b0d41f27452c",
            "7736a58609d340328415bdcc8ddfb6b6",
            "3a25ccaa7407441598d3baf854dc48f5",
            "2a6008f1d9784843a505ae8f1d8bd686",
            "3e05cd194a46438d924ea6ae2a057c0b",
            "af7b94d43ccb40f48f4cd1d1edbef9e4",
            "23063cc131474cc398da6fb94737def4",
            "a64f7927b0744ad4a27af042646f0349",
            "7a868348fed440aa8d73feeae6aeb87c",
            "c6b9f32b1f0842ed920e53c396a6fbe3",
            "512b3259701342b7ab30995c634afe88",
            "bb105a6c1e9546f59fe08d869d3befac",
            "ad7de9673f374e53a97782b4e6344693",
            "056217a06d1d4799af05e819d92d9662",
            "af0eb596a9ab44c8a1737fdaca05fb29",
            "f9756b63e7494b4ea96dd3f9a5ac541d",
            "6a3d6540463d4e29b8eacef1bb111ca7",
            "974387bfdf3841a982a1ebfac98198dc",
            "03059aef1dcf4f12a69187d9d3512790",
            "703299cfeef94b5d8e731c490dc80d95",
            "303f69975c6d4790ab33c7077b461956",
            "ac65e9fccc364143af801cd3228ad58e",
            "79dafb737b7f42689ab5a6ad43062726",
            "86c93cf85e9e4827bea01b6019c29110",
            "15de79e6d19e427c8a853103b2c2ba86",
            "ec74e2fe397a4883bb1ff8ea19f23ee5",
            "3e34bb4ad78a47bbab33f7b3acf03674",
            "758d4f9216834699894943bcc1c67ca5",
            "da9755ffb1e449c9acb7ce30dec4c22a",
            "a3a4885982154c9aa1d166d6550d1ea9",
            "9677d61c326346b38f89fab9d18b936b",
            "627a0243ac2e4c73a7dd0ec475c9e1d4",
            "c06991c60cd64760bcd847e14d54e2fb",
            "59f0eb9d379143af98cb3ebfb9ff8426",
            "c64773167d494754848261c149e2f664",
            "c8593ced155246a4bab2438a210fe70f",
            "0874188047f743f18c01fe9d0d0ef8d9",
            "7b9faf5b42be45c09f05a8425830dd92",
            "2501eae3fee3422089f96b5c1cf394a5",
            "fb3156fc437a4f2aa2379e355edef0de",
            "b6667716321b45a48a31027ff4027c31",
            "a8b57f0b79be4a618ea9fae1f5d63bac",
            "62530a63ee85471dae6459a8ac287942",
            "d6605a84c76b4c26a108f929b6ae5ae6",
            "bd407520124d494699f65425f03c3b8d",
            "74f8c043ef3a4fd18a82e6076e6fa064",
            "db517f6516d649dfa5a394ce92608044",
            "15fe68dc49184f62a497a04992c2ed7c",
            "83e68b3317ae49e38aee38beb482cb77",
            "132bb018706e4c2ba0f0cdb2a7dac73a",
            "88103573eeb24f03b878d70a88357eed",
            "dc98559b8886465086b6d56b6fb04380",
            "5fa3f2d025d947c9977edaddcd12dc0c",
            "045fc1b0b2ea468f9a5b6e1a735a21d2",
            "d7337af02b7248fe81dccd170d8305ae",
            "04b2c92c90154c3ab00e18bd99d6065e",
            "243cd2ce00204ce5949cfc708b572397",
            "6d7efa46e4494b26a0256a15c86544da",
            "7262ae3f154842f38a4fcf599b067437",
            "25dadc4f5f2844f9831bf10aac5465f3",
            "af0d39ba0b5b4974ac414fe6b83c26aa",
            "b583496288d54d51855aad4b0b7d4056",
            "be8271831e7e4cb28cd34c403007dad6",
            "b36b6db1c9a44747829755e44a456a3f",
            "ebb080c58cb94ebc861253dd27b7150d",
            "a63276ceecbf45bfb26b89fc7866866c",
            "430ef03095364650a0db1d7ad6c1f74c",
            "c78c2637a3b643b8826bf2181b372ba6",
            "6e8413fd6aa7453ca96e7f8e2e3aa01b",
            "5303312846a34f4a979e477769366bdb",
            "17cfc409f026439a8e976d3b3306a118",
            "308dda99b6164920bedc25af9a9df458",
            "cdbf04e849eb49fe8ff8eba472ab2af2",
            "def50306ef9d4c55b61664fd040fe017",
            "5e9c8841ce7247b6853b4f538cc93220",
            "d8a874ef99a743cb8bd209f8a390ab14",
            "329ebb16885847b78d63a63411c6c2d7",
            "1b42e0586c4644eeb3bc5eec3a768c46",
            "dacc377bbf5d4a98849bd8b815e7db35",
            "65981e4c77384825b6848aef68116eaa",
            "0377041749cd4756bf0bea3c10d5c32c",
            "dd2b48fb7e004b4d923bd31cb8f669df",
            "383cd013c30b45c18aaf21b6f997595b",
            "3ba46d7afaf0439ebbaa64e2dfe41196",
            "1cc8e8c803504d10a7f47621cf42f0fd",
            "b80c1fc6511946d0a3cbf5486b0baa89",
            "f6b245bca0fb4fbcae8e17023ed77974",
            "c5c3ec6a1db04304aa91843fbc7bcff3",
            "2781ad31b88e45dc813ddddbc7a10432",
            "d6d164271f3a45fabaf44653d819e0f4",
            "f74a4e6fe80a4a66bd7d2449c97bd1d0",
            "fb2e59f3613640a29a72a357bf6a4be1",
            "6d20869e08b54813b812dd3be597ac53",
            "00a81703443e434ea03b915dae5169d8",
            "1b412ddeb43d420ea977ae3f3d5ea47d",
            "aaa4de71662045ea8e7e2d24f2c700c1",
            "a688ed9304c74b8a92d00e8b89731e26",
            "790b8044c94e4d3ab5e25a8d28508619",
            "4e097f32501148e3a80cce00df520d95",
            "da9cfd334dcf47258d22fca2141b004f",
            "ff03b128d2134a72b78d0545c424433f",
            "7c282caa4958455ca36d33f760f5d944",
            "fd373470add441f6abf29201393da86a",
            "fed3a1eb12f34ba4833cf973cb53164d",
            "59f839aff14c4375ba86d13741601c1b",
            "a7b86f6bda794002866d7edaa22158d1",
            "cbb121b8e8294f93a9c9895e5e6af7b4",
            "a646a3c93b194521a5f1d3227bfb88ad",
            "aff6cf88efc74aa38f1294e8251a2f0c",
            "ad6bb98d820846a2a14beaf7ab4684e3",
            "7376a287ab814cc3ad730783d63299c1",
            "2c2ea816f7384f37ba7fc1c6844a3582",
            "ae246957b50e4982a7b7054ba6cbe8e1",
            "5f667d8951014622b68a022becf66e82",
            "3226b7da56074892bfd46c44d02a4b52",
            "5ed4182b77294c45968b0c81b58a2b50",
            "94749f6622bc43f88f6264ea819df0e3",
            "e2dacf2c6b3e4172a5b20c73ed87e459",
            "ebc4e7bf4e4e46969c303831ddef0951",
            "10f0b4e94f9a411e8c99432437e9cb91",
            "a64fd01661c44310ac02d90384a4039b",
            "b20c6cf530b047239de833da83f4793a",
            "a032ee52326c47a9bcc92fe643a7ae8a",
            "5a8bee58bd0f484096009ebd80e3d53b",
            "1a2c22eccfc7422387545da8b65181c0",
            "cc2d1db27ec049559055e23e6012374a",
            "97b23951470c4e40bb7d003101db4699",
            "c5511fa438b54485baf46add53ef390b",
            "ea2189cff5f2494e8e3ea2651ac08541",
            "66dd997e585c4d8ea2c30bc10606467b",
            "a9ab4c4740c54d76a0e1defd0dbad661",
            "ca362ec9061e445e92b053b327769a34",
            "73bd29f1766c4d41ad9f55b7bf4a9cf2",
            "1afd407c124c48918469c80c09de2e2d",
            "5e3c01fb14694566bf5db1567d646b1d",
            "2b4f52b3ab1b431795b792ea996b814d",
            "73c51e06039e4df690c02be210638653",
            "569ba6645cc140bfb23d72de5c197c63",
            "2a24f8468c074f3f8b2e7803ed6d8572",
            "e0618375c6d54db7a395ac35355344c1",
            "ec45827191964db5a4276f6d55593ed8",
            "808d52d62cbb4b29b599ebe2b598eeba",
            "38767867a41943d5b4da32d1f907842c",
            "087df8738ba541f48397464103da69a2",
            "0b9bdec1e9864f15ae3bd84fa73547c7",
            "bcbe89db1e37498f85a8d5f7f730f7f3",
            "af171f88a5444f4686812a48082cd43f",
            "10c99a6301f94c05b47d50b3dadcddb7",
            "e8a4eaa135c74a41a4b98b7f69934f57",
            "119b30e120b54262aefce4fa1c08bf51",
            "818776cc8b1b447a8921cff0038c9643",
            "b6b2855ee9f3498cb56d609bc8428d6b",
            "5806d1baf7b347e1bd2c0dfcaa7da426",
            "f4ccb0a676f94bbaaa58e6c2388652a5",
            "64d71bcbc24341329341954709d0e211",
            "530a244d2f6146079c332df1433563bd",
            "9d9e840b3a5d45399780238b41e2fbf9",
            "b6613a8e64464b4c8e2abdf7f41e2ad6",
            "ac71632dc63942968b51aa7d1f067943",
            "763ebe7dfe0541138f4a08e34fe39d19",
            "1bd4bc82006e4402b482e26ad0103254",
            "27eec7fae36a4b54b8ca18633e9499e5",
            "5971c15a62da4b049afe659102d6aced",
            "98ea5cff6dd241569447685238938bef",
            "ed9fedc9a100442db809105119dacd89",
            "e03721aa231e473ea305f0e1bcdb3dd7",
            "8a706aeca42b439298549a7b66faa7cf",
            "c1d6ffe52bbf42859bcb465cea8fa85c",
            "692872c244d24559a69e5b6fe57107b9",
            "1097892e2ca2485082b912504ffb9bad",
            "c0dc25296aa64fd19add72649f7db3de",
            "fab8385ebde4451fa537927ec6dbabfe",
            "aaad85b554184e56b8b2fb3692f54c4a",
            "a147698192214dc7b48a5034ad17cee5",
            "cf90a493a5884c228dd2d1d6a810118b",
            "54570b132052402bbeb08abfb043e4b8",
            "7b56ce56247542b29dd4ecc50dd17846",
            "c4b548cc2010436280201bee45c2433f",
            "0cc04973aceb4cfeb06a63f7c1f221c1",
            "d362017d955b4d4dafe43ea66193d9a6",
            "b1eb0d0d21e44427a0dc2386f74ba3b0",
            "3dfacc9a23ff4727b713fc1c7c431663",
            "4d5e888e4f1544828b0a4a999554fd7c",
            "717555754cf94202895cb9c365ef5f68",
            "f891d8676e7145dd8d90e5698116163f",
            "cccc155c3c344d4b82903faec13bc12c",
            "e3473e65481149edba8e57fb3297664b",
            "7f29188a618644aa812424f6123af5cc",
            "514c017a050e4097a2ff3ccca2d5785c",
            "38310079c6354b1fa7bb9ce9aed6a9d9",
            "e9a08552adc94a27be311a46e7bc520c",
            "9c80430004a74bef993c71ec0d71f30d",
            "5a8a28aac4dd44f6b6f51e2a1da991d3",
            "778721e919a74f44adf78d54b89dceea",
            "59dcb56809c0435598fb7d9b89564225",
            "8c30ec4cb2244e0890df18bf9357ac85",
            "4b50519d673d4f02b84539ac5944b681",
            "0ed9a7dd6a0d4c15b67c764c1a1c4ab5",
            "33c1e4f5bca842b0b2c155f62d02da85",
            "2b8a77d0f83c4cf7aed348a33f397c43",
            "cce22fb912504319b4e3195624bb37de",
            "949cdc684e944dae860b7ed305cb76f7",
            "9f9362cc4ac849bd9fae808044d5e4aa",
            "3f4a1f2a7e0043eab7ed25014657ec14",
            "40c1959abd0d4aa68ee1ab1c4a7deccd",
            "86cee1c70c764ab2a47482de9e23fc00",
            "d86d48cf96334958aa1d50380edf3f79",
            "a620a2186c7e43f4ae48d8c8b89d9929",
            "f608ed13170545efaab6a59b9fd946ff",
            "62172406bed64d51833389ab0f220f5c",
            "f188dc4ecd6340e38a812e4fa27d69e2",
            "8f47694e2baf43478f70692a1b25dae6",
            "76d3a5270261414d987aa1ea1fa5b8e4",
            "e3251616921243eb99e48ffdb273b689",
            "7cf48156c726444e826907b229220953",
            "137219f8e44d4dda805d2d528c2c40ea",
            "0f6d038b7425472bbdffb372b9445cb9",
            "3da9e39eba6344fbb3a1314e8ffa975e",
            "d448d9d1a9fa43eaa1d8526b490d793e",
            "977b9c7a3b7d45a2835f0b8a43cf0314",
            "01a5f90bb31649d2908ba5dd2c5e92a0",
            "762599f5830449b89a06e702cb929fef",
            "320b20420747403bbd0bb4586428548a",
            "d61419452b174981acb8b84194ab0af4",
            "d5d9c7d01fc34a9988bbf50a32da9a3c",
            "7c158631463e416f9895d22bfc7f89a8",
            "6a7983e1164640d5ab75641fdf8f97c9",
            "b090b51e4f304da1a01b0b8d13968c75",
            "32728cb709294ff4ba8e0d799d6344d1",
            "3b88d67cf2574bdd88fdb065125f603e",
            "79d7a339eeb84be78e52496a1c33969a",
            "5143831919ce4b598f5dadc6e74d42c4",
            "346df4d44be84f7c97261ca0eff2b076",
            "b4216ab4ac7e4fdaaea704ca8b1db65c",
            "84a7861da11c45cbbf088a1fe8fe973b",
            "7a7e5a4b710a423b839d952b4846b1a0",
            "ebad5cae7e974db2b985b7f18933ebc0",
            "2102147afac84e3bb34f3760bb62281e",
            "2a0e3a34cd15470281bd825743cf07f1",
            "d0f6de76b3b944feac6fbad9e97aa442",
            "2b238705c0904b4ebd6528d0ad44b7ee",
            "aab3b056a04a402cb86331376a2b6751",
            "74e6b00eac964861bf215b940053a421",
            "79fd2fcf16dd4909b2c472644c8ed965",
            "2216d82079eb485b8cd2bc1a4b7e9ea1",
            "73504fbe23f94fb38d4a75d7b0a47e51",
            "6a4749cde55e454c9807163933eb90fa",
            "479861d1f68142a680fd4aeeae93592a",
            "5a907ddadd1f4c95a54cfbe858fd62a4",
            "21a3d58833e3489096b064ef44574ee1",
            "880cfdeabb594cda928d75ca52b6d319",
            "ce85771d2ade4fe981bd21a2f7f39739",
            "b6f4be218d2442de87d72890d69d65a2",
            "caaa0d9cede44e038ee70895c56b35f3",
            "4e52125993ec4488965f8865ac6448eb",
            "d12ea91716034196844603a77e679d57",
            "285634f22c394836ac9bf84d76a87f5f",
            "722dc0e242264c4ba97828b72feea409",
            "804f4270a16e4eb3bd48fde65578bcdb",
            "dc36f14226bf4741852b7840b8c03534",
            "01bc96ee0bbd4d0b9cd00d2f0538e1a1",
            "56300a871d9c40b3bd90fd0e9b4e4687",
            "bcacbeddbf7b4b459f9a389f2927fdb9",
            "a97adb341f4140c8aee2c3f5d2594fc6",
            "8def4767fc8f4e51b1fefa2f59c50287",
            "62b2365ca4b7474a8de2affe1bf15cc1",
            "b5035b51fcd7498b94197f9d7259c5d7",
            "9285b6ade91041cebacfd60887f2fd30",
            "6be9a63bad5448eaa956d2648c6d6e7b",
            "65258f2324ae4b548cc37b10b81b29e2",
            "447458a10eba465880437ba5898079d2",
            "a792699731fd4b4b99c184a8283b5429",
            "f492b4e043724839845ada6fa47f2f2b",
            "067ef490d14940baba18efa7b8b8deca",
            "192ed09851be44c5baeeb7459021917a",
            "6bd2f6789065437dad21cc29109e34bf",
            "e7e9f74c569c476787d0a8cfbe001773",
            "4bf894a5f9ab4b7e9225ca267ecc2ebc",
            "15f3570d517041d388a993fbc5e274ac",
            "af22c882d36341c8880bab24bb3b9e54",
            "faaa3b51d0da4233bf7ff28365bc7fff",
            "0fd1dfaec0e342b18350938ce2582f02",
            "c39cd39a21c94c3e8d9db1bc4790f126",
            "98e0ef9058424bb7aa69c546a2bc2d96",
            "68ea6f0dfe044bab8881d9792e5f7a26",
            "28db9dc183944883be340bd8ddb4ab4e",
            "5267c0c32ced44b69b4a95933558bd6b",
            "ae0e871080064a84827b5e0a8260c297",
            "5b5d76b7f8154e32ae55670a9e9d2eb5",
            "28b490d84c7c49a5aff222bcd76de818",
            "23d34c877aee471c90a48340acb1ec36",
            "8bf6c8fb0f1448d7b9880cdf6a3db484",
            "2724f07d01e745c18f223738f3c76595",
            "ee2ee8123f3248c7a05f2414999e0581",
            "de81be1e22fc45c78c7124fa891d9a64",
            "ca58536a10bd4a5286ecfbcc7b3f922a",
            "2eb9b0d4b6d24390b2c06f986d188b59",
            "a6bed78b069a4cca90aa125e5e8fe30d",
            "5e2bab0b8bc84019b355bbb278255255",
            "eaaf3a09a1ee487eacdb7255f6814237",
            "c02f1cd94def4d0d8403f1d70e5aeb3d",
            "b4806564a3dc427fbb199348e3ec89fc",
            "058eb185d07b40b2a8ff41f557ac2b98",
            "3cff35fefe1d4dc49c2c8e541f4801b7",
            "727aeef5a9ef43f4b02b4606f1ecf410",
            "bbc282f0ef8a48f2ade3aa0668e6d56b",
            "30c3e7fac683493b8d7bca554acc5ee8",
            "19cd130056ca421fbebfb7a7b489f210",
            "12e17d24b5a44f929e4455d7f8b001f6",
            "1d6516f22a12407ca4afff7f983156c8",
            "2c4b9bc63c84463da40f8f17c21c2a97",
            "1fc907ee989f42d1b241b5d50fc3aedb",
            "616e895e1c0c4fe1ada164e055800fff",
            "a8ae7e7439b64805a547921286d7d2d2",
            "95768cdb910a406cbc2fad709fc6cbc3",
            "ebaf38a87b6a4adcaf2ef971feb772d8",
            "7c37f76fad98427fb2e34cb1a357e824",
            "4b6142a6725a45be91910f66b6467ee2",
            "e3651f097a4746569ef7da1b73e649e7",
            "05711dd15a4440f783170368f1e09ae0",
            "1781b12299054ae68b366b8d14c0ab6f",
            "5ddedce5229540a49172cc9752e16dfb",
            "992121e05f5b4d57b5d7a1e9d6eb52b6",
            "5f189d94da9640c69a747fefc534b940",
            "89bca53df29440629a18ef40c5bfbb9a",
            "1e5145eabbd44551a4f5d0182f7358ba",
            "30e6154313f14e38aa548c3ba4845340",
            "99f920375450426299f773459fb433f6",
            "4f81256c05484102ab66f5fb1b16ebe9",
            "6a642201c9964d85bd108038a090eb82",
            "e8007aeef84b4cd092c01c8961c1ffc6",
            "7f84d0dff5ee41b3a5b0774ec5cdda56",
            "1ac8366120e94d60b95cf0305617d495",
            "3d6e9536446c476397211b71925a7e12",
            "7e538412077e41c7bf2b9e2090cc8469",
            "299bc1930236445aa08e14a8aaa44f6f",
            "78d42a5e733b4440a46a5895926ad5db",
            "a7b495bd5fa74ebe92da4086424683b8",
            "b33821829ae647839918fe1c727f6ef5",
            "18f30ad1ef044cf6bad468534600d3f6",
            "d094e31c3877429f929faa899fed8816",
            "f7a5d397872b417e9c52d79c40f5d160",
            "8ec265e108c84e908a5fe0f0a7ab826b",
            "41789ee61f684083971f2155c91f23df",
            "6beb88ef87db4eaca6cc44b42f667223",
            "87c9cd22ee7840aeb4cb897d8d81000b",
            "7293349b267d4bce882928550351faa4",
            "32dca8bc43e34c5690a55d21c95fb8b8",
            "0cd93115066742af81135c8cfcd1e6ef",
            "675d707d9f5144548204d969c5c1aef5",
            "5b78e5f1c4d84e6c9b84ecd6b704c2bd",
            "f46933c33e644c888933950e07a34d7b",
            "b5592951e8724917b4c77ed77dc02a3b",
            "76e05a0ca0ee4b6591f6ecbca85260ba",
            "5685e2c773f54917bd7dbfd63b3764f8",
            "7e5d63fa458943cab229c21d46161595",
            "74f922881c3045f591e7fe885d242466",
            "0b1092d94fc5437ca9f5a3894c55542d",
            "07ab05f46d22451c99edbe544cb9c8ac",
            "053266e6f62d4beeb1d44c692fe9563c",
            "e03aa9d6633a418882a22457fc8534e3",
            "137520e7e1564d30aa6f1b615ce9aa6a",
            "8c1e05058a034d928fad186ea93ffb0f",
            "f07980e19d1848e58d1640600114c9dc",
            "1832c9c3c279481ca04826b88ae9a329",
            "e0d5af3040154ddbaa193e10fc010124",
            "17f27f3bd5e24f8b84e0c9f7e7a4566b",
            "346e76e7fd634570bb8e6431a14b8e34",
            "198f7701f17a47dbac5817ebaf907721",
            "0d44d3450dd84d0b9e86de9c4b722b2f",
            "cab2d7cd775f43c19e7c52c4dc6900bf",
            "c2371af71e3241279564aca7f16f4503",
            "bb813a7b12f24025a52e59d4b720cd66",
            "84532b7c27524cdf87336e7baba0b69d",
            "16d580b82560444ea7a90ac0daad6cf5",
            "531d279deac54860b9919529190d73f4",
            "4cb4e61dbfcf41b598ccef62c8088cb4",
            "347d717493b14d7484929d7eb0634c35",
            "f0ea080473d640ad9bc69e4f4f8efa9d",
            "25708ff45c2e4bf2920870b717f5da60",
            "235a4b1705ba45a49f7d685c29cfeacb",
            "94d4b9d5633541ebbb88f7ed3fdd740d",
            "99058a4b89484e05a266ecf02b541468",
            "8146e9baf6094b32a07df1aee1637efd",
            "2f514c18d526428d90c3abc04e62a9f0",
            "c0bd594f9da84665b980d7161d16aa62",
            "48778d7904e24712a88fd9036308dff5",
            "021835eaaaa743aaa9f91802e61852c3",
            "ea810c29b54745af94a8930c3e5e2ea0",
            "093e287a3ed84ac5a9d773f3b0ce2cf2",
            "b9b99704c54543a09232bbe8e3157b34",
            "6257afe5495242deaceded6b5e6c28a1",
            "346096dd8af341b0a19f063a0570ee91",
            "7c812ab82955444394430f4b1040e98b",
            "687db8a7575940aa89bf7e135f62159a",
            "4188554a57414c5a8cdec20e876f944d",
            "a76254ff130147c2a26ac758e2f36598",
            "49f8b97ddad342eabac01e7dad42db1b",
            "6d1a7e5466814db9a453cf24986c3ac9",
            "8b006b1b995e4ae8874315c7168c0fc0",
            "9004d96d7ef3418b9eee0bc79dd0c3b9",
            "6040850124aa4116b617803b2b0353cb",
            "ebbaca3c759946ff815a20c66d766a22",
            "f260333d28844973877121f28c1ca749",
            "be14c9563cca44528474bfc631a289c4",
            "611eb949de054517a091d534d20a22a2",
            "d59388f1fbff492ab7d2435a0e002efa",
            "20eb036cf73c483fb8e6ac923b843e90",
            "e7cbd5ddb03048ff8605a3a1686e0d46",
            "abdd050a8f5a41839c1d2bdc7f354186",
            "cb19437685574c3a97f61539e4ce561a",
            "f109514e7f974727b1cedd9aa42987ef",
            "e04b25500eae440da5e5cd8fb901b974",
            "4d26c88c1c6c44eba7497b9ca16cbe8f",
            "3902c67a24ce4b3086b99c46ef5989eb",
            "a8b6a2b746794cb39311e4173c1b4c91",
            "0b458fb886a44a058f6a452e0e54c848",
            "9bd3b05b66974f1db752f448486dbef6",
            "acc555a706c749da8c927ffcdcfa3ab7",
            "bea52636f9df4ad28233149f3a231491",
            "afacff9539da42499bd63e9e8b650caf",
            "f3ca4708f3ed445da6ed39508cf9651d",
            "9832f5a5c95f4d94af168de327268f2c",
            "88040bec53854d1ca9857d395a42804e",
            "25b85ac412944690b3df25d2206fc800",
            "5f25bf9203814bdeba5647de43d8b369",
            "0fae0fe7422c466795cb32d851041056",
            "f48dbc491c3649088c881d47c10f7b82",
            "276bf298e993443a9bb9f64aa01dfe94",
            "c3f6192a0d9643c087b6e18d7f85242e",
            "a35dd66e1acc491eb9f120601b698206",
            "e8cd9314496d4074b1638b1a0f78fb16",
            "99f4091270e84de5bb991aacd7f7b660",
            "c4c7e1aab79f444f9413992639220b6a",
            "b1ddb6aa566841d790da039b03ad9e5b",
            "543581a60bc342df8d64acbc9c182e1d",
            "1a6388d2004d4a639dd1347e7c5a9852",
            "a3e73911ea4248c8ae476f87ec6fa26e",
            "5ea541ce6d06451a90d94ef282bc644f",
            "119b69d8936e407f825a0b57d5e6a173",
            "1f6d1b4f47444194aa39ba17d988c3e2",
            "55e50008914b44dc85ef0ac76db9e99b",
            "4f66a414134242d7989096694e7e74bd",
            "850a64f75a044d5abb4bca2c6639d55f",
            "a4de12eb51c74295a6a039bda044e510",
            "5d81c94b2fc548f08246bf0092293459",
            "f3b03ba5696a47d8950a77c6c6084942",
            "8df8952ec9054a578058cfc7f33c2523",
            "ee6c33a31b554bde9222a12f8dcfd66c",
            "54fc2c084ea547deac2f6080fdb11ef4",
            "20b4883c9f054e39b5d2b7cf0721608b",
            "5d3430ace4124a929f0cf545d68d0827",
            "d55ef7f00573491d990ab41715d20e02",
            "adedd6604dfb4a5d84874142557b3e36",
            "8d4c0abe198244788dd7af6469a26bc4",
            "d934ceb036af42cd9e6b959d9b6d979b",
            "d7e668b416dd44eba0f92a34396ba3d6",
            "c5308d5f7cc24d2791bfdf4a5723f479",
            "6eae3138bc66472bb370954777b07936",
            "deb494a6eac34866956b7f15990e02e4",
            "eb49a45363e14e1ab82a330a6938fb9b",
            "a9fab40969004c60a72e7d5db16d6774",
            "7022ef40caf247b680e36f3d9b9f2b80",
            "f40cf55112a74e23b512555d2778863b",
            "3bdb867cfeae4feabcadfd423d75a60d",
            "226aedab59d149e78303237f8faa4b69",
            "b1c1a6f3670442cbabca000cd0d4b853",
            "42223688127d404a813618603a757baa",
            "0ad351234d1749b6a5fa5c4dc5f7612f",
            "f7f3fb94f7fb40999045a88b43a9baa9",
            "62628a947b684b719579789840b0b21f",
            "a5ad6a6719664dd3ba4506a8683c576d",
            "4e90f5677d2c4bd8bb8b7ccc9e3986cd",
            "f59c208fb44a4719911c4d22384b56d9",
            "0bffb5fbfd7a4c268a5accb1bd236168",
            "36409a10d50144f1bf85f495e74335e5",
            "9ae4b8548af7405f89470796ee85364c",
            "664f3bc1ee764ff7b20e6dd2da0f859d",
            "8d52f4f379564cd5be78b0fbd77b4aad",
            "989a788d552a4e43aee3990b68988c39",
            "206d8c8a81424a63a6a17fd7f12bc960",
            "d942d44d3be042f0a06bce23542a3ebb",
            "bdc7580ef1ba468cac7711a77e479a8a",
            "73c1c4479fd1424189685d62a9423175",
            "74b685c66b10412191881426d939ee3e",
            "4d84778abf644cbf8c527aec25e93779",
            "48dbdaace6354c12936fefb0caffa7f3",
            "e87e115dd51845abab715be889633d8d",
            "052ad1060f1a4f81ba70721feccc88ab",
            "a4b3475c51fd459ba929e0b1cc75047b",
            "ca0a63e1f7464684aec95420c7499e0a",
            "2df56e83760246ebba0a8e92cc0503db",
            "87f72e572f204f8fbd15861b459f6cab",
            "6e4d960863b042919e62aab1488ac447",
            "1ed04f4df25644b78a0d49dc080260b3",
            "b086f5d5d8dd463cb550e8ab135e0cba",
            "ad11a57925314583aa764407c3cc831d",
            "84781db9f21b4cf58a505b0ac91984cc",
            "7a9c379a58ae4cf6ac84755657cca2ef",
            "15b24fc76cfb400196093aed4426feeb",
            "4f10dd17025f4930884416df3cbc58c2",
            "9627d3b0956a41ca8bbdea7d52f79f16",
            "7a066be9347347998fb50fc487448199",
            "c363db8d18374fcaa22ab1cbd1020c12",
            "fac1020239ae49f28f76124d4536fa1f",
            "8c90ce481065491a812a4392187d71bd",
            "d80c43ac45a64791b05ae36e398a113f",
            "92d503532e71412b93781c8776c6ad84",
            "d7761aa844874bdfb460e46a037ea441",
            "af18d57b0a034d1ab6a0255fb1ab9d08",
            "90437e8aaa9143ff96c636c4acc9559b",
            "1396b5e65dda459fb9a6bf21608afa8a",
            "eea39e7337a94f7aa3f68e5fe8f7109e",
            "6f33308ee3274812beab4bd9ae1313a0",
            "decaf03345714022b4a4faef8fdbbaf1",
            "5330351f95724f5994cf92baeac2fa5e",
            "90c1674e75ad41eb8f0ac923f42a5b85",
            "7cded6b45f1e40d39f0f624923dd4b7a",
            "df2bdc2b8bc844d4ac4d5c55c5d16240",
            "9877741704eb4c2897a88ae6eb4b6354",
            "f28db08cd4654056bf8fa9098fc80b22",
            "b1eec0d0e41d43fda0e51de42257b152",
            "91913abd397a4942a93f7e69fb3b8d9f",
            "150eb55e839f4226881b7de9c40388ff",
            "14e9d326bc4040a7afdace07aa0e7c0d",
            "6746278109c745d39e63fce31e7aa9c4",
            "03dc7398c50d46eaaca9fea7cac5a0be",
            "fb214f75b88247418b63442e66bfebfa",
            "eb49913accb34d71972455f266c18c2a",
            "6266e9b699f3499a964c7fdd11b56df0",
            "fb0d108b011c477daba90ed1f08270cb",
            "d76f8bc786364e83929ff5ac0cf951a6",
            "470856db7311442fa5ab2bd59b88b4c2",
            "cf79ad52d010486f8eff3cc07cbd7aab",
            "ccd739b0c6e448dfa7f9d261ff117ea6",
            "af1fc75b5aef44b1b796777864a525e8",
            "bcb26ca1e1954c2cafa2dd0c46114853",
            "3ada29243ea043bdb82d340cf983cdf1",
            "20b463bce2a94af39a07c04e9557eb0c",
            "d381081c0a264aa9bbbab4763f774ca6",
            "89d7758932ac465dbfc7104907d06cda",
            "62a067fb0529449f9a960c37e7911764",
            "8e71892e94fb46b083e0c783432ac487",
            "e5b0857f133e4cce86d75233844f4a3b",
            "b1df676aa8b3480bbbfca46c2d959497",
            "6a4ffb1c4e554da9817697dffdb559c5",
            "95fced7e5c2c401e9d6f0af11e5f6d20",
            "a8f7be12411848629a0b63a824dad913",
            "ab4039d3f9fa4b36b785f323b2f37551",
            "d4ed52468dd3422eba787fb5a0e1ce65",
            "c81ecda7047d46e9af0ee1a1eb0eb62c",
            "32ac6bf032884c57aa4b5ca8be081289",
            "f1b3cc2a637b44a389f5b572fe4c87fc",
            "1660658f13db443fad728a6ede2f6994",
            "f54b7956e03e42a08a96a03474162e40",
            "603bed7bdca64bc2a6a9c9eb8e2b092c",
            "1ff14149b09b4c60b05f5d54223ab416",
            "7c001f7879cb42d7be2d4b9187130b84",
            "989dae5709224f9890b9d757ec924f18",
            "25e5a59c9e854952a50a5db822bdeb75",
            "0c640e1253b140378f329f89d15737cf",
            "b2d87df170db4a6da8945369c32f32fd",
            "ef8e450bc4a24beabc2ec83a99f45e26",
            "77dd21b3e0dd4c32a4d69f09bd518f22",
            "a29eff9a386445acb31b23936dd7918f",
            "220ff535c71543adaac6f006390a1f82",
            "9e34e9a128564398879961c98a811177",
            "b80562d8ac1c4e9a8de75bd4f3d52af5",
            "9a300b58c1c04fddb738f04bd5e46683",
            "1c3d6c5759234bb0a17bbe32290034e7",
            "eb2711d547e642d09fed76df8664bf36",
            "da61bb40c1dd4747829748472ba4fccb",
            "25f7321606d74c2f8b4fd6dc8220706c",
            "3d160939b77b4fa583fe3b33c6b949a1",
            "ed0a7e7f8f5c4383bbe2e9a705829fd4",
            "6a784a43d7ad44ca81a72dcc24f8e4b7",
            "489fea2b087e4506bd57ed991472243a",
            "a94dc74b43c148e4bedd4ce32ee4b577",
            "76cc38f94f044bcfac6b2fdb6cb23bed",
            "e80e7496a04545fea4581f3fab4413c5",
            "2582bc799d834584a666b2d340d02aa8",
            "9d5193196cae4360851397cdc62478de",
            "f3aeec723d5d480389f3bb81c93bb9ec",
            "6c07ee73a38349548cc02d7e5706921d",
            "bcc1e86a11604587ae068cacdde58717",
            "fddb44d129914f52a310e78704ddacff",
            "ee851488b4d147648f556c6f99396b16",
            "f8f682f3dd934740bdd9708f41d01081",
            "a16189ed482a4d3dbc1c8373b74b28d4",
            "8f340aac852a4eda9ec4471057cce9a3",
            "c0b3686b42fd478da056f7651b7b6e38",
            "bd4b3f3c511642f684b02e440b628ab3",
            "9e1903c0bd0540dbb97d54d92fcf5cc0",
            "f24a073811d64606b3d343d7a79e0ad0",
            "8d2ad558936e4af5853ba7ba7befa097",
            "d74b12f23a204fb4b9e02e5c635e14bc",
            "c193886cf4914fd3bcf1bf075c1ee0a6",
            "c7d747e1b6544ed48ac784ceb68dcf6d",
            "d247a51701f54400b405c651f1777674",
            "681d2500b9a546d5a71e518c2d12a606",
            "9a85d503ac2440c4b5e97691f44bc143",
            "110636960feb4d27a806661bf1f109c4",
            "45425bc957dc451399ff5b2dbebb139e",
            "2ea267f8dcb64015a468920d8eb6a718",
            "3bcfb849a395413a8c019fce02d7fdd3",
            "1d28e8040d2945ca90fdf3a5cc3bd178",
            "f70d4a1be40d4b02891cbb7e64d9e2ba",
            "9f448d96fbd54c3db3fa2638d8e674b0",
            "b92853292da64dc897de2d2336f7bf5f",
            "fbc3357ec24d49c587162f54d39d8854",
            "522537d462f14fcfbabe692e15cc04e2",
            "d821de884a1c405d9f32017d61342ab5",
            "0c95447d9c5e44bb990b0d7f3af6c9d5",
            "de8c1db0facd4816b51020aff77555f2",
            "4c120d7e16ba42dcbf5b005880894552",
            "c11f009b4e0642c984466a0d05684f4c",
            "d1482e39b8e74dcbbe23a7b792f43393",
            "cd855f6b2ed244c1b07b03868b3d8d3a",
            "418db9e624d44529a1f27b51e8d698bf",
            "eb8a978e7d9849df9cc9393aebea5188",
            "ec3e5df65fef4a5a9c10b54156572990",
            "809fb4408946475384ea615c5a653576",
            "b44308dd188045c6a28ed4eedf7aab8a",
            "fb19a5d1f47e46e094237663dfdbe850",
            "afb102fe83f640a9b6bbbc9718f5114f",
            "a54440e33cd64ce6a72b6ded357cce93",
            "94ab67f17eb1452894c4da95254f79ef",
            "50281e1e37e6438aa60cb0498c84af64",
            "cdd64b6a4f07447d9d05ee3764ada889",
            "31e3120d17664a2ea4d93a9cfd7ba9cb",
            "53c514c7e7d449a8bea41b9b2a6c728c",
            "e8df4ecf8a66473f9074a648bd78ab6f",
            "09d10c64584f417487dd431065d3abe7",
            "9ecf7064be0e441dbee9992c1aa76aa4",
            "01cfd2b696244de8b7e03167a0eccf76",
            "e65b88ae232b4d708070d2535382a956",
            "775d4205b94f456c9227989af7e4101d",
            "3b151815528f49ddbb3fc0cbd5797324",
            "49cb8fef4b014b1c86c9a8d9f1284fae",
            "191e93a0ba364d549a7058852c24fad1",
            "745f42c3dc574eff9938e596aeb67225",
            "836b612bd70e465e87ddee7910e433e6",
            "c63a81eb1f574cb3a26f1a2ac23fe557",
            "46ba4ad57ed247b683e4da15ad23aa56",
            "4558e3d877cf4c7b93d5027be23c0763",
            "c31af79fad874dad88d7f09546d28b56",
            "dc91c3b027784ff09a706c81eb66d40c",
            "47f6ede194364db8853f98240adf0cf8",
            "6bfab10dcead4be39b1df48d7cb7b17e",
            "4a57dd629fe04b419a5f2f039c69ffd8",
            "d0362b194c494f49b34626ad7d91f316",
            "b8d3398d749b4394b1f438466b6e912d",
            "2e7c50492ea64e0a95645a67b299eb0f",
            "6b544040e21141b89a4931f93d265944",
            "1344d55a6f8d42dca3e93318315caf37",
            "5a512dccb2bb490093a6f337e51eebd6",
            "ac5b35c505de4fbf9963271a9907a0c8",
            "709027ef145644ebb84fbd39fc6ffdcd",
            "05177fa0415e4efba4f69cac92ede95b",
            "4357972faa4c4c0f8787fd388fddd409",
            "dd93b29f0c3746b48fc5b1d408c2168b",
            "390cd41440a5482b87c8312ea72b8fd4",
            "a119e0b252514e949bcbb8a1fa2e61f7",
            "93985454fa3349b398e58b6933af66aa",
            "e8777d0b60af4c8daa6a5148f21585fb",
            "620d34c04fe742c5a179b567e1331a13",
            "918d6e8efe694a448cabbbd69bf49e30",
            "847c5fa35c5d4bb4ad8bd267829c3193",
            "7f27114758ab4780bce9cc7fee2c2df8",
            "ede2fbccad764d58af38117d850526de",
            "6b8961a7072e407fa117f37c5a0e158f",
            "99c885b2d21f499bbee33a13fb09c1a4",
            "96e7cf67faa04f19ba1a3930abd99882",
            "9318c1e2fc734044b5cb787af8d0fc4d",
            "482e9536a1284189a34d76e7c89bc4fd",
            "e92e0fedeb794b4db244c8fa4b52f588",
            "d031c7e0f0604bf5862391fb939fab19",
            "b2a61e36c7be4a8192a3a5055490cff8",
            "f272050311014a46911775c85c6b0aeb",
            "4462ad9b31c540e5ad741ea3510e4cb8",
            "93633e0dd6574c9a8ed1c840567a02ce",
            "a5532d406cbd43f684454d31013b3a47",
            "c498b67f735b4391bec23f33ac182d6d",
            "b0bf21fe53b24c408310a623b5b232bd",
            "7c1eba826207479487ed48b77457348a",
            "cb35a67905cf4c3dba5a9acc1683bd44",
            "30ad5602c3ce4e57b6293c37cddba40f",
            "d36eeea9ba8d451084769e552e768ef5",
            "e9e1cd1163544a279bcceb742d39d389",
            "44e9961d22db47448caf94bd2c86ce8f",
            "e8fe2fae9ca047279b06b6e49d14b783",
            "d9ee268f4c7946c5ad84cbe4a776cf20",
            "db07c7a983b2412c8708558c2b85a0da",
            "80bf34796e3e48be8ba291825aafa573",
            "0864cd5132d7421e8957f7c96b56931b",
            "77d273b68ff846fbba446044aad3c3d6",
            "df1488b3b88f4661a5beace8eb70214d",
            "202e98df6235471f93f27c9975a89185",
            "0f45959b8ec6416b904e02a35a020dac",
            "cb80e5e522d44877a12db873d3daf727",
            "18c3bbe573534484a27b0b725b5e9458",
            "cbdbecb7c13846c7a7e7d49808880e10",
            "f1e910b94b6746b5a354179b6fb53aef",
            "210d0868912141ffaa3563124e61ddfb",
            "a0a52ac9f2ae478bb78cf775653f6cb7",
            "30e990d5e9054146abb8942c25ef84c4",
            "bd077477b0cf49fa9e689d6a24db1fe3",
            "93dd09f4c01d4121902b8c0f5342c407",
            "0566949951cf470ea97b5f8104d9e8d4",
            "d1127e72fd7846f4af0ec9fa2aa3324e",
            "c28d370c12634be8b780ee8a8a5f3e13",
            "89c4d8b5835142fe8c0c0c4985b27e9e",
            "9c614296ccf64006945e83648a3a3ea7",
            "6022e8853b2e4e88b4adb11352cf6103",
            "a35b9a648e074e498cb6c2da2a53cf08",
            "7ae4b31a9f09425bb2a76af1200b99f5",
            "08038091013c45e39473273d9afaed76",
            "fa443920d6d24aeba1b6754b24e65e0b",
            "1eb392d8faee4cea9ff4e5eb4785c47c",
            "93d450057af241c19e741a0faf940420",
            "d0fee9e094ec4d2f9d69aded5e392dad",
            "2609a571d01346c4bcaf97d2a54e4244",
            "019f587cc27d44eba3b59b01ea2b027b",
            "26922b78a13442f4aba74d18949d148d",
            "ff36b43db5104608ad175343cba0842f",
            "98a3d574b38f451b8cc7e918cf8957c2",
            "8573ab639089467f913e0a80bfc8f2ed",
            "122d53ec1dd848ee9c8707edba0f8e2f",
            "669d2cd9cb16406b9862770afbbe1fea",
            "3fe66133c28941b39c00d7799b9b1769",
            "9c1acc78a6f5475ba746bad03ce4224b",
            "61c6f7f53828410caaac77367123096f",
            "81256f54337f48a7afc888dc18651ec3",
            "1c15e4920053441ebeb96ab59eb0f954",
            "9378eb519dc244a183709ac584aed498",
            "392acb1277b440fbbffbc6fa071defd5",
            "37ece86de7de4352a084f783b13e47b9",
            "b83a7c21cd0a4928adb8323b7a73fab8",
            "7c077688a6d74246b04069a3cf50f4b6",
            "c88017e6404b466eaf3add20b68d3bb7",
            "177b64cdd60241d3a571d5f76cea4733",
            "d2c7a8471e514abe8d2efe3020d2b451",
            "36edc1007090446b832338976a0e30d6",
            "7ae6f513bc9743ada33296407c6d8a9c",
            "4865e475fb414ba28e78345adc19414a",
            "748bd8fd66074e3f9b713ee894629a08",
            "6409a7c8f58446319f9b8fb6d555e108",
            "62b726ab064645e886684cc9f5c9a28e",
            "5d5967be93834636b7a4b0f3d1d9c2cd",
            "1e41fad128df4a12bd031b3e78ba5894",
            "63e97471bc7642968bc84a51ee872cef",
            "fb759165830d43d3882f87cf632cc8fd",
            "763e79d34dd6481aa560dfd7708d460e",
            "6e656670441e49e4bed815990bf61a10",
            "5d5817fa2450424da732bab196654fdf",
            "f914148e80a141579ee38fed6de3091e",
            "f6bdd7f15b1c481bb3ad81851c9f282e",
            "91a407d5ddcc45c3aaf18eec5e252cb4",
            "3c95b0e693fc4e4ba5225184148732e9",
            "0c37e81bd8aa4c9f8a99d21875e91a83",
            "d860cf8332c3498b845abad1ec0af88c",
            "5b14d7f0b22c4dc98d8f02aa30c29646",
            "31ec2e17eaf1428192ea550bdc4a4bf7",
            "69bc59686d2a4b448e9eae6a3f2a1fa5",
            "8d91db1fb7c64b02b81296309d76bb34",
            "34dafe98a4984ed6a68961896c314054",
            "156e6e9958fa4d0c918748c2a5dc3bf3",
            "884ec9ec148d49c98589b5801d4be05f",
            "748af4a902f04b5abc1754a6753b83b2",
            "43a8f19149c245329977fe2e93c2a51f",
            "9616147a25914097828477228bc4af78",
            "44d4c8360a0240dc91891a2a2bf7c396",
            "3ef8d4ea6798491cabad91ba4c9b2054",
            "290b2c88d7d14cc682ae49c91c2a5a30",
            "b9e1d3bb27c84df990c181b44a0aa153",
            "aa69847c662748a4ab4f3ddeb08bcb28",
            "942e97783cfc4c4f8777059b89b2605f",
            "e0796326e8484aa4bff96c4e4e0520d9",
            "81d262312dad4270b8c68e7b551e37cf",
            "12f88782d2724519b1866c0cf3e69493",
            "4ea65060e3d34126aa6cbdc561fa2569",
            "bc673fbebcc441a0a25723ddc2a55064",
            "309704ef06d943cc94c54246229259f3",
            "25c2f0d851c94f42b5d92eba1abf3891",
            "cdd113e85fe048dc85814075bfb53dae",
            "cd7f13bf92f84a52858b3d9db9538632",
            "7c99f91f5631457a813d3d1306ac5095",
            "8003bef4c72c4f44aed99250998423c4",
            "a4b3b1d6c866419b9bd771c689a8a4c5",
            "6c4837e6ae114838891d862b080eecdb",
            "f8fda9cd027543d083dba58673ad939c",
            "36f094c5557e4f05ab62be8b89bccad6",
            "f7c60ec13825467ab28eac0d24fcd5ef",
            "d11f69d8e4dd41118fe47625e4a9b4de",
            "4b2c8944c89b43f7bf5e9d8d2b0ff56f",
            "46773b9170cc4d5fa4c44d873da65ba6",
            "4bd7586ad55a4a96b10d95908095da9a",
            "7e0cd70e30b341779a960e3a31af742b",
            "7f4f2c4a122045ffb3230ced8231c2a0",
            "5271854b0ed44311bd2807a2b95bc9ba",
            "acf008506f9647d7849c2f203c469532",
            "a1e18b2ffdab426eaa0ad9ee25fcb070",
            "b083c987faa94a93b3dc2ed61db4a043",
            "6878d83cf21e426bb0584c5ffbada249",
            "2c1428b1b6bc4fa18842af07b0342889",
            "93b971e9145e46d09fb7bf36196b19eb",
            "0a69439f98d1426888af43f83b4a7c2d",
            "fdef923dbcd74496a6d64393c8fa61d9",
            "63687dea50c541ada1c84908d313ed42",
            "c9439c257bc24f05ab951518f555dee9",
            "0cdddc23bb8a49d4b1a92db4b07cf495",
            "d55c5b978d154194987b333b315b719f",
            "24f0d25eb6044fa1bcd9d73f2b749161",
            "6aaf095407aa45ff974833e1a6c6486a",
            "a8070c618756484aa4aa86af683a5aee",
            "2ba704c487f74e49b7b016de36fb78bf",
            "76ca59697fde461ebee08d11fc3f0b31",
            "eab9d0557663479f8cc0b87c30464124",
            "70ec846bc76d46cab087333e31c1d1b0",
            "e848b46be801446685d8b16cd01cbb7b",
            "cd531d4cbf234241b1bac7bf94202a49",
            "1ad2d4353c314a71b63664689a6c2019",
            "aaaa6786b9f54a5ea27b0e8501b1d1a7",
            "61a46646b1934a1a8fb08543fecbe4df",
            "98c63ab718634f33b2b78b580a86581e",
            "8d916a77538f4def96e60ee15e8d13a4",
            "8142ba0431c1499fafece691718b81cf",
            "b3ce2dc3fd5a4ab9b3adb10380850f86",
            "9c8a4893fd1b4c8e99c05724fa4e804f",
            "73d6610f0f5d45f9b8a49a78c36540cd",
            "4951bbfca3b748438dbe111249764b64",
            "f90a0198ffc74159a70887a4f30fbe57",
            "ff7492203f184ea794e8bbc875a5fdc3",
            "0b0ae44e33b246a79d80ace530d6fb14",
            "2b155163d42845b4b7471f5f2af4c906",
            "420f3ef0c8c643a1a0b9909309cac61f",
            "440760d85b274463965b9c740329ed14",
            "fdaf637637e14f64a1b373b49da99f52",
            "95475c20e1714bcdbabcea34492cd0fe",
            "ef127926a8304176ae6433d1dc16094c",
            "0a95a95444ef45968c79ed3d92401f50",
            "3c9f57aaeb93491f824fc11e340a612a",
            "af853510d1144d1e8c76b422a0195294",
            "67a8ee09099d41f1895af51a7aa4036d",
            "ac237b44ca314dfeb72ac7488514b26f",
            "63b225ea851f4b9f93ef3b4b4e8c384a",
            "ea7968fd071a4098a262f2cf776a33a5",
            "54fe4f691c7e4c2cafae5947ef494ef4",
            "b05c822b22d148aaace3cbf51f3c0881",
            "0c15049c2bb640dca65594fc0d34a1cc",
            "0bf94b1711464e2eb6384fd3088b7b1d",
            "d7dd406009b540ad9794150736ec752b",
            "398f54c93dbb4699a18b3dfb25bef36c",
            "008d560286904597bc84529f0f3abec1",
            "2739336fb87c4c98918204a1da8fda61",
            "91b2361572654ae79e53942dacdd0a55",
            "df4a7bca60c8482cb78f0d414facb1cd",
            "b8bd060dedf94e488cd13338c5ef15ba",
            "87f275eaff0d46349c4473af0d1e0940",
            "16dbb3c04e334a8aaf0ba452334a96d1",
            "9bfa38aacb2944128f7e01b836d4aab0",
            "9f7803fdc5a54d35812a6c08750795e0",
            "cc8aec490699440085a72805a93e979c",
            "9e5b55c350d2474d986e329a4d8ad8d6",
            "606f3072e97f456b855a8a36a0fcc580",
            "320fe743c8464c5298c10b11be393705",
            "c3a416aef5274f1594dfa3e8902967e4",
            "7949687c33cf4115bd6c5b2080a19c0f",
            "cc15eb35f478459e894ec099b37bad18",
            "ead4442b4dc24655ba21d5bc43dc0a50",
            "c90d026d2c0f4468bea30e4782d334db",
            "d0dbc24ba64f46cfb195168477bc3711",
            "3ff301cca7b84bd58bab7c1e635d5895",
            "c23cfa95b471442ca8118f645f9faf45",
            "baa4fa122c1c4e4ca9d414fb5b342580",
            "0506827158b241eda76343aa08b7c008",
            "8c6c20a0f7ad4ff29f3c61d6e8e8d49c",
            "937bbebac65049dd94e251efad981863",
            "12c2eaf2636e4cc4af76453e57628b3d",
            "3c67e33442b64434b126a1ddddf1e4b5",
            "dae105d48ff84cf49215426fabf8904a",
            "557b5a8ac3244250b593d06dfa6a7cf9",
            "d9e53798323446b1865765a2c4b57dc3",
            "428952063a754b1aa05d8843bc914e9b",
            "3f6dac33afd44926a32994921b2942ee",
            "7d31a972c9244449befe804dd5fbbf40",
            "a8a8519072134c2f969caf83f54b662b",
            "c970fdcaae4c4257bb2ddcee4ca3ff7a",
            "d8a204f4e348425da298c39e90887be9",
            "061a7f7a960847289f5b4b334a8f9987",
            "2f6d6bd80f874d079a1846f80b4b4a80",
            "d0677e8ea956482f98b3264441162afc",
            "5ae227d7303d4893939bb45577ca54eb",
            "b4e0787476d5445f8ed5c3f8c5a1c88b",
            "2b8a4d2507d044cea2ac8299e7c76aa7",
            "d531f73b91b34e0199d276a22e45da7f",
            "abe894bf527d487ea2153c01fced8d0b",
            "688c39dda27a454fa58dfc730319663a",
            "50e5bea0c1324b9aa9eb771d329c9e2b",
            "5229ff8f29ad4bbeb2c1dc500edb0534",
            "e6d902ff3a42466586e63d178fec3071",
            "dab0c49cec194305a3e3c27b5b214127",
            "6fe6526c88b2461bae190fbea4e5aa5a",
            "022284051ae840da905923da2edce2c6",
            "2d3f5c9ceff34467b440781e4544dfb0",
            "65f67a0937d34451a0730dc145b84c6a",
            "f9df61c3cb084dd8a451cb5029575b92",
            "082469e30f474ec1b85ee3d585f1b724",
            "f4a4d592056040aabd59d5e2991c581d",
            "3033d3bcfbba443282b0798d1cc52261",
            "76ee4ef9c5a54cb4a84cb94b39e43567",
            "f767471168764741915bcc9c39844195",
            "caac53debad4429bb5e7d8610916c2fa",
            "1421407fc7e14f8f8e47b222bf342109",
            "ac093a0a18c24cd89f2071ce6b77d8e7",
            "a2a7beb30b5c4866b0d3c45b752bfc1e",
            "73128a29daff4c849b05f1ea6872f1b6",
            "5082b4f66fd34c86a84db9cff10661b7",
            "d06723bab6cc48299f75de9fd0fc0384",
            "6b92a8e3d68847fb86b4dd0059da418f",
            "17cf10942dd648c0a68ab01f47ebde40",
            "6a363709dead454f8b912a80137a528e",
            "e0e5ffd7f0cd41cd9ea1eb5b72209abb",
            "af278bc677d94a0ea470ccad832e0842",
            "b362db91210643fda55f18932a716994",
            "e91ab5b4b00e4462a3743c4ccd04d59c",
            "5f4cc3e27dc04a3f89b215db7df4dfdf",
            "70b73af426a049b9bc5169885c18866a",
            "52c2983897b2474087566f12080a256b",
            "0052efcd6d7b46a090b3d821758c0c03",
            "f3100461c27e433498d7c8a099fa871b",
            "71e7348f60fb4d82b368bf8b8f34d307",
            "81717cff4e164098a0ace01e41637f32",
            "f67aeaee12d84ec6b1b79021331ab6f5",
            "8bbb3ade494248bba4f0ec1f8e72c1a0",
            "e4fae3391e18482eabc4f56b9670300d",
            "23026891c1eb4fcd96d876e514fea72e",
            "10e548061883400aa0f0f7be58d30ad3",
            "2bc1b36c1dc54a59be9a6749aab516b7",
            "71ffa51e128843149af4f857e36c80e7",
            "58fb6c8f08374143acaee8ec5e4ba142",
            "3e4c84caaff74b8fa1dc87312b9a6d7a",
            "bd0c520952e34874b48482004297fe18",
            "59be74d26912429a84a655029b4e8ac6",
            "4ac64b6063c54a3d98f4c758f6757eea",
            "c78ca8720a5740e58eb5ca0e98bc42f8",
            "cd6d68a5829b41fbb6856cdff0cd9189",
            "6c03074df11641a2ad2b52c7c0a8373f",
            "4e7aa2d44ace4caf9be3ee8468c75c58",
            "b3f1e757df8340cd8cb91851db2d6a4e",
            "b7a4f22673144895a97238c60875a06f",
            "feea4a6cc05c4bd2abd8e7a532405260",
            "0713f813145743759b1c24e5dee7cef7",
            "9503ea5577cd456a929bc282aea94772",
            "3147327c27d64c80bb1f6dbb105533b8",
            "7bb49f2195114a089f17b17588babf3b",
            "24c5b0677f4948fb8cf1a786d77e8c69",
            "77aa369709bf48e1a2f5835110a43180",
            "13493cbc628e44f89062df59330a8299",
            "4e1ca58042b14da691893e1095fb2ce3",
            "1168b5b68f46473c93c7a94b04cd2b2d",
            "6a499d674ab8428fb15cf4650252191d",
            "378536db5b1b4227a6dbe37c6c4abebf",
            "397c53404cea42d2b873e0763dbcf1ec",
            "45bfe66cde9b4beebe509166bbf33830",
            "18e295c303db49738b1e9c2c7c1efc62",
            "66198c12f0894dd893bb7f5862146e0f",
            "c719ac0c8ad24ed293442766c9ac194c",
            "e3620be0881f485cb38db1f162b970d4",
            "020cce3bff544e228274333149cb3515",
            "b57149d75cd3467dbdf96417c1e63c6c",
            "1c50af6b619a440496bdc15b62d64298",
            "0236f8012aba4af1bd7fe8a975c1b69d",
            "11f3894c7e8a4d30a848fd3c9f4c5e31",
            "3cb2f79c2b6344a8b74e7a919c5429d0",
            "96080c7da40b421f8c143ef6ac781ee2",
            "8cfcbe540b424d31b9bb003283c44071",
            "94ccac82230e4f61a8d6483a54d5298e",
            "27e220afd5844512bc3ffae84e13ba36",
            "4721b9d9e93a4a32b2877c8fbee7e803",
            "c9b8c12c3bc84c348a4a3dc246df6ab9",
            "cbd6c8c395e049e9a7489aa62174750d",
            "f667493a988a48ac9994a74f772deb43",
            "d49cc8370d1840d1a9e13851555091f8",
            "214a21e9eeb14b0baa6dad158231dc95",
            "02a982a428d0433787a63ebc75356cdd",
            "057a1417cf844d7d884ba78ce61ae1f2",
            "2ea3cb51217c4ce9802906402ba59e8e",
            "36429a5126354f0b9554e8c483807b88",
            "d5459b6d11db427ea5629b589c6c113a",
            "e76956a3431341d9b4c081351e72165a",
            "f3f99d22892045eda2398f8d92546b43",
            "e9489d0ce74741328b14f2da88fbe9ff",
            "30246de95efd4daa92aa4bbcc7b5f3e8",
            "2ed69f065c8d4a649238f0ceb8d2069b",
            "74a3a2331f264623b343a13a67522508",
            "64eb0ccc817e414ab3c3bacb973be4f9",
            "2d3bcfd54e254d3e8d2eb20031af9d24",
            "85cdc3149a8a455cb91ff47098ee664f",
            "e3908f2ffc2044d8a8e729af86ba9384",
            "0063bf8fc078484e9fd255f7e1604daa",
            "f7e462cefaa4430294258b1ca96ae9e4",
            "e6c6e5911f90490ea66ef4a2652aaec8",
            "297c75e29e474e2eb77079c87cef0042",
            "b59105dc20e7420abe14982d8184cc97",
            "aac22cbfaed74daaa5cde4191c48d20d",
            "be25df65c456442baf32191a5c3055f3",
            "f8654a1468aa46da8faad4360878c623",
            "2b78f7997edb46b0a213f43d78c20528",
            "3b44be135e1c4597b53f721e32d60376",
            "62fb97824f85453cbc889dfbca6575e0",
            "4f0e49e1647f4782a4140a833c9f5630",
            "c0e7d901487643f5b3e06f19a0285057",
            "c7074226441940afbb84871e42926ff6",
            "9aba8ee8a3ee42b8a91e258de7799940",
            "9cef2cf1b5394cc4a8bb13dcd54676e2",
            "9bc372b7428344988316fdd1e53b4f21",
            "80c84b19a84c42f3a04009ecc759ff31",
            "f040a9ed04224bf8bb05dd282ee72475",
            "5920df806cb04fca962746a444846a84",
            "79c34d6033cd4f96b3f27f6938f66990",
            "ae0cb687ae4e41df8d7626b590a086af",
            "e48990acf0e54049a5eb1ef783cc2855",
            "e1220724650a46dc8b724ecfee6aeebf",
            "6d47bc79619047a2a5447cbd852e5c54",
            "5454d5fae27a47609676b013cf851326",
            "f8b1ca7fad7a45b19c6f3d5a10c5b0a1",
            "b8977f774cdf4bae852f46caa76d3328",
            "402ee139a2504626a7f2040f05d1e6f6",
            "f9dd52d08ae5463fb046168ab0971898",
            "42312ef0fc3d46e0b0d446d64b702960",
            "a1978fa7cf66454c91a82f616bf7bbf7",
            "b740d28bb5f4423389d70031d4008ae8",
            "0e9c3d913e144320b19dd8a9d3e34967",
            "5570053300444ac39fb776a08e3793d1",
            "94dfaea3d1d2457c98d413203868a138",
            "dc22d3dee6184da996c857d062fcd369",
            "11fd26631a2d4a1b87e02023743ceddd",
            "cd960038b3774004904945a58cc43c18",
            "91cca12e75c64ed3bd7d3937a51f6ccd",
            "0e88e8f781374583a03b960918a2fa72",
            "9b050f289c35417ebc090d966425f808",
            "f7fcda55d70e4095a3b367634e7aadb7",
            "6dc69e211889443ab9ffd1bb961cb149",
            "b6df68bad80b4b9e8c7cc107a74a3cb0",
            "063ba85f2d8546db96ece8a06edc3d0c",
            "73013a73c2f344569dd57afd9b987d80",
            "c75abafa765545f4af38dc7da475fb0e",
            "aecd3678ebd841e3a10ebc0304a0cf93",
            "3ea6c22f8e4245cb8e8b2784da4a207f",
            "685a235593234984846dcf7ffb6699a4",
            "36c651fc5bb4459e9743f0cfe63a92df",
            "272f4a86e3e344eca41d6bd9a56d81a6",
            "ee56b50e2fda4494907e44f0fae3bd94",
            "e4cad63c52fd4de898c9616b5499f55f",
            "bfe882594c0f465ebf55babcf1506339",
            "f76e08a7b5604e628de95e8abe860406",
            "abd6275eafcb45bc9e39ff196c8dfc0b",
            "f7fedda260f6444b9f066f7567227415",
            "edd7300890164fd5ae9b428f27bf515e",
            "97ebbb9c4aee41f6b9f839719a2cf1cb",
            "d654698fa8d54ad08e0d2790f3ed0b79",
            "e1c991dcd2c84cf49e66926e3ece35d2",
            "093461e1688e48ee9823561b63ec36c4",
            "62824f1a36b744f2b352e26b57590c86",
            "4b60478e81c74543b32a856620a8004e",
            "0c182559ed9a4a21b4d1f39959bde88e",
            "640df51e33c44550b7ed56899bb7d0ac",
            "e909db1a221c49e4819d4befeddcc94e",
            "460026e0572f414dae1c489f7b16b629",
            "c947a552fcca4e4d878232889b26035f",
            "dd458363126c4fd3ad8afe5a86bdc1d0",
            "edf94af63afe41b98492d622bfd474b2",
            "d3e0216a61394171b4ac6a882482659d",
            "d9a571faaef4455599e7b6bcade98c7f",
            "89fbab1e84ce446e940f3e6f8699ce64",
            "c64a961a44d148a1aa8862a894f7343b",
            "fefd00d7ef5042a78219949c5a72b115",
            "26861c1e9bda416491660d5953f74da1",
            "e23a46e03fbb43af8fe36a7ddbad5887",
            "41fd8365022d4dd6945649a86d97554d",
            "ea1d9281293c499d879a5070c9c8b516",
            "fd5f6034b7cf403d847525ed497aebc4",
            "0840048e5c734c7b92725a12d9406a0c",
            "62780c3e032d4705a1e021f3dadd0577",
            "1c1d56718c7b413c84ddc70b1d5a1769",
            "aec70e4ce8604f61b797a517f3e658e0",
            "911aa9e01cfc4f4c83fe9b400aa75767",
            "37682f53948f43ca919814140bb2b447",
            "5261dba57a214558a6e9f36a255be03d",
            "8bfd56437f1b4c7099312480113b5c70",
            "f7f85ee2491d41fba068b99b96508ce3",
            "252cf70b9358402da9317373cf95328d",
            "d5f50a4b419b4a7ba56d6b897b854c6a",
            "01a371716f9e4e17aa2b5ad27dc955d6",
            "1f3918d4a9394aada2f2d35100be05a4",
            "3d07c0f76a104402a758a547e2583d31",
            "d1c8a1781d534ff6a08a8d1b903fe8e7",
            "67635c275ca64c76961929658f4522a3",
            "6a95d26d58664bb0a1c542a86a4f00cb",
            "1536f0c631e54a1d92bb9046ceb92412",
            "8d689c8339344ff984480bd0059e7851",
            "add3844277ef45a18b615beb9f343333",
            "5c4c39c3681f44a38425b3054a4c6dea",
            "256ca7fda5394503a1fd2c67f6ca8b64",
            "7dc557db713843f3aab2fd7fa41b8f86",
            "d952e0476ca649b59adec897d1594203",
            "9dc2a6b5baa64a0ab669601ddaee0cc5",
            "21d0bfd4fe1c4945a3876e108b609d9c",
            "96bff7b9edf8489d9aac486947b8da6b",
            "27e2ba27126743f8a1492e5bc472929f",
            "f06304d9294c417aaeef827f0097f717",
            "5c370455b7c3476f9d9fa3a545273fd8",
            "cb7b13f452bd41bd833acb28d081ea56",
            "7577d8a20c664a1f857911c849dd89d1",
            "1b505efa8eeb4b7fb816d583f0694340",
            "8175168af3b34bfca3a816db6ce8fc80",
            "285efdabd00943d9bb826435090b8f50",
            "f7850f3d7de3470c869190e8bb11327d",
            "f8b9489a9cf947cca200663c613fea59",
            "399bae7696924b4fb3ddc5ba992e42a8",
            "0bd55d4e3d9c453a95a24c7c2e162103",
            "1388e4a00ea744d8a384095143131804",
            "14a8e601fe054af7859563dd556be7ce",
            "de0607a6a82745619c15fbe6b5f450d0",
            "8db25f10997745f6b9b46739cfeafc6e",
            "49969c101ae0432d84c925daee5fd0a6",
            "c2312aaaa43a4ff387379aae975e576b",
            "d646dea9b7f24e02aaa8d79cb59da73c",
            "9581cc72ca2d4a7b8f8818334933b43f",
            "d25c0ebd04124936a83a231070eda751",
            "7cd7ab392e9e4ba485e961e33fdb679a",
            "15ae4b6b64644a9ebf5701d1110ae05c",
            "627ff3fe448f4f03b35b9060a4f3bcdc",
            "f29886f69c62469c96ecc30102f6a65a",
            "8d71d1037bc942a8a21ce468ff00b3ae",
            "b995cbdeb1144d8c9864ea532a92dbdb",
            "c72910d89d37408292d325bdbbcbc9ba",
            "76ae271bea644e64910d07f42961554d",
            "3447737fdb79497eabae349956edd96b",
            "70afff377561454f84474a608c144eee",
            "4b278fe09a3042f182aeb55920af54f4",
            "b7944f68e4d148ca808382017042bf98",
            "44c1048c76114455a33eaa90fff681f6",
            "6817bf4f8b684097ade7354a9b45fc55",
            "59bc78be07fe41faa824f332425a66b4",
            "2ebed77614fc42968438a08f1313b130",
            "c4a1362fa985446abe70c77d45cc3ce7",
            "cd6a9357ad624093898d5ef58c161894",
            "bf9d76b941734256b3a4f68fab06f7ca",
            "a1962e86d32a437baa8c4a14dc5d809a",
            "4a9b4a3efae84579b62a11d028d7c77a",
            "68b44a9cc6ae48a697034d4e5d7a39dd",
            "669a23e5140b4e8bb6feb77e3862716a",
            "f1fb58047775445ab287e594cb8f1d13",
            "db34f9c28b85420eb444963fa063f096",
            "e3a9517a8a2a4afb9a27321e64c3bdd5",
            "ab51969a0b824b90a7d91ef64490e1ed",
            "5c64d96aba4e42e5aee0ec29cc0c284b",
            "71a792617e184c8caf5759b35e53c4a3",
            "166f514937dc40b585c1393fa395831c",
            "c15ca1762ed14f01a9b99d479992fe89",
            "a8d60fb990cb46e5a564c51efd5030fc",
            "98d1f65390ca4d8f8a591d10f2291c1d",
            "37c7e5febcf94aca95020fe680b76719",
            "7c27c9be48274efab212dd604055df87",
            "e6a0194c1cd94387a8ce20ed5362a9fd",
            "78e77b599f7247a99608120f278ea934",
            "7ee3d1869f3b484c8ba09c2bd7ebb1c7",
            "fa5646225d9e4451bae746a27731d93f",
            "3e565b80444e4b9e8c2bdd4c424fe7e4",
            "286d3c1d176d4bd49df4638b53f354e6",
            "75fbdbb200284cc79f1672c3a668b337",
            "99e3d5084a0b4d9cbfa74b6c28da5762",
            "9b68844bcf5440938c5741b511e93af0",
            "13a9ccb09bad46c59805fb2db13558cb",
            "8e26886133e44f73acafe16bd5e2b67e",
            "e511601f3bde4c21b2ff3bfbd94790dd",
            "16fd5c42dec049f79336bcb7a25ff1f8",
            "58446eb632c9465fb367b9f0be4355d3",
            "157afaeacbb1438882749632b87bd8f9",
            "2491cba7720747efba88d42b3fa37cdf",
            "f953d629fc694996a045c72531a3186c",
            "f89b3056528241fdbf0f08edef24bb02",
            "9cf4c7a369b34bceba8d129606d48d78",
            "550e5aaaa434466c8e178ce2a8d3322d",
            "8e29c4d2e0c14014b8e68948f7fb2911",
            "301bfa01a5814e719199e6ee7791c1ee",
            "a19748e8ad4d4e909b6e36eade95d274",
            "cf820aeb28b540f2a7b3ef1d035ef40e",
            "c44fd3ad6fca48148348dfd0a724fe7a",
            "dd1f57ca9b124f31b46d1307d5693470",
            "726408e3a30a4f2883b1db58e2c7e291",
            "94f8c335f0b84b409c5ab51e427df551",
            "a3e8b559e89d4606b6eeadffa5ef030a",
            "2086bd3742c74fad94f96895b5eb4da6",
            "0ba1c2d0b1c54768a7fbe996b28e4dba",
            "8b8348dcfbb448dda4082b324558a9c8",
            "8ab43ce5fb364adcbf260a62baee8daf",
            "4515f0787b9744b485192112f681f1ba",
            "f6b4644db05d447d94f3e3b80b12c147",
            "a6d0926f5b8a4448bb6a57f7f86d3ef9",
            "44d2ad5091444bb984f7ee535d6a5902",
            "dc9bebf664e74dd4bb817a502e6ffb68",
            "f463e1ffaec24befb2e06e2a794a2ecc",
            "c7aa4610849740be813454ce655560be",
            "77b5d14886334430bada9ef6d1c0fe42",
            "de7f63ba4479439ab7c924acb71fc4e5",
            "0296c8a4ea24455cbcc4e51ff4af17d1",
            "33dad64bad184da58245a965c80f5955",
            "8987b70b33cd424aa3e56c2821983622",
            "e795e80c48ab447da741921abf457513",
            "f748126180ea4a98b29639bcce560111",
            "645d3363d8074d95b7b8d0aa4e7832e6",
            "77e55021205e41a2b804c5a59caa89ac",
            "451e9313872e438a8ae307f23d10efdb",
            "3cce69b9f9e44b70a90f0fbcf31190db",
            "2890235c5a5b4c598be4add6f169ffcb",
            "e50f5f0eb0264a938f0fe3d84956d8b2",
            "d841ed3e1cde4938afbe9e5c603159b4",
            "6e0dd2ae61594bd8804065fd8a4c15ce",
            "5d0cf5e8b49d4e28a4ee29586a131bdf",
            "5570973b7e784bba889b3f579c8da55c",
            "0edc586919124ac1836d31aaeedad28a",
            "192f99a2662740b687b687df4fb0c43e",
            "82ab329d142a480580190ca91e5e19f3",
            "2762c189592a4df8bca8864ed12ef33c",
            "4f0f1d86609846978b3da3a36a738db9",
            "5b42bc0c4c9840c280916fe4e8168928",
            "1a0b21c9bf00497abe08c6e50cdb14fc",
            "1e056fdfe06247c3aa0a37705209165a",
            "046e485b42a54410b52f150a2f5779a1",
            "d9dd110bf10a45ed842d9fd2c2971dfa",
            "712ba84460764a428464bba410d5741c",
            "98711fe0a1b74a208006dd437fd0b63b",
            "161a41bbe6fc4c2e8b07311b4a981b93",
            "ecc43830eaba489bb2682e024d12886a",
            "1b58c6b08031489d812e9b17efd83f10",
            "c393468f240349cd9e8ebc0e99adafa2",
            "7d9f42fb736b4b34a6a3375fdcfb349d",
            "e7a7bfba676c4c06bda9a68608950dec",
            "b969b146bab84bbaa1a3cca772c24816",
            "8ef596ca4fc24304b212aa610cd5897e",
            "2ef5740fe3e0484ab9100be0b9dcf065",
            "6629a1bc56fc491fae755b978e4d97fe",
            "43fcf41a3cd24b2fb083a94b497b3bc2",
            "14a8bbf1638845129fb16ad0c59b7b43",
            "527ee3fb70c74d55ad39a832f9f46a8a",
            "dc0c7916800b4c1c81dcea0ee0be7d15",
            "4ef8b9fc20cf46dea620e96d3cf92717",
            "04edb78f80e94ebf8a9e8051ae9c3942",
            "98eca3f85e0b43aaba9d33ff9baa8ce7",
            "6afb69eb9ca0469ba601ff7f81cf15a1",
            "5cb0a05a45b14345a5eb7c38dc85234a",
            "a0bc555f67eb40a89ffcc1b3744fd9df",
            "4767aeb5cec74fc0b86f41c550abe0eb",
            "a098c0524ac842c0bd8ae90c37b52cac",
            "3caf319e3ef24397bfe47ebf1c313d17",
            "0828ec499b5948cc81da4a915944c30c",
            "9ba55d5640504fcdad5dc00490745022",
            "3f085a0cdf0d40f6a38c81ed7bb89d6b",
            "e0f5c47540b44ad0894715c48a8e0a3e",
            "fe74cf3c55214b6e8135927425dce15a",
            "edcfdd3ad3bf4001950ddb4855c70ccf",
            "1f9ea2cf96c840bdafa6fc8f41e5f4ae",
            "18a207ff12424c3fa4e661262e881c93",
            "f251fd460a704b0b93d92610c1b39e19",
            "e803b478b68245859d64d0441bb1f6f5",
            "da8beccd19f2404a883cd3eb1f9675a6",
            "0363546754014962809cebd1e274730e",
            "92f1609c716a4782abc3b6e56a95652a",
            "a629cfdf0bf345beae63eaf0eb8fae77",
            "f86436cc088b4e0184a8969387af77a9",
            "c6347fc4108c41ae9fc9b25e15b387cb",
            "a0e6349d82844679afcf5675a832abc3",
            "9caac86515e241fc9dadbb60d54c53b8",
            "40818e09043c4ec08107979feef5d23e",
            "d776c5044f86450f9a9dddaa05f6e2de",
            "3344e601d4b84ab4bf3efb678f9179dd",
            "fa072f3182564a0cb0ec08f08fc6edc1",
            "8e0b7cf219e94abda8f7196dfddc2132",
            "4dd6e76de36148f680c6071261c4d571",
            "9dc464ebea664ababfb90eb1bba97a94",
            "57560e65696f4d0a81ff5efd916108c0",
            "fd3a06ade38e4b5994a8b4eac0873000",
            "6d89ba41dd3f4a628c262f23136af35a",
            "8560aefb2207413a8fc397c85cfc2b48",
            "a3c9ddb6dd69453d8732eb8b551e8abd",
            "f3fd4a7c8d834726a26b523c111dfe9c",
            "cd67176d49a4408fa3281a8f5a5c3104",
            "1411133481fb4d1e8b974591cf60e2c1",
            "59eefa414d824e2f84fb76664f0d7a16",
            "b09a671f80d8493c967d65f3b2833001",
            "2a4909dddffd4fb1b8d24333e642ba66",
            "6d719e4a19da4dc58232bdce0db75e0b",
            "86650514151a41d4b1c4a7a2d4d8eb09",
            "7e96014f127a45fea088fc4cfb826cc1",
            "3fdc428136cc4831ac6815fedcce18b3",
            "8dc89677515644b7aea86e8db69a069f",
            "2d8b915245174e1db41a246618cf6316",
            "96128c930dcb4287b7b665ed8896bada",
            "6cf5e96041914bf9a6fc60f081e9dccf",
            "b14d50a4d2044c55a648e4e1b834879f",
            "a618e1ffa61d4c278dd5d4bfc86b1900",
            "95cf72098e814ef09b504e69dbe9dc36",
            "c1ef6ed492c24bf1a4104acd7c56937b",
            "e20ccaf98753433fb0e537d441e57e3c",
            "07bc4604886e435b93b22be511aad926",
            "7e560439db39484ba70a457a0e696c2e",
            "aa15ebfb4bba41e39569efedbb199b53",
            "567a644ef9b2496eb4acc4b00dc3e32c",
            "7b5e06fffead47c8aebed7e349d96e3f",
            "540fb6b5624d4e4999c92ba0af808179",
            "ff7e5392ab3f429d9ce9631de19495a4",
            "118db2714a294d95b6886d19e6e40fc3",
            "dff39836f4084f4d922f217d7cb7cdcf",
            "e03eacc5b12b470a8c1980d2aab028cb",
            "99859f7ab77a481ebac751868fd27af5",
            "d73c5a7ec11141bf97a8f2d8d1195004",
            "a63ddf040ce34f89844d3f48dc46c52e",
            "19d0282ad25b45a2b71eed3b730ead97",
            "d1c677639a4a4f0eb465224ba9dde0f6",
            "df5c62efbd9240ab9f9caf11e418e8f3",
            "a11de7a2a9d6441a836735713245832b",
            "efcc2f7feb8749b2a66cc9fe44eb8eb4",
            "9918c31ff3eb45d0b816753744c89ebd",
            "891691e10cf34644874947ccebc993c9",
            "a853e35c7b434f69b151a25d316e0f71",
            "ced5949b86e3415cba9188402e0ff313",
            "db5201bf059d41fdb304808e40595cf9",
            "bb192994f8e941fd803f66ac5390bd15",
            "92e498622beb45d08cc701926e2f40ca",
            "8bc01e751b2e489e885580f9559d50f1",
            "09472f06ddaf48e99f5cdc10a0485a21",
            "f993d41c360a40dba9369a19fcad77a6",
            "757a624ee40c4c03a64fe4007bd0315f",
            "cee11397f6bd46aa86ca83adb417dc99",
            "9d70ff5e4cf943ff828b894885f47f3d",
            "697255c398cb4fa1b5c4375954a775ef",
            "d124a67df88b4082b0bb0abd58222680",
            "63a616d4bbdf41958c4ca14a8c3e8f2f",
            "30c68f753c6a4996ab996d654a2edb67",
            "ce74664a6e7f479cbe1038eaa99d6de8",
            "d70df3fa53fd491cb78b67dac5d74c52",
            "c652812754cf4a72b45fddb99b424b67",
            "d902bf253ea2424990fc037c0e558f93",
            "3ae551c13bc9418980e31398b7992d2a",
            "e9e39959e8524967914f7a0f5151fe8c",
            "05516f00bc8647519323551cfb083c5e",
            "07a846dba9de429a8cf67e73ec250e8d",
            "cf9671567efa4098b21e3f50f591fa39",
            "ed2702b0d5e44ac188e6b32f9789a70d",
            "e383757ac9ee4e5b9fde9149cf5c34b1",
            "a911d2b36737400f82b4544cd5b47bf3",
            "82df8c402524470c8e1e419ae2f6971f",
            "c9fd612c4c804c7ab2659fa828f9d547",
            "e3ec351e010d4114ad75e8abbfd0d930",
            "ea2ab38e27d147caa877fb7835acd100",
            "e4a804eb6434436e9d5e2ec9bd93d6cd",
            "e1799506dc4a45cc9b0bca05a87f5bed",
            "977076d9b20e460683891b808eebfd5e",
            "c710b874a78d4c669befe8d3f4276d16",
            "147a95afe6704330a98f90120f418f64",
            "d64d406db29245ea90c5ef43edc7f29e",
            "9440bc87165d48b1a4a7972c065d84d3",
            "b0e15fcf9e6f43f9a43f7d776d68618f",
            "47f96ab176f34d3ca03f5faa45971dd7",
            "6e3b73984d7645b4a88489cd6bebc721",
            "48bbe9d9919847509daee0f9b2b09684",
            "174da62a84854b98beb3ec77f3781303",
            "94a2e682220a4561856bb24e13216c84",
            "d34afc3475224f7f94ee2f0336855038",
            "07a070fea3c645d2a63d02f285a236c5",
            "d0eb5536ae94403c87613344890a6ad5",
            "f9f431fc994140208ddcbddfd900271b",
            "1362b1a670b140fbb5768d246b4cd7f6",
            "4831110a0b95496daff219611664c489",
            "db056ac7d68f4237b37df24bf42c715b",
            "32560b26477b487486886db218131e72",
            "e80ea673497e4e5488d83687bca5ecfb",
            "0dacce3ee3654400860b14a4e011ca56",
            "d1a052b5c68642aeb7259f00cc0d5414",
            "714991ee2cd8472d9a4d0ddb124fb689",
            "05214db4153b4da6b5a2f1b456a19710",
            "aab0bf8c4dfd409d95cd872e0ddf8066",
            "83a3bc5369cb4d72a01e5633ad8f0592",
            "51f384378aa942488d3c995a20ff9c08",
            "aa39b9c76d7e4ec5ac0c038d8c389df3",
            "5d59bd4c04274118923000ac3bf8dd43",
            "70406928039b47f29c5f20e23b702a8d",
            "016ad69ae8784f3a8d956873df42b464",
            "f7390af402d74e0fa97b27aa13f213b3",
            "f507ff69fa6044568d3fa2f8d92d51b5",
            "9befa0613d3d40a38b7103f843f7533e",
            "6a72a72f1cb747a68891f6524cdeff36",
            "7ac6a647f8d142ed8e3c177f5c785a07",
            "d8ee8db497d64e2dab2ed3fe669ff6a3",
            "e48bab13f9854ad5a5004861d450b997",
            "9fe05586f6b74c5299eff0b4d0e020b0",
            "663abe7179a0487f8876b320b4610d83",
            "c0ca74a540854486a19ce75b77d16b5a",
            "6906a223a8eb4babb31db4a7a41d6eae",
            "3a3708c5f1124424a2d8c3ba3f69ec48",
            "f8a1d4c61c9d4e2b937c486dfbb49496",
            "9eaa894515ea465f9dcaf332a8f7bf03",
            "b146407de65645a0b9f597200af0f8b5",
            "c70f53914a1948ceb99cbc0107686f36",
            "1ea0374859aa497a956a3267ef8094a4",
            "1d8b7ab6073d4589acd754a847d10ff3",
            "545a4cd1d07146e09f2fb3ffca8c0a07",
            "30b78aa198024c7fa79ab5d74da5f5e2",
            "1fcd6044897e483b89c94a9ca39bb0e1",
            "3c6ad5daabe14e4b89b9d74232cb880e",
            "a458ac7cd391499c907f382afacb46be",
            "68edcbfed5a44acda376c96e600d4df2",
            "72e1d64c816140308d81d8e276783c3c",
            "d1f7faa5e39a44fe89acdf50cb8122c0",
            "35c8798ea231423596c956eb33d5d0bd",
            "ec6e66a5221942d8a6a7cdb5eef0c2d1",
            "1bb1e430efd44f93a0db2090a9c8552e",
            "76cbfb76ef4c42cebf4ac5e12d90ced5",
            "9aa54549425f4caeb048d089b0688406",
            "8704b1c889594bd69e4f40ef0f74e611",
            "679629e783b94c4ab8be06c7d611e825",
            "c4d283e5a0cf415a840cbcdbd1a115f0",
            "e37dea915caa4ef5bb102b16349d64b5",
            "15002ddb4499412c9793b089aa7300ed",
            "bbb8b440b0894268bc4bd46b9842a93e",
            "e918cc45b7824a5081bb81e310da6f23",
            "386f2f665c55466a8011a33bb468c27f",
            "e9ccc379e19e42498f8b1e28763d6363",
            "927b24c773504701903edaa446d17082",
            "968bee2d88a64014b112d5fc2f8e800a",
            "ac003b892e6d49da93a9d134b243e1e0",
            "6c059ca889ae44b3894da36d97cb1be8",
            "189469a959ae47658f166d874a563d2b",
            "de686faa3b7749d092560b0e735379da",
            "d8e2fe23445c40c797e66a313b73a4ba",
            "07d6a0916bc84c08813be0fa4c9ea723",
            "cc7c053d63f84158a7ddd6528368f327",
            "39dcb0c681b0424cb859dbc64a57a593",
            "72a956cebbe14b9c9fc559be82195650",
            "6b2e7b54eef646c093148b932652db7f",
            "788f447e93ef4140ab3c07531c10844e",
            "e22daa7973604cd2bfe1f163ed46b579",
            "b9540443a0cc4d1c9e2e403991e5ac91",
            "f1aa92fecd414badbc8e4c412bd5a862",
            "3e92a73425d442e79692a2d93f22d1cd",
            "e2e15cc1c518477f80b77b55f4c8d02f",
            "f7c7a123376c4a2e956cdd877c116f70",
            "4de9d20d7e744365907802207e682746",
            "b65bd759a7444608975404b1492b4846",
            "0c09cbd102054921aaac3ee99d368706",
            "5f3bc2cad971408489082a5eb1981414",
            "55777f341f6041e09f6a3d2fda5b001d",
            "baf4742d780c4d9baec3e06222c373d2",
            "adcca68d440b4307a3b0562e23d9ed4a",
            "5097a45a395c435eafccd0c1d1b3251c",
            "224e1ec8b9c44238945b5d15163d2cc5",
            "4ba243a56a6f44b29a47248575f58d12",
            "a131892f7bb142ce938d294509cff892",
            "9fa96c4f804443bfa0ca62d8af58ff9b",
            "23d258a200fe479cbeee41bb871fbf55",
            "94ebaf9670fd45d4bf413d5f9ad36447",
            "a7eb7ad77cde401fa4ec9062111ba8eb",
            "cd10063e8c194c1f8c158e921ae314c5",
            "e115d9b46c074ccb9b02ec83ef34d2b0",
            "9f639c6fa6474922970bb5baab1fe1c0",
            "ca891f7ed5e748cf9ccfa8f4a7987c63",
            "21ea6bf0e3cb43d2a1f47f07439f59c4",
            "79e63104bcd24211bc19b5001ebcbada",
            "2547e45c98174f768eee07e49827b9c8",
            "5b3b8c7b1216492584916c8e82cb55ae",
            "40bf721a88b74e94a23ddb7735d8286e",
            "b87a3f0139044562b957e12a7a8311d9",
            "2ca3b8bdeb7648a2bff9064ed74a1c41",
            "59ca2baf9b64473e8aded95c7aaf0635",
            "daa655a64a634b00a655552f1cc1fd88",
            "3ced6bdbd93c41e0a8a46c57d3a090f6",
            "9138db57386c4e4eaaa4dfa35d3c2995",
            "6a92e92493614ede93850408ab66f584",
            "285d0779c9354bce98655b5d9aac21f3",
            "5ba1ce556dc8455b8942d044c1755a63",
            "1c0b61556fe14e03ac41901ffa212d5d",
            "668878281dc24f5fb691f31403c350d7",
            "d4ba718d63354480be40d9495d8afce2",
            "c7ac5742accf4b4cb4e914b3c6b47b17",
            "0c171f71df4844988373fc466ff4c8c5",
            "753054f66c9e438a88bea458e971093d",
            "2d7a825520504d0b9205bd8a053f2ece",
            "37375e1f17074328b989ba054944cdd4",
            "02222caede4f4c41b71f758114237407",
            "baf1c4737a164409a90b7199cca2d43a",
            "4b494581b0d840b6acf78d0eba89002e",
            "a6a0e2b02cf64bfe9505ec491e218013",
            "85e3a72be9134641b205132943c0e1b8",
            "0560607ac74f4f3d94094f86b5a7033f",
            "42420e41853744989ddbf940c9a25ecd",
            "a7b24993f15f41c383306d2d86e358d3",
            "a45a7cce22a54d168879fb567e180061",
            "c74f59e05e444dbf89668f1e27a71770",
            "ec997938b83340d8ba94d0d7ec4d433b",
            "fded20700e3242eb87aaa9ce9c7e967e",
            "fa7309ae98a248edabd3292d435c818f",
            "3b7ff29b5b4c45bf9b9dcfcf304207bd",
            "ee3b4be91b174f40922a4d3200429244",
            "1cc8f7c1acc04ea18390cc69aa6bab1e",
            "bb2c8e2ab0df4b15b625ae56ac463e67",
            "bc9f2c93fca64c359e965cc47bf6bc1d",
            "8e3c1fb0e2764a84a51ffcdd9044ae47",
            "260734fe44ca4a9f9515742d2f1eaa54",
            "6e61e9e64c364af88cd07f32a3bba0cc",
            "6dcf7513baba494aa473987c51283382",
            "5c12107bd4574fd0977111f82ab1d0ec",
            "384adca759a7469c9cc819cad7aa7eb1",
            "3d29cb17265449eb9a10cc627c3ec857",
            "7ba92c4def264c3e88b8b3381789dbe2",
            "e3835703836a4d119f87a2d048c7c80b",
            "d329eab95c144870b6257178dd5d96dc",
            "96a4a5e54d844dc7a755cf71ab6f82ab",
            "c0e07e48bd9c4e93bd8017e96355a264",
            "e2e6fa7af6e64fd3a40a0c7a5179bb2b",
            "c9f3a73796604d3094121f8e556d0aa4",
            "ffcbffc1da3548339feffa7a2af25db0",
            "ab9f3c80eee84cd3a4e0cf7e5a118f05",
            "a6eaa569b51e4cb79e7ed61effc5ce0b",
            "1613b5a555574c96b635a7f7994dbf3c",
            "6fa54956e9ea47bc9f61191208c52f11",
            "3211b5242fde44d38633c1becae749af",
            "c064d6b70be74e0d9ad840541c08289e",
            "a04045eb14e544c7bcb50d4e43e7f8af",
            "8213f0ba52fe435280b7302e7385bf56",
            "f626fc29afdf4ca58008a9cf25aaddcc",
            "32a7e7565bee4a4e93cc63d580c1214f",
            "0475947cc84a4ed7b85de0156c01efe2",
            "8057de4e5afc4430979ca7535b76b463",
            "ff3cb73d0ca54c8a81a6a0b0b95d1918",
            "c33033adb1e74454bf505990507867f6",
            "d7848f1e43e54045a19230ce36d4f3bd",
            "771c193d19364d6a998c2edce3f672e2",
            "d4edf95505db46238625e3c42273ff7f",
            "f515103c911d4e868a7ef5e67d930470",
            "3c40e06091b5489e9f335c8e85bd2adf",
            "17d778477dff4d7c89180cf88921ee1e",
            "5a45dd9eb0b4449a857741c62dc5af4d",
            "58894e0a7ca1436ca5c559c861cbbe20",
            "955808dde745495a86ab66fc13ed2f85",
            "46d6d4f27fdf47e8af8bfa8362a667dd",
            "9675893f85604560a722d29d4c1a8da1",
            "9e17af3da714416cbcb1a9b566b77c77",
            "dad17bd35fda43cf83b12236b987960d",
            "ef617fbe11884fa3ad1c7f19a6ba65c9",
            "00a3d7f41c4448a685e8dbba1fe1db2c",
            "39261e11e42c464995d16d95e3e360cb",
            "c3a75250dfe74de999d261f513058343",
            "563f79ce00db4df1a999301c5ea27b9e",
            "a955471d90094fc2b04b3f77209fa59c",
            "1f59c89bfd894a03924babbc4762bd41",
            "81c0e72b81894d7cbaf2f50e93d3e6e0",
            "ef0741c8d9af4e9384a322097d818c98",
            "d92af2bed63d449c8b862150105f9032",
            "db23f0be0f2e41bcad3fb8a6e3dd94a8",
            "082cab734203471db95308c7457315e3",
            "aa8aa9465798416ca49db0cff9a81975",
            "a5685fcb5a6f4695b19f7e7fd4b24792",
            "bdbeece4482e4fe0a8fcdaf884d3ec0e",
            "0e80e9b2894e466aa527e964ad152366",
            "f8d5fe074a3e4f5890a10e841278406c",
            "96273577f2dc463d95c537f9b4ec9f81",
            "86a7a31becff4596a71da91d81b87603",
            "b11598a5a96f47dea5e7073d73e66e19",
            "6249cac1b6654e0c8bfa6d1a633954e1",
            "fb5d62918e184e0f9c50ddb2404ac92a",
            "60359ffad07c4b21a41bfeac72a94ab1",
            "13c31ec8575e43b88206cd251f4a79b7",
            "9e51cc4b553f40e4b32cefe9488946ff",
            "d2938d128eb94d6281066b4d8b92a39b",
            "3888975a8a134591bcb53177ec4ffac2",
            "d615d65b78184670832526dae846ba03",
            "7e0311c857264a18b3dd55c027b70bab",
            "2965a72dd3d14df4be83abf6a369bfa8",
            "f832a1f0f183432b983f651140025fad",
            "89b07d70afe549d491620e033f229326",
            "2d3a709626f64e90acbe34e8b0ced762",
            "192313be37db40249c8c8fb6a82f59f2",
            "068358fa2a3b4d8b962554e4f9b839d3",
            "c7f452711a1049e8a5e21a87714aeebb",
            "090e676dbe544f35abdf3f30eac23b49",
            "f3e189f154e844abbe874243c5185351",
            "6490615e650146b1ae9a2373889ced47",
            "3dc82b0c8e1e4d549281e39e376ddbe6",
            "9abe07188ae34352a8256151b6d3a1c4",
            "71b87d6cc6f148439b42259a1ec22069",
            "2274af28e1c74dcdb684cd7ecdace9c4",
            "c0220228cb6b4ce6b2d07aa282fab393",
            "bd20ffceafc043e7834ab567761b213c",
            "f460bab2941b493eae6dd143e2321260",
            "131ade4d41c74ba59226c57f01d1f80f",
            "a66114b3e2c94121aafc4ad88e198af7",
            "f86069b721ca4217bd6cd2be472da1f5",
            "0fd94730981a490a9e2e1d41d956f02e",
            "bca80c383d7f4a91895cc6d48ea77115",
            "87a8440d663a443bb72d66ea239fc4da",
            "98cc6c571ee04fc2af9e641e121ab07d",
            "97d953f873df4af2b9e21657e5174ca1",
            "aef62de7fa5a48c0b7505f6caf857ef4",
            "992078a9c5a141acb2a1c4bfed52affc",
            "dbea032bfeb54209b12ded49166a395c",
            "42100c1f61b547aa8a9f5b3b2a74aedf",
            "b448b8bf2cca430d985d9ecb806abd92",
            "daeb5ed89ce943c982a978e842532b5c",
            "b57817eb69544a719929b2dc090f36e4",
            "22a5f64675124296be790b382315c785",
            "18fddad576ed42269a27fb8c62577e3e",
            "cb449d808e414152b2e26f8d05fbabe0",
            "fd2867cb63af4720b0a4f36bbf3a4a40",
            "2bfceeb6ff6f4aed9a1db2e4feddd9e8",
            "42b181fbe82a4cc381849f2edf637638",
            "d2474f6d26674b8fb02aa66995370956",
            "84ffb218eea44e6199b8592083f4d27d",
            "4409f93a2c9040fb837b9b1a7e0517d2",
            "3d14df9794324a909535f31bef4cf0f5",
            "29a94178f8e540c4af6dc2d61d87aef4",
            "c75bebb168d548d29c197b26fe887a62",
            "9311d0fa2766496a8c82d982e8aec432",
            "f9da39aa46e744f0b204b0b14f3cca53",
            "62f6e0d770d348e5936aac2769a8dc41",
            "577d02d45c794674bad9a45723f348b0",
            "dccb530d6b3245ae9b2fdefdb0041b1f",
            "61abb0512d64402d91d6c2caa174b5fb",
            "838817808797402082686b876ab15b4c",
            "67f1f41ee0fd415faed09eeda0c890d7",
            "d26db16d6b6c4ec7a7988339ab9b9121",
            "28cd77bd9c0045f0927b7cfffbb9e3cf",
            "8a657833c6c248f1b43d15ce5a07891c",
            "adcb81d99b7c4b5387ca531a65ffa11b",
            "08e4c07c1bb349969af977ef1c410855",
            "557c3e4c3b8444d9a81624043bddd308",
            "c2148cfbcd4c4584b6a65c971708ceb4",
            "20a075d7d2df43dfa6a1055f54f45e18",
            "fb1a568ee586444faf560cf314a6da0a",
            "da2f93e4aed6471994b5d4f915f626ee",
            "ab5bb661a06347068101cd822ae8d70c",
            "9292e36524c543cfa3ddeedea6179147",
            "9ab7650de1f04e8ea077232039bea26b",
            "e86302b85e6a40f5bfe4424b2b35b94f",
            "4e61ed61f4e44a7f8b3e2f6a8c3d91d5",
            "c98a15c440104a869d4e94a74fef179e",
            "0887bc76cf9645eb92b6cee5ac975605",
            "5f47ce13c18c43cbbfc4a138539d254a",
            "1d077bbaeab340a3a681d7976fc62de6",
            "2045c0d985fd48739ba5f7f96e905670",
            "03f2a329e75c404da6c495e9d4320c8d",
            "99d031b99fb643b5aedc12863e31f479",
            "8d3fb380b88642438cfbe70570151189",
            "4ba5d6ceee5748a7b53eefbeb952a614",
            "a9c39651b8f64511b999e0924f32971a",
            "a4cba1b16ca1489a91e54871a6e35db8",
            "308f99c585c847ceb5d8738fd492fb83",
            "64c7bb08410442d9b32992f8d0cf5abe",
            "0c7eb1b4e16349529736f1bbe96f08e1",
            "cb2c7220a23e4f0eb7a52b2b6970ae03",
            "8faf9cb90dcc42f7a52c06d2594e5ccd",
            "8a41e5f9f1464a2285fdd45f42e78e01",
            "df57be0fc8a7474f8baac7df306a7b84",
            "61579678f8d24cadba73c2d84677991e",
            "8b3de457c4df4934a06382ba7282c8f0",
            "8f6e55d3f6f845548a5dbd53e8706f90",
            "cc2fbf2ae0794497b3142c713e3991c9",
            "20d3394b96d34eeeb5b02887f0baaf24",
            "68c51ea95ecb4c6c936e749b20d50a4c",
            "e723baa4dfbe49a7a304f3b6cdf5f948",
            "97cdc4cf7e064d3594e7938e4eedec09",
            "362228976bff437d806db7272a78964a",
            "86e139a5a0334aae83475e174976c7f3",
            "dc74221becdc43e69b058ee49120ee10",
            "0b1d477972a64fbca1c6eab5a3c7db9d",
            "600c595e11a64a10a0c4a0090b77655c",
            "c535c7a234f24561adbdaaadee7ddddc",
            "ce78ade4b18b4e3eba2285d860807dc0",
            "7fb93d60bf2a4f689e4839cdbcedcb25",
            "78223387a73e4316a868f88e9874b0b8",
            "cc2cfd8fd6be439d8b566c05aeb8328e",
            "c56a52a176e84727aa9104fde3d2ebab",
            "066bf3f21fca411695cd2df094cb268e",
            "305ff1aeb91845cda9e1dda2c4421305",
            "7980fafecdea413999b1886e3ac1d2d7",
            "30fe4639ea2d4d49a2dbc69f0826569a",
            "a9000146e8114f0da67229ad891bca88",
            "a7b0cdfe1d414cb4987dc4df5b00a9ed",
            "bd20865a2c9d4e80bba75dd3918e5ca7",
            "f696f2ac4c344f56897ff3971506d33f",
            "19eccaf01ba243d4bd058c219f38f8cd",
            "27c2d9937c634a299ff77c4e1cca8483",
            "4b3746ae55824a039031b20c83bc8f3b",
            "4ec87f661d404050bf089a5af19109c9",
            "1c63feb419a847fbb10ea12f9fd5b3d0",
            "eb524d1c38a04f9e869d36f9f74a460c",
            "bfc6c1d453c648cd9c553abef08421e0",
            "a3428be927b84b88853b71b2db1d718e",
            "42cf3581876f4293a4413e5099f7220b",
            "98fac5e2d37541579b57009c20458037",
            "04d7b88b706a434d82a03299114ba9cb",
            "3cbcff8a802e45ea8ab8f9aec563e88d",
            "874b2da100d24ccf871d247972e68c98",
            "36d9fb539ef648fcb6abaecb63b41c0c",
            "84332237900d4eafbf52e068a0285507",
            "4f67107872d74aecbe842f358db8b160",
            "71f0ef84cab24cb99d6ef51051b6f994",
            "65886eb444dc4d0682b5f16779623093",
            "3efcf5e49cad4bcf9da3854a465e00f0",
            "8a307d551a274c18acca0296a3b297e6",
            "24177c0bec2644a7836794c249c9d8dc",
            "52625a20da4f4444a2eeeaae7d1b6ba6",
            "d31630001c904a018909520ac3667aec",
            "f07ea8c9afff404698b5a25b7852b16b",
            "b05e862d5222438b8a7bec4692546c35",
            "0da04d57910040958a610a4d3d52e20e",
            "19ce1e597e664745a6f8981e6dc43a85",
            "0c8a6d23aa3846feb5e9593d69d7fb4f",
            "fdc9cc8b26574870b46aead42e7b3b16",
            "c37b38870f2a4bcebdbdc162a687b456",
            "e9e91e4726884198ab843324fe25693c",
            "711e5d721e5549ea9e4d6327b36b1aa4",
            "9ef099f29c6c4820bb01c1f4852e7850",
            "6ac6d40bf42247f1968a0078ee9ee06b",
            "1fd1ab25800e4c5cae62cae861027890",
            "79b126bc87e44b44a025b520177f7064",
            "cc0a915919584089805b5fd3f65b79b1",
            "8d408bc783834750a97e9f892d0c9be4",
            "271472e3fc4f430dba3a97840c92bae2",
            "fd42b7ade8784f17b7f2d13bbf5d1e13",
            "d83204ff6536478daf9449b3112ccce6",
            "b38187fd01e64acf8731deeb837f63bc",
            "192dba55f2d84f72ba386f58967f4508",
            "92a52e0f4ddb4af79a781f9ee751ecf6",
            "29b2965a10284b0b8771b84cb65866c1",
            "c7ceab4b7eb74e3e8a32978fce86dfa4",
            "db8e068d997a4262b1bab57dd2127da5",
            "58befd31b63a4bf5b07dfc33ad3e2b3a",
            "66f7b5e509e8425d93877af22fb6570c",
            "80cf63d3768c4d38b3e42183c09c029a",
            "c6c8a85d4d9b45a9af5ed4c993a95ea3",
            "f5fab931894d42949ef6a6c50e4bf3e3",
            "acadd6f552f945e4b446d3829b9d4d4c",
            "51a4c024d33a428f8b83189a9659d0df",
            "630a07f0ee2a4fd3a145d32db74bd576",
            "4958e097194a457099cbe5744eb46d73",
            "88480fe7c8c14c9099f8bc2b166cf494",
            "fd946c7019274bc0bf0129b51543d5a2",
            "c6becc01f05c4a4a81a3b21661fc6f80",
            "62e11e5898804cc783674045b7bcc345",
            "b85c6250f0804fde85a47a3e1f33377e",
            "65760da5e5e546bdb86fe97866191426",
            "85588310f5a84a4caae83b25f9e1e094",
            "1b14fc1d315341ba89c833fdaf0bfabf",
            "9d8df2554b8c4a2999934ff84f81de46",
            "933cfee6d3f143dd8cbe3e9798c0feb5",
            "e520b23ab07a482d871b2bd0e3f85399",
            "b66c528a07a84eb1839fea68a5fd99b1",
            "8838498092c640acb25bb108f94c3aac",
            "f9fcb8f3b97d4f1887bbbd7de4d0a896",
            "883862e49ab9488eb02f2bf95f9958d6",
            "3ed2f76b21b144b9a43e257d5b6d291e",
            "da4cd757ed454f35bdb02b9bc5187cc6",
            "cb9cbc3211e9433384c9d6546059d87c",
            "dfa2a6190d30459586965558a181c342",
            "728eb9c757634fac9abf6bdfe4657d9f",
            "e2a2a5b41eef441081ca4c958691ea18",
            "de6523f4161c47949b4eff2f1382d852",
            "72349dacc2fd4efcb9427372c54396ea",
            "afc1a3bc3dd442a7848abd67edd9dad2",
            "db7ffd139a6547759a3ef04c962b0cb0",
            "9e911c9b854e471288e9b0ba16df3a37",
            "2a23d9d937f5429583b902a9a806a0fa",
            "25e3f86747344fb7b845280e9ceb7bd5",
            "843a27713def48268043add9f6c9be74",
            "f170bf84badc4cb2aca4704b23bdfb3d",
            "5bb6480a2459478da5f6e253037be781",
            "8e4a979fbda34a39a3fef57bfb082f0c",
            "f91936c593e942bdba22a53e58f87047",
            "06f2ece242df4d8b962f6ac8a692723e",
            "e59bfb59f8d141eda5085b68cd5908c5",
            "eb396deb52da4494afe866b4691566ba",
            "c3d04ee998f341fb9176eef580a53ef0",
            "f3b3dd2a431a4a41bc8b29a098e0f34a",
            "4dfc857c15484a3498f7a21492aa181a",
            "cdaa8153bbb344bf8a7dbdbd0d3a39d1",
            "e199078f6e3c41649ec91f776163a7f1",
            "178990972b0841ed83135571da642d74",
            "a0c4ef6f611b43fd8f60b23cdc04960a",
            "e7aea4399d0a4d8e9780a7c609cd43b4",
            "0fb0a00566b34968a824184aa6e6e901",
            "7ec738e00d7c46e9bb5621f42f66b60c",
            "5d09659a580c453e939c8dcf44a2d0d5",
            "1390e040bbb74b2aab73f80c909110f8",
            "609496cb1790416cbad5e739c27ce2ef",
            "9b8ac70f706047929348a84b5d0c81f2",
            "46888f4435824eb286e789a5c7270d23",
            "ec5600b0ba974dee8603c3ec2eacf000",
            "5c48e375e77d460ea1421f6cc1403d68",
            "2684ea4ec02b4af18ee428b79c7b49e6",
            "31f47a987a8e46f3884f997d4807556d",
            "31ac7f49dbea40b7880a9b6ff1e94ebb",
            "e7e10bd6342b4542afdb4156878d31b6",
            "b2b3ed3b0d82427fbdb3ef0a32042e9c",
            "bbc882a28b5f4ed29054b72ae042c56c",
            "b1a6c4505b9d46b790417896d30638dd",
            "4881df7f6225485683b51a2406d49758",
            "c9eb916a08294ffebde70a1450036fb8",
            "2c849b7855854cd3846191ca20180725",
            "79df01a6e5e94f82a07a9703236bdb22",
            "5d6f137efacf4760b012096893dadba5",
            "8678ca8a3a3d4d07a829712c55c8844f",
            "edcbceab38f544d5987bf70332a23648",
            "a7c4e5ebe8d04a85be38fcff1a1b8c12",
            "9bd566a3ca964b328d108a4989a0102c",
            "f898712dea7049989b44492a56b924df",
            "21585f8287874f60ac3f059611132ca1",
            "e4870680d6014fd08b57396469c9a4fe",
            "5c1b84ed9b104a0793f882a25aab9b87",
            "582f8bdbb42b45029b0a9881f7f18219",
            "81fc835c9e124b9da5cb60a45a223c19",
            "4358c85a6ff744928ac02a00c79d6605",
            "75af698a85694189a1e1b7696c86f92b",
            "a395b84c482d441ebd74c5076f148ffc",
            "fcc464938cff49b5a1fda47b8f080097",
            "8dd99817449646fabf9cfe2ad0450bfd",
            "156490944edc400091dd9fdb4c61f673",
            "cfe515b234084a4287d7d155fda03e92",
            "67ed6b8605aa4254bd87749ab71f3dbd",
            "188c48b5e91e4e1db5b4dc32113bdd58",
            "2a57e2a8d3f84dbbbf46fbec3a535844",
            "5cc1a31574ca41fe9f9819263c3121f2",
            "792a152464804025b88aa7e49bd93c8e",
            "f282e57ceb49464690752b9803f45109",
            "7cc665d033f64c91bfa409913444519a",
            "c6080a41c1164e6a989192e00c6c3d6a",
            "e440a3d3d90540ba8d1e211ced52cb7c",
            "f19ac90b43ba4fec8eed17f0c66b2d95",
            "6a09b7e2802c4999bb3b55a7fdeabe5b",
            "cd7a684feb7043c383115c7176307ae7",
            "bfac8b8cd9b64f9e9e511f5589a00422",
            "12b874f0803f430582b3bbc5076c75db",
            "b8b348c8ddcd46c380902d12d10270af",
            "a6057581f7094cbda5a960b7c2b04693",
            "3007be1402604e8ea6ad8e271f5d8ebd",
            "e3d56513f18e4fa9988d1e0a16a66828",
            "50b21f84a9c040219c27dd24ae58e01b",
            "771c852cb34c494ea650b03d0549485e",
            "f6bbc908e17143d08d92f3a886c07c51",
            "04e97f17a4aa49f39509e8c7782860b1",
            "aa2560f7cd484a2dbc0a319581800fcb",
            "1b5a0aa94f6c446f9d616c9f64cfea12",
            "2eb9454fe0ac4c79b277fedc7a664876",
            "434bf68a20ee4f718a4033eb77e340dc",
            "9ab995e4e8c0480e85635c2b80ceaa8a",
            "00317950d0c244cfb14255b1517e23da",
            "9382f6b483ba4a6eb487171a78013f38",
            "48b8562d09144c35bf93f920bbd12bcd",
            "5f35159c39de40c2a2b51872da61a358",
            "a0a11613f8ea42638f227eac5f692e7b",
            "5c0abf37b1de4613a089dbcaabf491cb",
            "d50b1f8ed9474560bdb77ac6e6c2c31c",
            "6ad84abb5670447eb5b8d971640fc5f3",
            "30debc488bc34897b04d37fece38e20e",
            "77906c6587c94816a210b25bd92b76a0",
            "32d110353b7e45d0854550af643d08a9",
            "dcf73bf9db534d43bc2de2e327002f83",
            "29b92cbcd54046dd8d95c71e54836a25",
            "7feada2be6ed46eba120618165c57e79",
            "2183245ab5004bf38ac40543b910ccc8",
            "7e745e7f50134acaa9c79560ff57f502",
            "e41411e1c22e4d7b8a58b245ea2b3a73",
            "af1f6e0f587a4b88a50e24b9c77939b8",
            "05f67208c91e4722b0be2a31d1d12155",
            "13015fe1142349b8ad49c5d7fa160fe8",
            "6b31647f6c764e8aab00558d984eb878",
            "9f295ca8dfec46428a2059c060a74e94",
            "937d1182fb074ce29ffa071bca9bc4f3",
            "7775c7be7dd347b9a10c5d7318603b82",
            "050e1652160e461b84fd7072ae952e43",
            "7aa335217d664ac2a22e3796654107fb",
            "052ecc8f11a3405cad82badf71266aa2",
            "e5944ce565ce4360b2212720cf6135f8",
            "c9bc2a31a08b404792641433a19eb145",
            "50b4e596f9f545209037180088b6e98b",
            "c187f50379a24bb39df8334da26c2ea6",
            "7db4efa673f54a848f157ded9e241f03",
            "0173e69054174f8b959887f5c9ef981b",
            "6f39926241b34a68bad566401200b600",
            "2199108e6644497bb2dd1a23e0280ae0",
            "042f86071d5c4aa0806c8cc56c4c5004",
            "550dfab019cc4e2fba8e48b071016449",
            "f562c030af7a43a482045bcaca5e75c8",
            "b11821f70126438bbd46b29d03fe9421",
            "a26ea63dff194d8989a04fa6996ee9c3",
            "fc55af1bb72c4060b0e92d26ef74dbd6",
            "017ba9dda66f40099bcd70aa91788bce",
            "0aeaf10b621942dc817782d282160ec3",
            "8a7511e03f4c40c8847d5977c44333b7",
            "b48ebd7ea9394760bfa6c248672c73b2",
            "b402334ad076450c938f4fa586020e0e",
            "7642e93062474d4eb87c84a3f2a43d9d",
            "b3a63624e23d47a28d004cb2728569e1",
            "936b3d8a60ea401e9a032a699cd4cdea",
            "6faadf3d3d3f4fd6ae8058d69def5a6c",
            "c44e2c5403794371a765433367d0b72d",
            "e44dc69394734f3080e80ed72d08fa88",
            "8c290258c1e84eeb8155a5726398753f",
            "19e1162bff474d6c9b624cd479eca1f1",
            "c07531def2724a8cb2aa7b49d7773ca7",
            "ab4cafad3a7b4ba0ab308ed51e13cb6a",
            "d77ebf2c228d46a8af74cf7e7e1c0875",
            "5b5190bbb52f42fe8c81788f3dfd14c5",
            "98bc57e3c9ac455283215aa669905788",
            "65382dda496b4bd98fa4d1ef6346c14b",
            "9ad71b8d3813464ba823f6450afa74e9",
            "6379e3a7cf204799b1e2a25e70009bed",
            "78b4ab6e389e46699295eeb5acc7fb3d",
            "e981472073ae4248a2026ceb7af79a7f",
            "b3b1637f103243089009595228d37372",
            "25eed710609b4eb49592e6c53a15eb1f",
            "9d373a996fe54e27a86b4081731106ce",
            "d052faa925134be49edb3e2622cbb0df",
            "3929d4aeaefc44c79435903934103f0c",
            "0887d11f507e4a308a468a2abe0d1771",
            "70830006dba64ebd8346ba16f854b003",
            "323bf15c05ac4df3a339696e74d59b2a",
            "9d84ff8c99ce4f0a835c556168e9ce10",
            "81674dc3f4fc4500a91be0b5b83b0c38",
            "117ae91c5ab947d78f1f380dc4f949b5",
            "17153efe43884209a56ed81f09ff2637",
            "c749314de65d4d7799b9780ae1f191ca",
            "4e55aa7da2a345369904fdc428511d72",
            "f4ebcf0fe68244eeaa2acb99e9d8f03b",
            "66926c774fdf4c0ba3fd31d5c24209a3",
            "83422d10773840339795db85fa9ef21b",
            "9e27037fbea942ee99602fc8db07cbb4",
            "ccf568ba686f43aa9a4472eccbeb7f2d",
            "30f64265c31d4a4388f063fe3567cc4c",
            "3808c4658aef4dc3bafe6e1d1776948b",
            "34553978151f40f3a6df64f2798d906f",
            "6695a8ddbe8a446587a48b6f32508623",
            "2ef6516050ec41f4af3beab85edbfa2d",
            "bab32b3c5dff43ecbb98dd1d587917bb",
            "cf9120f500d846afbdbe3a8dd64884c9",
            "c4755c53e9af48f398c0c8aa26386c0e",
            "070a640b06cb4a639bb6238ad4aca352",
            "051f3f30c4614155a7b43f6238dbf573",
            "5c5df88108364395b7cb322a5797ab29",
            "05c942683be346a0a04c312f6c63f886",
            "8fd66e2088044095b56fc1f454d35d81",
            "e5d6140a819f43ec9c2397c8e50ef76f",
            "1b8ccac9a2ee481ab9af01076acde49a",
            "7e80e651b2d04bf4bac64e72e35b3630",
            "4804b7a8ccfc484fb29d7404863e4222",
            "1c6e7accc0a04d32a31f01d1ae563c6f",
            "f2602c849a1443849bc09182851b4b92",
            "26fea9e1458347a2b1ed6dd0ed2aa540",
            "2366816aee8f4475b09e98c1292c21d2",
            "0f0ffcfa176848f0a675c0f3fbbad6fa",
            "6250307b531b4659bdecb606c4e65a64",
            "98460e2b3442413f97d200db3e577947",
            "193a02c453294d069951b44c911b127e",
            "57c6b28f4c6640a2aa664829d5dbc2a8",
            "0128eea23e3d4022a248e4fdc6e7060e",
            "855322d6898c46c5bf6eb0bab1f28b8e",
            "fa2f53d928e040a0a98c33617026ea94",
            "03c285f5bc36428199e31bdceb49c628",
            "2f0d819f8f2b48489d2fa3f3c2180d8b",
            "606a9e0ee6aa425f96fa347b2bbc5c12",
            "86c73fa09bf649d1b814fff67bc5b656",
            "344a919367584b44b9bcb0610f0b0169",
            "41b29bb8252b4105b1db3039e001d629",
            "18a2215534174c6ca40a2cce4b31a1ce",
            "af4f32dc387147b9b7cef06e2010480c",
            "b1c6e567b56a4e7aa249f22063c562e4",
            "5eba86820dab4c8db8cb85ac28e87b3d",
            "71dc8cff61e04aa09ab9e4100688c9f0",
            "20d8e678a5f74601a748afb9cf66345e",
            "e1585aa5302442608405729c52d40c06",
            "aa46bee88b724a62bfe64cf322649144",
            "010287001912408bacb19daace7e1ec5",
            "848c58cfe35845c9bbea587f6f35c95b",
            "c0b02f5573a04329b0bef10e3d36a3b5",
            "b63387091c624cedb3e358ce2be96409",
            "3469b1d2aed64603aa3b126beba634d0",
            "87a753d545864355b6d2daff951241b2",
            "42f14b5cf9a04d43b1551fce5cd5e10b",
            "7898d6ae3ffa428a9e24f9116c857a00",
            "bb5c0c7f32b14ac0ba2b04ce3ca89e9e",
            "028579413f4a4605be44cf3a1be0eeb3",
            "9615f5bf6eb44f7097fe22136a16e2a6",
            "87a8a815d956451985f29c2c73453c5d",
            "bb9ba01737b94f459c8f0fdbe9407d2c",
            "d259cd00e30041b3adf7a4c026a58a30",
            "7bdcccd01dbc45249187ab4eae05854b",
            "3e002e589afd43328e24b24794202a5e",
            "2a2e73efe2df4ccb9bb74227e25da3eb",
            "356b38d1615c426391f2b5102dbb1a18",
            "22dc334bff1f4a09bd190a6505b1ec6b",
            "f2921c9c551d4c5695fdc4c552d71ca5",
            "02d6372ca7b14267b0dfc7b871282349",
            "1e4693d06786447e9814f8fe0f476363",
            "2072803dfa784741a8a1b0954f0b4d62",
            "7be71a26ef2845669f42cf0aecf5f1b8",
            "d04d700a625b4a2db0e5ca2a69736deb",
            "76628665293f4a63b4c5e450ae395695",
            "9ac362b2657c48f8b6a715cf78c90733",
            "2091d4a8fb9c4154b12ed6f83b3b1662",
            "5bca0c3999e94a66b76654fd92635f48",
            "1b405b36d27f46cebf3feaed2174ca03",
            "fe3021f3c5ae418fafb5fffdf7839d19",
            "5024925e6b1d48b9bdf9a57b4494e87d",
            "1af61981d3cf4c29a317fbbf2c708f46",
            "fb930ca1b835458da6b3411dfb6dccc7",
            "f6159f462741440b9e9f238275b24c4e",
            "10a2527f035244c6b79d5827d48501cb",
            "a0419d7956d046f083d29185d88c1862",
            "2e1e321fe1b54ed5ba770aa137f6eaae",
            "e68191d7c91340b0a3ed910a6e0b933c",
            "e91a7570ef4543d99df100206b847d18",
            "8cb47e2d6a854349a3d590ceacca02e3",
            "5ad9ddfe9c274735ab93e24c469cfb8b",
            "a5d102931ce04f36b48a18d9dd475bcc",
            "aa7e43e674e24a7cbaa6c95810ffc026",
            "fc0d0e22e5ef42c3b0891d00e454a328",
            "00405f2a24c04548936d579786731eb0",
            "5cfe979a880d4e42bb5983cf941b1750",
            "f3c1ad6a1928404dba18d25b27dede59",
            "ae2c656a7b4548ec956271bedf11180d",
            "7fa73466599e4c79bf8e6431e78cc7db",
            "cd6d419f331a4ca0a0bfee3e90f668c1",
            "f12dcae318384a118c17dda3a09dfe78",
            "17e0ee2edb1d465fb278429ceb68fc99",
            "fb27ea2b011547caae96609d56efa542",
            "6b8c9a62413e4c10a841e8e2ca19748e",
            "2dd47cf8d6ad40cb98986d6620f9e663",
            "b834aa69a255427fbc9e2a86b93500f8",
            "13e4447a762c4a97ab8ffa52988f8431",
            "4a91470b6cf24c81b8391c64ecee02b2",
            "c5ea6e22c4f143a1bbad522fd8b3a187",
            "4d93091249774c39b2492bf7e5ace3d4",
            "169bad20bcfb432d8c7742efc427f294",
            "13954d7a5c9e400e8107c49c815097a8",
            "e94bf164c383456ca70843a48dac95b6",
            "2d621651ef984311a64d090f42b6c455",
            "ea37e55694844723a1ff195e9fb30169",
            "4af4f73044fa4c2f940b3ed2d84896f3",
            "65f2958b1ff64f30a9ca1904cf539f9d",
            "8872412a2408433590478751ed80ea12",
            "f70cdc323f81431f92af17f9e29a595c",
            "508f9bd7087e4aefbbe2a6950461c96f",
            "d3fcf9df6f3d4d6c808683521db6c8ba",
            "e28d6b6f6194411ea35fda3d9e86acbf",
            "91665b6208ee4890b65c7339ea7c55a6",
            "65a9e28ed1364e678ece2301cc91ffaf",
            "0f4063435a8748b5875af2a4f23a26a9",
            "64376be7697640d7a7f156ec565174b4",
            "802f1f6c8e5d4f0596d5f6233065298b",
            "33dd2208fc0043deb0825dd113be0a17",
            "1a744a7734424a60bb5d25680a245f09",
            "ddf204d8fcf646089f88b5ace8331cb6",
            "7db06e65375f4a589c3ab496927e5077",
            "b3c5df7804734460909dceb1f1d7b4c9",
            "2303d297ba664d3c9974e0184c809303",
            "33dc4979bee246f8a3412fe0d295fff6",
            "94cb12e607334ea09dce03dc531f5a23",
            "e96149736b6b4514a4746ab23186a313",
            "bd37608c3f0b499ebc1e69b5f3816948",
            "e8dd91268e0045ad8eb417dfc1d868b8",
            "fda20e839a024f0eafe2f63382df1ef7",
            "b50542244cf04f269d9205d05b9a5bbf",
            "96d95d6142aa46ec86d7ea4c9745a916",
            "880e76736c704dec86bd8f775783a7a0",
            "128af9f623b9418a808895665ee64de1",
            "6bfd5df88f0840638c7c8c71ef26bb9b",
            "b8533915a9e54bcd987c11af4d7ab96b",
            "cd946eb9c8d1416c8333e746e203af4f",
            "5ffa54cc931840f68e25e3d4044abcf3",
            "6e1b57accd1448c091d761169e48089f",
            "98367c7b53374deba782b188d3366cf4",
            "5ac3183e32f0449fbb5134f54a6c6154",
            "973bd1d36e2f47f5a109b107917bd826",
            "acab0c1cb04145c484f4f28d9bc1a62e",
            "94c1bc18b2dd427280ff2e630126ec78",
            "3d72aca20c6e4f0e862b1a9a7012bff7",
            "26327201e02f48f0b4626b6d5cf1cc54",
            "78f2f508e41b4afb9db28934edce2f47",
            "a822908af4ee48adbc448435dcf74149",
            "2ec98087b6dd4f7fb6dbd74686817ef7",
            "27edd1008e32460aaf830ab61d21c3d2",
            "0b73b887443c44169353737d05b1886f",
            "21dc2e128c644986bc43a0d766c43995",
            "69c721d6602a48b28b8574bd2298dc2c",
            "42f258a45f2741c4af353be17dbf3939",
            "4bea93bed04d4c9a9a5324a8ba0a2970",
            "9be9608c8abb49b18ff08ccc39a732bb",
            "b6f2ecf8b60a486f96097187fbbe4008",
            "e2e266c033f2426b821a25d3bbd0ae51",
            "931e2d6f1beb49d0871e558fe16d1808",
            "a88ee4b5008b42279e1a8cd41b09bf9b",
            "c52337857cd643518e9d63cb2ad22d5c",
            "70620e7dbfdd4ca986b3f6cee7d79980",
            "d408f28f2e3346abaa411fb31c0e2593",
            "abf7a92f5430479999f3c928cc317afc",
            "b4844a131eef47d296aa5fd22078443e",
            "b1e911438ca448b0955334b969bf1c89",
            "a833b95ff46742a1b66bee0080159d4e",
            "b7a942616e02461891efe03c54cfcca0",
            "465ec40c38cc48f19f15357196fd81a0",
            "7ec7ebbd3f484d389c2d8b9f6beada67",
            "c8c930bbd5db4ce894da1d97aded1554",
            "f9562d155da445e9a9018340b4ef87a5",
            "6d8817653fd047729f5207825982c38e",
            "79a81e2de8ff415c8d3fab75261e0b30",
            "2bc0bb9dbdce4ddfa8c3c2b1680aaf0d",
            "420fd438ff524ad8a3feec79c327746a",
            "63bd42715c9a417f95d7596cdf9a7ce6",
            "7dc772fb00374450bce2e392c3e78a86",
            "e8ec85ab2b0141c8989b834cbe1cd653",
            "bce9103c101f4d4a833956c297b52989",
            "48459c2ace294c058323381f9cb8fd28",
            "ea6c87431d5f42fdafe75f7a7ac03406",
            "6e0e5ac2c26f4736af38eeba57a245d8",
            "8ddf6b358fba4560a61e09ac7f9aab50",
            "8de5ca6f817a46d5abd89cc83669a31a",
            "fd233fbf76904e3e808a6b32f2a67fae",
            "09f90ac4c22d490ca4031239cd5a476f",
            "8dbd98d447344e6ba8972059369b1117",
            "6c186bb52ce54f11936b7c2e4972d507",
            "c4b4f56457d146bbb1d7ddaa723439e9",
            "3ac4f4e84209474885af1ddaefc10b1d",
            "7e766b35ca4849569350161d8f552ced",
            "32f7951d2cb44b7a94acda04347554fc",
            "98f420b3a9af4a568a348963dc1737f2",
            "fc28ec331fb844b6b4dc9cd26d6b1b3a",
            "c72a40ffdad54bc489f09e603b89ca8c",
            "c05d1015cf864131a2c2f0619289a49f",
            "4dfb6c87b6ba4eb98ee825581d29a7e5",
            "da9aa96a5bfd48a291e5c8c3bf0a3c66",
            "49da9fe96f0f4da38b3f18a04a44c15a",
            "8001fec4a94f4c8fae3b9821d4405a81",
            "dad3312270bd4ed7a515530681ce2d2a",
            "8889ff24df6a4c11aa606ca09d4f1922",
            "40e5d11a14c149a0af6b1e311af1c6e0",
            "3ea9f0b96805458f91abf6e6008af638",
            "f839a3df7ac14f8f8f460666c94a0982",
            "d341f2e8f8934a9594b26d7ce976053b",
            "5e6753ab6c2f45b38188e33e5661c1c1",
            "22cc762d641a4fee960b53c2e904c260",
            "177703a0365a489ba37f19916f8cab76",
            "e71f2cfa0d5c47f1a5b52970f4ab2d5b",
            "432d630865f34073a95dad09223ef856",
            "aedeea8e47d349b7a5b5b7efb8150a01",
            "5d7fd9b95dfe427a869d79370d165633",
            "d4912c2bab4f43f28eb2c42381b1bebe",
            "8743e37c3f7b43dc85250dfaa2b5d4b7",
            "4e58f2f0255746f9ac4dd10ff88f4f2a",
            "48d59339321945debf949bbcfe3b58a5",
            "6c4078cee393462d90d86104ccc4ad95",
            "83557ec2b5bd4cf992e634a9946eb51d",
            "6c8493d2d1664a6a85d1d4e2434e77e4",
            "a5d0c12718844af28a53793d97de0dfb",
            "14a1ec7b1b1d4d898d0cd48112095380",
            "80c94873a029437ab210502dd0ecd0ac",
            "45fc263e92204c01bd214ff62efa0d7c",
            "724abd6b491940f3b63d10e6d1494203",
            "58865fd533f9469ab672e733b1cf478f",
            "e5df89440b394ac7b26a8608785ddd3e",
            "d51dbf05ebfd4c32adf20b9d66d3a983",
            "bc3668ffab5d4360b84175afb8befcc7",
            "73bc57ecd4884e1288945e85765af1b1",
            "4e6cb9b9ebc345e1aacb619113385a43",
            "aa7e8cd65c3946e5ac22afbaf879eb6a",
            "2749c3b25b17405280df30fb36446e7b",
            "c5684bf5f9934c7aa5c444d588f86522",
            "3e1571f26f7545d5b0cca8403c744981",
            "f67da6f30eb64d23a1cb92da4602edfc",
            "2c5cd90b0fc34d9a90b1da17f07a3c32",
            "5601d4503172451cbe6c038bba497af7",
            "6192e2b9702b4dd49ab3939a28d1f0e4",
            "767c31f98ac8495b98d476766c24628e",
            "2f6dcb0d6e8a4813abaeb2db48442c80",
            "ad312ae29ae64cd29685d1261cb863ea",
            "9da94f25a20f4b009fcbdf4f7a8a0adc",
            "d6b8c798a0df4742932193462fda8e48",
            "80df0451c3e948ecb718b8417f036c48",
            "37fcb72bd774471ea5dccd6a8cff9b8c",
            "a6dc4798ebc64330a4de82c3a1c7ddcb",
            "efd6ab60400b47d180a32193e8960a46",
            "004064fef2c44f9a95525f10639ae00c",
            "b401f602323847da8f2a1ee1391c36b5",
            "e5b7ca5e1a954a59b94be5a975e8b316",
            "3ac05b16ff35481cb478ca9fc5e657cd",
            "d65dd5abe4044bc4b2ac0452fea1af5a",
            "983503df5e3f4479a85c46931c401087",
            "9a7b3180b3b44877b38badc4eeeaa105",
            "39ce2e4ef05d466cb8821c15ea53a29f",
            "272febb331ce496ab1692f983b1b1902",
            "95156c08804f4cb4af5d6f2767b3a96d",
            "d31f13a878e1428b92a11a6187f2f5a2",
            "9082eb4bad3943e8b06eb78a0e3d7a8f"
          ]
        },
        "id": "cfw97Tv_pCQw",
        "outputId": "3180aad7-191f-4d40-c08e-650803442bf8"
      },
      "execution_count": null,
      "outputs": [
        {
          "output_type": "stream",
          "name": "stdout",
          "text": [
            "⏳ Монтирую Google Drive...\n",
            "Drive already mounted at /content/drive; to attempt to forcibly remount, call drive.mount(\"/content/drive\", force_remount=True).\n",
            "✅ Google Drive смонтирован\n",
            "\n",
            "🆕 Файл с результатами не найден, создаем новый\n",
            "\n",
            "🔍 Найдено 2219 файлов для обработки\n",
            "\n",
            "🚀 Обрабатываю файл 1/2219: part_001.txt\n"
          ]
        },
        {
          "output_type": "display_data",
          "data": {
            "text/plain": [
              "Анализ 1-грамм:   0%|          | 0/2 [00:00<?, ?it/s]"
            ],
            "application/vnd.jupyter.widget-view+json": {
              "version_major": 2,
              "version_minor": 0,
              "model_id": "00b1a59526854ed293f0e2a74d3ebd88"
            }
          },
          "metadata": {}
        },
        {
          "output_type": "stream",
          "name": "stdout",
          "text": [
            "\n",
            "📊 Итоговая статистика 1-грамм:\n",
            "Общее количество 1-грамм: 10021\n",
            "Количество уникальных 1-грамм: 3823\n",
            "Коэффициент уникальности: 38.15%\n",
            "💾 Промежуточные результаты сохранены в /content/drive/MyDrive/K_means/split_20/train_20/temp_metrics.csv\n",
            "✅ Файл обработан. Всего записей: 1\n",
            "\n",
            "🚀 Обрабатываю файл 2/2219: part_007.txt\n"
          ]
        },
        {
          "output_type": "display_data",
          "data": {
            "text/plain": [
              "Анализ 1-грамм:   0%|          | 0/2 [00:00<?, ?it/s]"
            ],
            "application/vnd.jupyter.widget-view+json": {
              "version_major": 2,
              "version_minor": 0,
              "model_id": "661b07f9051a4d3fb4f5e165b5deee52"
            }
          },
          "metadata": {}
        },
        {
          "output_type": "stream",
          "name": "stdout",
          "text": [
            "\n",
            "📊 Итоговая статистика 1-грамм:\n",
            "Общее количество 1-грамм: 10197\n",
            "Количество уникальных 1-грамм: 3520\n",
            "Коэффициент уникальности: 34.52%\n",
            "💾 Промежуточные результаты сохранены в /content/drive/MyDrive/K_means/split_20/train_20/temp_metrics.csv\n",
            "✅ Файл обработан. Всего записей: 2\n",
            "\n",
            "🚀 Обрабатываю файл 3/2219: part_009.txt\n"
          ]
        },
        {
          "output_type": "display_data",
          "data": {
            "text/plain": [
              "Анализ 1-грамм:   0%|          | 0/2 [00:00<?, ?it/s]"
            ],
            "application/vnd.jupyter.widget-view+json": {
              "version_major": 2,
              "version_minor": 0,
              "model_id": "070e60787c43456eb83034d255b20482"
            }
          },
          "metadata": {}
        },
        {
          "output_type": "stream",
          "name": "stdout",
          "text": [
            "\n",
            "📊 Итоговая статистика 1-грамм:\n",
            "Общее количество 1-грамм: 9280\n",
            "Количество уникальных 1-грамм: 3417\n",
            "Коэффициент уникальности: 36.82%\n",
            "💾 Промежуточные результаты сохранены в /content/drive/MyDrive/K_means/split_20/train_20/temp_metrics.csv\n",
            "✅ Файл обработан. Всего записей: 3\n",
            "\n",
            "🚀 Обрабатываю файл 4/2219: part_010.txt\n"
          ]
        },
        {
          "output_type": "display_data",
          "data": {
            "text/plain": [
              "Анализ 1-грамм:   0%|          | 0/2 [00:00<?, ?it/s]"
            ],
            "application/vnd.jupyter.widget-view+json": {
              "version_major": 2,
              "version_minor": 0,
              "model_id": "e259ca9aa0f2405e91fab6c13edda753"
            }
          },
          "metadata": {}
        },
        {
          "output_type": "stream",
          "name": "stdout",
          "text": [
            "\n",
            "📊 Итоговая статистика 1-грамм:\n",
            "Общее количество 1-грамм: 9372\n",
            "Количество уникальных 1-грамм: 3479\n",
            "Коэффициент уникальности: 37.12%\n",
            "💾 Промежуточные результаты сохранены в /content/drive/MyDrive/K_means/split_20/train_20/temp_metrics.csv\n",
            "✅ Файл обработан. Всего записей: 4\n",
            "\n",
            "🚀 Обрабатываю файл 5/2219: part_011.txt\n"
          ]
        },
        {
          "output_type": "display_data",
          "data": {
            "text/plain": [
              "Анализ 1-грамм:   0%|          | 0/2 [00:00<?, ?it/s]"
            ],
            "application/vnd.jupyter.widget-view+json": {
              "version_major": 2,
              "version_minor": 0,
              "model_id": "fea23d3c40b64e9b97d60e38f8f9b899"
            }
          },
          "metadata": {}
        },
        {
          "output_type": "stream",
          "name": "stdout",
          "text": [
            "\n",
            "📊 Итоговая статистика 1-грамм:\n",
            "Общее количество 1-грамм: 9041\n",
            "Количество уникальных 1-грамм: 3381\n",
            "Коэффициент уникальности: 37.40%\n",
            "💾 Промежуточные результаты сохранены в /content/drive/MyDrive/K_means/split_20/train_20/temp_metrics.csv\n",
            "✅ Файл обработан. Всего записей: 5\n",
            "\n",
            "🚀 Обрабатываю файл 6/2219: part_013.txt\n"
          ]
        },
        {
          "output_type": "display_data",
          "data": {
            "text/plain": [
              "Анализ 1-грамм:   0%|          | 0/2 [00:00<?, ?it/s]"
            ],
            "application/vnd.jupyter.widget-view+json": {
              "version_major": 2,
              "version_minor": 0,
              "model_id": "a8e4bf1e4518447e9b2353224bdd8eff"
            }
          },
          "metadata": {}
        },
        {
          "output_type": "stream",
          "name": "stdout",
          "text": [
            "\n",
            "📊 Итоговая статистика 1-грамм:\n",
            "Общее количество 1-грамм: 10754\n",
            "Количество уникальных 1-грамм: 3519\n",
            "Коэффициент уникальности: 32.72%\n",
            "💾 Промежуточные результаты сохранены в /content/drive/MyDrive/K_means/split_20/train_20/temp_metrics.csv\n",
            "✅ Файл обработан. Всего записей: 6\n",
            "\n",
            "🚀 Обрабатываю файл 7/2219: part_014.txt\n"
          ]
        },
        {
          "output_type": "display_data",
          "data": {
            "text/plain": [
              "Анализ 1-грамм:   0%|          | 0/2 [00:00<?, ?it/s]"
            ],
            "application/vnd.jupyter.widget-view+json": {
              "version_major": 2,
              "version_minor": 0,
              "model_id": "0762272dface47b9815a75a84f9c741d"
            }
          },
          "metadata": {}
        },
        {
          "output_type": "stream",
          "name": "stdout",
          "text": [
            "\n",
            "📊 Итоговая статистика 1-грамм:\n",
            "Общее количество 1-грамм: 9586\n",
            "Количество уникальных 1-грамм: 3243\n",
            "Коэффициент уникальности: 33.83%\n",
            "💾 Промежуточные результаты сохранены в /content/drive/MyDrive/K_means/split_20/train_20/temp_metrics.csv\n",
            "✅ Файл обработан. Всего записей: 7\n",
            "\n",
            "🚀 Обрабатываю файл 8/2219: part_015.txt\n"
          ]
        },
        {
          "output_type": "display_data",
          "data": {
            "text/plain": [
              "Анализ 1-грамм:   0%|          | 0/2 [00:00<?, ?it/s]"
            ],
            "application/vnd.jupyter.widget-view+json": {
              "version_major": 2,
              "version_minor": 0,
              "model_id": "71175a6a6b614c5a80878fdfc10e65ef"
            }
          },
          "metadata": {}
        },
        {
          "output_type": "stream",
          "name": "stdout",
          "text": [
            "\n",
            "📊 Итоговая статистика 1-грамм:\n",
            "Общее количество 1-грамм: 9774\n",
            "Количество уникальных 1-грамм: 3184\n",
            "Коэффициент уникальности: 32.58%\n",
            "💾 Промежуточные результаты сохранены в /content/drive/MyDrive/K_means/split_20/train_20/temp_metrics.csv\n",
            "✅ Файл обработан. Всего записей: 8\n",
            "\n",
            "🚀 Обрабатываю файл 9/2219: part_016.txt\n"
          ]
        },
        {
          "output_type": "display_data",
          "data": {
            "text/plain": [
              "Анализ 1-грамм:   0%|          | 0/2 [00:00<?, ?it/s]"
            ],
            "application/vnd.jupyter.widget-view+json": {
              "version_major": 2,
              "version_minor": 0,
              "model_id": "711fc61b948b45b98e13cda485ed6ab8"
            }
          },
          "metadata": {}
        },
        {
          "output_type": "stream",
          "name": "stdout",
          "text": [
            "\n",
            "📊 Итоговая статистика 1-грамм:\n",
            "Общее количество 1-грамм: 9509\n",
            "Количество уникальных 1-грамм: 3332\n",
            "Коэффициент уникальности: 35.04%\n",
            "💾 Промежуточные результаты сохранены в /content/drive/MyDrive/K_means/split_20/train_20/temp_metrics.csv\n",
            "✅ Файл обработан. Всего записей: 9\n",
            "\n",
            "🚀 Обрабатываю файл 10/2219: part_018.txt\n"
          ]
        },
        {
          "output_type": "display_data",
          "data": {
            "text/plain": [
              "Анализ 1-грамм:   0%|          | 0/2 [00:00<?, ?it/s]"
            ],
            "application/vnd.jupyter.widget-view+json": {
              "version_major": 2,
              "version_minor": 0,
              "model_id": "b21052625f5b4e8db961759fc6344d39"
            }
          },
          "metadata": {}
        },
        {
          "output_type": "stream",
          "name": "stdout",
          "text": [
            "\n",
            "📊 Итоговая статистика 1-грамм:\n",
            "Общее количество 1-грамм: 9563\n",
            "Количество уникальных 1-грамм: 2924\n",
            "Коэффициент уникальности: 30.58%\n",
            "💾 Промежуточные результаты сохранены в /content/drive/MyDrive/K_means/split_20/train_20/temp_metrics.csv\n",
            "✅ Файл обработан. Всего записей: 10\n",
            "\n",
            "🚀 Обрабатываю файл 11/2219: part_023.txt\n"
          ]
        },
        {
          "output_type": "display_data",
          "data": {
            "text/plain": [
              "Анализ 1-грамм:   0%|          | 0/2 [00:00<?, ?it/s]"
            ],
            "application/vnd.jupyter.widget-view+json": {
              "version_major": 2,
              "version_minor": 0,
              "model_id": "036b890f9256490397dfd2ee1f3688e9"
            }
          },
          "metadata": {}
        },
        {
          "output_type": "stream",
          "name": "stdout",
          "text": [
            "\n",
            "📊 Итоговая статистика 1-грамм:\n",
            "Общее количество 1-грамм: 7835\n",
            "Количество уникальных 1-грамм: 2730\n",
            "Коэффициент уникальности: 34.84%\n",
            "💾 Промежуточные результаты сохранены в /content/drive/MyDrive/K_means/split_20/train_20/temp_metrics.csv\n",
            "✅ Файл обработан. Всего записей: 11\n",
            "\n",
            "🚀 Обрабатываю файл 12/2219: part_025.txt\n"
          ]
        },
        {
          "output_type": "display_data",
          "data": {
            "text/plain": [
              "Анализ 1-грамм:   0%|          | 0/2 [00:00<?, ?it/s]"
            ],
            "application/vnd.jupyter.widget-view+json": {
              "version_major": 2,
              "version_minor": 0,
              "model_id": "b982984930c24eaf86d0e8b456ba1635"
            }
          },
          "metadata": {}
        },
        {
          "output_type": "stream",
          "name": "stdout",
          "text": [
            "\n",
            "📊 Итоговая статистика 1-грамм:\n",
            "Общее количество 1-грамм: 9931\n",
            "Количество уникальных 1-грамм: 3213\n",
            "Коэффициент уникальности: 32.35%\n",
            "💾 Промежуточные результаты сохранены в /content/drive/MyDrive/K_means/split_20/train_20/temp_metrics.csv\n",
            "✅ Файл обработан. Всего записей: 12\n",
            "\n",
            "🚀 Обрабатываю файл 13/2219: part_026.txt\n"
          ]
        },
        {
          "output_type": "display_data",
          "data": {
            "text/plain": [
              "Анализ 1-грамм:   0%|          | 0/2 [00:00<?, ?it/s]"
            ],
            "application/vnd.jupyter.widget-view+json": {
              "version_major": 2,
              "version_minor": 0,
              "model_id": "f9d72ce3c826460393c25470ecda00a9"
            }
          },
          "metadata": {}
        },
        {
          "output_type": "stream",
          "name": "stdout",
          "text": [
            "\n",
            "📊 Итоговая статистика 1-грамм:\n",
            "Общее количество 1-грамм: 9570\n",
            "Количество уникальных 1-грамм: 2943\n",
            "Коэффициент уникальности: 30.75%\n",
            "💾 Промежуточные результаты сохранены в /content/drive/MyDrive/K_means/split_20/train_20/temp_metrics.csv\n",
            "✅ Файл обработан. Всего записей: 13\n",
            "\n",
            "🚀 Обрабатываю файл 14/2219: part_031.txt\n"
          ]
        },
        {
          "output_type": "display_data",
          "data": {
            "text/plain": [
              "Анализ 1-грамм:   0%|          | 0/2 [00:00<?, ?it/s]"
            ],
            "application/vnd.jupyter.widget-view+json": {
              "version_major": 2,
              "version_minor": 0,
              "model_id": "4bd9fbb593364c56adcfe16863e4c4ff"
            }
          },
          "metadata": {}
        },
        {
          "output_type": "stream",
          "name": "stdout",
          "text": [
            "\n",
            "📊 Итоговая статистика 1-грамм:\n",
            "Общее количество 1-грамм: 8722\n",
            "Количество уникальных 1-грамм: 2583\n",
            "Коэффициент уникальности: 29.61%\n",
            "💾 Промежуточные результаты сохранены в /content/drive/MyDrive/K_means/split_20/train_20/temp_metrics.csv\n",
            "✅ Файл обработан. Всего записей: 14\n",
            "\n",
            "🚀 Обрабатываю файл 15/2219: part_033.txt\n"
          ]
        },
        {
          "output_type": "display_data",
          "data": {
            "text/plain": [
              "Анализ 1-грамм:   0%|          | 0/2 [00:00<?, ?it/s]"
            ],
            "application/vnd.jupyter.widget-view+json": {
              "version_major": 2,
              "version_minor": 0,
              "model_id": "f35533599f724cfe90d39d0da13dcaed"
            }
          },
          "metadata": {}
        },
        {
          "output_type": "stream",
          "name": "stdout",
          "text": [
            "\n",
            "📊 Итоговая статистика 1-грамм:\n",
            "Общее количество 1-грамм: 8598\n",
            "Количество уникальных 1-грамм: 2527\n",
            "Коэффициент уникальности: 29.39%\n",
            "💾 Промежуточные результаты сохранены в /content/drive/MyDrive/K_means/split_20/train_20/temp_metrics.csv\n",
            "✅ Файл обработан. Всего записей: 15\n",
            "\n",
            "🚀 Обрабатываю файл 16/2219: part_034.txt\n"
          ]
        },
        {
          "output_type": "display_data",
          "data": {
            "text/plain": [
              "Анализ 1-грамм:   0%|          | 0/2 [00:00<?, ?it/s]"
            ],
            "application/vnd.jupyter.widget-view+json": {
              "version_major": 2,
              "version_minor": 0,
              "model_id": "f7c810c2f5b849848ae33927a3c053a6"
            }
          },
          "metadata": {}
        },
        {
          "output_type": "stream",
          "name": "stdout",
          "text": [
            "\n",
            "📊 Итоговая статистика 1-грамм:\n",
            "Общее количество 1-грамм: 8903\n",
            "Количество уникальных 1-грамм: 3144\n",
            "Коэффициент уникальности: 35.31%\n",
            "💾 Промежуточные результаты сохранены в /content/drive/MyDrive/K_means/split_20/train_20/temp_metrics.csv\n",
            "✅ Файл обработан. Всего записей: 16\n",
            "\n",
            "🚀 Обрабатываю файл 17/2219: part_035.txt\n"
          ]
        },
        {
          "output_type": "display_data",
          "data": {
            "text/plain": [
              "Анализ 1-грамм:   0%|          | 0/2 [00:00<?, ?it/s]"
            ],
            "application/vnd.jupyter.widget-view+json": {
              "version_major": 2,
              "version_minor": 0,
              "model_id": "fa4e54f66faa424faa1c4fa88fbf0ea1"
            }
          },
          "metadata": {}
        },
        {
          "output_type": "stream",
          "name": "stdout",
          "text": [
            "\n",
            "📊 Итоговая статистика 1-грамм:\n",
            "Общее количество 1-грамм: 8032\n",
            "Количество уникальных 1-грамм: 2451\n",
            "Коэффициент уникальности: 30.52%\n",
            "💾 Промежуточные результаты сохранены в /content/drive/MyDrive/K_means/split_20/train_20/temp_metrics.csv\n",
            "✅ Файл обработан. Всего записей: 17\n",
            "\n",
            "🚀 Обрабатываю файл 18/2219: part_036.txt\n"
          ]
        },
        {
          "output_type": "display_data",
          "data": {
            "text/plain": [
              "Анализ 1-грамм:   0%|          | 0/2 [00:00<?, ?it/s]"
            ],
            "application/vnd.jupyter.widget-view+json": {
              "version_major": 2,
              "version_minor": 0,
              "model_id": "d5004b9430c44061896ad5df349b6838"
            }
          },
          "metadata": {}
        },
        {
          "output_type": "stream",
          "name": "stdout",
          "text": [
            "\n",
            "📊 Итоговая статистика 1-грамм:\n",
            "Общее количество 1-грамм: 9959\n",
            "Количество уникальных 1-грамм: 3435\n",
            "Коэффициент уникальности: 34.49%\n",
            "💾 Промежуточные результаты сохранены в /content/drive/MyDrive/K_means/split_20/train_20/temp_metrics.csv\n",
            "✅ Файл обработан. Всего записей: 18\n",
            "\n",
            "🚀 Обрабатываю файл 19/2219: part_037.txt\n"
          ]
        },
        {
          "output_type": "display_data",
          "data": {
            "text/plain": [
              "Анализ 1-грамм:   0%|          | 0/2 [00:00<?, ?it/s]"
            ],
            "application/vnd.jupyter.widget-view+json": {
              "version_major": 2,
              "version_minor": 0,
              "model_id": "6f380387e06b4b56a8abd07cd99db5eb"
            }
          },
          "metadata": {}
        },
        {
          "output_type": "stream",
          "name": "stdout",
          "text": [
            "\n",
            "📊 Итоговая статистика 1-грамм:\n",
            "Общее количество 1-грамм: 10074\n",
            "Количество уникальных 1-грамм: 3557\n",
            "Коэффициент уникальности: 35.31%\n",
            "💾 Промежуточные результаты сохранены в /content/drive/MyDrive/K_means/split_20/train_20/temp_metrics.csv\n",
            "✅ Файл обработан. Всего записей: 19\n",
            "\n",
            "🚀 Обрабатываю файл 20/2219: part_040.txt\n"
          ]
        },
        {
          "output_type": "display_data",
          "data": {
            "text/plain": [
              "Анализ 1-грамм:   0%|          | 0/2 [00:00<?, ?it/s]"
            ],
            "application/vnd.jupyter.widget-view+json": {
              "version_major": 2,
              "version_minor": 0,
              "model_id": "bb7f0700ad3147018e566e6fba3acd17"
            }
          },
          "metadata": {}
        },
        {
          "output_type": "stream",
          "name": "stdout",
          "text": [
            "\n",
            "📊 Итоговая статистика 1-грамм:\n",
            "Общее количество 1-грамм: 8959\n",
            "Количество уникальных 1-грамм: 2392\n",
            "Коэффициент уникальности: 26.70%\n",
            "💾 Промежуточные результаты сохранены в /content/drive/MyDrive/K_means/split_20/train_20/temp_metrics.csv\n",
            "✅ Файл обработан. Всего записей: 20\n",
            "\n",
            "🚀 Обрабатываю файл 21/2219: part_041.txt\n"
          ]
        },
        {
          "output_type": "display_data",
          "data": {
            "text/plain": [
              "Анализ 1-грамм:   0%|          | 0/2 [00:00<?, ?it/s]"
            ],
            "application/vnd.jupyter.widget-view+json": {
              "version_major": 2,
              "version_minor": 0,
              "model_id": "49085cf16efe424bbf846217ecc5f90d"
            }
          },
          "metadata": {}
        },
        {
          "output_type": "stream",
          "name": "stdout",
          "text": [
            "\n",
            "📊 Итоговая статистика 1-грамм:\n",
            "Общее количество 1-грамм: 9906\n",
            "Количество уникальных 1-грамм: 3064\n",
            "Коэффициент уникальности: 30.93%\n",
            "💾 Промежуточные результаты сохранены в /content/drive/MyDrive/K_means/split_20/train_20/temp_metrics.csv\n",
            "✅ Файл обработан. Всего записей: 21\n",
            "\n",
            "🚀 Обрабатываю файл 22/2219: part_045.txt\n"
          ]
        },
        {
          "output_type": "display_data",
          "data": {
            "text/plain": [
              "Анализ 1-грамм:   0%|          | 0/2 [00:00<?, ?it/s]"
            ],
            "application/vnd.jupyter.widget-view+json": {
              "version_major": 2,
              "version_minor": 0,
              "model_id": "c4abec6d0b81419caceeb78f3a55f42a"
            }
          },
          "metadata": {}
        },
        {
          "output_type": "stream",
          "name": "stdout",
          "text": [
            "\n",
            "📊 Итоговая статистика 1-грамм:\n",
            "Общее количество 1-грамм: 10312\n",
            "Количество уникальных 1-грамм: 3614\n",
            "Коэффициент уникальности: 35.05%\n",
            "💾 Промежуточные результаты сохранены в /content/drive/MyDrive/K_means/split_20/train_20/temp_metrics.csv\n",
            "✅ Файл обработан. Всего записей: 22\n",
            "\n",
            "🚀 Обрабатываю файл 23/2219: part_046.txt\n"
          ]
        },
        {
          "output_type": "display_data",
          "data": {
            "text/plain": [
              "Анализ 1-грамм:   0%|          | 0/2 [00:00<?, ?it/s]"
            ],
            "application/vnd.jupyter.widget-view+json": {
              "version_major": 2,
              "version_minor": 0,
              "model_id": "373aa22220934f73b295366b9e847598"
            }
          },
          "metadata": {}
        },
        {
          "output_type": "stream",
          "name": "stdout",
          "text": [
            "\n",
            "📊 Итоговая статистика 1-грамм:\n",
            "Общее количество 1-грамм: 10346\n",
            "Количество уникальных 1-грамм: 3378\n",
            "Коэффициент уникальности: 32.65%\n",
            "💾 Промежуточные результаты сохранены в /content/drive/MyDrive/K_means/split_20/train_20/temp_metrics.csv\n",
            "✅ Файл обработан. Всего записей: 23\n",
            "\n",
            "🚀 Обрабатываю файл 24/2219: part_047.txt\n"
          ]
        },
        {
          "output_type": "display_data",
          "data": {
            "text/plain": [
              "Анализ 1-грамм:   0%|          | 0/2 [00:00<?, ?it/s]"
            ],
            "application/vnd.jupyter.widget-view+json": {
              "version_major": 2,
              "version_minor": 0,
              "model_id": "7e9f379098544e71b080f3c5062a3f11"
            }
          },
          "metadata": {}
        },
        {
          "output_type": "stream",
          "name": "stdout",
          "text": [
            "\n",
            "📊 Итоговая статистика 1-грамм:\n",
            "Общее количество 1-грамм: 10314\n",
            "Количество уникальных 1-грамм: 3522\n",
            "Коэффициент уникальности: 34.15%\n",
            "💾 Промежуточные результаты сохранены в /content/drive/MyDrive/K_means/split_20/train_20/temp_metrics.csv\n",
            "✅ Файл обработан. Всего записей: 24\n",
            "\n",
            "🚀 Обрабатываю файл 25/2219: part_049.txt\n"
          ]
        },
        {
          "output_type": "display_data",
          "data": {
            "text/plain": [
              "Анализ 1-грамм:   0%|          | 0/2 [00:00<?, ?it/s]"
            ],
            "application/vnd.jupyter.widget-view+json": {
              "version_major": 2,
              "version_minor": 0,
              "model_id": "ae783c4c7f1c438999d6f71b7d0f94dc"
            }
          },
          "metadata": {}
        },
        {
          "output_type": "stream",
          "name": "stdout",
          "text": [
            "\n",
            "📊 Итоговая статистика 1-грамм:\n",
            "Общее количество 1-грамм: 10554\n",
            "Количество уникальных 1-грамм: 3827\n",
            "Коэффициент уникальности: 36.26%\n",
            "💾 Промежуточные результаты сохранены в /content/drive/MyDrive/K_means/split_20/train_20/temp_metrics.csv\n",
            "✅ Файл обработан. Всего записей: 25\n",
            "\n",
            "🚀 Обрабатываю файл 26/2219: part_052.txt\n"
          ]
        },
        {
          "output_type": "display_data",
          "data": {
            "text/plain": [
              "Анализ 1-грамм:   0%|          | 0/2 [00:00<?, ?it/s]"
            ],
            "application/vnd.jupyter.widget-view+json": {
              "version_major": 2,
              "version_minor": 0,
              "model_id": "9f3d2318ae58423a881abede3dd52dd2"
            }
          },
          "metadata": {}
        },
        {
          "output_type": "stream",
          "name": "stdout",
          "text": [
            "\n",
            "📊 Итоговая статистика 1-грамм:\n",
            "Общее количество 1-грамм: 8869\n",
            "Количество уникальных 1-грамм: 2511\n",
            "Коэффициент уникальности: 28.31%\n",
            "💾 Промежуточные результаты сохранены в /content/drive/MyDrive/K_means/split_20/train_20/temp_metrics.csv\n",
            "✅ Файл обработан. Всего записей: 26\n",
            "\n",
            "🚀 Обрабатываю файл 27/2219: part_053.txt\n"
          ]
        },
        {
          "output_type": "display_data",
          "data": {
            "text/plain": [
              "Анализ 1-грамм:   0%|          | 0/2 [00:00<?, ?it/s]"
            ],
            "application/vnd.jupyter.widget-view+json": {
              "version_major": 2,
              "version_minor": 0,
              "model_id": "24afb213226a4170aaae0f2abd6c728d"
            }
          },
          "metadata": {}
        },
        {
          "output_type": "stream",
          "name": "stdout",
          "text": [
            "\n",
            "📊 Итоговая статистика 1-грамм:\n",
            "Общее количество 1-грамм: 10156\n",
            "Количество уникальных 1-грамм: 3613\n",
            "Коэффициент уникальности: 35.58%\n",
            "💾 Промежуточные результаты сохранены в /content/drive/MyDrive/K_means/split_20/train_20/temp_metrics.csv\n",
            "✅ Файл обработан. Всего записей: 27\n",
            "\n",
            "🚀 Обрабатываю файл 28/2219: part_054.txt\n"
          ]
        },
        {
          "output_type": "display_data",
          "data": {
            "text/plain": [
              "Анализ 1-грамм:   0%|          | 0/2 [00:00<?, ?it/s]"
            ],
            "application/vnd.jupyter.widget-view+json": {
              "version_major": 2,
              "version_minor": 0,
              "model_id": "b204ec62636a408db34df0b3d16ce57b"
            }
          },
          "metadata": {}
        },
        {
          "output_type": "stream",
          "name": "stdout",
          "text": [
            "\n",
            "📊 Итоговая статистика 1-грамм:\n",
            "Общее количество 1-грамм: 9741\n",
            "Количество уникальных 1-грамм: 3349\n",
            "Коэффициент уникальности: 34.38%\n",
            "💾 Промежуточные результаты сохранены в /content/drive/MyDrive/K_means/split_20/train_20/temp_metrics.csv\n",
            "✅ Файл обработан. Всего записей: 28\n",
            "\n",
            "🚀 Обрабатываю файл 29/2219: part_055.txt\n"
          ]
        },
        {
          "output_type": "display_data",
          "data": {
            "text/plain": [
              "Анализ 1-грамм:   0%|          | 0/2 [00:00<?, ?it/s]"
            ],
            "application/vnd.jupyter.widget-view+json": {
              "version_major": 2,
              "version_minor": 0,
              "model_id": "dd735c284a29439094117e5cbc6ea89b"
            }
          },
          "metadata": {}
        },
        {
          "output_type": "stream",
          "name": "stdout",
          "text": [
            "\n",
            "📊 Итоговая статистика 1-грамм:\n",
            "Общее количество 1-грамм: 9309\n",
            "Количество уникальных 1-грамм: 3297\n",
            "Коэффициент уникальности: 35.42%\n",
            "💾 Промежуточные результаты сохранены в /content/drive/MyDrive/K_means/split_20/train_20/temp_metrics.csv\n",
            "✅ Файл обработан. Всего записей: 29\n",
            "\n",
            "🚀 Обрабатываю файл 30/2219: part_057.txt\n"
          ]
        },
        {
          "output_type": "display_data",
          "data": {
            "text/plain": [
              "Анализ 1-грамм:   0%|          | 0/2 [00:00<?, ?it/s]"
            ],
            "application/vnd.jupyter.widget-view+json": {
              "version_major": 2,
              "version_minor": 0,
              "model_id": "d4bb8ceb23db4f50b619633f3ccc14c7"
            }
          },
          "metadata": {}
        },
        {
          "output_type": "stream",
          "name": "stdout",
          "text": [
            "\n",
            "📊 Итоговая статистика 1-грамм:\n",
            "Общее количество 1-грамм: 6689\n",
            "Количество уникальных 1-грамм: 2373\n",
            "Коэффициент уникальности: 35.48%\n",
            "💾 Промежуточные результаты сохранены в /content/drive/MyDrive/K_means/split_20/train_20/temp_metrics.csv\n",
            "✅ Файл обработан. Всего записей: 30\n",
            "\n",
            "🚀 Обрабатываю файл 31/2219: part_058.txt\n"
          ]
        },
        {
          "output_type": "display_data",
          "data": {
            "text/plain": [
              "Анализ 1-грамм:   0%|          | 0/2 [00:00<?, ?it/s]"
            ],
            "application/vnd.jupyter.widget-view+json": {
              "version_major": 2,
              "version_minor": 0,
              "model_id": "780d0477990b49aca717d51bd70debe8"
            }
          },
          "metadata": {}
        },
        {
          "output_type": "stream",
          "name": "stdout",
          "text": [
            "\n",
            "📊 Итоговая статистика 1-грамм:\n",
            "Общее количество 1-грамм: 5540\n",
            "Количество уникальных 1-грамм: 1789\n",
            "Коэффициент уникальности: 32.29%\n",
            "💾 Промежуточные результаты сохранены в /content/drive/MyDrive/K_means/split_20/train_20/temp_metrics.csv\n",
            "✅ Файл обработан. Всего записей: 31\n",
            "\n",
            "🚀 Обрабатываю файл 32/2219: part_060.txt\n"
          ]
        },
        {
          "output_type": "display_data",
          "data": {
            "text/plain": [
              "Анализ 1-грамм:   0%|          | 0/2 [00:00<?, ?it/s]"
            ],
            "application/vnd.jupyter.widget-view+json": {
              "version_major": 2,
              "version_minor": 0,
              "model_id": "5eb25e80a02e4af48d97a4efe1923605"
            }
          },
          "metadata": {}
        },
        {
          "output_type": "stream",
          "name": "stdout",
          "text": [
            "\n",
            "📊 Итоговая статистика 1-грамм:\n",
            "Общее количество 1-грамм: 5779\n",
            "Количество уникальных 1-грамм: 1850\n",
            "Коэффициент уникальности: 32.01%\n",
            "💾 Промежуточные результаты сохранены в /content/drive/MyDrive/K_means/split_20/train_20/temp_metrics.csv\n",
            "✅ Файл обработан. Всего записей: 32\n",
            "\n",
            "🚀 Обрабатываю файл 33/2219: part_061.txt\n"
          ]
        },
        {
          "output_type": "display_data",
          "data": {
            "text/plain": [
              "Анализ 1-грамм:   0%|          | 0/2 [00:00<?, ?it/s]"
            ],
            "application/vnd.jupyter.widget-view+json": {
              "version_major": 2,
              "version_minor": 0,
              "model_id": "8ca36db31bce49aba225a4f81d4c47e4"
            }
          },
          "metadata": {}
        },
        {
          "output_type": "stream",
          "name": "stdout",
          "text": [
            "\n",
            "📊 Итоговая статистика 1-грамм:\n",
            "Общее количество 1-грамм: 6698\n",
            "Количество уникальных 1-грамм: 2262\n",
            "Коэффициент уникальности: 33.77%\n",
            "💾 Промежуточные результаты сохранены в /content/drive/MyDrive/K_means/split_20/train_20/temp_metrics.csv\n",
            "✅ Файл обработан. Всего записей: 33\n",
            "\n",
            "🚀 Обрабатываю файл 34/2219: part_063.txt\n"
          ]
        },
        {
          "output_type": "display_data",
          "data": {
            "text/plain": [
              "Анализ 1-грамм:   0%|          | 0/2 [00:00<?, ?it/s]"
            ],
            "application/vnd.jupyter.widget-view+json": {
              "version_major": 2,
              "version_minor": 0,
              "model_id": "dced7e11d7a545afb561ca2f0906faf7"
            }
          },
          "metadata": {}
        },
        {
          "output_type": "stream",
          "name": "stdout",
          "text": [
            "\n",
            "📊 Итоговая статистика 1-грамм:\n",
            "Общее количество 1-грамм: 9697\n",
            "Количество уникальных 1-грамм: 2049\n",
            "Коэффициент уникальности: 21.13%\n",
            "💾 Промежуточные результаты сохранены в /content/drive/MyDrive/K_means/split_20/train_20/temp_metrics.csv\n",
            "✅ Файл обработан. Всего записей: 34\n",
            "\n",
            "🚀 Обрабатываю файл 35/2219: part_064.txt\n"
          ]
        },
        {
          "output_type": "display_data",
          "data": {
            "text/plain": [
              "Анализ 1-грамм:   0%|          | 0/2 [00:00<?, ?it/s]"
            ],
            "application/vnd.jupyter.widget-view+json": {
              "version_major": 2,
              "version_minor": 0,
              "model_id": "5d568cd87dc5432fa2f5f498b3c48c2f"
            }
          },
          "metadata": {}
        },
        {
          "output_type": "stream",
          "name": "stdout",
          "text": [
            "\n",
            "📊 Итоговая статистика 1-грамм:\n",
            "Общее количество 1-грамм: 10115\n",
            "Количество уникальных 1-грамм: 1577\n",
            "Коэффициент уникальности: 15.59%\n",
            "💾 Промежуточные результаты сохранены в /content/drive/MyDrive/K_means/split_20/train_20/temp_metrics.csv\n",
            "✅ Файл обработан. Всего записей: 35\n",
            "\n",
            "🚀 Обрабатываю файл 36/2219: part_065.txt\n"
          ]
        },
        {
          "output_type": "display_data",
          "data": {
            "text/plain": [
              "Анализ 1-грамм:   0%|          | 0/2 [00:00<?, ?it/s]"
            ],
            "application/vnd.jupyter.widget-view+json": {
              "version_major": 2,
              "version_minor": 0,
              "model_id": "c02a65a25fb448d1a498e5bae62f6a7b"
            }
          },
          "metadata": {}
        },
        {
          "output_type": "stream",
          "name": "stdout",
          "text": [
            "\n",
            "📊 Итоговая статистика 1-грамм:\n",
            "Общее количество 1-грамм: 7570\n",
            "Количество уникальных 1-грамм: 2847\n",
            "Коэффициент уникальности: 37.61%\n",
            "💾 Промежуточные результаты сохранены в /content/drive/MyDrive/K_means/split_20/train_20/temp_metrics.csv\n",
            "✅ Файл обработан. Всего записей: 36\n",
            "\n",
            "🚀 Обрабатываю файл 37/2219: part_066.txt\n"
          ]
        },
        {
          "output_type": "display_data",
          "data": {
            "text/plain": [
              "Анализ 1-грамм:   0%|          | 0/2 [00:00<?, ?it/s]"
            ],
            "application/vnd.jupyter.widget-view+json": {
              "version_major": 2,
              "version_minor": 0,
              "model_id": "9333ac75d6de45fbbb014f7afd00e864"
            }
          },
          "metadata": {}
        },
        {
          "output_type": "stream",
          "name": "stdout",
          "text": [
            "\n",
            "📊 Итоговая статистика 1-грамм:\n",
            "Общее количество 1-грамм: 10337\n",
            "Количество уникальных 1-грамм: 3481\n",
            "Коэффициент уникальности: 33.68%\n",
            "💾 Промежуточные результаты сохранены в /content/drive/MyDrive/K_means/split_20/train_20/temp_metrics.csv\n",
            "✅ Файл обработан. Всего записей: 37\n",
            "\n",
            "🚀 Обрабатываю файл 38/2219: part_067.txt\n"
          ]
        },
        {
          "output_type": "display_data",
          "data": {
            "text/plain": [
              "Анализ 1-грамм:   0%|          | 0/2 [00:00<?, ?it/s]"
            ],
            "application/vnd.jupyter.widget-view+json": {
              "version_major": 2,
              "version_minor": 0,
              "model_id": "a5cff946b68644d48b8736af7b70fa23"
            }
          },
          "metadata": {}
        },
        {
          "output_type": "stream",
          "name": "stdout",
          "text": [
            "\n",
            "📊 Итоговая статистика 1-грамм:\n",
            "Общее количество 1-грамм: 9813\n",
            "Количество уникальных 1-грамм: 3370\n",
            "Коэффициент уникальности: 34.34%\n",
            "💾 Промежуточные результаты сохранены в /content/drive/MyDrive/K_means/split_20/train_20/temp_metrics.csv\n",
            "✅ Файл обработан. Всего записей: 38\n",
            "\n",
            "🚀 Обрабатываю файл 39/2219: part_069.txt\n"
          ]
        },
        {
          "output_type": "display_data",
          "data": {
            "text/plain": [
              "Анализ 1-грамм:   0%|          | 0/2 [00:00<?, ?it/s]"
            ],
            "application/vnd.jupyter.widget-view+json": {
              "version_major": 2,
              "version_minor": 0,
              "model_id": "3a2025e709d74ba49608e53bda5c8de3"
            }
          },
          "metadata": {}
        },
        {
          "output_type": "stream",
          "name": "stdout",
          "text": [
            "\n",
            "📊 Итоговая статистика 1-грамм:\n",
            "Общее количество 1-грамм: 10793\n",
            "Количество уникальных 1-грамм: 3882\n",
            "Коэффициент уникальности: 35.97%\n",
            "💾 Промежуточные результаты сохранены в /content/drive/MyDrive/K_means/split_20/train_20/temp_metrics.csv\n",
            "✅ Файл обработан. Всего записей: 39\n",
            "\n",
            "🚀 Обрабатываю файл 40/2219: part_070.txt\n"
          ]
        },
        {
          "output_type": "display_data",
          "data": {
            "text/plain": [
              "Анализ 1-грамм:   0%|          | 0/2 [00:00<?, ?it/s]"
            ],
            "application/vnd.jupyter.widget-view+json": {
              "version_major": 2,
              "version_minor": 0,
              "model_id": "8a4a1ca89938419893329018e2014af7"
            }
          },
          "metadata": {}
        },
        {
          "output_type": "stream",
          "name": "stdout",
          "text": [
            "\n",
            "📊 Итоговая статистика 1-грамм:\n",
            "Общее количество 1-грамм: 10337\n",
            "Количество уникальных 1-грамм: 3705\n",
            "Коэффициент уникальности: 35.84%\n",
            "💾 Промежуточные результаты сохранены в /content/drive/MyDrive/K_means/split_20/train_20/temp_metrics.csv\n",
            "✅ Файл обработан. Всего записей: 40\n",
            "\n",
            "🚀 Обрабатываю файл 41/2219: part_071.txt\n"
          ]
        },
        {
          "output_type": "display_data",
          "data": {
            "text/plain": [
              "Анализ 1-грамм:   0%|          | 0/2 [00:00<?, ?it/s]"
            ],
            "application/vnd.jupyter.widget-view+json": {
              "version_major": 2,
              "version_minor": 0,
              "model_id": "0a521de0007f4cefbd8bab811df34df8"
            }
          },
          "metadata": {}
        },
        {
          "output_type": "stream",
          "name": "stdout",
          "text": [
            "\n",
            "📊 Итоговая статистика 1-грамм:\n",
            "Общее количество 1-грамм: 9963\n",
            "Количество уникальных 1-грамм: 3425\n",
            "Коэффициент уникальности: 34.38%\n",
            "💾 Промежуточные результаты сохранены в /content/drive/MyDrive/K_means/split_20/train_20/temp_metrics.csv\n",
            "✅ Файл обработан. Всего записей: 41\n",
            "\n",
            "🚀 Обрабатываю файл 42/2219: part_072.txt\n"
          ]
        },
        {
          "output_type": "display_data",
          "data": {
            "text/plain": [
              "Анализ 1-грамм:   0%|          | 0/2 [00:00<?, ?it/s]"
            ],
            "application/vnd.jupyter.widget-view+json": {
              "version_major": 2,
              "version_minor": 0,
              "model_id": "766b95e88876440b90449460f019faa0"
            }
          },
          "metadata": {}
        },
        {
          "output_type": "stream",
          "name": "stdout",
          "text": [
            "\n",
            "📊 Итоговая статистика 1-грамм:\n",
            "Общее количество 1-грамм: 9704\n",
            "Количество уникальных 1-грамм: 2702\n",
            "Коэффициент уникальности: 27.84%\n",
            "💾 Промежуточные результаты сохранены в /content/drive/MyDrive/K_means/split_20/train_20/temp_metrics.csv\n",
            "✅ Файл обработан. Всего записей: 42\n",
            "\n",
            "🚀 Обрабатываю файл 43/2219: part_073.txt\n"
          ]
        },
        {
          "output_type": "display_data",
          "data": {
            "text/plain": [
              "Анализ 1-грамм:   0%|          | 0/2 [00:00<?, ?it/s]"
            ],
            "application/vnd.jupyter.widget-view+json": {
              "version_major": 2,
              "version_minor": 0,
              "model_id": "8a52a8e4837e4def95d014098b59d1a4"
            }
          },
          "metadata": {}
        },
        {
          "output_type": "stream",
          "name": "stdout",
          "text": [
            "\n",
            "📊 Итоговая статистика 1-грамм:\n",
            "Общее количество 1-грамм: 9691\n",
            "Количество уникальных 1-грамм: 3137\n",
            "Коэффициент уникальности: 32.37%\n",
            "💾 Промежуточные результаты сохранены в /content/drive/MyDrive/K_means/split_20/train_20/temp_metrics.csv\n",
            "✅ Файл обработан. Всего записей: 43\n",
            "\n",
            "🚀 Обрабатываю файл 44/2219: part_075.txt\n"
          ]
        },
        {
          "output_type": "display_data",
          "data": {
            "text/plain": [
              "Анализ 1-грамм:   0%|          | 0/2 [00:00<?, ?it/s]"
            ],
            "application/vnd.jupyter.widget-view+json": {
              "version_major": 2,
              "version_minor": 0,
              "model_id": "e01c14264fe945c7bef8eccf8df574e7"
            }
          },
          "metadata": {}
        },
        {
          "output_type": "stream",
          "name": "stdout",
          "text": [
            "\n",
            "📊 Итоговая статистика 1-грамм:\n",
            "Общее количество 1-грамм: 10348\n",
            "Количество уникальных 1-грамм: 3017\n",
            "Коэффициент уникальности: 29.16%\n",
            "💾 Промежуточные результаты сохранены в /content/drive/MyDrive/K_means/split_20/train_20/temp_metrics.csv\n",
            "✅ Файл обработан. Всего записей: 44\n",
            "\n",
            "🚀 Обрабатываю файл 45/2219: part_076.txt\n"
          ]
        },
        {
          "output_type": "display_data",
          "data": {
            "text/plain": [
              "Анализ 1-грамм:   0%|          | 0/2 [00:00<?, ?it/s]"
            ],
            "application/vnd.jupyter.widget-view+json": {
              "version_major": 2,
              "version_minor": 0,
              "model_id": "f0745e84b80d4049a5f2afe89d1e2030"
            }
          },
          "metadata": {}
        },
        {
          "output_type": "stream",
          "name": "stdout",
          "text": [
            "\n",
            "📊 Итоговая статистика 1-грамм:\n",
            "Общее количество 1-грамм: 10044\n",
            "Количество уникальных 1-грамм: 3033\n",
            "Коэффициент уникальности: 30.20%\n",
            "💾 Промежуточные результаты сохранены в /content/drive/MyDrive/K_means/split_20/train_20/temp_metrics.csv\n",
            "✅ Файл обработан. Всего записей: 45\n",
            "\n",
            "🚀 Обрабатываю файл 46/2219: part_077.txt\n"
          ]
        },
        {
          "output_type": "display_data",
          "data": {
            "text/plain": [
              "Анализ 1-грамм:   0%|          | 0/2 [00:00<?, ?it/s]"
            ],
            "application/vnd.jupyter.widget-view+json": {
              "version_major": 2,
              "version_minor": 0,
              "model_id": "7ffb03e8f16a44c0bad27f503ad31525"
            }
          },
          "metadata": {}
        },
        {
          "output_type": "stream",
          "name": "stdout",
          "text": [
            "\n",
            "📊 Итоговая статистика 1-грамм:\n",
            "Общее количество 1-грамм: 10188\n",
            "Количество уникальных 1-грамм: 3209\n",
            "Коэффициент уникальности: 31.50%\n",
            "💾 Промежуточные результаты сохранены в /content/drive/MyDrive/K_means/split_20/train_20/temp_metrics.csv\n",
            "✅ Файл обработан. Всего записей: 46\n",
            "\n",
            "🚀 Обрабатываю файл 47/2219: part_079.txt\n"
          ]
        },
        {
          "output_type": "display_data",
          "data": {
            "text/plain": [
              "Анализ 1-грамм:   0%|          | 0/2 [00:00<?, ?it/s]"
            ],
            "application/vnd.jupyter.widget-view+json": {
              "version_major": 2,
              "version_minor": 0,
              "model_id": "28a2d20aa0af4d448f906e79ad57002b"
            }
          },
          "metadata": {}
        },
        {
          "output_type": "stream",
          "name": "stdout",
          "text": [
            "\n",
            "📊 Итоговая статистика 1-грамм:\n",
            "Общее количество 1-грамм: 9694\n",
            "Количество уникальных 1-грамм: 3119\n",
            "Коэффициент уникальности: 32.17%\n",
            "💾 Промежуточные результаты сохранены в /content/drive/MyDrive/K_means/split_20/train_20/temp_metrics.csv\n",
            "✅ Файл обработан. Всего записей: 47\n",
            "\n",
            "🚀 Обрабатываю файл 48/2219: part_080.txt\n"
          ]
        },
        {
          "output_type": "display_data",
          "data": {
            "text/plain": [
              "Анализ 1-грамм:   0%|          | 0/2 [00:00<?, ?it/s]"
            ],
            "application/vnd.jupyter.widget-view+json": {
              "version_major": 2,
              "version_minor": 0,
              "model_id": "610bf203602c4388a969fead96091f70"
            }
          },
          "metadata": {}
        },
        {
          "output_type": "stream",
          "name": "stdout",
          "text": [
            "\n",
            "📊 Итоговая статистика 1-грамм:\n",
            "Общее количество 1-грамм: 9903\n",
            "Количество уникальных 1-грамм: 2703\n",
            "Коэффициент уникальности: 27.29%\n",
            "💾 Промежуточные результаты сохранены в /content/drive/MyDrive/K_means/split_20/train_20/temp_metrics.csv\n",
            "✅ Файл обработан. Всего записей: 48\n",
            "\n",
            "🚀 Обрабатываю файл 49/2219: part_081.txt\n"
          ]
        },
        {
          "output_type": "display_data",
          "data": {
            "text/plain": [
              "Анализ 1-грамм:   0%|          | 0/2 [00:00<?, ?it/s]"
            ],
            "application/vnd.jupyter.widget-view+json": {
              "version_major": 2,
              "version_minor": 0,
              "model_id": "b1e9f50c3dd64a7e9cf5f4a2131110e9"
            }
          },
          "metadata": {}
        },
        {
          "output_type": "stream",
          "name": "stdout",
          "text": [
            "\n",
            "📊 Итоговая статистика 1-грамм:\n",
            "Общее количество 1-грамм: 9320\n",
            "Количество уникальных 1-грамм: 3112\n",
            "Коэффициент уникальности: 33.39%\n",
            "💾 Промежуточные результаты сохранены в /content/drive/MyDrive/K_means/split_20/train_20/temp_metrics.csv\n",
            "✅ Файл обработан. Всего записей: 49\n",
            "\n",
            "🚀 Обрабатываю файл 50/2219: part_082.txt\n"
          ]
        },
        {
          "output_type": "display_data",
          "data": {
            "text/plain": [
              "Анализ 1-грамм:   0%|          | 0/2 [00:00<?, ?it/s]"
            ],
            "application/vnd.jupyter.widget-view+json": {
              "version_major": 2,
              "version_minor": 0,
              "model_id": "1aed3e6cc5e446588efe7c46cf608852"
            }
          },
          "metadata": {}
        },
        {
          "output_type": "stream",
          "name": "stdout",
          "text": [
            "\n",
            "📊 Итоговая статистика 1-грамм:\n",
            "Общее количество 1-грамм: 8980\n",
            "Количество уникальных 1-грамм: 2914\n",
            "Коэффициент уникальности: 32.45%\n",
            "💾 Промежуточные результаты сохранены в /content/drive/MyDrive/K_means/split_20/train_20/temp_metrics.csv\n",
            "✅ Файл обработан. Всего записей: 50\n",
            "\n",
            "🚀 Обрабатываю файл 51/2219: part_083.txt\n"
          ]
        },
        {
          "output_type": "display_data",
          "data": {
            "text/plain": [
              "Анализ 1-грамм:   0%|          | 0/2 [00:00<?, ?it/s]"
            ],
            "application/vnd.jupyter.widget-view+json": {
              "version_major": 2,
              "version_minor": 0,
              "model_id": "0d11c5f6846147709452a47198dec956"
            }
          },
          "metadata": {}
        },
        {
          "output_type": "stream",
          "name": "stdout",
          "text": [
            "\n",
            "📊 Итоговая статистика 1-грамм:\n",
            "Общее количество 1-грамм: 9026\n",
            "Количество уникальных 1-грамм: 3075\n",
            "Коэффициент уникальности: 34.07%\n",
            "💾 Промежуточные результаты сохранены в /content/drive/MyDrive/K_means/split_20/train_20/temp_metrics.csv\n",
            "✅ Файл обработан. Всего записей: 51\n",
            "\n",
            "🚀 Обрабатываю файл 52/2219: part_084.txt\n"
          ]
        },
        {
          "output_type": "display_data",
          "data": {
            "text/plain": [
              "Анализ 1-грамм:   0%|          | 0/2 [00:00<?, ?it/s]"
            ],
            "application/vnd.jupyter.widget-view+json": {
              "version_major": 2,
              "version_minor": 0,
              "model_id": "bbf4154387f5499198b6f4d9ca3463f4"
            }
          },
          "metadata": {}
        },
        {
          "output_type": "stream",
          "name": "stdout",
          "text": [
            "\n",
            "📊 Итоговая статистика 1-грамм:\n",
            "Общее количество 1-грамм: 9182\n",
            "Количество уникальных 1-грамм: 3206\n",
            "Коэффициент уникальности: 34.92%\n",
            "💾 Промежуточные результаты сохранены в /content/drive/MyDrive/K_means/split_20/train_20/temp_metrics.csv\n",
            "✅ Файл обработан. Всего записей: 52\n",
            "\n",
            "🚀 Обрабатываю файл 53/2219: part_087.txt\n"
          ]
        },
        {
          "output_type": "display_data",
          "data": {
            "text/plain": [
              "Анализ 1-грамм:   0%|          | 0/2 [00:00<?, ?it/s]"
            ],
            "application/vnd.jupyter.widget-view+json": {
              "version_major": 2,
              "version_minor": 0,
              "model_id": "2978088ca5ae49ec970b7aabc9097f5b"
            }
          },
          "metadata": {}
        },
        {
          "output_type": "stream",
          "name": "stdout",
          "text": [
            "\n",
            "📊 Итоговая статистика 1-грамм:\n",
            "Общее количество 1-грамм: 9902\n",
            "Количество уникальных 1-грамм: 3474\n",
            "Коэффициент уникальности: 35.08%\n",
            "💾 Промежуточные результаты сохранены в /content/drive/MyDrive/K_means/split_20/train_20/temp_metrics.csv\n",
            "✅ Файл обработан. Всего записей: 53\n",
            "\n",
            "🚀 Обрабатываю файл 54/2219: part_091.txt\n"
          ]
        },
        {
          "output_type": "display_data",
          "data": {
            "text/plain": [
              "Анализ 1-грамм:   0%|          | 0/2 [00:00<?, ?it/s]"
            ],
            "application/vnd.jupyter.widget-view+json": {
              "version_major": 2,
              "version_minor": 0,
              "model_id": "b025df201d634aaa81ee5b5fed389830"
            }
          },
          "metadata": {}
        },
        {
          "output_type": "stream",
          "name": "stdout",
          "text": [
            "\n",
            "📊 Итоговая статистика 1-грамм:\n",
            "Общее количество 1-грамм: 9404\n",
            "Количество уникальных 1-грамм: 3322\n",
            "Коэффициент уникальности: 35.33%\n",
            "💾 Промежуточные результаты сохранены в /content/drive/MyDrive/K_means/split_20/train_20/temp_metrics.csv\n",
            "✅ Файл обработан. Всего записей: 54\n",
            "\n",
            "🚀 Обрабатываю файл 55/2219: part_094.txt\n"
          ]
        },
        {
          "output_type": "display_data",
          "data": {
            "text/plain": [
              "Анализ 1-грамм:   0%|          | 0/2 [00:00<?, ?it/s]"
            ],
            "application/vnd.jupyter.widget-view+json": {
              "version_major": 2,
              "version_minor": 0,
              "model_id": "c19dfa032d434b9987eba3123deaa35e"
            }
          },
          "metadata": {}
        },
        {
          "output_type": "stream",
          "name": "stdout",
          "text": [
            "\n",
            "📊 Итоговая статистика 1-грамм:\n",
            "Общее количество 1-грамм: 9103\n",
            "Количество уникальных 1-грамм: 2925\n",
            "Коэффициент уникальности: 32.13%\n",
            "💾 Промежуточные результаты сохранены в /content/drive/MyDrive/K_means/split_20/train_20/temp_metrics.csv\n",
            "✅ Файл обработан. Всего записей: 55\n",
            "\n",
            "🚀 Обрабатываю файл 56/2219: part_096.txt\n"
          ]
        },
        {
          "output_type": "display_data",
          "data": {
            "text/plain": [
              "Анализ 1-грамм:   0%|          | 0/2 [00:00<?, ?it/s]"
            ],
            "application/vnd.jupyter.widget-view+json": {
              "version_major": 2,
              "version_minor": 0,
              "model_id": "c54147cf69ba4b129d3b0fba22a90586"
            }
          },
          "metadata": {}
        },
        {
          "output_type": "stream",
          "name": "stdout",
          "text": [
            "\n",
            "📊 Итоговая статистика 1-грамм:\n",
            "Общее количество 1-грамм: 10640\n",
            "Количество уникальных 1-грамм: 3593\n",
            "Коэффициент уникальности: 33.77%\n",
            "💾 Промежуточные результаты сохранены в /content/drive/MyDrive/K_means/split_20/train_20/temp_metrics.csv\n",
            "✅ Файл обработан. Всего записей: 56\n",
            "\n",
            "🚀 Обрабатываю файл 57/2219: part_097.txt\n"
          ]
        },
        {
          "output_type": "display_data",
          "data": {
            "text/plain": [
              "Анализ 1-грамм:   0%|          | 0/2 [00:00<?, ?it/s]"
            ],
            "application/vnd.jupyter.widget-view+json": {
              "version_major": 2,
              "version_minor": 0,
              "model_id": "bcb90301ba48453ab298554776f6c609"
            }
          },
          "metadata": {}
        },
        {
          "output_type": "stream",
          "name": "stdout",
          "text": [
            "\n",
            "📊 Итоговая статистика 1-грамм:\n",
            "Общее количество 1-грамм: 10390\n",
            "Количество уникальных 1-грамм: 3378\n",
            "Коэффициент уникальности: 32.51%\n",
            "💾 Промежуточные результаты сохранены в /content/drive/MyDrive/K_means/split_20/train_20/temp_metrics.csv\n",
            "✅ Файл обработан. Всего записей: 57\n",
            "\n",
            "🚀 Обрабатываю файл 58/2219: part_098.txt\n"
          ]
        },
        {
          "output_type": "display_data",
          "data": {
            "text/plain": [
              "Анализ 1-грамм:   0%|          | 0/2 [00:00<?, ?it/s]"
            ],
            "application/vnd.jupyter.widget-view+json": {
              "version_major": 2,
              "version_minor": 0,
              "model_id": "edab5a82f0a94c028db1e91cf02dc722"
            }
          },
          "metadata": {}
        },
        {
          "output_type": "stream",
          "name": "stdout",
          "text": [
            "\n",
            "📊 Итоговая статистика 1-грамм:\n",
            "Общее количество 1-грамм: 9988\n",
            "Количество уникальных 1-грамм: 3594\n",
            "Коэффициент уникальности: 35.98%\n",
            "💾 Промежуточные результаты сохранены в /content/drive/MyDrive/K_means/split_20/train_20/temp_metrics.csv\n",
            "✅ Файл обработан. Всего записей: 58\n",
            "\n",
            "🚀 Обрабатываю файл 59/2219: part_102.txt\n"
          ]
        },
        {
          "output_type": "display_data",
          "data": {
            "text/plain": [
              "Анализ 1-грамм:   0%|          | 0/2 [00:00<?, ?it/s]"
            ],
            "application/vnd.jupyter.widget-view+json": {
              "version_major": 2,
              "version_minor": 0,
              "model_id": "fc665b7c627140d39d679189acb63384"
            }
          },
          "metadata": {}
        },
        {
          "output_type": "stream",
          "name": "stdout",
          "text": [
            "\n",
            "📊 Итоговая статистика 1-грамм:\n",
            "Общее количество 1-грамм: 8597\n",
            "Количество уникальных 1-грамм: 2900\n",
            "Коэффициент уникальности: 33.73%\n",
            "💾 Промежуточные результаты сохранены в /content/drive/MyDrive/K_means/split_20/train_20/temp_metrics.csv\n",
            "✅ Файл обработан. Всего записей: 59\n",
            "\n",
            "🚀 Обрабатываю файл 60/2219: part_112.txt\n"
          ]
        },
        {
          "output_type": "display_data",
          "data": {
            "text/plain": [
              "Анализ 1-грамм:   0%|          | 0/2 [00:00<?, ?it/s]"
            ],
            "application/vnd.jupyter.widget-view+json": {
              "version_major": 2,
              "version_minor": 0,
              "model_id": "9f6708c47a2f4263ae53ce3d1c5069ed"
            }
          },
          "metadata": {}
        },
        {
          "output_type": "stream",
          "name": "stdout",
          "text": [
            "\n",
            "📊 Итоговая статистика 1-грамм:\n",
            "Общее количество 1-грамм: 8050\n",
            "Количество уникальных 1-грамм: 2940\n",
            "Коэффициент уникальности: 36.52%\n",
            "💾 Промежуточные результаты сохранены в /content/drive/MyDrive/K_means/split_20/train_20/temp_metrics.csv\n",
            "✅ Файл обработан. Всего записей: 60\n",
            "\n",
            "🚀 Обрабатываю файл 61/2219: part_115.txt\n"
          ]
        },
        {
          "output_type": "display_data",
          "data": {
            "text/plain": [
              "Анализ 1-грамм:   0%|          | 0/2 [00:00<?, ?it/s]"
            ],
            "application/vnd.jupyter.widget-view+json": {
              "version_major": 2,
              "version_minor": 0,
              "model_id": "693d4a6526694a12b1ac8672f70108a1"
            }
          },
          "metadata": {}
        },
        {
          "output_type": "stream",
          "name": "stdout",
          "text": [
            "\n",
            "📊 Итоговая статистика 1-грамм:\n",
            "Общее количество 1-грамм: 9129\n",
            "Количество уникальных 1-грамм: 2934\n",
            "Коэффициент уникальности: 32.14%\n",
            "💾 Промежуточные результаты сохранены в /content/drive/MyDrive/K_means/split_20/train_20/temp_metrics.csv\n",
            "✅ Файл обработан. Всего записей: 61\n",
            "\n",
            "🚀 Обрабатываю файл 62/2219: part_116.txt\n"
          ]
        },
        {
          "output_type": "display_data",
          "data": {
            "text/plain": [
              "Анализ 1-грамм:   0%|          | 0/2 [00:00<?, ?it/s]"
            ],
            "application/vnd.jupyter.widget-view+json": {
              "version_major": 2,
              "version_minor": 0,
              "model_id": "272ee3f38fd440e282b02275b40e3dda"
            }
          },
          "metadata": {}
        },
        {
          "output_type": "stream",
          "name": "stdout",
          "text": [
            "\n",
            "📊 Итоговая статистика 1-грамм:\n",
            "Общее количество 1-грамм: 9003\n",
            "Количество уникальных 1-грамм: 1798\n",
            "Коэффициент уникальности: 19.97%\n",
            "💾 Промежуточные результаты сохранены в /content/drive/MyDrive/K_means/split_20/train_20/temp_metrics.csv\n",
            "✅ Файл обработан. Всего записей: 62\n",
            "\n",
            "🚀 Обрабатываю файл 63/2219: part_117.txt\n"
          ]
        },
        {
          "output_type": "display_data",
          "data": {
            "text/plain": [
              "Анализ 1-грамм:   0%|          | 0/2 [00:00<?, ?it/s]"
            ],
            "application/vnd.jupyter.widget-view+json": {
              "version_major": 2,
              "version_minor": 0,
              "model_id": "b800a43548ef46779c33df69db8cda65"
            }
          },
          "metadata": {}
        },
        {
          "output_type": "stream",
          "name": "stdout",
          "text": [
            "\n",
            "📊 Итоговая статистика 1-грамм:\n",
            "Общее количество 1-грамм: 9716\n",
            "Количество уникальных 1-грамм: 2142\n",
            "Коэффициент уникальности: 22.05%\n",
            "💾 Промежуточные результаты сохранены в /content/drive/MyDrive/K_means/split_20/train_20/temp_metrics.csv\n",
            "✅ Файл обработан. Всего записей: 63\n",
            "\n",
            "🚀 Обрабатываю файл 64/2219: part_118.txt\n"
          ]
        },
        {
          "output_type": "display_data",
          "data": {
            "text/plain": [
              "Анализ 1-грамм:   0%|          | 0/2 [00:00<?, ?it/s]"
            ],
            "application/vnd.jupyter.widget-view+json": {
              "version_major": 2,
              "version_minor": 0,
              "model_id": "b5a1a16b0e70461b916a727389885471"
            }
          },
          "metadata": {}
        },
        {
          "output_type": "stream",
          "name": "stdout",
          "text": [
            "\n",
            "📊 Итоговая статистика 1-грамм:\n",
            "Общее количество 1-грамм: 9833\n",
            "Количество уникальных 1-грамм: 2296\n",
            "Коэффициент уникальности: 23.35%\n",
            "💾 Промежуточные результаты сохранены в /content/drive/MyDrive/K_means/split_20/train_20/temp_metrics.csv\n",
            "✅ Файл обработан. Всего записей: 64\n",
            "\n",
            "🚀 Обрабатываю файл 65/2219: part_119.txt\n"
          ]
        },
        {
          "output_type": "display_data",
          "data": {
            "text/plain": [
              "Анализ 1-грамм:   0%|          | 0/2 [00:00<?, ?it/s]"
            ],
            "application/vnd.jupyter.widget-view+json": {
              "version_major": 2,
              "version_minor": 0,
              "model_id": "bfde410c441247c08f20121c9e7d8d62"
            }
          },
          "metadata": {}
        },
        {
          "output_type": "stream",
          "name": "stdout",
          "text": [
            "\n",
            "📊 Итоговая статистика 1-грамм:\n",
            "Общее количество 1-грамм: 9645\n",
            "Количество уникальных 1-грамм: 1979\n",
            "Коэффициент уникальности: 20.52%\n",
            "💾 Промежуточные результаты сохранены в /content/drive/MyDrive/K_means/split_20/train_20/temp_metrics.csv\n",
            "✅ Файл обработан. Всего записей: 65\n",
            "\n",
            "🚀 Обрабатываю файл 66/2219: part_121.txt\n"
          ]
        },
        {
          "output_type": "display_data",
          "data": {
            "text/plain": [
              "Анализ 1-грамм:   0%|          | 0/2 [00:00<?, ?it/s]"
            ],
            "application/vnd.jupyter.widget-view+json": {
              "version_major": 2,
              "version_minor": 0,
              "model_id": "afab6691dbd74908af6bece7e1ee7374"
            }
          },
          "metadata": {}
        },
        {
          "output_type": "stream",
          "name": "stdout",
          "text": [
            "\n",
            "📊 Итоговая статистика 1-грамм:\n",
            "Общее количество 1-грамм: 8622\n",
            "Количество уникальных 1-грамм: 2927\n",
            "Коэффициент уникальности: 33.95%\n",
            "💾 Промежуточные результаты сохранены в /content/drive/MyDrive/K_means/split_20/train_20/temp_metrics.csv\n",
            "✅ Файл обработан. Всего записей: 66\n",
            "\n",
            "🚀 Обрабатываю файл 67/2219: part_123.txt\n"
          ]
        },
        {
          "output_type": "display_data",
          "data": {
            "text/plain": [
              "Анализ 1-грамм:   0%|          | 0/2 [00:00<?, ?it/s]"
            ],
            "application/vnd.jupyter.widget-view+json": {
              "version_major": 2,
              "version_minor": 0,
              "model_id": "43b08e0308bc497db25e3d800213681e"
            }
          },
          "metadata": {}
        },
        {
          "output_type": "stream",
          "name": "stdout",
          "text": [
            "\n",
            "📊 Итоговая статистика 1-грамм:\n",
            "Общее количество 1-грамм: 9497\n",
            "Количество уникальных 1-грамм: 3133\n",
            "Коэффициент уникальности: 32.99%\n",
            "💾 Промежуточные результаты сохранены в /content/drive/MyDrive/K_means/split_20/train_20/temp_metrics.csv\n",
            "✅ Файл обработан. Всего записей: 67\n",
            "\n",
            "🚀 Обрабатываю файл 68/2219: part_125.txt\n"
          ]
        },
        {
          "output_type": "display_data",
          "data": {
            "text/plain": [
              "Анализ 1-грамм:   0%|          | 0/2 [00:00<?, ?it/s]"
            ],
            "application/vnd.jupyter.widget-view+json": {
              "version_major": 2,
              "version_minor": 0,
              "model_id": "6ad5d6d92afa4536ac4560e42cee236c"
            }
          },
          "metadata": {}
        },
        {
          "output_type": "stream",
          "name": "stdout",
          "text": [
            "\n",
            "📊 Итоговая статистика 1-грамм:\n",
            "Общее количество 1-грамм: 9476\n",
            "Количество уникальных 1-грамм: 3287\n",
            "Коэффициент уникальности: 34.69%\n",
            "💾 Промежуточные результаты сохранены в /content/drive/MyDrive/K_means/split_20/train_20/temp_metrics.csv\n",
            "✅ Файл обработан. Всего записей: 68\n",
            "\n",
            "🚀 Обрабатываю файл 69/2219: part_126.txt\n"
          ]
        },
        {
          "output_type": "display_data",
          "data": {
            "text/plain": [
              "Анализ 1-грамм:   0%|          | 0/2 [00:00<?, ?it/s]"
            ],
            "application/vnd.jupyter.widget-view+json": {
              "version_major": 2,
              "version_minor": 0,
              "model_id": "64babfbbcce5444aba2304f08138aa02"
            }
          },
          "metadata": {}
        },
        {
          "output_type": "stream",
          "name": "stdout",
          "text": [
            "\n",
            "📊 Итоговая статистика 1-грамм:\n",
            "Общее количество 1-грамм: 10849\n",
            "Количество уникальных 1-грамм: 3695\n",
            "Коэффициент уникальности: 34.06%\n",
            "💾 Промежуточные результаты сохранены в /content/drive/MyDrive/K_means/split_20/train_20/temp_metrics.csv\n",
            "✅ Файл обработан. Всего записей: 69\n",
            "\n",
            "🚀 Обрабатываю файл 70/2219: part_127.txt\n"
          ]
        },
        {
          "output_type": "display_data",
          "data": {
            "text/plain": [
              "Анализ 1-грамм:   0%|          | 0/2 [00:00<?, ?it/s]"
            ],
            "application/vnd.jupyter.widget-view+json": {
              "version_major": 2,
              "version_minor": 0,
              "model_id": "7648eefd0bb7458d8fc959681e4c9d7f"
            }
          },
          "metadata": {}
        },
        {
          "output_type": "stream",
          "name": "stdout",
          "text": [
            "\n",
            "📊 Итоговая статистика 1-грамм:\n",
            "Общее количество 1-грамм: 9841\n",
            "Количество уникальных 1-грамм: 3465\n",
            "Коэффициент уникальности: 35.21%\n",
            "💾 Промежуточные результаты сохранены в /content/drive/MyDrive/K_means/split_20/train_20/temp_metrics.csv\n",
            "✅ Файл обработан. Всего записей: 70\n",
            "\n",
            "🚀 Обрабатываю файл 71/2219: part_129.txt\n"
          ]
        },
        {
          "output_type": "display_data",
          "data": {
            "text/plain": [
              "Анализ 1-грамм:   0%|          | 0/2 [00:00<?, ?it/s]"
            ],
            "application/vnd.jupyter.widget-view+json": {
              "version_major": 2,
              "version_minor": 0,
              "model_id": "2aa12113fb354ab18318483b762913d3"
            }
          },
          "metadata": {}
        },
        {
          "output_type": "stream",
          "name": "stdout",
          "text": [
            "\n",
            "📊 Итоговая статистика 1-грамм:\n",
            "Общее количество 1-грамм: 9245\n",
            "Количество уникальных 1-грамм: 2813\n",
            "Коэффициент уникальности: 30.43%\n",
            "💾 Промежуточные результаты сохранены в /content/drive/MyDrive/K_means/split_20/train_20/temp_metrics.csv\n",
            "✅ Файл обработан. Всего записей: 71\n",
            "\n",
            "🚀 Обрабатываю файл 72/2219: part_130.txt\n"
          ]
        },
        {
          "output_type": "display_data",
          "data": {
            "text/plain": [
              "Анализ 1-грамм:   0%|          | 0/2 [00:00<?, ?it/s]"
            ],
            "application/vnd.jupyter.widget-view+json": {
              "version_major": 2,
              "version_minor": 0,
              "model_id": "a129d566c3c14ba68efed34b641935dc"
            }
          },
          "metadata": {}
        },
        {
          "output_type": "stream",
          "name": "stdout",
          "text": [
            "\n",
            "📊 Итоговая статистика 1-грамм:\n",
            "Общее количество 1-грамм: 9670\n",
            "Количество уникальных 1-грамм: 3532\n",
            "Коэффициент уникальности: 36.53%\n",
            "💾 Промежуточные результаты сохранены в /content/drive/MyDrive/K_means/split_20/train_20/temp_metrics.csv\n",
            "✅ Файл обработан. Всего записей: 72\n",
            "\n",
            "🚀 Обрабатываю файл 73/2219: part_132.txt\n"
          ]
        },
        {
          "output_type": "display_data",
          "data": {
            "text/plain": [
              "Анализ 1-грамм:   0%|          | 0/2 [00:00<?, ?it/s]"
            ],
            "application/vnd.jupyter.widget-view+json": {
              "version_major": 2,
              "version_minor": 0,
              "model_id": "448d840edaf84f3a8718a2f6ddca8f2e"
            }
          },
          "metadata": {}
        },
        {
          "output_type": "stream",
          "name": "stdout",
          "text": [
            "\n",
            "📊 Итоговая статистика 1-грамм:\n",
            "Общее количество 1-грамм: 9207\n",
            "Количество уникальных 1-грамм: 2953\n",
            "Коэффициент уникальности: 32.07%\n",
            "💾 Промежуточные результаты сохранены в /content/drive/MyDrive/K_means/split_20/train_20/temp_metrics.csv\n",
            "✅ Файл обработан. Всего записей: 73\n",
            "\n",
            "🚀 Обрабатываю файл 74/2219: part_133.txt\n"
          ]
        },
        {
          "output_type": "display_data",
          "data": {
            "text/plain": [
              "Анализ 1-грамм:   0%|          | 0/2 [00:00<?, ?it/s]"
            ],
            "application/vnd.jupyter.widget-view+json": {
              "version_major": 2,
              "version_minor": 0,
              "model_id": "518b7815fd9a415a9d6f0e8d6a348d2e"
            }
          },
          "metadata": {}
        },
        {
          "output_type": "stream",
          "name": "stdout",
          "text": [
            "\n",
            "📊 Итоговая статистика 1-грамм:\n",
            "Общее количество 1-грамм: 9028\n",
            "Количество уникальных 1-грамм: 2880\n",
            "Коэффициент уникальности: 31.90%\n",
            "💾 Промежуточные результаты сохранены в /content/drive/MyDrive/K_means/split_20/train_20/temp_metrics.csv\n",
            "✅ Файл обработан. Всего записей: 74\n",
            "\n",
            "🚀 Обрабатываю файл 75/2219: part_134.txt\n"
          ]
        },
        {
          "output_type": "display_data",
          "data": {
            "text/plain": [
              "Анализ 1-грамм:   0%|          | 0/2 [00:00<?, ?it/s]"
            ],
            "application/vnd.jupyter.widget-view+json": {
              "version_major": 2,
              "version_minor": 0,
              "model_id": "c9a086d6c80e4c898a105df9127d0b8e"
            }
          },
          "metadata": {}
        },
        {
          "output_type": "stream",
          "name": "stdout",
          "text": [
            "\n",
            "📊 Итоговая статистика 1-грамм:\n",
            "Общее количество 1-грамм: 8622\n",
            "Количество уникальных 1-грамм: 2790\n",
            "Коэффициент уникальности: 32.36%\n",
            "💾 Промежуточные результаты сохранены в /content/drive/MyDrive/K_means/split_20/train_20/temp_metrics.csv\n",
            "✅ Файл обработан. Всего записей: 75\n",
            "\n",
            "🚀 Обрабатываю файл 76/2219: part_135.txt\n"
          ]
        },
        {
          "output_type": "display_data",
          "data": {
            "text/plain": [
              "Анализ 1-грамм:   0%|          | 0/2 [00:00<?, ?it/s]"
            ],
            "application/vnd.jupyter.widget-view+json": {
              "version_major": 2,
              "version_minor": 0,
              "model_id": "5bd077dca08a4cd49259f70a829c17aa"
            }
          },
          "metadata": {}
        },
        {
          "output_type": "stream",
          "name": "stdout",
          "text": [
            "\n",
            "📊 Итоговая статистика 1-грамм:\n",
            "Общее количество 1-грамм: 8201\n",
            "Количество уникальных 1-грамм: 2458\n",
            "Коэффициент уникальности: 29.97%\n",
            "💾 Промежуточные результаты сохранены в /content/drive/MyDrive/K_means/split_20/train_20/temp_metrics.csv\n",
            "✅ Файл обработан. Всего записей: 76\n",
            "\n",
            "🚀 Обрабатываю файл 77/2219: part_136.txt\n"
          ]
        },
        {
          "output_type": "display_data",
          "data": {
            "text/plain": [
              "Анализ 1-грамм:   0%|          | 0/2 [00:00<?, ?it/s]"
            ],
            "application/vnd.jupyter.widget-view+json": {
              "version_major": 2,
              "version_minor": 0,
              "model_id": "13e4a6cad5ac47eda277e273fa8ead55"
            }
          },
          "metadata": {}
        },
        {
          "output_type": "stream",
          "name": "stdout",
          "text": [
            "\n",
            "📊 Итоговая статистика 1-грамм:\n",
            "Общее количество 1-грамм: 8857\n",
            "Количество уникальных 1-грамм: 2782\n",
            "Коэффициент уникальности: 31.41%\n",
            "💾 Промежуточные результаты сохранены в /content/drive/MyDrive/K_means/split_20/train_20/temp_metrics.csv\n",
            "✅ Файл обработан. Всего записей: 77\n",
            "\n",
            "🚀 Обрабатываю файл 78/2219: part_138.txt\n"
          ]
        },
        {
          "output_type": "display_data",
          "data": {
            "text/plain": [
              "Анализ 1-грамм:   0%|          | 0/2 [00:00<?, ?it/s]"
            ],
            "application/vnd.jupyter.widget-view+json": {
              "version_major": 2,
              "version_minor": 0,
              "model_id": "683538e7198749c3bc4838bae08c9fe7"
            }
          },
          "metadata": {}
        },
        {
          "output_type": "stream",
          "name": "stdout",
          "text": [
            "\n",
            "📊 Итоговая статистика 1-грамм:\n",
            "Общее количество 1-грамм: 10584\n",
            "Количество уникальных 1-грамм: 2981\n",
            "Коэффициент уникальности: 28.17%\n",
            "💾 Промежуточные результаты сохранены в /content/drive/MyDrive/K_means/split_20/train_20/temp_metrics.csv\n",
            "✅ Файл обработан. Всего записей: 78\n",
            "\n",
            "🚀 Обрабатываю файл 79/2219: part_139.txt\n"
          ]
        },
        {
          "output_type": "display_data",
          "data": {
            "text/plain": [
              "Анализ 1-грамм:   0%|          | 0/2 [00:00<?, ?it/s]"
            ],
            "application/vnd.jupyter.widget-view+json": {
              "version_major": 2,
              "version_minor": 0,
              "model_id": "8591a4b212aa49ecae1aaf291890782c"
            }
          },
          "metadata": {}
        },
        {
          "output_type": "stream",
          "name": "stdout",
          "text": [
            "\n",
            "📊 Итоговая статистика 1-грамм:\n",
            "Общее количество 1-грамм: 9895\n",
            "Количество уникальных 1-грамм: 2883\n",
            "Коэффициент уникальности: 29.14%\n",
            "💾 Промежуточные результаты сохранены в /content/drive/MyDrive/K_means/split_20/train_20/temp_metrics.csv\n",
            "✅ Файл обработан. Всего записей: 79\n",
            "\n",
            "🚀 Обрабатываю файл 80/2219: part_142.txt\n"
          ]
        },
        {
          "output_type": "display_data",
          "data": {
            "text/plain": [
              "Анализ 1-грамм:   0%|          | 0/2 [00:00<?, ?it/s]"
            ],
            "application/vnd.jupyter.widget-view+json": {
              "version_major": 2,
              "version_minor": 0,
              "model_id": "ad36876c3aef4e3fbe249f77a310b506"
            }
          },
          "metadata": {}
        },
        {
          "output_type": "stream",
          "name": "stdout",
          "text": [
            "\n",
            "📊 Итоговая статистика 1-грамм:\n",
            "Общее количество 1-грамм: 10521\n",
            "Количество уникальных 1-грамм: 3261\n",
            "Коэффициент уникальности: 31.00%\n",
            "💾 Промежуточные результаты сохранены в /content/drive/MyDrive/K_means/split_20/train_20/temp_metrics.csv\n",
            "✅ Файл обработан. Всего записей: 80\n",
            "\n",
            "🚀 Обрабатываю файл 81/2219: part_144.txt\n"
          ]
        },
        {
          "output_type": "display_data",
          "data": {
            "text/plain": [
              "Анализ 1-грамм:   0%|          | 0/2 [00:00<?, ?it/s]"
            ],
            "application/vnd.jupyter.widget-view+json": {
              "version_major": 2,
              "version_minor": 0,
              "model_id": "61cc51ea892248f188a439f03355a6f9"
            }
          },
          "metadata": {}
        },
        {
          "output_type": "stream",
          "name": "stdout",
          "text": [
            "\n",
            "📊 Итоговая статистика 1-грамм:\n",
            "Общее количество 1-грамм: 9960\n",
            "Количество уникальных 1-грамм: 2955\n",
            "Коэффициент уникальности: 29.67%\n",
            "💾 Промежуточные результаты сохранены в /content/drive/MyDrive/K_means/split_20/train_20/temp_metrics.csv\n",
            "✅ Файл обработан. Всего записей: 81\n",
            "\n",
            "🚀 Обрабатываю файл 82/2219: part_147.txt\n"
          ]
        },
        {
          "output_type": "display_data",
          "data": {
            "text/plain": [
              "Анализ 1-грамм:   0%|          | 0/2 [00:00<?, ?it/s]"
            ],
            "application/vnd.jupyter.widget-view+json": {
              "version_major": 2,
              "version_minor": 0,
              "model_id": "a0212347eb5d48d5bd73646b90fbee7c"
            }
          },
          "metadata": {}
        },
        {
          "output_type": "stream",
          "name": "stdout",
          "text": [
            "\n",
            "📊 Итоговая статистика 1-грамм:\n",
            "Общее количество 1-грамм: 7963\n",
            "Количество уникальных 1-грамм: 2469\n",
            "Коэффициент уникальности: 31.01%\n",
            "💾 Промежуточные результаты сохранены в /content/drive/MyDrive/K_means/split_20/train_20/temp_metrics.csv\n",
            "✅ Файл обработан. Всего записей: 82\n",
            "\n",
            "🚀 Обрабатываю файл 83/2219: part_148.txt\n"
          ]
        },
        {
          "output_type": "display_data",
          "data": {
            "text/plain": [
              "Анализ 1-грамм:   0%|          | 0/2 [00:00<?, ?it/s]"
            ],
            "application/vnd.jupyter.widget-view+json": {
              "version_major": 2,
              "version_minor": 0,
              "model_id": "25bb166408964caa999b07ff2c1145fc"
            }
          },
          "metadata": {}
        },
        {
          "output_type": "stream",
          "name": "stdout",
          "text": [
            "\n",
            "📊 Итоговая статистика 1-грамм:\n",
            "Общее количество 1-грамм: 9739\n",
            "Количество уникальных 1-грамм: 3392\n",
            "Коэффициент уникальности: 34.83%\n",
            "💾 Промежуточные результаты сохранены в /content/drive/MyDrive/K_means/split_20/train_20/temp_metrics.csv\n",
            "✅ Файл обработан. Всего записей: 83\n",
            "\n",
            "🚀 Обрабатываю файл 84/2219: part_149.txt\n"
          ]
        },
        {
          "output_type": "display_data",
          "data": {
            "text/plain": [
              "Анализ 1-грамм:   0%|          | 0/2 [00:00<?, ?it/s]"
            ],
            "application/vnd.jupyter.widget-view+json": {
              "version_major": 2,
              "version_minor": 0,
              "model_id": "7e87fd7abe1e46f58ceaed7cb367c847"
            }
          },
          "metadata": {}
        },
        {
          "output_type": "stream",
          "name": "stdout",
          "text": [
            "\n",
            "📊 Итоговая статистика 1-грамм:\n",
            "Общее количество 1-грамм: 8872\n",
            "Количество уникальных 1-грамм: 3192\n",
            "Коэффициент уникальности: 35.98%\n",
            "💾 Промежуточные результаты сохранены в /content/drive/MyDrive/K_means/split_20/train_20/temp_metrics.csv\n",
            "✅ Файл обработан. Всего записей: 84\n",
            "\n",
            "🚀 Обрабатываю файл 85/2219: part_150.txt\n"
          ]
        },
        {
          "output_type": "display_data",
          "data": {
            "text/plain": [
              "Анализ 1-грамм:   0%|          | 0/2 [00:00<?, ?it/s]"
            ],
            "application/vnd.jupyter.widget-view+json": {
              "version_major": 2,
              "version_minor": 0,
              "model_id": "45c4e01d07ce475db67ef02a58e1964c"
            }
          },
          "metadata": {}
        },
        {
          "output_type": "stream",
          "name": "stdout",
          "text": [
            "\n",
            "📊 Итоговая статистика 1-грамм:\n",
            "Общее количество 1-грамм: 9460\n",
            "Количество уникальных 1-грамм: 3270\n",
            "Коэффициент уникальности: 34.57%\n",
            "💾 Промежуточные результаты сохранены в /content/drive/MyDrive/K_means/split_20/train_20/temp_metrics.csv\n",
            "✅ Файл обработан. Всего записей: 85\n",
            "\n",
            "🚀 Обрабатываю файл 86/2219: part_152.txt\n"
          ]
        },
        {
          "output_type": "display_data",
          "data": {
            "text/plain": [
              "Анализ 1-грамм:   0%|          | 0/2 [00:00<?, ?it/s]"
            ],
            "application/vnd.jupyter.widget-view+json": {
              "version_major": 2,
              "version_minor": 0,
              "model_id": "06a47a8b8454457dac1a246f71e608e9"
            }
          },
          "metadata": {}
        },
        {
          "output_type": "stream",
          "name": "stdout",
          "text": [
            "\n",
            "📊 Итоговая статистика 1-грамм:\n",
            "Общее количество 1-грамм: 10207\n",
            "Количество уникальных 1-грамм: 3721\n",
            "Коэффициент уникальности: 36.46%\n",
            "💾 Промежуточные результаты сохранены в /content/drive/MyDrive/K_means/split_20/train_20/temp_metrics.csv\n",
            "✅ Файл обработан. Всего записей: 86\n",
            "\n",
            "🚀 Обрабатываю файл 87/2219: part_153.txt\n"
          ]
        },
        {
          "output_type": "display_data",
          "data": {
            "text/plain": [
              "Анализ 1-грамм:   0%|          | 0/2 [00:00<?, ?it/s]"
            ],
            "application/vnd.jupyter.widget-view+json": {
              "version_major": 2,
              "version_minor": 0,
              "model_id": "cebe27c5566e4f54a3c1eb088b6e5fff"
            }
          },
          "metadata": {}
        },
        {
          "output_type": "stream",
          "name": "stdout",
          "text": [
            "\n",
            "📊 Итоговая статистика 1-грамм:\n",
            "Общее количество 1-грамм: 10350\n",
            "Количество уникальных 1-грамм: 3853\n",
            "Коэффициент уникальности: 37.23%\n",
            "💾 Промежуточные результаты сохранены в /content/drive/MyDrive/K_means/split_20/train_20/temp_metrics.csv\n",
            "✅ Файл обработан. Всего записей: 87\n",
            "\n",
            "🚀 Обрабатываю файл 88/2219: part_154.txt\n"
          ]
        },
        {
          "output_type": "display_data",
          "data": {
            "text/plain": [
              "Анализ 1-грамм:   0%|          | 0/2 [00:00<?, ?it/s]"
            ],
            "application/vnd.jupyter.widget-view+json": {
              "version_major": 2,
              "version_minor": 0,
              "model_id": "135251d30d604d5bb4c51706c7c04b90"
            }
          },
          "metadata": {}
        },
        {
          "output_type": "stream",
          "name": "stdout",
          "text": [
            "\n",
            "📊 Итоговая статистика 1-грамм:\n",
            "Общее количество 1-грамм: 9875\n",
            "Количество уникальных 1-грамм: 3507\n",
            "Коэффициент уникальности: 35.51%\n",
            "💾 Промежуточные результаты сохранены в /content/drive/MyDrive/K_means/split_20/train_20/temp_metrics.csv\n",
            "✅ Файл обработан. Всего записей: 88\n",
            "\n",
            "🚀 Обрабатываю файл 89/2219: part_156.txt\n"
          ]
        },
        {
          "output_type": "display_data",
          "data": {
            "text/plain": [
              "Анализ 1-грамм:   0%|          | 0/2 [00:00<?, ?it/s]"
            ],
            "application/vnd.jupyter.widget-view+json": {
              "version_major": 2,
              "version_minor": 0,
              "model_id": "d55c208703e64007be78c7fafb9c4fee"
            }
          },
          "metadata": {}
        },
        {
          "output_type": "stream",
          "name": "stdout",
          "text": [
            "\n",
            "📊 Итоговая статистика 1-грамм:\n",
            "Общее количество 1-грамм: 9703\n",
            "Количество уникальных 1-грамм: 3684\n",
            "Коэффициент уникальности: 37.97%\n",
            "💾 Промежуточные результаты сохранены в /content/drive/MyDrive/K_means/split_20/train_20/temp_metrics.csv\n",
            "✅ Файл обработан. Всего записей: 89\n",
            "\n",
            "🚀 Обрабатываю файл 90/2219: part_165.txt\n"
          ]
        },
        {
          "output_type": "display_data",
          "data": {
            "text/plain": [
              "Анализ 1-грамм:   0%|          | 0/2 [00:00<?, ?it/s]"
            ],
            "application/vnd.jupyter.widget-view+json": {
              "version_major": 2,
              "version_minor": 0,
              "model_id": "2f12c348b1044d8aa82ee7fcf20810b7"
            }
          },
          "metadata": {}
        },
        {
          "output_type": "stream",
          "name": "stdout",
          "text": [
            "\n",
            "📊 Итоговая статистика 1-грамм:\n",
            "Общее количество 1-грамм: 9511\n",
            "Количество уникальных 1-грамм: 3334\n",
            "Коэффициент уникальности: 35.05%\n",
            "💾 Промежуточные результаты сохранены в /content/drive/MyDrive/K_means/split_20/train_20/temp_metrics.csv\n",
            "✅ Файл обработан. Всего записей: 90\n",
            "\n",
            "🚀 Обрабатываю файл 91/2219: part_168.txt\n"
          ]
        },
        {
          "output_type": "display_data",
          "data": {
            "text/plain": [
              "Анализ 1-грамм:   0%|          | 0/2 [00:00<?, ?it/s]"
            ],
            "application/vnd.jupyter.widget-view+json": {
              "version_major": 2,
              "version_minor": 0,
              "model_id": "994a256bfe7f485498d259ddeb607e17"
            }
          },
          "metadata": {}
        },
        {
          "output_type": "stream",
          "name": "stdout",
          "text": [
            "\n",
            "📊 Итоговая статистика 1-грамм:\n",
            "Общее количество 1-грамм: 10518\n",
            "Количество уникальных 1-грамм: 3559\n",
            "Коэффициент уникальности: 33.84%\n",
            "💾 Промежуточные результаты сохранены в /content/drive/MyDrive/K_means/split_20/train_20/temp_metrics.csv\n",
            "✅ Файл обработан. Всего записей: 91\n",
            "\n",
            "🚀 Обрабатываю файл 92/2219: part_170.txt\n"
          ]
        },
        {
          "output_type": "display_data",
          "data": {
            "text/plain": [
              "Анализ 1-грамм:   0%|          | 0/2 [00:00<?, ?it/s]"
            ],
            "application/vnd.jupyter.widget-view+json": {
              "version_major": 2,
              "version_minor": 0,
              "model_id": "3c2157c0e718442d9d2604997addd67f"
            }
          },
          "metadata": {}
        },
        {
          "output_type": "stream",
          "name": "stdout",
          "text": [
            "\n",
            "📊 Итоговая статистика 1-грамм:\n",
            "Общее количество 1-грамм: 9764\n",
            "Количество уникальных 1-грамм: 3041\n",
            "Коэффициент уникальности: 31.15%\n",
            "💾 Промежуточные результаты сохранены в /content/drive/MyDrive/K_means/split_20/train_20/temp_metrics.csv\n",
            "✅ Файл обработан. Всего записей: 92\n",
            "\n",
            "🚀 Обрабатываю файл 93/2219: part_172.txt\n"
          ]
        },
        {
          "output_type": "display_data",
          "data": {
            "text/plain": [
              "Анализ 1-грамм:   0%|          | 0/2 [00:00<?, ?it/s]"
            ],
            "application/vnd.jupyter.widget-view+json": {
              "version_major": 2,
              "version_minor": 0,
              "model_id": "ad2d83eb79b9487f8488f558f54779e7"
            }
          },
          "metadata": {}
        },
        {
          "output_type": "stream",
          "name": "stdout",
          "text": [
            "\n",
            "📊 Итоговая статистика 1-грамм:\n",
            "Общее количество 1-грамм: 11139\n",
            "Количество уникальных 1-грамм: 3844\n",
            "Коэффициент уникальности: 34.51%\n",
            "💾 Промежуточные результаты сохранены в /content/drive/MyDrive/K_means/split_20/train_20/temp_metrics.csv\n",
            "✅ Файл обработан. Всего записей: 93\n",
            "\n",
            "🚀 Обрабатываю файл 94/2219: part_174.txt\n"
          ]
        },
        {
          "output_type": "display_data",
          "data": {
            "text/plain": [
              "Анализ 1-грамм:   0%|          | 0/2 [00:00<?, ?it/s]"
            ],
            "application/vnd.jupyter.widget-view+json": {
              "version_major": 2,
              "version_minor": 0,
              "model_id": "6d69d33a17eb4d92bea8c8c03d16d77b"
            }
          },
          "metadata": {}
        },
        {
          "output_type": "stream",
          "name": "stdout",
          "text": [
            "\n",
            "📊 Итоговая статистика 1-грамм:\n",
            "Общее количество 1-грамм: 10652\n",
            "Количество уникальных 1-грамм: 4131\n",
            "Коэффициент уникальности: 38.78%\n",
            "💾 Промежуточные результаты сохранены в /content/drive/MyDrive/K_means/split_20/train_20/temp_metrics.csv\n",
            "✅ Файл обработан. Всего записей: 94\n",
            "\n",
            "🚀 Обрабатываю файл 95/2219: part_176.txt\n"
          ]
        },
        {
          "output_type": "display_data",
          "data": {
            "text/plain": [
              "Анализ 1-грамм:   0%|          | 0/2 [00:00<?, ?it/s]"
            ],
            "application/vnd.jupyter.widget-view+json": {
              "version_major": 2,
              "version_minor": 0,
              "model_id": "e721b64fc32f4613bc9d1781b7fc1f0c"
            }
          },
          "metadata": {}
        },
        {
          "output_type": "stream",
          "name": "stdout",
          "text": [
            "\n",
            "📊 Итоговая статистика 1-грамм:\n",
            "Общее количество 1-грамм: 10599\n",
            "Количество уникальных 1-грамм: 4071\n",
            "Коэффициент уникальности: 38.41%\n",
            "💾 Промежуточные результаты сохранены в /content/drive/MyDrive/K_means/split_20/train_20/temp_metrics.csv\n",
            "✅ Файл обработан. Всего записей: 95\n",
            "\n",
            "🚀 Обрабатываю файл 96/2219: part_177.txt\n"
          ]
        },
        {
          "output_type": "display_data",
          "data": {
            "text/plain": [
              "Анализ 1-грамм:   0%|          | 0/2 [00:00<?, ?it/s]"
            ],
            "application/vnd.jupyter.widget-view+json": {
              "version_major": 2,
              "version_minor": 0,
              "model_id": "ba0f310e9e664011a82f675c21733e6d"
            }
          },
          "metadata": {}
        },
        {
          "output_type": "stream",
          "name": "stdout",
          "text": [
            "\n",
            "📊 Итоговая статистика 1-грамм:\n",
            "Общее количество 1-грамм: 10406\n",
            "Количество уникальных 1-грамм: 3732\n",
            "Коэффициент уникальности: 35.86%\n",
            "💾 Промежуточные результаты сохранены в /content/drive/MyDrive/K_means/split_20/train_20/temp_metrics.csv\n",
            "✅ Файл обработан. Всего записей: 96\n",
            "\n",
            "🚀 Обрабатываю файл 97/2219: part_179.txt\n"
          ]
        },
        {
          "output_type": "display_data",
          "data": {
            "text/plain": [
              "Анализ 1-грамм:   0%|          | 0/2 [00:00<?, ?it/s]"
            ],
            "application/vnd.jupyter.widget-view+json": {
              "version_major": 2,
              "version_minor": 0,
              "model_id": "252fd142246b4132b16ed676b5349c06"
            }
          },
          "metadata": {}
        },
        {
          "output_type": "stream",
          "name": "stdout",
          "text": [
            "\n",
            "📊 Итоговая статистика 1-грамм:\n",
            "Общее количество 1-грамм: 10538\n",
            "Количество уникальных 1-грамм: 4181\n",
            "Коэффициент уникальности: 39.68%\n",
            "💾 Промежуточные результаты сохранены в /content/drive/MyDrive/K_means/split_20/train_20/temp_metrics.csv\n",
            "✅ Файл обработан. Всего записей: 97\n",
            "\n",
            "🚀 Обрабатываю файл 98/2219: part_181.txt\n"
          ]
        },
        {
          "output_type": "display_data",
          "data": {
            "text/plain": [
              "Анализ 1-грамм:   0%|          | 0/2 [00:00<?, ?it/s]"
            ],
            "application/vnd.jupyter.widget-view+json": {
              "version_major": 2,
              "version_minor": 0,
              "model_id": "fe393d76b31645fc90fa438ada27a925"
            }
          },
          "metadata": {}
        },
        {
          "output_type": "stream",
          "name": "stdout",
          "text": [
            "\n",
            "📊 Итоговая статистика 1-грамм:\n",
            "Общее количество 1-грамм: 10435\n",
            "Количество уникальных 1-грамм: 2711\n",
            "Коэффициент уникальности: 25.98%\n",
            "💾 Промежуточные результаты сохранены в /content/drive/MyDrive/K_means/split_20/train_20/temp_metrics.csv\n",
            "✅ Файл обработан. Всего записей: 98\n",
            "\n",
            "🚀 Обрабатываю файл 99/2219: part_184.txt\n"
          ]
        },
        {
          "output_type": "display_data",
          "data": {
            "text/plain": [
              "Анализ 1-грамм:   0%|          | 0/2 [00:00<?, ?it/s]"
            ],
            "application/vnd.jupyter.widget-view+json": {
              "version_major": 2,
              "version_minor": 0,
              "model_id": "310241ef0494420bacfacaf6a8b3da5f"
            }
          },
          "metadata": {}
        },
        {
          "output_type": "stream",
          "name": "stdout",
          "text": [
            "\n",
            "📊 Итоговая статистика 1-грамм:\n",
            "Общее количество 1-грамм: 9153\n",
            "Количество уникальных 1-грамм: 3333\n",
            "Коэффициент уникальности: 36.41%\n",
            "💾 Промежуточные результаты сохранены в /content/drive/MyDrive/K_means/split_20/train_20/temp_metrics.csv\n",
            "✅ Файл обработан. Всего записей: 99\n",
            "\n",
            "🚀 Обрабатываю файл 100/2219: part_185.txt\n"
          ]
        },
        {
          "output_type": "display_data",
          "data": {
            "text/plain": [
              "Анализ 1-грамм:   0%|          | 0/2 [00:00<?, ?it/s]"
            ],
            "application/vnd.jupyter.widget-view+json": {
              "version_major": 2,
              "version_minor": 0,
              "model_id": "ec790607605743929692daadb8730f80"
            }
          },
          "metadata": {}
        },
        {
          "output_type": "stream",
          "name": "stdout",
          "text": [
            "\n",
            "📊 Итоговая статистика 1-грамм:\n",
            "Общее количество 1-грамм: 8397\n",
            "Количество уникальных 1-грамм: 2896\n",
            "Коэффициент уникальности: 34.49%\n",
            "💾 Промежуточные результаты сохранены в /content/drive/MyDrive/K_means/split_20/train_20/temp_metrics.csv\n",
            "✅ Файл обработан. Всего записей: 100\n",
            "\n",
            "🚀 Обрабатываю файл 101/2219: part_186.txt\n"
          ]
        },
        {
          "output_type": "display_data",
          "data": {
            "text/plain": [
              "Анализ 1-грамм:   0%|          | 0/2 [00:00<?, ?it/s]"
            ],
            "application/vnd.jupyter.widget-view+json": {
              "version_major": 2,
              "version_minor": 0,
              "model_id": "44aa548ddc3a4f65b13134f427c06e17"
            }
          },
          "metadata": {}
        },
        {
          "output_type": "stream",
          "name": "stdout",
          "text": [
            "\n",
            "📊 Итоговая статистика 1-грамм:\n",
            "Общее количество 1-грамм: 8440\n",
            "Количество уникальных 1-грамм: 2794\n",
            "Коэффициент уникальности: 33.10%\n",
            "💾 Промежуточные результаты сохранены в /content/drive/MyDrive/K_means/split_20/train_20/temp_metrics.csv\n",
            "✅ Файл обработан. Всего записей: 101\n",
            "\n",
            "🚀 Обрабатываю файл 102/2219: part_187.txt\n"
          ]
        },
        {
          "output_type": "display_data",
          "data": {
            "text/plain": [
              "Анализ 1-грамм:   0%|          | 0/2 [00:00<?, ?it/s]"
            ],
            "application/vnd.jupyter.widget-view+json": {
              "version_major": 2,
              "version_minor": 0,
              "model_id": "8f4fda9725ef468b88d17498efc6aada"
            }
          },
          "metadata": {}
        },
        {
          "output_type": "stream",
          "name": "stdout",
          "text": [
            "\n",
            "📊 Итоговая статистика 1-грамм:\n",
            "Общее количество 1-грамм: 8544\n",
            "Количество уникальных 1-грамм: 2763\n",
            "Коэффициент уникальности: 32.34%\n",
            "💾 Промежуточные результаты сохранены в /content/drive/MyDrive/K_means/split_20/train_20/temp_metrics.csv\n",
            "✅ Файл обработан. Всего записей: 102\n",
            "\n",
            "🚀 Обрабатываю файл 103/2219: part_188.txt\n"
          ]
        },
        {
          "output_type": "display_data",
          "data": {
            "text/plain": [
              "Анализ 1-грамм:   0%|          | 0/2 [00:00<?, ?it/s]"
            ],
            "application/vnd.jupyter.widget-view+json": {
              "version_major": 2,
              "version_minor": 0,
              "model_id": "db7a6d5220654016b54f8d104ddad6e2"
            }
          },
          "metadata": {}
        },
        {
          "output_type": "stream",
          "name": "stdout",
          "text": [
            "\n",
            "📊 Итоговая статистика 1-грамм:\n",
            "Общее количество 1-грамм: 8399\n",
            "Количество уникальных 1-грамм: 2605\n",
            "Коэффициент уникальности: 31.02%\n",
            "💾 Промежуточные результаты сохранены в /content/drive/MyDrive/K_means/split_20/train_20/temp_metrics.csv\n",
            "✅ Файл обработан. Всего записей: 103\n",
            "\n",
            "🚀 Обрабатываю файл 104/2219: part_189.txt\n"
          ]
        },
        {
          "output_type": "display_data",
          "data": {
            "text/plain": [
              "Анализ 1-грамм:   0%|          | 0/2 [00:00<?, ?it/s]"
            ],
            "application/vnd.jupyter.widget-view+json": {
              "version_major": 2,
              "version_minor": 0,
              "model_id": "a99cbda6ee9c4bd881518ba566081123"
            }
          },
          "metadata": {}
        },
        {
          "output_type": "stream",
          "name": "stdout",
          "text": [
            "\n",
            "📊 Итоговая статистика 1-грамм:\n",
            "Общее количество 1-грамм: 10718\n",
            "Количество уникальных 1-грамм: 4110\n",
            "Коэффициент уникальности: 38.35%\n",
            "💾 Промежуточные результаты сохранены в /content/drive/MyDrive/K_means/split_20/train_20/temp_metrics.csv\n",
            "✅ Файл обработан. Всего записей: 104\n",
            "\n",
            "🚀 Обрабатываю файл 105/2219: part_191.txt\n"
          ]
        },
        {
          "output_type": "display_data",
          "data": {
            "text/plain": [
              "Анализ 1-грамм:   0%|          | 0/2 [00:00<?, ?it/s]"
            ],
            "application/vnd.jupyter.widget-view+json": {
              "version_major": 2,
              "version_minor": 0,
              "model_id": "dffc89782ddf4ef89f76f8a29c715666"
            }
          },
          "metadata": {}
        },
        {
          "output_type": "stream",
          "name": "stdout",
          "text": [
            "\n",
            "📊 Итоговая статистика 1-грамм:\n",
            "Общее количество 1-грамм: 9533\n",
            "Количество уникальных 1-грамм: 3379\n",
            "Коэффициент уникальности: 35.45%\n",
            "💾 Промежуточные результаты сохранены в /content/drive/MyDrive/K_means/split_20/train_20/temp_metrics.csv\n",
            "✅ Файл обработан. Всего записей: 105\n",
            "\n",
            "🚀 Обрабатываю файл 106/2219: part_193.txt\n"
          ]
        },
        {
          "output_type": "display_data",
          "data": {
            "text/plain": [
              "Анализ 1-грамм:   0%|          | 0/2 [00:00<?, ?it/s]"
            ],
            "application/vnd.jupyter.widget-view+json": {
              "version_major": 2,
              "version_minor": 0,
              "model_id": "8691229080b248ab8a4f977c72bdf6b9"
            }
          },
          "metadata": {}
        },
        {
          "output_type": "stream",
          "name": "stdout",
          "text": [
            "\n",
            "📊 Итоговая статистика 1-грамм:\n",
            "Общее количество 1-грамм: 10166\n",
            "Количество уникальных 1-грамм: 3643\n",
            "Коэффициент уникальности: 35.84%\n",
            "💾 Промежуточные результаты сохранены в /content/drive/MyDrive/K_means/split_20/train_20/temp_metrics.csv\n",
            "✅ Файл обработан. Всего записей: 106\n",
            "\n",
            "🚀 Обрабатываю файл 107/2219: part_194.txt\n"
          ]
        },
        {
          "output_type": "display_data",
          "data": {
            "text/plain": [
              "Анализ 1-грамм:   0%|          | 0/2 [00:00<?, ?it/s]"
            ],
            "application/vnd.jupyter.widget-view+json": {
              "version_major": 2,
              "version_minor": 0,
              "model_id": "6d8e11364c3646b3a8e6fd34e5a2b4fc"
            }
          },
          "metadata": {}
        },
        {
          "output_type": "stream",
          "name": "stdout",
          "text": [
            "\n",
            "📊 Итоговая статистика 1-грамм:\n",
            "Общее количество 1-грамм: 10749\n",
            "Количество уникальных 1-грамм: 3332\n",
            "Коэффициент уникальности: 31.00%\n",
            "💾 Промежуточные результаты сохранены в /content/drive/MyDrive/K_means/split_20/train_20/temp_metrics.csv\n",
            "✅ Файл обработан. Всего записей: 107\n",
            "\n",
            "🚀 Обрабатываю файл 108/2219: part_195.txt\n"
          ]
        },
        {
          "output_type": "display_data",
          "data": {
            "text/plain": [
              "Анализ 1-грамм:   0%|          | 0/2 [00:00<?, ?it/s]"
            ],
            "application/vnd.jupyter.widget-view+json": {
              "version_major": 2,
              "version_minor": 0,
              "model_id": "caddb0247e194d02bfdda42eb18f30e2"
            }
          },
          "metadata": {}
        },
        {
          "output_type": "stream",
          "name": "stdout",
          "text": [
            "\n",
            "📊 Итоговая статистика 1-грамм:\n",
            "Общее количество 1-грамм: 10396\n",
            "Количество уникальных 1-грамм: 3230\n",
            "Коэффициент уникальности: 31.07%\n",
            "💾 Промежуточные результаты сохранены в /content/drive/MyDrive/K_means/split_20/train_20/temp_metrics.csv\n",
            "✅ Файл обработан. Всего записей: 108\n",
            "\n",
            "🚀 Обрабатываю файл 109/2219: part_199.txt\n"
          ]
        },
        {
          "output_type": "display_data",
          "data": {
            "text/plain": [
              "Анализ 1-грамм:   0%|          | 0/2 [00:00<?, ?it/s]"
            ],
            "application/vnd.jupyter.widget-view+json": {
              "version_major": 2,
              "version_minor": 0,
              "model_id": "74bfe2210feb440eacb4ec77ce3e5604"
            }
          },
          "metadata": {}
        },
        {
          "output_type": "stream",
          "name": "stdout",
          "text": [
            "\n",
            "📊 Итоговая статистика 1-грамм:\n",
            "Общее количество 1-грамм: 10420\n",
            "Количество уникальных 1-грамм: 3449\n",
            "Коэффициент уникальности: 33.10%\n",
            "💾 Промежуточные результаты сохранены в /content/drive/MyDrive/K_means/split_20/train_20/temp_metrics.csv\n",
            "✅ Файл обработан. Всего записей: 109\n",
            "\n",
            "🚀 Обрабатываю файл 110/2219: part_201.txt\n"
          ]
        },
        {
          "output_type": "display_data",
          "data": {
            "text/plain": [
              "Анализ 1-грамм:   0%|          | 0/2 [00:00<?, ?it/s]"
            ],
            "application/vnd.jupyter.widget-view+json": {
              "version_major": 2,
              "version_minor": 0,
              "model_id": "4b7a84b71d2a4e50bbf064b1a615ff5c"
            }
          },
          "metadata": {}
        },
        {
          "output_type": "stream",
          "name": "stdout",
          "text": [
            "\n",
            "📊 Итоговая статистика 1-грамм:\n",
            "Общее количество 1-грамм: 10660\n",
            "Количество уникальных 1-грамм: 3607\n",
            "Коэффициент уникальности: 33.84%\n",
            "💾 Промежуточные результаты сохранены в /content/drive/MyDrive/K_means/split_20/train_20/temp_metrics.csv\n",
            "✅ Файл обработан. Всего записей: 110\n",
            "\n",
            "🚀 Обрабатываю файл 111/2219: part_202.txt\n"
          ]
        },
        {
          "output_type": "display_data",
          "data": {
            "text/plain": [
              "Анализ 1-грамм:   0%|          | 0/2 [00:00<?, ?it/s]"
            ],
            "application/vnd.jupyter.widget-view+json": {
              "version_major": 2,
              "version_minor": 0,
              "model_id": "26dc192bf34840a2b75c10681629a2e4"
            }
          },
          "metadata": {}
        },
        {
          "output_type": "stream",
          "name": "stdout",
          "text": [
            "\n",
            "📊 Итоговая статистика 1-грамм:\n",
            "Общее количество 1-грамм: 10454\n",
            "Количество уникальных 1-грамм: 3790\n",
            "Коэффициент уникальности: 36.25%\n",
            "💾 Промежуточные результаты сохранены в /content/drive/MyDrive/K_means/split_20/train_20/temp_metrics.csv\n",
            "✅ Файл обработан. Всего записей: 111\n",
            "\n",
            "🚀 Обрабатываю файл 112/2219: part_206.txt\n"
          ]
        },
        {
          "output_type": "display_data",
          "data": {
            "text/plain": [
              "Анализ 1-грамм:   0%|          | 0/2 [00:00<?, ?it/s]"
            ],
            "application/vnd.jupyter.widget-view+json": {
              "version_major": 2,
              "version_minor": 0,
              "model_id": "3dd0a5ee1f034f1ab27eca9bfb723bed"
            }
          },
          "metadata": {}
        },
        {
          "output_type": "stream",
          "name": "stdout",
          "text": [
            "\n",
            "📊 Итоговая статистика 1-грамм:\n",
            "Общее количество 1-грамм: 11408\n",
            "Количество уникальных 1-грамм: 3639\n",
            "Коэффициент уникальности: 31.90%\n",
            "💾 Промежуточные результаты сохранены в /content/drive/MyDrive/K_means/split_20/train_20/temp_metrics.csv\n",
            "✅ Файл обработан. Всего записей: 112\n",
            "\n",
            "🚀 Обрабатываю файл 113/2219: part_208.txt\n"
          ]
        },
        {
          "output_type": "display_data",
          "data": {
            "text/plain": [
              "Анализ 1-грамм:   0%|          | 0/2 [00:00<?, ?it/s]"
            ],
            "application/vnd.jupyter.widget-view+json": {
              "version_major": 2,
              "version_minor": 0,
              "model_id": "4bfc18d6046049819d407cfebada4918"
            }
          },
          "metadata": {}
        },
        {
          "output_type": "stream",
          "name": "stdout",
          "text": [
            "\n",
            "📊 Итоговая статистика 1-грамм:\n",
            "Общее количество 1-грамм: 9736\n",
            "Количество уникальных 1-грамм: 2939\n",
            "Коэффициент уникальности: 30.19%\n",
            "💾 Промежуточные результаты сохранены в /content/drive/MyDrive/K_means/split_20/train_20/temp_metrics.csv\n",
            "✅ Файл обработан. Всего записей: 113\n",
            "\n",
            "🚀 Обрабатываю файл 114/2219: part_209.txt\n"
          ]
        },
        {
          "output_type": "display_data",
          "data": {
            "text/plain": [
              "Анализ 1-грамм:   0%|          | 0/2 [00:00<?, ?it/s]"
            ],
            "application/vnd.jupyter.widget-view+json": {
              "version_major": 2,
              "version_minor": 0,
              "model_id": "d66948f131aa417ba9439b495aa14be0"
            }
          },
          "metadata": {}
        },
        {
          "output_type": "stream",
          "name": "stdout",
          "text": [
            "\n",
            "📊 Итоговая статистика 1-грамм:\n",
            "Общее количество 1-грамм: 9619\n",
            "Количество уникальных 1-грамм: 2809\n",
            "Коэффициент уникальности: 29.20%\n",
            "💾 Промежуточные результаты сохранены в /content/drive/MyDrive/K_means/split_20/train_20/temp_metrics.csv\n",
            "✅ Файл обработан. Всего записей: 114\n",
            "\n",
            "🚀 Обрабатываю файл 115/2219: part_211.txt\n"
          ]
        },
        {
          "output_type": "display_data",
          "data": {
            "text/plain": [
              "Анализ 1-грамм:   0%|          | 0/2 [00:00<?, ?it/s]"
            ],
            "application/vnd.jupyter.widget-view+json": {
              "version_major": 2,
              "version_minor": 0,
              "model_id": "1ed037118788450f9a04aac6eb14558d"
            }
          },
          "metadata": {}
        },
        {
          "output_type": "stream",
          "name": "stdout",
          "text": [
            "\n",
            "📊 Итоговая статистика 1-грамм:\n",
            "Общее количество 1-грамм: 9331\n",
            "Количество уникальных 1-грамм: 3102\n",
            "Коэффициент уникальности: 33.24%\n",
            "💾 Промежуточные результаты сохранены в /content/drive/MyDrive/K_means/split_20/train_20/temp_metrics.csv\n",
            "✅ Файл обработан. Всего записей: 115\n",
            "\n",
            "🚀 Обрабатываю файл 116/2219: part_216.txt\n"
          ]
        },
        {
          "output_type": "display_data",
          "data": {
            "text/plain": [
              "Анализ 1-грамм:   0%|          | 0/2 [00:00<?, ?it/s]"
            ],
            "application/vnd.jupyter.widget-view+json": {
              "version_major": 2,
              "version_minor": 0,
              "model_id": "900ba9cd594d4a9ca978be89106bdb30"
            }
          },
          "metadata": {}
        },
        {
          "output_type": "stream",
          "name": "stdout",
          "text": [
            "\n",
            "📊 Итоговая статистика 1-грамм:\n",
            "Общее количество 1-грамм: 9620\n",
            "Количество уникальных 1-грамм: 3578\n",
            "Коэффициент уникальности: 37.19%\n",
            "💾 Промежуточные результаты сохранены в /content/drive/MyDrive/K_means/split_20/train_20/temp_metrics.csv\n",
            "✅ Файл обработан. Всего записей: 116\n",
            "\n",
            "🚀 Обрабатываю файл 117/2219: part_217.txt\n"
          ]
        },
        {
          "output_type": "display_data",
          "data": {
            "text/plain": [
              "Анализ 1-грамм:   0%|          | 0/2 [00:00<?, ?it/s]"
            ],
            "application/vnd.jupyter.widget-view+json": {
              "version_major": 2,
              "version_minor": 0,
              "model_id": "82dad15ee21e44d09c911e4589b7af88"
            }
          },
          "metadata": {}
        },
        {
          "output_type": "stream",
          "name": "stdout",
          "text": [
            "\n",
            "📊 Итоговая статистика 1-грамм:\n",
            "Общее количество 1-грамм: 9066\n",
            "Количество уникальных 1-грамм: 3182\n",
            "Коэффициент уникальности: 35.10%\n",
            "💾 Промежуточные результаты сохранены в /content/drive/MyDrive/K_means/split_20/train_20/temp_metrics.csv\n",
            "✅ Файл обработан. Всего записей: 117\n",
            "\n",
            "🚀 Обрабатываю файл 118/2219: part_218.txt\n"
          ]
        },
        {
          "output_type": "display_data",
          "data": {
            "text/plain": [
              "Анализ 1-грамм:   0%|          | 0/2 [00:00<?, ?it/s]"
            ],
            "application/vnd.jupyter.widget-view+json": {
              "version_major": 2,
              "version_minor": 0,
              "model_id": "e9523cdb2c46438d8a11f03a8f74c417"
            }
          },
          "metadata": {}
        },
        {
          "output_type": "stream",
          "name": "stdout",
          "text": [
            "\n",
            "📊 Итоговая статистика 1-грамм:\n",
            "Общее количество 1-грамм: 9091\n",
            "Количество уникальных 1-грамм: 2993\n",
            "Коэффициент уникальности: 32.92%\n",
            "💾 Промежуточные результаты сохранены в /content/drive/MyDrive/K_means/split_20/train_20/temp_metrics.csv\n",
            "✅ Файл обработан. Всего записей: 118\n",
            "\n",
            "🚀 Обрабатываю файл 119/2219: part_219.txt\n"
          ]
        },
        {
          "output_type": "display_data",
          "data": {
            "text/plain": [
              "Анализ 1-грамм:   0%|          | 0/2 [00:00<?, ?it/s]"
            ],
            "application/vnd.jupyter.widget-view+json": {
              "version_major": 2,
              "version_minor": 0,
              "model_id": "33534f7e5f20458fa1801a3d861e3c7d"
            }
          },
          "metadata": {}
        },
        {
          "output_type": "stream",
          "name": "stdout",
          "text": [
            "\n",
            "📊 Итоговая статистика 1-грамм:\n",
            "Общее количество 1-грамм: 8846\n",
            "Количество уникальных 1-грамм: 3067\n",
            "Коэффициент уникальности: 34.67%\n",
            "💾 Промежуточные результаты сохранены в /content/drive/MyDrive/K_means/split_20/train_20/temp_metrics.csv\n",
            "✅ Файл обработан. Всего записей: 119\n",
            "\n",
            "🚀 Обрабатываю файл 120/2219: part_220.txt\n"
          ]
        },
        {
          "output_type": "display_data",
          "data": {
            "text/plain": [
              "Анализ 1-грамм:   0%|          | 0/2 [00:00<?, ?it/s]"
            ],
            "application/vnd.jupyter.widget-view+json": {
              "version_major": 2,
              "version_minor": 0,
              "model_id": "0db37b53cf914973917d5d563b336bdd"
            }
          },
          "metadata": {}
        },
        {
          "output_type": "stream",
          "name": "stdout",
          "text": [
            "\n",
            "📊 Итоговая статистика 1-грамм:\n",
            "Общее количество 1-грамм: 8791\n",
            "Количество уникальных 1-грамм: 3110\n",
            "Коэффициент уникальности: 35.38%\n",
            "💾 Промежуточные результаты сохранены в /content/drive/MyDrive/K_means/split_20/train_20/temp_metrics.csv\n",
            "✅ Файл обработан. Всего записей: 120\n",
            "\n",
            "🚀 Обрабатываю файл 121/2219: part_222.txt\n"
          ]
        },
        {
          "output_type": "display_data",
          "data": {
            "text/plain": [
              "Анализ 1-грамм:   0%|          | 0/2 [00:00<?, ?it/s]"
            ],
            "application/vnd.jupyter.widget-view+json": {
              "version_major": 2,
              "version_minor": 0,
              "model_id": "67e06f39b487494ea195dc9d7571f3c0"
            }
          },
          "metadata": {}
        },
        {
          "output_type": "stream",
          "name": "stdout",
          "text": [
            "\n",
            "📊 Итоговая статистика 1-грамм:\n",
            "Общее количество 1-грамм: 8634\n",
            "Количество уникальных 1-грамм: 2853\n",
            "Коэффициент уникальности: 33.04%\n",
            "💾 Промежуточные результаты сохранены в /content/drive/MyDrive/K_means/split_20/train_20/temp_metrics.csv\n",
            "✅ Файл обработан. Всего записей: 121\n",
            "\n",
            "🚀 Обрабатываю файл 122/2219: part_224.txt\n"
          ]
        },
        {
          "output_type": "display_data",
          "data": {
            "text/plain": [
              "Анализ 1-грамм:   0%|          | 0/2 [00:00<?, ?it/s]"
            ],
            "application/vnd.jupyter.widget-view+json": {
              "version_major": 2,
              "version_minor": 0,
              "model_id": "54a873a4814e4039b03e41336f72dd25"
            }
          },
          "metadata": {}
        },
        {
          "output_type": "stream",
          "name": "stdout",
          "text": [
            "\n",
            "📊 Итоговая статистика 1-грамм:\n",
            "Общее количество 1-грамм: 9355\n",
            "Количество уникальных 1-грамм: 3073\n",
            "Коэффициент уникальности: 32.85%\n",
            "💾 Промежуточные результаты сохранены в /content/drive/MyDrive/K_means/split_20/train_20/temp_metrics.csv\n",
            "✅ Файл обработан. Всего записей: 122\n",
            "\n",
            "🚀 Обрабатываю файл 123/2219: part_226.txt\n"
          ]
        },
        {
          "output_type": "display_data",
          "data": {
            "text/plain": [
              "Анализ 1-грамм:   0%|          | 0/2 [00:00<?, ?it/s]"
            ],
            "application/vnd.jupyter.widget-view+json": {
              "version_major": 2,
              "version_minor": 0,
              "model_id": "5d80a3c2873b4befb2cc8bf96be47772"
            }
          },
          "metadata": {}
        },
        {
          "output_type": "stream",
          "name": "stdout",
          "text": [
            "\n",
            "📊 Итоговая статистика 1-грамм:\n",
            "Общее количество 1-грамм: 8818\n",
            "Количество уникальных 1-грамм: 2992\n",
            "Коэффициент уникальности: 33.93%\n",
            "💾 Промежуточные результаты сохранены в /content/drive/MyDrive/K_means/split_20/train_20/temp_metrics.csv\n",
            "✅ Файл обработан. Всего записей: 123\n",
            "\n",
            "🚀 Обрабатываю файл 124/2219: part_227.txt\n"
          ]
        },
        {
          "output_type": "display_data",
          "data": {
            "text/plain": [
              "Анализ 1-грамм:   0%|          | 0/2 [00:00<?, ?it/s]"
            ],
            "application/vnd.jupyter.widget-view+json": {
              "version_major": 2,
              "version_minor": 0,
              "model_id": "dbdb276839be4c519006a064787f7fad"
            }
          },
          "metadata": {}
        },
        {
          "output_type": "stream",
          "name": "stdout",
          "text": [
            "\n",
            "📊 Итоговая статистика 1-грамм:\n",
            "Общее количество 1-грамм: 8395\n",
            "Количество уникальных 1-грамм: 2719\n",
            "Коэффициент уникальности: 32.39%\n",
            "💾 Промежуточные результаты сохранены в /content/drive/MyDrive/K_means/split_20/train_20/temp_metrics.csv\n",
            "✅ Файл обработан. Всего записей: 124\n",
            "\n",
            "🚀 Обрабатываю файл 125/2219: part_228.txt\n"
          ]
        },
        {
          "output_type": "display_data",
          "data": {
            "text/plain": [
              "Анализ 1-грамм:   0%|          | 0/2 [00:00<?, ?it/s]"
            ],
            "application/vnd.jupyter.widget-view+json": {
              "version_major": 2,
              "version_minor": 0,
              "model_id": "be79a39dc1844b5fb13303fa0d66e1a4"
            }
          },
          "metadata": {}
        },
        {
          "output_type": "stream",
          "name": "stdout",
          "text": [
            "\n",
            "📊 Итоговая статистика 1-грамм:\n",
            "Общее количество 1-грамм: 8092\n",
            "Количество уникальных 1-грамм: 2680\n",
            "Коэффициент уникальности: 33.12%\n",
            "💾 Промежуточные результаты сохранены в /content/drive/MyDrive/K_means/split_20/train_20/temp_metrics.csv\n",
            "✅ Файл обработан. Всего записей: 125\n",
            "\n",
            "🚀 Обрабатываю файл 126/2219: part_229.txt\n"
          ]
        },
        {
          "output_type": "display_data",
          "data": {
            "text/plain": [
              "Анализ 1-грамм:   0%|          | 0/2 [00:00<?, ?it/s]"
            ],
            "application/vnd.jupyter.widget-view+json": {
              "version_major": 2,
              "version_minor": 0,
              "model_id": "50c30cd0c7f744f8b888e10f4cb99a4f"
            }
          },
          "metadata": {}
        },
        {
          "output_type": "stream",
          "name": "stdout",
          "text": [
            "\n",
            "📊 Итоговая статистика 1-грамм:\n",
            "Общее количество 1-грамм: 10553\n",
            "Количество уникальных 1-грамм: 4414\n",
            "Коэффициент уникальности: 41.83%\n",
            "💾 Промежуточные результаты сохранены в /content/drive/MyDrive/K_means/split_20/train_20/temp_metrics.csv\n",
            "✅ Файл обработан. Всего записей: 126\n",
            "\n",
            "🚀 Обрабатываю файл 127/2219: part_231.txt\n"
          ]
        },
        {
          "output_type": "display_data",
          "data": {
            "text/plain": [
              "Анализ 1-грамм:   0%|          | 0/2 [00:00<?, ?it/s]"
            ],
            "application/vnd.jupyter.widget-view+json": {
              "version_major": 2,
              "version_minor": 0,
              "model_id": "0a089bc6683d4bf792469016801582bf"
            }
          },
          "metadata": {}
        },
        {
          "output_type": "stream",
          "name": "stdout",
          "text": [
            "\n",
            "📊 Итоговая статистика 1-грамм:\n",
            "Общее количество 1-грамм: 8490\n",
            "Количество уникальных 1-грамм: 3001\n",
            "Коэффициент уникальности: 35.35%\n",
            "💾 Промежуточные результаты сохранены в /content/drive/MyDrive/K_means/split_20/train_20/temp_metrics.csv\n",
            "✅ Файл обработан. Всего записей: 127\n",
            "\n",
            "🚀 Обрабатываю файл 128/2219: part_232.txt\n"
          ]
        },
        {
          "output_type": "display_data",
          "data": {
            "text/plain": [
              "Анализ 1-грамм:   0%|          | 0/2 [00:00<?, ?it/s]"
            ],
            "application/vnd.jupyter.widget-view+json": {
              "version_major": 2,
              "version_minor": 0,
              "model_id": "cc54bd958eb94cd2a7148c8a11669a00"
            }
          },
          "metadata": {}
        },
        {
          "output_type": "stream",
          "name": "stdout",
          "text": [
            "\n",
            "📊 Итоговая статистика 1-грамм:\n",
            "Общее количество 1-грамм: 10827\n",
            "Количество уникальных 1-грамм: 3618\n",
            "Коэффициент уникальности: 33.42%\n",
            "💾 Промежуточные результаты сохранены в /content/drive/MyDrive/K_means/split_20/train_20/temp_metrics.csv\n",
            "✅ Файл обработан. Всего записей: 128\n",
            "\n",
            "🚀 Обрабатываю файл 129/2219: part_234.txt\n"
          ]
        },
        {
          "output_type": "display_data",
          "data": {
            "text/plain": [
              "Анализ 1-грамм:   0%|          | 0/2 [00:00<?, ?it/s]"
            ],
            "application/vnd.jupyter.widget-view+json": {
              "version_major": 2,
              "version_minor": 0,
              "model_id": "3e05cd194a46438d924ea6ae2a057c0b"
            }
          },
          "metadata": {}
        },
        {
          "output_type": "stream",
          "name": "stdout",
          "text": [
            "\n",
            "📊 Итоговая статистика 1-грамм:\n",
            "Общее количество 1-грамм: 9902\n",
            "Количество уникальных 1-грамм: 3439\n",
            "Коэффициент уникальности: 34.73%\n",
            "💾 Промежуточные результаты сохранены в /content/drive/MyDrive/K_means/split_20/train_20/temp_metrics.csv\n",
            "✅ Файл обработан. Всего записей: 129\n",
            "\n",
            "🚀 Обрабатываю файл 130/2219: part_236.txt\n"
          ]
        },
        {
          "output_type": "display_data",
          "data": {
            "text/plain": [
              "Анализ 1-грамм:   0%|          | 0/2 [00:00<?, ?it/s]"
            ],
            "application/vnd.jupyter.widget-view+json": {
              "version_major": 2,
              "version_minor": 0,
              "model_id": "f9756b63e7494b4ea96dd3f9a5ac541d"
            }
          },
          "metadata": {}
        },
        {
          "output_type": "stream",
          "name": "stdout",
          "text": [
            "\n",
            "📊 Итоговая статистика 1-грамм:\n",
            "Общее количество 1-грамм: 9377\n",
            "Количество уникальных 1-грамм: 3292\n",
            "Коэффициент уникальности: 35.11%\n",
            "💾 Промежуточные результаты сохранены в /content/drive/MyDrive/K_means/split_20/train_20/temp_metrics.csv\n",
            "✅ Файл обработан. Всего записей: 130\n",
            "\n",
            "🚀 Обрабатываю файл 131/2219: part_239.txt\n"
          ]
        },
        {
          "output_type": "display_data",
          "data": {
            "text/plain": [
              "Анализ 1-грамм:   0%|          | 0/2 [00:00<?, ?it/s]"
            ],
            "application/vnd.jupyter.widget-view+json": {
              "version_major": 2,
              "version_minor": 0,
              "model_id": "3e34bb4ad78a47bbab33f7b3acf03674"
            }
          },
          "metadata": {}
        },
        {
          "output_type": "stream",
          "name": "stdout",
          "text": [
            "\n",
            "📊 Итоговая статистика 1-грамм:\n",
            "Общее количество 1-грамм: 9488\n",
            "Количество уникальных 1-грамм: 3140\n",
            "Коэффициент уникальности: 33.09%\n",
            "💾 Промежуточные результаты сохранены в /content/drive/MyDrive/K_means/split_20/train_20/temp_metrics.csv\n",
            "✅ Файл обработан. Всего записей: 131\n",
            "\n",
            "🚀 Обрабатываю файл 132/2219: part_242.txt\n"
          ]
        },
        {
          "output_type": "display_data",
          "data": {
            "text/plain": [
              "Анализ 1-грамм:   0%|          | 0/2 [00:00<?, ?it/s]"
            ],
            "application/vnd.jupyter.widget-view+json": {
              "version_major": 2,
              "version_minor": 0,
              "model_id": "7b9faf5b42be45c09f05a8425830dd92"
            }
          },
          "metadata": {}
        },
        {
          "output_type": "stream",
          "name": "stdout",
          "text": [
            "\n",
            "📊 Итоговая статистика 1-грамм:\n",
            "Общее количество 1-грамм: 9189\n",
            "Количество уникальных 1-грамм: 3183\n",
            "Коэффициент уникальности: 34.64%\n",
            "💾 Промежуточные результаты сохранены в /content/drive/MyDrive/K_means/split_20/train_20/temp_metrics.csv\n",
            "✅ Файл обработан. Всего записей: 132\n",
            "\n",
            "🚀 Обрабатываю файл 133/2219: part_243.txt\n"
          ]
        },
        {
          "output_type": "display_data",
          "data": {
            "text/plain": [
              "Анализ 1-грамм:   0%|          | 0/2 [00:00<?, ?it/s]"
            ],
            "application/vnd.jupyter.widget-view+json": {
              "version_major": 2,
              "version_minor": 0,
              "model_id": "83e68b3317ae49e38aee38beb482cb77"
            }
          },
          "metadata": {}
        },
        {
          "output_type": "stream",
          "name": "stdout",
          "text": [
            "\n",
            "📊 Итоговая статистика 1-грамм:\n",
            "Общее количество 1-грамм: 9421\n",
            "Количество уникальных 1-грамм: 3643\n",
            "Коэффициент уникальности: 38.67%\n",
            "💾 Промежуточные результаты сохранены в /content/drive/MyDrive/K_means/split_20/train_20/temp_metrics.csv\n",
            "✅ Файл обработан. Всего записей: 133\n",
            "\n",
            "🚀 Обрабатываю файл 134/2219: part_244.txt\n"
          ]
        },
        {
          "output_type": "display_data",
          "data": {
            "text/plain": [
              "Анализ 1-грамм:   0%|          | 0/2 [00:00<?, ?it/s]"
            ],
            "application/vnd.jupyter.widget-view+json": {
              "version_major": 2,
              "version_minor": 0,
              "model_id": "25dadc4f5f2844f9831bf10aac5465f3"
            }
          },
          "metadata": {}
        },
        {
          "output_type": "stream",
          "name": "stdout",
          "text": [
            "\n",
            "📊 Итоговая статистика 1-грамм:\n",
            "Общее количество 1-грамм: 9436\n",
            "Количество уникальных 1-грамм: 3619\n",
            "Коэффициент уникальности: 38.35%\n",
            "💾 Промежуточные результаты сохранены в /content/drive/MyDrive/K_means/split_20/train_20/temp_metrics.csv\n",
            "✅ Файл обработан. Всего записей: 134\n",
            "\n",
            "🚀 Обрабатываю файл 135/2219: part_245.txt\n"
          ]
        },
        {
          "output_type": "display_data",
          "data": {
            "text/plain": [
              "Анализ 1-грамм:   0%|          | 0/2 [00:00<?, ?it/s]"
            ],
            "application/vnd.jupyter.widget-view+json": {
              "version_major": 2,
              "version_minor": 0,
              "model_id": "17cfc409f026439a8e976d3b3306a118"
            }
          },
          "metadata": {}
        },
        {
          "output_type": "stream",
          "name": "stdout",
          "text": [
            "\n",
            "📊 Итоговая статистика 1-грамм:\n",
            "Общее количество 1-грамм: 9634\n",
            "Количество уникальных 1-грамм: 2836\n",
            "Коэффициент уникальности: 29.44%\n",
            "💾 Промежуточные результаты сохранены в /content/drive/MyDrive/K_means/split_20/train_20/temp_metrics.csv\n",
            "✅ Файл обработан. Всего записей: 135\n",
            "\n",
            "🚀 Обрабатываю файл 136/2219: part_246.txt\n"
          ]
        },
        {
          "output_type": "display_data",
          "data": {
            "text/plain": [
              "Анализ 1-грамм:   0%|          | 0/2 [00:00<?, ?it/s]"
            ],
            "application/vnd.jupyter.widget-view+json": {
              "version_major": 2,
              "version_minor": 0,
              "model_id": "dd2b48fb7e004b4d923bd31cb8f669df"
            }
          },
          "metadata": {}
        },
        {
          "output_type": "stream",
          "name": "stdout",
          "text": [
            "\n",
            "📊 Итоговая статистика 1-грамм:\n",
            "Общее количество 1-грамм: 9682\n",
            "Количество уникальных 1-грамм: 3103\n",
            "Коэффициент уникальности: 32.05%\n",
            "💾 Промежуточные результаты сохранены в /content/drive/MyDrive/K_means/split_20/train_20/temp_metrics.csv\n",
            "✅ Файл обработан. Всего записей: 136\n",
            "\n",
            "🚀 Обрабатываю файл 137/2219: part_247.txt\n"
          ]
        },
        {
          "output_type": "display_data",
          "data": {
            "text/plain": [
              "Анализ 1-грамм:   0%|          | 0/2 [00:00<?, ?it/s]"
            ],
            "application/vnd.jupyter.widget-view+json": {
              "version_major": 2,
              "version_minor": 0,
              "model_id": "6d20869e08b54813b812dd3be597ac53"
            }
          },
          "metadata": {}
        },
        {
          "output_type": "stream",
          "name": "stdout",
          "text": [
            "\n",
            "📊 Итоговая статистика 1-грамм:\n",
            "Общее количество 1-грамм: 9343\n",
            "Количество уникальных 1-грамм: 2475\n",
            "Коэффициент уникальности: 26.49%\n",
            "💾 Промежуточные результаты сохранены в /content/drive/MyDrive/K_means/split_20/train_20/temp_metrics.csv\n",
            "✅ Файл обработан. Всего записей: 137\n",
            "\n",
            "🚀 Обрабатываю файл 138/2219: part_248.txt\n"
          ]
        },
        {
          "output_type": "display_data",
          "data": {
            "text/plain": [
              "Анализ 1-грамм:   0%|          | 0/2 [00:00<?, ?it/s]"
            ],
            "application/vnd.jupyter.widget-view+json": {
              "version_major": 2,
              "version_minor": 0,
              "model_id": "fed3a1eb12f34ba4833cf973cb53164d"
            }
          },
          "metadata": {}
        },
        {
          "output_type": "stream",
          "name": "stdout",
          "text": [
            "\n",
            "📊 Итоговая статистика 1-грамм:\n",
            "Общее количество 1-грамм: 9221\n",
            "Количество уникальных 1-грамм: 2437\n",
            "Коэффициент уникальности: 26.43%\n",
            "💾 Промежуточные результаты сохранены в /content/drive/MyDrive/K_means/split_20/train_20/temp_metrics.csv\n",
            "✅ Файл обработан. Всего записей: 138\n",
            "\n",
            "🚀 Обрабатываю файл 139/2219: part_250.txt\n"
          ]
        },
        {
          "output_type": "display_data",
          "data": {
            "text/plain": [
              "Анализ 1-грамм:   0%|          | 0/2 [00:00<?, ?it/s]"
            ],
            "application/vnd.jupyter.widget-view+json": {
              "version_major": 2,
              "version_minor": 0,
              "model_id": "3226b7da56074892bfd46c44d02a4b52"
            }
          },
          "metadata": {}
        },
        {
          "output_type": "stream",
          "name": "stdout",
          "text": [
            "\n",
            "📊 Итоговая статистика 1-грамм:\n",
            "Общее количество 1-грамм: 8633\n",
            "Количество уникальных 1-грамм: 2628\n",
            "Коэффициент уникальности: 30.44%\n",
            "💾 Промежуточные результаты сохранены в /content/drive/MyDrive/K_means/split_20/train_20/temp_metrics.csv\n",
            "✅ Файл обработан. Всего записей: 139\n",
            "\n",
            "🚀 Обрабатываю файл 140/2219: part_253.txt\n"
          ]
        },
        {
          "output_type": "display_data",
          "data": {
            "text/plain": [
              "Анализ 1-грамм:   0%|          | 0/2 [00:00<?, ?it/s]"
            ],
            "application/vnd.jupyter.widget-view+json": {
              "version_major": 2,
              "version_minor": 0,
              "model_id": "cc2d1db27ec049559055e23e6012374a"
            }
          },
          "metadata": {}
        },
        {
          "output_type": "stream",
          "name": "stdout",
          "text": [
            "\n",
            "📊 Итоговая статистика 1-грамм:\n",
            "Общее количество 1-грамм: 9305\n",
            "Количество уникальных 1-грамм: 3293\n",
            "Коэффициент уникальности: 35.39%\n",
            "💾 Промежуточные результаты сохранены в /content/drive/MyDrive/K_means/split_20/train_20/temp_metrics.csv\n",
            "✅ Файл обработан. Всего записей: 140\n",
            "\n",
            "🚀 Обрабатываю файл 141/2219: part_254.txt\n"
          ]
        },
        {
          "output_type": "display_data",
          "data": {
            "text/plain": [
              "Анализ 1-грамм:   0%|          | 0/2 [00:00<?, ?it/s]"
            ],
            "application/vnd.jupyter.widget-view+json": {
              "version_major": 2,
              "version_minor": 0,
              "model_id": "73c51e06039e4df690c02be210638653"
            }
          },
          "metadata": {}
        },
        {
          "output_type": "stream",
          "name": "stdout",
          "text": [
            "\n",
            "📊 Итоговая статистика 1-грамм:\n",
            "Общее количество 1-грамм: 9840\n",
            "Количество уникальных 1-грамм: 3596\n",
            "Коэффициент уникальности: 36.54%\n",
            "💾 Промежуточные результаты сохранены в /content/drive/MyDrive/K_means/split_20/train_20/temp_metrics.csv\n",
            "✅ Файл обработан. Всего записей: 141\n",
            "\n",
            "🚀 Обрабатываю файл 142/2219: part_257.txt\n"
          ]
        },
        {
          "output_type": "display_data",
          "data": {
            "text/plain": [
              "Анализ 1-грамм:   0%|          | 0/2 [00:00<?, ?it/s]"
            ],
            "application/vnd.jupyter.widget-view+json": {
              "version_major": 2,
              "version_minor": 0,
              "model_id": "10c99a6301f94c05b47d50b3dadcddb7"
            }
          },
          "metadata": {}
        },
        {
          "output_type": "stream",
          "name": "stdout",
          "text": [
            "\n",
            "📊 Итоговая статистика 1-грамм:\n",
            "Общее количество 1-грамм: 9383\n",
            "Количество уникальных 1-грамм: 3272\n",
            "Коэффициент уникальности: 34.87%\n",
            "💾 Промежуточные результаты сохранены в /content/drive/MyDrive/K_means/split_20/train_20/temp_metrics.csv\n",
            "✅ Файл обработан. Всего записей: 142\n",
            "\n",
            "🚀 Обрабатываю файл 143/2219: part_258.txt\n"
          ]
        },
        {
          "output_type": "display_data",
          "data": {
            "text/plain": [
              "Анализ 1-грамм:   0%|          | 0/2 [00:00<?, ?it/s]"
            ],
            "application/vnd.jupyter.widget-view+json": {
              "version_major": 2,
              "version_minor": 0,
              "model_id": "ac71632dc63942968b51aa7d1f067943"
            }
          },
          "metadata": {}
        },
        {
          "output_type": "stream",
          "name": "stdout",
          "text": [
            "\n",
            "📊 Итоговая статистика 1-грамм:\n",
            "Общее количество 1-грамм: 9207\n",
            "Количество уникальных 1-грамм: 3206\n",
            "Коэффициент уникальности: 34.82%\n",
            "💾 Промежуточные результаты сохранены в /content/drive/MyDrive/K_means/split_20/train_20/temp_metrics.csv\n",
            "✅ Файл обработан. Всего записей: 143\n",
            "\n",
            "🚀 Обрабатываю файл 144/2219: part_259.txt\n"
          ]
        },
        {
          "output_type": "display_data",
          "data": {
            "text/plain": [
              "Анализ 1-грамм:   0%|          | 0/2 [00:00<?, ?it/s]"
            ],
            "application/vnd.jupyter.widget-view+json": {
              "version_major": 2,
              "version_minor": 0,
              "model_id": "1097892e2ca2485082b912504ffb9bad"
            }
          },
          "metadata": {}
        },
        {
          "output_type": "stream",
          "name": "stdout",
          "text": [
            "\n",
            "📊 Итоговая статистика 1-грамм:\n",
            "Общее количество 1-грамм: 9261\n",
            "Количество уникальных 1-грамм: 3214\n",
            "Коэффициент уникальности: 34.70%\n",
            "💾 Промежуточные результаты сохранены в /content/drive/MyDrive/K_means/split_20/train_20/temp_metrics.csv\n",
            "✅ Файл обработан. Всего записей: 144\n",
            "\n",
            "🚀 Обрабатываю файл 145/2219: part_260.txt\n"
          ]
        },
        {
          "output_type": "display_data",
          "data": {
            "text/plain": [
              "Анализ 1-грамм:   0%|          | 0/2 [00:00<?, ?it/s]"
            ],
            "application/vnd.jupyter.widget-view+json": {
              "version_major": 2,
              "version_minor": 0,
              "model_id": "b1eb0d0d21e44427a0dc2386f74ba3b0"
            }
          },
          "metadata": {}
        },
        {
          "output_type": "stream",
          "name": "stdout",
          "text": [
            "\n",
            "📊 Итоговая статистика 1-грамм:\n",
            "Общее количество 1-грамм: 9605\n",
            "Количество уникальных 1-грамм: 3223\n",
            "Коэффициент уникальности: 33.56%\n",
            "💾 Промежуточные результаты сохранены в /content/drive/MyDrive/K_means/split_20/train_20/temp_metrics.csv\n",
            "✅ Файл обработан. Всего записей: 145\n",
            "\n",
            "🚀 Обрабатываю файл 146/2219: part_261.txt\n"
          ]
        },
        {
          "output_type": "display_data",
          "data": {
            "text/plain": [
              "Анализ 1-грамм:   0%|          | 0/2 [00:00<?, ?it/s]"
            ],
            "application/vnd.jupyter.widget-view+json": {
              "version_major": 2,
              "version_minor": 0,
              "model_id": "9c80430004a74bef993c71ec0d71f30d"
            }
          },
          "metadata": {}
        },
        {
          "output_type": "stream",
          "name": "stdout",
          "text": [
            "\n",
            "📊 Итоговая статистика 1-грамм:\n",
            "Общее количество 1-грамм: 9229\n",
            "Количество уникальных 1-грамм: 3268\n",
            "Коэффициент уникальности: 35.41%\n",
            "💾 Промежуточные результаты сохранены в /content/drive/MyDrive/K_means/split_20/train_20/temp_metrics.csv\n",
            "✅ Файл обработан. Всего записей: 146\n",
            "\n",
            "🚀 Обрабатываю файл 147/2219: part_266.txt\n"
          ]
        },
        {
          "output_type": "display_data",
          "data": {
            "text/plain": [
              "Анализ 1-грамм:   0%|          | 0/2 [00:00<?, ?it/s]"
            ],
            "application/vnd.jupyter.widget-view+json": {
              "version_major": 2,
              "version_minor": 0,
              "model_id": "9f9362cc4ac849bd9fae808044d5e4aa"
            }
          },
          "metadata": {}
        },
        {
          "output_type": "stream",
          "name": "stdout",
          "text": [
            "\n",
            "📊 Итоговая статистика 1-грамм:\n",
            "Общее количество 1-грамм: 8049\n",
            "Количество уникальных 1-грамм: 2669\n",
            "Коэффициент уникальности: 33.16%\n",
            "💾 Промежуточные результаты сохранены в /content/drive/MyDrive/K_means/split_20/train_20/temp_metrics.csv\n",
            "✅ Файл обработан. Всего записей: 147\n",
            "\n",
            "🚀 Обрабатываю файл 148/2219: part_267.txt\n"
          ]
        },
        {
          "output_type": "display_data",
          "data": {
            "text/plain": [
              "Анализ 1-грамм:   0%|          | 0/2 [00:00<?, ?it/s]"
            ],
            "application/vnd.jupyter.widget-view+json": {
              "version_major": 2,
              "version_minor": 0,
              "model_id": "e3251616921243eb99e48ffdb273b689"
            }
          },
          "metadata": {}
        },
        {
          "output_type": "stream",
          "name": "stdout",
          "text": [
            "\n",
            "📊 Итоговая статистика 1-грамм:\n",
            "Общее количество 1-грамм: 10619\n",
            "Количество уникальных 1-грамм: 3684\n",
            "Коэффициент уникальности: 34.69%\n",
            "💾 Промежуточные результаты сохранены в /content/drive/MyDrive/K_means/split_20/train_20/temp_metrics.csv\n",
            "✅ Файл обработан. Всего записей: 148\n",
            "\n",
            "🚀 Обрабатываю файл 149/2219: part_268.txt\n"
          ]
        },
        {
          "output_type": "display_data",
          "data": {
            "text/plain": [
              "Анализ 1-грамм:   0%|          | 0/2 [00:00<?, ?it/s]"
            ],
            "application/vnd.jupyter.widget-view+json": {
              "version_major": 2,
              "version_minor": 0,
              "model_id": "d5d9c7d01fc34a9988bbf50a32da9a3c"
            }
          },
          "metadata": {}
        },
        {
          "output_type": "stream",
          "name": "stdout",
          "text": [
            "\n",
            "📊 Итоговая статистика 1-грамм:\n",
            "Общее количество 1-грамм: 10501\n",
            "Количество уникальных 1-грамм: 3719\n",
            "Коэффициент уникальности: 35.42%\n",
            "💾 Промежуточные результаты сохранены в /content/drive/MyDrive/K_means/split_20/train_20/temp_metrics.csv\n",
            "✅ Файл обработан. Всего записей: 149\n",
            "\n",
            "🚀 Обрабатываю файл 150/2219: part_272.txt\n"
          ]
        },
        {
          "output_type": "display_data",
          "data": {
            "text/plain": [
              "Анализ 1-грамм:   0%|          | 0/2 [00:00<?, ?it/s]"
            ],
            "application/vnd.jupyter.widget-view+json": {
              "version_major": 2,
              "version_minor": 0,
              "model_id": "7a7e5a4b710a423b839d952b4846b1a0"
            }
          },
          "metadata": {}
        },
        {
          "output_type": "stream",
          "name": "stdout",
          "text": [
            "\n",
            "📊 Итоговая статистика 1-грамм:\n",
            "Общее количество 1-грамм: 10603\n",
            "Количество уникальных 1-грамм: 3564\n",
            "Коэффициент уникальности: 33.61%\n",
            "💾 Промежуточные результаты сохранены в /content/drive/MyDrive/K_means/split_20/train_20/temp_metrics.csv\n",
            "✅ Файл обработан. Всего записей: 150\n",
            "\n",
            "🚀 Обрабатываю файл 151/2219: part_275.txt\n"
          ]
        },
        {
          "output_type": "display_data",
          "data": {
            "text/plain": [
              "Анализ 1-грамм:   0%|          | 0/2 [00:00<?, ?it/s]"
            ],
            "application/vnd.jupyter.widget-view+json": {
              "version_major": 2,
              "version_minor": 0,
              "model_id": "6a4749cde55e454c9807163933eb90fa"
            }
          },
          "metadata": {}
        },
        {
          "output_type": "stream",
          "name": "stdout",
          "text": [
            "\n",
            "📊 Итоговая статистика 1-грамм:\n",
            "Общее количество 1-грамм: 8655\n",
            "Количество уникальных 1-грамм: 3004\n",
            "Коэффициент уникальности: 34.71%\n",
            "💾 Промежуточные результаты сохранены в /content/drive/MyDrive/K_means/split_20/train_20/temp_metrics.csv\n",
            "✅ Файл обработан. Всего записей: 151\n",
            "\n",
            "🚀 Обрабатываю файл 152/2219: part_278.txt\n"
          ]
        },
        {
          "output_type": "display_data",
          "data": {
            "text/plain": [
              "Анализ 1-грамм:   0%|          | 0/2 [00:00<?, ?it/s]"
            ],
            "application/vnd.jupyter.widget-view+json": {
              "version_major": 2,
              "version_minor": 0,
              "model_id": "722dc0e242264c4ba97828b72feea409"
            }
          },
          "metadata": {}
        },
        {
          "output_type": "stream",
          "name": "stdout",
          "text": [
            "\n",
            "📊 Итоговая статистика 1-грамм:\n",
            "Общее количество 1-грамм: 9298\n",
            "Количество уникальных 1-грамм: 3315\n",
            "Коэффициент уникальности: 35.65%\n",
            "💾 Промежуточные результаты сохранены в /content/drive/MyDrive/K_means/split_20/train_20/temp_metrics.csv\n",
            "✅ Файл обработан. Всего записей: 152\n",
            "\n",
            "🚀 Обрабатываю файл 153/2219: part_280.txt\n"
          ]
        },
        {
          "output_type": "display_data",
          "data": {
            "text/plain": [
              "Анализ 1-грамм:   0%|          | 0/2 [00:00<?, ?it/s]"
            ],
            "application/vnd.jupyter.widget-view+json": {
              "version_major": 2,
              "version_minor": 0,
              "model_id": "6be9a63bad5448eaa956d2648c6d6e7b"
            }
          },
          "metadata": {}
        },
        {
          "output_type": "stream",
          "name": "stdout",
          "text": [
            "\n",
            "📊 Итоговая статистика 1-грамм:\n",
            "Общее количество 1-грамм: 10276\n",
            "Количество уникальных 1-грамм: 3855\n",
            "Коэффициент уникальности: 37.51%\n",
            "💾 Промежуточные результаты сохранены в /content/drive/MyDrive/K_means/split_20/train_20/temp_metrics.csv\n",
            "✅ Файл обработан. Всего записей: 153\n",
            "\n",
            "🚀 Обрабатываю файл 154/2219: part_282.txt\n"
          ]
        },
        {
          "output_type": "display_data",
          "data": {
            "text/plain": [
              "Анализ 1-грамм:   0%|          | 0/2 [00:00<?, ?it/s]"
            ],
            "application/vnd.jupyter.widget-view+json": {
              "version_major": 2,
              "version_minor": 0,
              "model_id": "af22c882d36341c8880bab24bb3b9e54"
            }
          },
          "metadata": {}
        },
        {
          "output_type": "stream",
          "name": "stdout",
          "text": [
            "\n",
            "📊 Итоговая статистика 1-грамм:\n",
            "Общее количество 1-грамм: 10094\n",
            "Количество уникальных 1-грамм: 3509\n",
            "Коэффициент уникальности: 34.76%\n",
            "💾 Промежуточные результаты сохранены в /content/drive/MyDrive/K_means/split_20/train_20/temp_metrics.csv\n",
            "✅ Файл обработан. Всего записей: 154\n",
            "\n",
            "🚀 Обрабатываю файл 155/2219: part_283.txt\n"
          ]
        },
        {
          "output_type": "display_data",
          "data": {
            "text/plain": [
              "Анализ 1-грамм:   0%|          | 0/2 [00:00<?, ?it/s]"
            ],
            "application/vnd.jupyter.widget-view+json": {
              "version_major": 2,
              "version_minor": 0,
              "model_id": "23d34c877aee471c90a48340acb1ec36"
            }
          },
          "metadata": {}
        },
        {
          "output_type": "stream",
          "name": "stdout",
          "text": [
            "\n",
            "📊 Итоговая статистика 1-грамм:\n",
            "Общее количество 1-грамм: 10013\n",
            "Количество уникальных 1-грамм: 3255\n",
            "Коэффициент уникальности: 32.51%\n",
            "💾 Промежуточные результаты сохранены в /content/drive/MyDrive/K_means/split_20/train_20/temp_metrics.csv\n",
            "✅ Файл обработан. Всего записей: 155\n",
            "\n",
            "🚀 Обрабатываю файл 156/2219: part_286.txt\n"
          ]
        },
        {
          "output_type": "display_data",
          "data": {
            "text/plain": [
              "Анализ 1-грамм:   0%|          | 0/2 [00:00<?, ?it/s]"
            ],
            "application/vnd.jupyter.widget-view+json": {
              "version_major": 2,
              "version_minor": 0,
              "model_id": "b4806564a3dc427fbb199348e3ec89fc"
            }
          },
          "metadata": {}
        },
        {
          "output_type": "stream",
          "name": "stdout",
          "text": [
            "\n",
            "📊 Итоговая статистика 1-грамм:\n",
            "Общее количество 1-грамм: 9710\n",
            "Количество уникальных 1-грамм: 3690\n",
            "Коэффициент уникальности: 38.00%\n",
            "💾 Промежуточные результаты сохранены в /content/drive/MyDrive/K_means/split_20/train_20/temp_metrics.csv\n",
            "✅ Файл обработан. Всего записей: 156\n",
            "\n",
            "🚀 Обрабатываю файл 157/2219: part_288.txt\n"
          ]
        },
        {
          "output_type": "display_data",
          "data": {
            "text/plain": [
              "Анализ 1-грамм:   0%|          | 0/2 [00:00<?, ?it/s]"
            ],
            "application/vnd.jupyter.widget-view+json": {
              "version_major": 2,
              "version_minor": 0,
              "model_id": "616e895e1c0c4fe1ada164e055800fff"
            }
          },
          "metadata": {}
        },
        {
          "output_type": "stream",
          "name": "stdout",
          "text": [
            "\n",
            "📊 Итоговая статистика 1-грамм:\n",
            "Общее количество 1-грамм: 9645\n",
            "Количество уникальных 1-грамм: 3260\n",
            "Коэффициент уникальности: 33.80%\n",
            "💾 Промежуточные результаты сохранены в /content/drive/MyDrive/K_means/split_20/train_20/temp_metrics.csv\n",
            "✅ Файл обработан. Всего записей: 157\n",
            "\n",
            "🚀 Обрабатываю файл 158/2219: part_290.txt\n"
          ]
        },
        {
          "output_type": "display_data",
          "data": {
            "text/plain": [
              "Анализ 1-грамм:   0%|          | 0/2 [00:00<?, ?it/s]"
            ],
            "application/vnd.jupyter.widget-view+json": {
              "version_major": 2,
              "version_minor": 0,
              "model_id": "5f189d94da9640c69a747fefc534b940"
            }
          },
          "metadata": {}
        },
        {
          "output_type": "stream",
          "name": "stdout",
          "text": [
            "\n",
            "📊 Итоговая статистика 1-грамм:\n",
            "Общее количество 1-грамм: 8706\n",
            "Количество уникальных 1-грамм: 2195\n",
            "Коэффициент уникальности: 25.21%\n",
            "💾 Промежуточные результаты сохранены в /content/drive/MyDrive/K_means/split_20/train_20/temp_metrics.csv\n",
            "✅ Файл обработан. Всего записей: 158\n",
            "\n",
            "🚀 Обрабатываю файл 159/2219: part_291.txt\n"
          ]
        },
        {
          "output_type": "display_data",
          "data": {
            "text/plain": [
              "Анализ 1-грамм:   0%|          | 0/2 [00:00<?, ?it/s]"
            ],
            "application/vnd.jupyter.widget-view+json": {
              "version_major": 2,
              "version_minor": 0,
              "model_id": "7e538412077e41c7bf2b9e2090cc8469"
            }
          },
          "metadata": {}
        },
        {
          "output_type": "stream",
          "name": "stdout",
          "text": [
            "\n",
            "📊 Итоговая статистика 1-грамм:\n",
            "Общее количество 1-грамм: 9419\n",
            "Количество уникальных 1-грамм: 2532\n",
            "Коэффициент уникальности: 26.88%\n",
            "💾 Промежуточные результаты сохранены в /content/drive/MyDrive/K_means/split_20/train_20/temp_metrics.csv\n",
            "✅ Файл обработан. Всего записей: 159\n",
            "\n",
            "🚀 Обрабатываю файл 160/2219: part_293.txt\n"
          ]
        },
        {
          "output_type": "display_data",
          "data": {
            "text/plain": [
              "Анализ 1-грамм:   0%|          | 0/2 [00:00<?, ?it/s]"
            ],
            "application/vnd.jupyter.widget-view+json": {
              "version_major": 2,
              "version_minor": 0,
              "model_id": "87c9cd22ee7840aeb4cb897d8d81000b"
            }
          },
          "metadata": {}
        },
        {
          "output_type": "stream",
          "name": "stdout",
          "text": [
            "\n",
            "📊 Итоговая статистика 1-грамм:\n",
            "Общее количество 1-грамм: 10232\n",
            "Количество уникальных 1-грамм: 3663\n",
            "Коэффициент уникальности: 35.80%\n",
            "💾 Промежуточные результаты сохранены в /content/drive/MyDrive/K_means/split_20/train_20/temp_metrics.csv\n",
            "✅ Файл обработан. Всего записей: 160\n",
            "\n",
            "🚀 Обрабатываю файл 161/2219: part_295.txt\n"
          ]
        },
        {
          "output_type": "display_data",
          "data": {
            "text/plain": [
              "Анализ 1-грамм:   0%|          | 0/2 [00:00<?, ?it/s]"
            ],
            "application/vnd.jupyter.widget-view+json": {
              "version_major": 2,
              "version_minor": 0,
              "model_id": "74f922881c3045f591e7fe885d242466"
            }
          },
          "metadata": {}
        },
        {
          "output_type": "stream",
          "name": "stdout",
          "text": [
            "\n",
            "📊 Итоговая статистика 1-грамм:\n",
            "Общее количество 1-грамм: 8983\n",
            "Количество уникальных 1-грамм: 3317\n",
            "Коэффициент уникальности: 36.93%\n",
            "💾 Промежуточные результаты сохранены в /content/drive/MyDrive/K_means/split_20/train_20/temp_metrics.csv\n",
            "✅ Файл обработан. Всего записей: 161\n",
            "\n",
            "🚀 Обрабатываю файл 162/2219: part_296.txt\n"
          ]
        },
        {
          "output_type": "display_data",
          "data": {
            "text/plain": [
              "Анализ 1-грамм:   0%|          | 0/2 [00:00<?, ?it/s]"
            ],
            "application/vnd.jupyter.widget-view+json": {
              "version_major": 2,
              "version_minor": 0,
              "model_id": "346e76e7fd634570bb8e6431a14b8e34"
            }
          },
          "metadata": {}
        },
        {
          "output_type": "stream",
          "name": "stdout",
          "text": [
            "\n",
            "📊 Итоговая статистика 1-грамм:\n",
            "Общее количество 1-грамм: 10327\n",
            "Количество уникальных 1-грамм: 3917\n",
            "Коэффициент уникальности: 37.93%\n",
            "💾 Промежуточные результаты сохранены в /content/drive/MyDrive/K_means/split_20/train_20/temp_metrics.csv\n",
            "✅ Файл обработан. Всего записей: 162\n",
            "\n",
            "🚀 Обрабатываю файл 163/2219: part_297.txt\n"
          ]
        },
        {
          "output_type": "display_data",
          "data": {
            "text/plain": [
              "Анализ 1-грамм:   0%|          | 0/2 [00:00<?, ?it/s]"
            ],
            "application/vnd.jupyter.widget-view+json": {
              "version_major": 2,
              "version_minor": 0,
              "model_id": "f0ea080473d640ad9bc69e4f4f8efa9d"
            }
          },
          "metadata": {}
        },
        {
          "output_type": "stream",
          "name": "stdout",
          "text": [
            "\n",
            "📊 Итоговая статистика 1-грамм:\n",
            "Общее количество 1-грамм: 9945\n",
            "Количество уникальных 1-грамм: 3323\n",
            "Коэффициент уникальности: 33.41%\n",
            "💾 Промежуточные результаты сохранены в /content/drive/MyDrive/K_means/split_20/train_20/temp_metrics.csv\n",
            "✅ Файл обработан. Всего записей: 163\n",
            "\n",
            "🚀 Обрабатываю файл 164/2219: part_299.txt\n"
          ]
        },
        {
          "output_type": "display_data",
          "data": {
            "text/plain": [
              "Анализ 1-грамм:   0%|          | 0/2 [00:00<?, ?it/s]"
            ],
            "application/vnd.jupyter.widget-view+json": {
              "version_major": 2,
              "version_minor": 0,
              "model_id": "093e287a3ed84ac5a9d773f3b0ce2cf2"
            }
          },
          "metadata": {}
        },
        {
          "output_type": "stream",
          "name": "stdout",
          "text": [
            "\n",
            "📊 Итоговая статистика 1-грамм:\n",
            "Общее количество 1-грамм: 8375\n",
            "Количество уникальных 1-грамм: 2281\n",
            "Коэффициент уникальности: 27.24%\n",
            "💾 Промежуточные результаты сохранены в /content/drive/MyDrive/K_means/split_20/train_20/temp_metrics.csv\n",
            "✅ Файл обработан. Всего записей: 164\n",
            "\n",
            "🚀 Обрабатываю файл 165/2219: part_300.txt\n"
          ]
        },
        {
          "output_type": "display_data",
          "data": {
            "text/plain": [
              "Анализ 1-грамм:   0%|          | 0/2 [00:00<?, ?it/s]"
            ],
            "application/vnd.jupyter.widget-view+json": {
              "version_major": 2,
              "version_minor": 0,
              "model_id": "9004d96d7ef3418b9eee0bc79dd0c3b9"
            }
          },
          "metadata": {}
        },
        {
          "output_type": "stream",
          "name": "stdout",
          "text": [
            "\n",
            "📊 Итоговая статистика 1-грамм:\n",
            "Общее количество 1-грамм: 8192\n",
            "Количество уникальных 1-грамм: 2360\n",
            "Коэффициент уникальности: 28.81%\n",
            "💾 Промежуточные результаты сохранены в /content/drive/MyDrive/K_means/split_20/train_20/temp_metrics.csv\n",
            "✅ Файл обработан. Всего записей: 165\n",
            "\n",
            "🚀 Обрабатываю файл 166/2219: part_308.txt\n"
          ]
        },
        {
          "output_type": "display_data",
          "data": {
            "text/plain": [
              "Анализ 1-грамм:   0%|          | 0/2 [00:00<?, ?it/s]"
            ],
            "application/vnd.jupyter.widget-view+json": {
              "version_major": 2,
              "version_minor": 0,
              "model_id": "f109514e7f974727b1cedd9aa42987ef"
            }
          },
          "metadata": {}
        },
        {
          "output_type": "stream",
          "name": "stdout",
          "text": [
            "\n",
            "📊 Итоговая статистика 1-грамм:\n",
            "Общее количество 1-грамм: 8290\n",
            "Количество уникальных 1-грамм: 2329\n",
            "Коэффициент уникальности: 28.09%\n",
            "💾 Промежуточные результаты сохранены в /content/drive/MyDrive/K_means/split_20/train_20/temp_metrics.csv\n",
            "✅ Файл обработан. Всего записей: 166\n",
            "\n",
            "🚀 Обрабатываю файл 167/2219: part_310.txt\n"
          ]
        },
        {
          "output_type": "display_data",
          "data": {
            "text/plain": [
              "Анализ 1-грамм:   0%|          | 0/2 [00:00<?, ?it/s]"
            ],
            "application/vnd.jupyter.widget-view+json": {
              "version_major": 2,
              "version_minor": 0,
              "model_id": "9832f5a5c95f4d94af168de327268f2c"
            }
          },
          "metadata": {}
        },
        {
          "output_type": "stream",
          "name": "stdout",
          "text": [
            "\n",
            "📊 Итоговая статистика 1-грамм:\n",
            "Общее количество 1-грамм: 7927\n",
            "Количество уникальных 1-грамм: 2320\n",
            "Коэффициент уникальности: 29.27%\n",
            "💾 Промежуточные результаты сохранены в /content/drive/MyDrive/K_means/split_20/train_20/temp_metrics.csv\n",
            "✅ Файл обработан. Всего записей: 167\n",
            "\n",
            "🚀 Обрабатываю файл 168/2219: part_314.txt\n"
          ]
        },
        {
          "output_type": "display_data",
          "data": {
            "text/plain": [
              "Анализ 1-грамм:   0%|          | 0/2 [00:00<?, ?it/s]"
            ],
            "application/vnd.jupyter.widget-view+json": {
              "version_major": 2,
              "version_minor": 0,
              "model_id": "c4c7e1aab79f444f9413992639220b6a"
            }
          },
          "metadata": {}
        },
        {
          "output_type": "stream",
          "name": "stdout",
          "text": [
            "\n",
            "📊 Итоговая статистика 1-грамм:\n",
            "Общее количество 1-грамм: 10912\n",
            "Количество уникальных 1-грамм: 3789\n",
            "Коэффициент уникальности: 34.72%\n",
            "💾 Промежуточные результаты сохранены в /content/drive/MyDrive/K_means/split_20/train_20/temp_metrics.csv\n",
            "✅ Файл обработан. Всего записей: 168\n",
            "\n",
            "🚀 Обрабатываю файл 169/2219: part_315.txt\n"
          ]
        },
        {
          "output_type": "display_data",
          "data": {
            "text/plain": [
              "Анализ 1-грамм:   0%|          | 0/2 [00:00<?, ?it/s]"
            ],
            "application/vnd.jupyter.widget-view+json": {
              "version_major": 2,
              "version_minor": 0,
              "model_id": "a4de12eb51c74295a6a039bda044e510"
            }
          },
          "metadata": {}
        },
        {
          "output_type": "stream",
          "name": "stdout",
          "text": [
            "\n",
            "📊 Итоговая статистика 1-грамм:\n",
            "Общее количество 1-грамм: 10013\n",
            "Количество уникальных 1-грамм: 3619\n",
            "Коэффициент уникальности: 36.14%\n",
            "💾 Промежуточные результаты сохранены в /content/drive/MyDrive/K_means/split_20/train_20/temp_metrics.csv\n",
            "✅ Файл обработан. Всего записей: 169\n",
            "\n",
            "🚀 Обрабатываю файл 170/2219: part_320.txt\n"
          ]
        },
        {
          "output_type": "display_data",
          "data": {
            "text/plain": [
              "Анализ 1-грамм:   0%|          | 0/2 [00:00<?, ?it/s]"
            ],
            "application/vnd.jupyter.widget-view+json": {
              "version_major": 2,
              "version_minor": 0,
              "model_id": "d934ceb036af42cd9e6b959d9b6d979b"
            }
          },
          "metadata": {}
        },
        {
          "output_type": "stream",
          "name": "stdout",
          "text": [
            "\n",
            "📊 Итоговая статистика 1-грамм:\n",
            "Общее количество 1-грамм: 11489\n",
            "Количество уникальных 1-грамм: 3821\n",
            "Коэффициент уникальности: 33.26%\n",
            "💾 Промежуточные результаты сохранены в /content/drive/MyDrive/K_means/split_20/train_20/temp_metrics.csv\n",
            "✅ Файл обработан. Всего записей: 170\n",
            "\n",
            "🚀 Обрабатываю файл 171/2219: part_322.txt\n"
          ]
        },
        {
          "output_type": "display_data",
          "data": {
            "text/plain": [
              "Анализ 1-грамм:   0%|          | 0/2 [00:00<?, ?it/s]"
            ],
            "application/vnd.jupyter.widget-view+json": {
              "version_major": 2,
              "version_minor": 0,
              "model_id": "b1c1a6f3670442cbabca000cd0d4b853"
            }
          },
          "metadata": {}
        },
        {
          "output_type": "stream",
          "name": "stdout",
          "text": [
            "\n",
            "📊 Итоговая статистика 1-грамм:\n",
            "Общее количество 1-грамм: 9285\n",
            "Количество уникальных 1-грамм: 3383\n",
            "Коэффициент уникальности: 36.44%\n",
            "💾 Промежуточные результаты сохранены в /content/drive/MyDrive/K_means/split_20/train_20/temp_metrics.csv\n",
            "✅ Файл обработан. Всего записей: 171\n",
            "\n",
            "🚀 Обрабатываю файл 172/2219: part_323.txt\n"
          ]
        },
        {
          "output_type": "display_data",
          "data": {
            "text/plain": [
              "Анализ 1-грамм:   0%|          | 0/2 [00:00<?, ?it/s]"
            ],
            "application/vnd.jupyter.widget-view+json": {
              "version_major": 2,
              "version_minor": 0,
              "model_id": "664f3bc1ee764ff7b20e6dd2da0f859d"
            }
          },
          "metadata": {}
        },
        {
          "output_type": "stream",
          "name": "stdout",
          "text": [
            "\n",
            "📊 Итоговая статистика 1-грамм:\n",
            "Общее количество 1-грамм: 8789\n",
            "Количество уникальных 1-грамм: 3078\n",
            "Коэффициент уникальности: 35.02%\n",
            "💾 Промежуточные результаты сохранены в /content/drive/MyDrive/K_means/split_20/train_20/temp_metrics.csv\n",
            "✅ Файл обработан. Всего записей: 172\n",
            "\n",
            "🚀 Обрабатываю файл 173/2219: part_324.txt\n"
          ]
        },
        {
          "output_type": "display_data",
          "data": {
            "text/plain": [
              "Анализ 1-грамм:   0%|          | 0/2 [00:00<?, ?it/s]"
            ],
            "application/vnd.jupyter.widget-view+json": {
              "version_major": 2,
              "version_minor": 0,
              "model_id": "052ad1060f1a4f81ba70721feccc88ab"
            }
          },
          "metadata": {}
        },
        {
          "output_type": "stream",
          "name": "stdout",
          "text": [
            "\n",
            "📊 Итоговая статистика 1-грамм:\n",
            "Общее количество 1-грамм: 8761\n",
            "Количество уникальных 1-грамм: 2959\n",
            "Коэффициент уникальности: 33.77%\n",
            "💾 Промежуточные результаты сохранены в /content/drive/MyDrive/K_means/split_20/train_20/temp_metrics.csv\n",
            "✅ Файл обработан. Всего записей: 173\n",
            "\n",
            "🚀 Обрабатываю файл 174/2219: part_325.txt\n"
          ]
        },
        {
          "output_type": "display_data",
          "data": {
            "text/plain": [
              "Анализ 1-грамм:   0%|          | 0/2 [00:00<?, ?it/s]"
            ],
            "application/vnd.jupyter.widget-view+json": {
              "version_major": 2,
              "version_minor": 0,
              "model_id": "15b24fc76cfb400196093aed4426feeb"
            }
          },
          "metadata": {}
        },
        {
          "output_type": "stream",
          "name": "stdout",
          "text": [
            "\n",
            "📊 Итоговая статистика 1-грамм:\n",
            "Общее количество 1-грамм: 9509\n",
            "Количество уникальных 1-грамм: 3584\n",
            "Коэффициент уникальности: 37.69%\n",
            "💾 Промежуточные результаты сохранены в /content/drive/MyDrive/K_means/split_20/train_20/temp_metrics.csv\n",
            "✅ Файл обработан. Всего записей: 174\n",
            "\n",
            "🚀 Обрабатываю файл 175/2219: part_326.txt\n"
          ]
        },
        {
          "output_type": "display_data",
          "data": {
            "text/plain": [
              "Анализ 1-грамм:   0%|          | 0/2 [00:00<?, ?it/s]"
            ],
            "application/vnd.jupyter.widget-view+json": {
              "version_major": 2,
              "version_minor": 0,
              "model_id": "90437e8aaa9143ff96c636c4acc9559b"
            }
          },
          "metadata": {}
        },
        {
          "output_type": "stream",
          "name": "stdout",
          "text": [
            "\n",
            "📊 Итоговая статистика 1-грамм:\n",
            "Общее количество 1-грамм: 9113\n",
            "Количество уникальных 1-грамм: 3599\n",
            "Коэффициент уникальности: 39.49%\n",
            "💾 Промежуточные результаты сохранены в /content/drive/MyDrive/K_means/split_20/train_20/temp_metrics.csv\n",
            "✅ Файл обработан. Всего записей: 175\n",
            "\n",
            "🚀 Обрабатываю файл 176/2219: part_329.txt\n"
          ]
        },
        {
          "output_type": "display_data",
          "data": {
            "text/plain": [
              "Анализ 1-грамм:   0%|          | 0/2 [00:00<?, ?it/s]"
            ],
            "application/vnd.jupyter.widget-view+json": {
              "version_major": 2,
              "version_minor": 0,
              "model_id": "b1eec0d0e41d43fda0e51de42257b152"
            }
          },
          "metadata": {}
        },
        {
          "output_type": "stream",
          "name": "stdout",
          "text": [
            "\n",
            "📊 Итоговая статистика 1-грамм:\n",
            "Общее количество 1-грамм: 8859\n",
            "Количество уникальных 1-грамм: 3156\n",
            "Коэффициент уникальности: 35.62%\n",
            "💾 Промежуточные результаты сохранены в /content/drive/MyDrive/K_means/split_20/train_20/temp_metrics.csv\n",
            "✅ Файл обработан. Всего записей: 176\n",
            "\n",
            "🚀 Обрабатываю файл 177/2219: part_331.txt\n"
          ]
        },
        {
          "output_type": "display_data",
          "data": {
            "text/plain": [
              "Анализ 1-грамм:   0%|          | 0/2 [00:00<?, ?it/s]"
            ],
            "application/vnd.jupyter.widget-view+json": {
              "version_major": 2,
              "version_minor": 0,
              "model_id": "470856db7311442fa5ab2bd59b88b4c2"
            }
          },
          "metadata": {}
        },
        {
          "output_type": "stream",
          "name": "stdout",
          "text": [
            "\n",
            "📊 Итоговая статистика 1-грамм:\n",
            "Общее количество 1-грамм: 8596\n",
            "Количество уникальных 1-грамм: 2939\n",
            "Коэффициент уникальности: 34.19%\n",
            "💾 Промежуточные результаты сохранены в /content/drive/MyDrive/K_means/split_20/train_20/temp_metrics.csv\n",
            "✅ Файл обработан. Всего записей: 177\n",
            "\n",
            "🚀 Обрабатываю файл 178/2219: part_332.txt\n"
          ]
        },
        {
          "output_type": "display_data",
          "data": {
            "text/plain": [
              "Анализ 1-грамм:   0%|          | 0/2 [00:00<?, ?it/s]"
            ],
            "application/vnd.jupyter.widget-view+json": {
              "version_major": 2,
              "version_minor": 0,
              "model_id": "e5b0857f133e4cce86d75233844f4a3b"
            }
          },
          "metadata": {}
        },
        {
          "output_type": "stream",
          "name": "stdout",
          "text": [
            "\n",
            "📊 Итоговая статистика 1-грамм:\n",
            "Общее количество 1-грамм: 8824\n",
            "Количество уникальных 1-грамм: 2910\n",
            "Коэффициент уникальности: 32.98%\n",
            "💾 Промежуточные результаты сохранены в /content/drive/MyDrive/K_means/split_20/train_20/temp_metrics.csv\n",
            "✅ Файл обработан. Всего записей: 178\n",
            "\n",
            "🚀 Обрабатываю файл 179/2219: part_334.txt\n"
          ]
        },
        {
          "output_type": "display_data",
          "data": {
            "text/plain": [
              "Анализ 1-грамм:   0%|          | 0/2 [00:00<?, ?it/s]"
            ],
            "application/vnd.jupyter.widget-view+json": {
              "version_major": 2,
              "version_minor": 0,
              "model_id": "f54b7956e03e42a08a96a03474162e40"
            }
          },
          "metadata": {}
        },
        {
          "output_type": "stream",
          "name": "stdout",
          "text": [
            "\n",
            "📊 Итоговая статистика 1-грамм:\n",
            "Общее количество 1-грамм: 9071\n",
            "Количество уникальных 1-грамм: 2988\n",
            "Коэффициент уникальности: 32.94%\n",
            "💾 Промежуточные результаты сохранены в /content/drive/MyDrive/K_means/split_20/train_20/temp_metrics.csv\n",
            "✅ Файл обработан. Всего записей: 179\n",
            "\n",
            "🚀 Обрабатываю файл 180/2219: part_335.txt\n"
          ]
        },
        {
          "output_type": "display_data",
          "data": {
            "text/plain": [
              "Анализ 1-грамм:   0%|          | 0/2 [00:00<?, ?it/s]"
            ],
            "application/vnd.jupyter.widget-view+json": {
              "version_major": 2,
              "version_minor": 0,
              "model_id": "220ff535c71543adaac6f006390a1f82"
            }
          },
          "metadata": {}
        },
        {
          "output_type": "stream",
          "name": "stdout",
          "text": [
            "\n",
            "📊 Итоговая статистика 1-грамм:\n",
            "Общее количество 1-грамм: 9457\n",
            "Количество уникальных 1-грамм: 3404\n",
            "Коэффициент уникальности: 35.99%\n",
            "💾 Промежуточные результаты сохранены в /content/drive/MyDrive/K_means/split_20/train_20/temp_metrics.csv\n",
            "✅ Файл обработан. Всего записей: 180\n",
            "\n",
            "🚀 Обрабатываю файл 181/2219: part_336.txt\n"
          ]
        },
        {
          "output_type": "display_data",
          "data": {
            "text/plain": [
              "Анализ 1-грамм:   0%|          | 0/2 [00:00<?, ?it/s]"
            ],
            "application/vnd.jupyter.widget-view+json": {
              "version_major": 2,
              "version_minor": 0,
              "model_id": "489fea2b087e4506bd57ed991472243a"
            }
          },
          "metadata": {}
        },
        {
          "output_type": "stream",
          "name": "stdout",
          "text": [
            "\n",
            "📊 Итоговая статистика 1-грамм:\n",
            "Общее количество 1-грамм: 10167\n",
            "Количество уникальных 1-грамм: 3644\n",
            "Коэффициент уникальности: 35.84%\n",
            "💾 Промежуточные результаты сохранены в /content/drive/MyDrive/K_means/split_20/train_20/temp_metrics.csv\n",
            "✅ Файл обработан. Всего записей: 181\n",
            "\n",
            "🚀 Обрабатываю файл 182/2219: part_337.txt\n"
          ]
        },
        {
          "output_type": "display_data",
          "data": {
            "text/plain": [
              "Анализ 1-грамм:   0%|          | 0/2 [00:00<?, ?it/s]"
            ],
            "application/vnd.jupyter.widget-view+json": {
              "version_major": 2,
              "version_minor": 0,
              "model_id": "f8f682f3dd934740bdd9708f41d01081"
            }
          },
          "metadata": {}
        },
        {
          "output_type": "stream",
          "name": "stdout",
          "text": [
            "\n",
            "📊 Итоговая статистика 1-грамм:\n",
            "Общее количество 1-грамм: 10101\n",
            "Количество уникальных 1-грамм: 3734\n",
            "Коэффициент уникальности: 36.97%\n",
            "💾 Промежуточные результаты сохранены в /content/drive/MyDrive/K_means/split_20/train_20/temp_metrics.csv\n",
            "✅ Файл обработан. Всего записей: 182\n",
            "\n",
            "🚀 Обрабатываю файл 183/2219: part_338.txt\n"
          ]
        },
        {
          "output_type": "display_data",
          "data": {
            "text/plain": [
              "Анализ 1-грамм:   0%|          | 0/2 [00:00<?, ?it/s]"
            ],
            "application/vnd.jupyter.widget-view+json": {
              "version_major": 2,
              "version_minor": 0,
              "model_id": "d247a51701f54400b405c651f1777674"
            }
          },
          "metadata": {}
        },
        {
          "output_type": "stream",
          "name": "stdout",
          "text": [
            "\n",
            "📊 Итоговая статистика 1-грамм:\n",
            "Общее количество 1-грамм: 9884\n",
            "Количество уникальных 1-грамм: 3351\n",
            "Коэффициент уникальности: 33.90%\n",
            "💾 Промежуточные результаты сохранены в /content/drive/MyDrive/K_means/split_20/train_20/temp_metrics.csv\n",
            "✅ Файл обработан. Всего записей: 183\n",
            "\n",
            "🚀 Обрабатываю файл 184/2219: part_339.txt\n"
          ]
        },
        {
          "output_type": "display_data",
          "data": {
            "text/plain": [
              "Анализ 1-грамм:   0%|          | 0/2 [00:00<?, ?it/s]"
            ],
            "application/vnd.jupyter.widget-view+json": {
              "version_major": 2,
              "version_minor": 0,
              "model_id": "fbc3357ec24d49c587162f54d39d8854"
            }
          },
          "metadata": {}
        },
        {
          "output_type": "stream",
          "name": "stdout",
          "text": [
            "\n",
            "📊 Итоговая статистика 1-грамм:\n",
            "Общее количество 1-грамм: 8608\n",
            "Количество уникальных 1-грамм: 2775\n",
            "Коэффициент уникальности: 32.24%\n",
            "💾 Промежуточные результаты сохранены в /content/drive/MyDrive/K_means/split_20/train_20/temp_metrics.csv\n",
            "✅ Файл обработан. Всего записей: 184\n",
            "\n",
            "🚀 Обрабатываю файл 185/2219: part_342.txt\n"
          ]
        },
        {
          "output_type": "display_data",
          "data": {
            "text/plain": [
              "Анализ 1-грамм:   0%|          | 0/2 [00:00<?, ?it/s]"
            ],
            "application/vnd.jupyter.widget-view+json": {
              "version_major": 2,
              "version_minor": 0,
              "model_id": "ec3e5df65fef4a5a9c10b54156572990"
            }
          },
          "metadata": {}
        },
        {
          "output_type": "stream",
          "name": "stdout",
          "text": [
            "\n",
            "📊 Итоговая статистика 1-грамм:\n",
            "Общее количество 1-грамм: 10189\n",
            "Количество уникальных 1-грамм: 3760\n",
            "Коэффициент уникальности: 36.90%\n",
            "💾 Промежуточные результаты сохранены в /content/drive/MyDrive/K_means/split_20/train_20/temp_metrics.csv\n",
            "✅ Файл обработан. Всего записей: 185\n",
            "\n",
            "🚀 Обрабатываю файл 186/2219: part_345.txt\n"
          ]
        },
        {
          "output_type": "display_data",
          "data": {
            "text/plain": [
              "Анализ 1-грамм:   0%|          | 0/2 [00:00<?, ?it/s]"
            ],
            "application/vnd.jupyter.widget-view+json": {
              "version_major": 2,
              "version_minor": 0,
              "model_id": "e8df4ecf8a66473f9074a648bd78ab6f"
            }
          },
          "metadata": {}
        },
        {
          "output_type": "stream",
          "name": "stdout",
          "text": [
            "\n",
            "📊 Итоговая статистика 1-грамм:\n",
            "Общее количество 1-грамм: 9979\n",
            "Количество уникальных 1-грамм: 3648\n",
            "Коэффициент уникальности: 36.56%\n",
            "💾 Промежуточные результаты сохранены в /content/drive/MyDrive/K_means/split_20/train_20/temp_metrics.csv\n",
            "✅ Файл обработан. Всего записей: 186\n",
            "\n",
            "🚀 Обрабатываю файл 187/2219: part_346.txt\n"
          ]
        },
        {
          "output_type": "display_data",
          "data": {
            "text/plain": [
              "Анализ 1-грамм:   0%|          | 0/2 [00:00<?, ?it/s]"
            ],
            "application/vnd.jupyter.widget-view+json": {
              "version_major": 2,
              "version_minor": 0,
              "model_id": "c63a81eb1f574cb3a26f1a2ac23fe557"
            }
          },
          "metadata": {}
        },
        {
          "output_type": "stream",
          "name": "stdout",
          "text": [
            "\n",
            "📊 Итоговая статистика 1-грамм:\n",
            "Общее количество 1-грамм: 9663\n",
            "Количество уникальных 1-грамм: 3493\n",
            "Коэффициент уникальности: 36.15%\n",
            "💾 Промежуточные результаты сохранены в /content/drive/MyDrive/K_means/split_20/train_20/temp_metrics.csv\n",
            "✅ Файл обработан. Всего записей: 187\n",
            "\n",
            "🚀 Обрабатываю файл 188/2219: part_347.txt\n"
          ]
        },
        {
          "output_type": "display_data",
          "data": {
            "text/plain": [
              "Анализ 1-грамм:   0%|          | 0/2 [00:00<?, ?it/s]"
            ],
            "application/vnd.jupyter.widget-view+json": {
              "version_major": 2,
              "version_minor": 0,
              "model_id": "6b544040e21141b89a4931f93d265944"
            }
          },
          "metadata": {}
        },
        {
          "output_type": "stream",
          "name": "stdout",
          "text": [
            "\n",
            "📊 Итоговая статистика 1-грамм:\n",
            "Общее количество 1-грамм: 9360\n",
            "Количество уникальных 1-грамм: 3431\n",
            "Коэффициент уникальности: 36.66%\n",
            "💾 Промежуточные результаты сохранены в /content/drive/MyDrive/K_means/split_20/train_20/temp_metrics.csv\n",
            "✅ Файл обработан. Всего записей: 188\n",
            "\n",
            "🚀 Обрабатываю файл 189/2219: part_348.txt\n"
          ]
        },
        {
          "output_type": "display_data",
          "data": {
            "text/plain": [
              "Анализ 1-грамм:   0%|          | 0/2 [00:00<?, ?it/s]"
            ],
            "application/vnd.jupyter.widget-view+json": {
              "version_major": 2,
              "version_minor": 0,
              "model_id": "e8777d0b60af4c8daa6a5148f21585fb"
            }
          },
          "metadata": {}
        },
        {
          "output_type": "stream",
          "name": "stdout",
          "text": [
            "\n",
            "📊 Итоговая статистика 1-грамм:\n",
            "Общее количество 1-грамм: 9503\n",
            "Количество уникальных 1-грамм: 3167\n",
            "Коэффициент уникальности: 33.33%\n",
            "💾 Промежуточные результаты сохранены в /content/drive/MyDrive/K_means/split_20/train_20/temp_metrics.csv\n",
            "✅ Файл обработан. Всего записей: 189\n",
            "\n",
            "🚀 Обрабатываю файл 190/2219: part_351.txt\n"
          ]
        },
        {
          "output_type": "display_data",
          "data": {
            "text/plain": [
              "Анализ 1-грамм:   0%|          | 0/2 [00:00<?, ?it/s]"
            ],
            "application/vnd.jupyter.widget-view+json": {
              "version_major": 2,
              "version_minor": 0,
              "model_id": "e92e0fedeb794b4db244c8fa4b52f588"
            }
          },
          "metadata": {}
        },
        {
          "output_type": "stream",
          "name": "stdout",
          "text": [
            "\n",
            "📊 Итоговая статистика 1-грамм:\n",
            "Общее количество 1-грамм: 9477\n",
            "Количество уникальных 1-грамм: 3394\n",
            "Коэффициент уникальности: 35.81%\n",
            "💾 Промежуточные результаты сохранены в /content/drive/MyDrive/K_means/split_20/train_20/temp_metrics.csv\n",
            "✅ Файл обработан. Всего записей: 190\n",
            "\n",
            "🚀 Обрабатываю файл 191/2219: part_352.txt\n"
          ]
        },
        {
          "output_type": "display_data",
          "data": {
            "text/plain": [
              "Анализ 1-грамм:   0%|          | 0/2 [00:00<?, ?it/s]"
            ],
            "application/vnd.jupyter.widget-view+json": {
              "version_major": 2,
              "version_minor": 0,
              "model_id": "30ad5602c3ce4e57b6293c37cddba40f"
            }
          },
          "metadata": {}
        },
        {
          "output_type": "stream",
          "name": "stdout",
          "text": [
            "\n",
            "📊 Итоговая статистика 1-грамм:\n",
            "Общее количество 1-грамм: 9108\n",
            "Количество уникальных 1-грамм: 3455\n",
            "Коэффициент уникальности: 37.93%\n",
            "💾 Промежуточные результаты сохранены в /content/drive/MyDrive/K_means/split_20/train_20/temp_metrics.csv\n",
            "✅ Файл обработан. Всего записей: 191\n",
            "\n",
            "🚀 Обрабатываю файл 192/2219: part_354.txt\n"
          ]
        },
        {
          "output_type": "display_data",
          "data": {
            "text/plain": [
              "Анализ 1-грамм:   0%|          | 0/2 [00:00<?, ?it/s]"
            ],
            "application/vnd.jupyter.widget-view+json": {
              "version_major": 2,
              "version_minor": 0,
              "model_id": "202e98df6235471f93f27c9975a89185"
            }
          },
          "metadata": {}
        },
        {
          "output_type": "stream",
          "name": "stdout",
          "text": [
            "\n",
            "📊 Итоговая статистика 1-грамм:\n",
            "Общее количество 1-грамм: 8764\n",
            "Количество уникальных 1-грамм: 3145\n",
            "Коэффициент уникальности: 35.89%\n",
            "💾 Промежуточные результаты сохранены в /content/drive/MyDrive/K_means/split_20/train_20/temp_metrics.csv\n",
            "✅ Файл обработан. Всего записей: 192\n",
            "\n",
            "🚀 Обрабатываю файл 193/2219: part_357.txt\n"
          ]
        },
        {
          "output_type": "display_data",
          "data": {
            "text/plain": [
              "Анализ 1-грамм:   0%|          | 0/2 [00:00<?, ?it/s]"
            ],
            "application/vnd.jupyter.widget-view+json": {
              "version_major": 2,
              "version_minor": 0,
              "model_id": "0566949951cf470ea97b5f8104d9e8d4"
            }
          },
          "metadata": {}
        },
        {
          "output_type": "stream",
          "name": "stdout",
          "text": [
            "\n",
            "📊 Итоговая статистика 1-грамм:\n",
            "Общее количество 1-грамм: 9023\n",
            "Количество уникальных 1-грамм: 3328\n",
            "Коэффициент уникальности: 36.88%\n",
            "💾 Промежуточные результаты сохранены в /content/drive/MyDrive/K_means/split_20/train_20/temp_metrics.csv\n",
            "✅ Файл обработан. Всего записей: 193\n",
            "\n",
            "🚀 Обрабатываю файл 194/2219: part_360.txt\n"
          ]
        },
        {
          "output_type": "display_data",
          "data": {
            "text/plain": [
              "Анализ 1-грамм:   0%|          | 0/2 [00:00<?, ?it/s]"
            ],
            "application/vnd.jupyter.widget-view+json": {
              "version_major": 2,
              "version_minor": 0,
              "model_id": "93d450057af241c19e741a0faf940420"
            }
          },
          "metadata": {}
        },
        {
          "output_type": "stream",
          "name": "stdout",
          "text": [
            "\n",
            "📊 Итоговая статистика 1-грамм:\n",
            "Общее количество 1-грамм: 8813\n",
            "Количество уникальных 1-грамм: 3276\n",
            "Коэффициент уникальности: 37.17%\n",
            "💾 Промежуточные результаты сохранены в /content/drive/MyDrive/K_means/split_20/train_20/temp_metrics.csv\n",
            "✅ Файл обработан. Всего записей: 194\n",
            "\n",
            "🚀 Обрабатываю файл 195/2219: part_361.txt\n"
          ]
        },
        {
          "output_type": "display_data",
          "data": {
            "text/plain": [
              "Анализ 1-грамм:   0%|          | 0/2 [00:00<?, ?it/s]"
            ],
            "application/vnd.jupyter.widget-view+json": {
              "version_major": 2,
              "version_minor": 0,
              "model_id": "9c1acc78a6f5475ba746bad03ce4224b"
            }
          },
          "metadata": {}
        },
        {
          "output_type": "stream",
          "name": "stdout",
          "text": [
            "\n",
            "📊 Итоговая статистика 1-грамм:\n",
            "Общее количество 1-грамм: 8310\n",
            "Количество уникальных 1-грамм: 2678\n",
            "Коэффициент уникальности: 32.23%\n",
            "💾 Промежуточные результаты сохранены в /content/drive/MyDrive/K_means/split_20/train_20/temp_metrics.csv\n",
            "✅ Файл обработан. Всего записей: 195\n",
            "\n",
            "🚀 Обрабатываю файл 196/2219: part_362.txt\n"
          ]
        },
        {
          "output_type": "display_data",
          "data": {
            "text/plain": [
              "Анализ 1-грамм:   0%|          | 0/2 [00:00<?, ?it/s]"
            ],
            "application/vnd.jupyter.widget-view+json": {
              "version_major": 2,
              "version_minor": 0,
              "model_id": "d2c7a8471e514abe8d2efe3020d2b451"
            }
          },
          "metadata": {}
        },
        {
          "output_type": "stream",
          "name": "stdout",
          "text": [
            "\n",
            "📊 Итоговая статистика 1-грамм:\n",
            "Общее количество 1-грамм: 8556\n",
            "Количество уникальных 1-грамм: 2747\n",
            "Коэффициент уникальности: 32.11%\n",
            "💾 Промежуточные результаты сохранены в /content/drive/MyDrive/K_means/split_20/train_20/temp_metrics.csv\n",
            "✅ Файл обработан. Всего записей: 196\n",
            "\n",
            "🚀 Обрабатываю файл 197/2219: part_363.txt\n"
          ]
        },
        {
          "output_type": "display_data",
          "data": {
            "text/plain": [
              "Анализ 1-грамм:   0%|          | 0/2 [00:00<?, ?it/s]"
            ],
            "application/vnd.jupyter.widget-view+json": {
              "version_major": 2,
              "version_minor": 0,
              "model_id": "763e79d34dd6481aa560dfd7708d460e"
            }
          },
          "metadata": {}
        },
        {
          "output_type": "stream",
          "name": "stdout",
          "text": [
            "\n",
            "📊 Итоговая статистика 1-грамм:\n",
            "Общее количество 1-грамм: 8386\n",
            "Количество уникальных 1-грамм: 2809\n",
            "Коэффициент уникальности: 33.50%\n",
            "💾 Промежуточные результаты сохранены в /content/drive/MyDrive/K_means/split_20/train_20/temp_metrics.csv\n",
            "✅ Файл обработан. Всего записей: 197\n",
            "\n",
            "🚀 Обрабатываю файл 198/2219: part_364.txt\n"
          ]
        },
        {
          "output_type": "display_data",
          "data": {
            "text/plain": [
              "Анализ 1-грамм:   0%|          | 0/2 [00:00<?, ?it/s]"
            ],
            "application/vnd.jupyter.widget-view+json": {
              "version_major": 2,
              "version_minor": 0,
              "model_id": "69bc59686d2a4b448e9eae6a3f2a1fa5"
            }
          },
          "metadata": {}
        },
        {
          "output_type": "stream",
          "name": "stdout",
          "text": [
            "\n",
            "📊 Итоговая статистика 1-грамм:\n",
            "Общее количество 1-грамм: 9554\n",
            "Количество уникальных 1-грамм: 3497\n",
            "Коэффициент уникальности: 36.60%\n",
            "💾 Промежуточные результаты сохранены в /content/drive/MyDrive/K_means/split_20/train_20/temp_metrics.csv\n",
            "✅ Файл обработан. Всего записей: 198\n",
            "\n",
            "🚀 Обрабатываю файл 199/2219: part_365.txt\n"
          ]
        },
        {
          "output_type": "display_data",
          "data": {
            "text/plain": [
              "Анализ 1-грамм:   0%|          | 0/2 [00:00<?, ?it/s]"
            ],
            "application/vnd.jupyter.widget-view+json": {
              "version_major": 2,
              "version_minor": 0,
              "model_id": "b9e1d3bb27c84df990c181b44a0aa153"
            }
          },
          "metadata": {}
        },
        {
          "output_type": "stream",
          "name": "stdout",
          "text": [
            "\n",
            "📊 Итоговая статистика 1-грамм:\n",
            "Общее количество 1-грамм: 8541\n",
            "Количество уникальных 1-грамм: 3278\n",
            "Коэффициент уникальности: 38.38%\n",
            "💾 Промежуточные результаты сохранены в /content/drive/MyDrive/K_means/split_20/train_20/temp_metrics.csv\n",
            "✅ Файл обработан. Всего записей: 199\n",
            "\n",
            "🚀 Обрабатываю файл 200/2219: part_366.txt\n"
          ]
        },
        {
          "output_type": "display_data",
          "data": {
            "text/plain": [
              "Анализ 1-грамм:   0%|          | 0/2 [00:00<?, ?it/s]"
            ],
            "application/vnd.jupyter.widget-view+json": {
              "version_major": 2,
              "version_minor": 0,
              "model_id": "cd7f13bf92f84a52858b3d9db9538632"
            }
          },
          "metadata": {}
        },
        {
          "output_type": "stream",
          "name": "stdout",
          "text": [
            "\n",
            "📊 Итоговая статистика 1-грамм:\n",
            "Общее количество 1-грамм: 9559\n",
            "Количество уникальных 1-грамм: 3952\n",
            "Коэффициент уникальности: 41.34%\n",
            "💾 Промежуточные результаты сохранены в /content/drive/MyDrive/K_means/split_20/train_20/temp_metrics.csv\n",
            "✅ Файл обработан. Всего записей: 200\n",
            "\n",
            "🚀 Обрабатываю файл 201/2219: part_368.txt\n"
          ]
        },
        {
          "output_type": "display_data",
          "data": {
            "text/plain": [
              "Анализ 1-грамм:   0%|          | 0/2 [00:00<?, ?it/s]"
            ],
            "application/vnd.jupyter.widget-view+json": {
              "version_major": 2,
              "version_minor": 0,
              "model_id": "4bd7586ad55a4a96b10d95908095da9a"
            }
          },
          "metadata": {}
        },
        {
          "output_type": "stream",
          "name": "stdout",
          "text": [
            "\n",
            "📊 Итоговая статистика 1-грамм:\n",
            "Общее количество 1-грамм: 9373\n",
            "Количество уникальных 1-грамм: 3837\n",
            "Коэффициент уникальности: 40.94%\n",
            "💾 Промежуточные результаты сохранены в /content/drive/MyDrive/K_means/split_20/train_20/temp_metrics.csv\n",
            "✅ Файл обработан. Всего записей: 201\n",
            "\n",
            "🚀 Обрабатываю файл 202/2219: part_369.txt\n"
          ]
        },
        {
          "output_type": "display_data",
          "data": {
            "text/plain": [
              "Анализ 1-грамм:   0%|          | 0/2 [00:00<?, ?it/s]"
            ],
            "application/vnd.jupyter.widget-view+json": {
              "version_major": 2,
              "version_minor": 0,
              "model_id": "fdef923dbcd74496a6d64393c8fa61d9"
            }
          },
          "metadata": {}
        },
        {
          "output_type": "stream",
          "name": "stdout",
          "text": [
            "\n",
            "📊 Итоговая статистика 1-грамм:\n",
            "Общее количество 1-грамм: 9030\n",
            "Количество уникальных 1-грамм: 3491\n",
            "Коэффициент уникальности: 38.66%\n",
            "💾 Промежуточные результаты сохранены в /content/drive/MyDrive/K_means/split_20/train_20/temp_metrics.csv\n",
            "✅ Файл обработан. Всего записей: 202\n",
            "\n",
            "🚀 Обрабатываю файл 203/2219: part_377.txt\n"
          ]
        },
        {
          "output_type": "display_data",
          "data": {
            "text/plain": [
              "Анализ 1-грамм:   0%|          | 0/2 [00:00<?, ?it/s]"
            ],
            "application/vnd.jupyter.widget-view+json": {
              "version_major": 2,
              "version_minor": 0,
              "model_id": "70ec846bc76d46cab087333e31c1d1b0"
            }
          },
          "metadata": {}
        },
        {
          "output_type": "stream",
          "name": "stdout",
          "text": [
            "\n",
            "📊 Итоговая статистика 1-грамм:\n",
            "Общее количество 1-грамм: 8542\n",
            "Количество уникальных 1-грамм: 2899\n",
            "Коэффициент уникальности: 33.94%\n",
            "💾 Промежуточные результаты сохранены в /content/drive/MyDrive/K_means/split_20/train_20/temp_metrics.csv\n",
            "✅ Файл обработан. Всего записей: 203\n",
            "\n",
            "🚀 Обрабатываю файл 204/2219: part_381.txt\n"
          ]
        },
        {
          "output_type": "display_data",
          "data": {
            "text/plain": [
              "Анализ 1-грамм:   0%|          | 0/2 [00:00<?, ?it/s]"
            ],
            "application/vnd.jupyter.widget-view+json": {
              "version_major": 2,
              "version_minor": 0,
              "model_id": "73d6610f0f5d45f9b8a49a78c36540cd"
            }
          },
          "metadata": {}
        },
        {
          "output_type": "stream",
          "name": "stdout",
          "text": [
            "\n",
            "📊 Итоговая статистика 1-грамм:\n",
            "Общее количество 1-грамм: 9619\n",
            "Количество уникальных 1-грамм: 3520\n",
            "Коэффициент уникальности: 36.59%\n",
            "💾 Промежуточные результаты сохранены в /content/drive/MyDrive/K_means/split_20/train_20/temp_metrics.csv\n",
            "✅ Файл обработан. Всего записей: 204\n",
            "\n",
            "🚀 Обрабатываю файл 205/2219: part_382.txt\n"
          ]
        },
        {
          "output_type": "display_data",
          "data": {
            "text/plain": [
              "Анализ 1-грамм:   0%|          | 0/2 [00:00<?, ?it/s]"
            ],
            "application/vnd.jupyter.widget-view+json": {
              "version_major": 2,
              "version_minor": 0,
              "model_id": "0a95a95444ef45968c79ed3d92401f50"
            }
          },
          "metadata": {}
        },
        {
          "output_type": "stream",
          "name": "stdout",
          "text": [
            "\n",
            "📊 Итоговая статистика 1-грамм:\n",
            "Общее количество 1-грамм: 9382\n",
            "Количество уникальных 1-грамм: 3308\n",
            "Коэффициент уникальности: 35.26%\n",
            "💾 Промежуточные результаты сохранены в /content/drive/MyDrive/K_means/split_20/train_20/temp_metrics.csv\n",
            "✅ Файл обработан. Всего записей: 205\n",
            "\n",
            "🚀 Обрабатываю файл 206/2219: part_383.txt\n"
          ]
        },
        {
          "output_type": "display_data",
          "data": {
            "text/plain": [
              "Анализ 1-грамм:   0%|          | 0/2 [00:00<?, ?it/s]"
            ],
            "application/vnd.jupyter.widget-view+json": {
              "version_major": 2,
              "version_minor": 0,
              "model_id": "d7dd406009b540ad9794150736ec752b"
            }
          },
          "metadata": {}
        },
        {
          "output_type": "stream",
          "name": "stdout",
          "text": [
            "\n",
            "📊 Итоговая статистика 1-грамм:\n",
            "Общее количество 1-грамм: 9390\n",
            "Количество уникальных 1-грамм: 3032\n",
            "Коэффициент уникальности: 32.29%\n",
            "💾 Промежуточные результаты сохранены в /content/drive/MyDrive/K_means/split_20/train_20/temp_metrics.csv\n",
            "✅ Файл обработан. Всего записей: 206\n",
            "\n",
            "🚀 Обрабатываю файл 207/2219: part_384.txt\n"
          ]
        },
        {
          "output_type": "display_data",
          "data": {
            "text/plain": [
              "Анализ 1-грамм:   0%|          | 0/2 [00:00<?, ?it/s]"
            ],
            "application/vnd.jupyter.widget-view+json": {
              "version_major": 2,
              "version_minor": 0,
              "model_id": "cc8aec490699440085a72805a93e979c"
            }
          },
          "metadata": {}
        },
        {
          "output_type": "stream",
          "name": "stdout",
          "text": [
            "\n",
            "📊 Итоговая статистика 1-грамм:\n",
            "Общее количество 1-грамм: 8407\n",
            "Количество уникальных 1-грамм: 2211\n",
            "Коэффициент уникальности: 26.30%\n",
            "💾 Промежуточные результаты сохранены в /content/drive/MyDrive/K_means/split_20/train_20/temp_metrics.csv\n",
            "✅ Файл обработан. Всего записей: 207\n",
            "\n",
            "🚀 Обрабатываю файл 208/2219: part_386.txt\n"
          ]
        },
        {
          "output_type": "display_data",
          "data": {
            "text/plain": [
              "Анализ 1-грамм:   0%|          | 0/2 [00:00<?, ?it/s]"
            ],
            "application/vnd.jupyter.widget-view+json": {
              "version_major": 2,
              "version_minor": 0,
              "model_id": "c23cfa95b471442ca8118f645f9faf45"
            }
          },
          "metadata": {}
        },
        {
          "output_type": "stream",
          "name": "stdout",
          "text": [
            "\n",
            "📊 Итоговая статистика 1-грамм:\n",
            "Общее количество 1-грамм: 10178\n",
            "Количество уникальных 1-грамм: 3628\n",
            "Коэффициент уникальности: 35.65%\n",
            "💾 Промежуточные результаты сохранены в /content/drive/MyDrive/K_means/split_20/train_20/temp_metrics.csv\n",
            "✅ Файл обработан. Всего записей: 208\n",
            "\n",
            "🚀 Обрабатываю файл 209/2219: part_388.txt\n"
          ]
        },
        {
          "output_type": "display_data",
          "data": {
            "text/plain": [
              "Анализ 1-грамм:   0%|          | 0/2 [00:00<?, ?it/s]"
            ],
            "application/vnd.jupyter.widget-view+json": {
              "version_major": 2,
              "version_minor": 0,
              "model_id": "3f6dac33afd44926a32994921b2942ee"
            }
          },
          "metadata": {}
        },
        {
          "output_type": "stream",
          "name": "stdout",
          "text": [
            "\n",
            "📊 Итоговая статистика 1-грамм:\n",
            "Общее количество 1-грамм: 10322\n",
            "Количество уникальных 1-грамм: 3688\n",
            "Коэффициент уникальности: 35.73%\n",
            "💾 Промежуточные результаты сохранены в /content/drive/MyDrive/K_means/split_20/train_20/temp_metrics.csv\n",
            "✅ Файл обработан. Всего записей: 209\n",
            "\n",
            "🚀 Обрабатываю файл 210/2219: part_389.txt\n"
          ]
        },
        {
          "output_type": "display_data",
          "data": {
            "text/plain": [
              "Анализ 1-грамм:   0%|          | 0/2 [00:00<?, ?it/s]"
            ],
            "application/vnd.jupyter.widget-view+json": {
              "version_major": 2,
              "version_minor": 0,
              "model_id": "d531f73b91b34e0199d276a22e45da7f"
            }
          },
          "metadata": {}
        },
        {
          "output_type": "stream",
          "name": "stdout",
          "text": [
            "\n",
            "📊 Итоговая статистика 1-грамм:\n",
            "Общее количество 1-грамм: 9288\n",
            "Количество уникальных 1-грамм: 3242\n",
            "Коэффициент уникальности: 34.91%\n",
            "💾 Промежуточные результаты сохранены в /content/drive/MyDrive/K_means/split_20/train_20/temp_metrics.csv\n",
            "✅ Файл обработан. Всего записей: 210\n",
            "\n",
            "🚀 Обрабатываю файл 211/2219: part_390.txt\n"
          ]
        },
        {
          "output_type": "display_data",
          "data": {
            "text/plain": [
              "Анализ 1-грамм:   0%|          | 0/2 [00:00<?, ?it/s]"
            ],
            "application/vnd.jupyter.widget-view+json": {
              "version_major": 2,
              "version_minor": 0,
              "model_id": "f9df61c3cb084dd8a451cb5029575b92"
            }
          },
          "metadata": {}
        },
        {
          "output_type": "stream",
          "name": "stdout",
          "text": [
            "\n",
            "📊 Итоговая статистика 1-грамм:\n",
            "Общее количество 1-грамм: 9138\n",
            "Количество уникальных 1-грамм: 3092\n",
            "Коэффициент уникальности: 33.84%\n",
            "💾 Промежуточные результаты сохранены в /content/drive/MyDrive/K_means/split_20/train_20/temp_metrics.csv\n",
            "✅ Файл обработан. Всего записей: 211\n",
            "\n",
            "🚀 Обрабатываю файл 212/2219: part_392.txt\n"
          ]
        },
        {
          "output_type": "display_data",
          "data": {
            "text/plain": [
              "Анализ 1-грамм:   0%|          | 0/2 [00:00<?, ?it/s]"
            ],
            "application/vnd.jupyter.widget-view+json": {
              "version_major": 2,
              "version_minor": 0,
              "model_id": "5082b4f66fd34c86a84db9cff10661b7"
            }
          },
          "metadata": {}
        },
        {
          "output_type": "stream",
          "name": "stdout",
          "text": [
            "\n",
            "📊 Итоговая статистика 1-грамм:\n",
            "Общее количество 1-грамм: 8680\n",
            "Количество уникальных 1-грамм: 2929\n",
            "Коэффициент уникальности: 33.74%\n",
            "💾 Промежуточные результаты сохранены в /content/drive/MyDrive/K_means/split_20/train_20/temp_metrics.csv\n",
            "✅ Файл обработан. Всего записей: 212\n",
            "\n",
            "🚀 Обрабатываю файл 213/2219: part_394.txt\n"
          ]
        },
        {
          "output_type": "display_data",
          "data": {
            "text/plain": [
              "Анализ 1-грамм:   0%|          | 0/2 [00:00<?, ?it/s]"
            ],
            "application/vnd.jupyter.widget-view+json": {
              "version_major": 2,
              "version_minor": 0,
              "model_id": "52c2983897b2474087566f12080a256b"
            }
          },
          "metadata": {}
        },
        {
          "output_type": "stream",
          "name": "stdout",
          "text": [
            "\n",
            "📊 Итоговая статистика 1-грамм:\n",
            "Общее количество 1-грамм: 9443\n",
            "Количество уникальных 1-грамм: 3044\n",
            "Коэффициент уникальности: 32.24%\n",
            "💾 Промежуточные результаты сохранены в /content/drive/MyDrive/K_means/split_20/train_20/temp_metrics.csv\n",
            "✅ Файл обработан. Всего записей: 213\n",
            "\n",
            "🚀 Обрабатываю файл 214/2219: part_396.txt\n"
          ]
        },
        {
          "output_type": "display_data",
          "data": {
            "text/plain": [
              "Анализ 1-грамм:   0%|          | 0/2 [00:00<?, ?it/s]"
            ],
            "application/vnd.jupyter.widget-view+json": {
              "version_major": 2,
              "version_minor": 0,
              "model_id": "71ffa51e128843149af4f857e36c80e7"
            }
          },
          "metadata": {}
        },
        {
          "output_type": "stream",
          "name": "stdout",
          "text": [
            "\n",
            "📊 Итоговая статистика 1-грамм:\n",
            "Общее количество 1-грамм: 9345\n",
            "Количество уникальных 1-грамм: 3234\n",
            "Коэффициент уникальности: 34.61%\n",
            "💾 Промежуточные результаты сохранены в /content/drive/MyDrive/K_means/split_20/train_20/temp_metrics.csv\n",
            "✅ Файл обработан. Всего записей: 214\n",
            "\n",
            "🚀 Обрабатываю файл 215/2219: part_399.txt\n"
          ]
        },
        {
          "output_type": "display_data",
          "data": {
            "text/plain": [
              "Анализ 1-грамм:   0%|          | 0/2 [00:00<?, ?it/s]"
            ],
            "application/vnd.jupyter.widget-view+json": {
              "version_major": 2,
              "version_minor": 0,
              "model_id": "b7a4f22673144895a97238c60875a06f"
            }
          },
          "metadata": {}
        },
        {
          "output_type": "stream",
          "name": "stdout",
          "text": [
            "\n",
            "📊 Итоговая статистика 1-грамм:\n",
            "Общее количество 1-грамм: 9368\n",
            "Количество уникальных 1-грамм: 2558\n",
            "Коэффициент уникальности: 27.31%\n",
            "💾 Промежуточные результаты сохранены в /content/drive/MyDrive/K_means/split_20/train_20/temp_metrics.csv\n",
            "✅ Файл обработан. Всего записей: 215\n",
            "\n",
            "🚀 Обрабатываю файл 216/2219: part_402.txt\n"
          ]
        },
        {
          "output_type": "display_data",
          "data": {
            "text/plain": [
              "Анализ 1-грамм:   0%|          | 0/2 [00:00<?, ?it/s]"
            ],
            "application/vnd.jupyter.widget-view+json": {
              "version_major": 2,
              "version_minor": 0,
              "model_id": "6a499d674ab8428fb15cf4650252191d"
            }
          },
          "metadata": {}
        },
        {
          "output_type": "stream",
          "name": "stdout",
          "text": [
            "\n",
            "📊 Итоговая статистика 1-грамм:\n",
            "Общее количество 1-грамм: 9215\n",
            "Количество уникальных 1-грамм: 2418\n",
            "Коэффициент уникальности: 26.24%\n",
            "💾 Промежуточные результаты сохранены в /content/drive/MyDrive/K_means/split_20/train_20/temp_metrics.csv\n",
            "✅ Файл обработан. Всего записей: 216\n",
            "\n",
            "🚀 Обрабатываю файл 217/2219: part_403.txt\n"
          ]
        },
        {
          "output_type": "display_data",
          "data": {
            "text/plain": [
              "Анализ 1-грамм:   0%|          | 0/2 [00:00<?, ?it/s]"
            ],
            "application/vnd.jupyter.widget-view+json": {
              "version_major": 2,
              "version_minor": 0,
              "model_id": "0236f8012aba4af1bd7fe8a975c1b69d"
            }
          },
          "metadata": {}
        },
        {
          "output_type": "stream",
          "name": "stdout",
          "text": [
            "\n",
            "📊 Итоговая статистика 1-грамм:\n",
            "Общее количество 1-грамм: 9474\n",
            "Количество уникальных 1-грамм: 3007\n",
            "Коэффициент уникальности: 31.74%\n",
            "💾 Промежуточные результаты сохранены в /content/drive/MyDrive/K_means/split_20/train_20/temp_metrics.csv\n",
            "✅ Файл обработан. Всего записей: 217\n",
            "\n",
            "🚀 Обрабатываю файл 218/2219: part_406.txt\n"
          ]
        },
        {
          "output_type": "display_data",
          "data": {
            "text/plain": [
              "Анализ 1-грамм:   0%|          | 0/2 [00:00<?, ?it/s]"
            ],
            "application/vnd.jupyter.widget-view+json": {
              "version_major": 2,
              "version_minor": 0,
              "model_id": "d49cc8370d1840d1a9e13851555091f8"
            }
          },
          "metadata": {}
        },
        {
          "output_type": "stream",
          "name": "stdout",
          "text": [
            "\n",
            "📊 Итоговая статистика 1-грамм:\n",
            "Общее количество 1-грамм: 9657\n",
            "Количество уникальных 1-грамм: 3709\n",
            "Коэффициент уникальности: 38.41%\n",
            "💾 Промежуточные результаты сохранены в /content/drive/MyDrive/K_means/split_20/train_20/temp_metrics.csv\n",
            "✅ Файл обработан. Всего записей: 218\n",
            "\n",
            "🚀 Обрабатываю файл 219/2219: part_407.txt\n"
          ]
        },
        {
          "output_type": "display_data",
          "data": {
            "text/plain": [
              "Анализ 1-грамм:   0%|          | 0/2 [00:00<?, ?it/s]"
            ],
            "application/vnd.jupyter.widget-view+json": {
              "version_major": 2,
              "version_minor": 0,
              "model_id": "2ed69f065c8d4a649238f0ceb8d2069b"
            }
          },
          "metadata": {}
        },
        {
          "output_type": "stream",
          "name": "stdout",
          "text": [
            "\n",
            "📊 Итоговая статистика 1-грамм:\n",
            "Общее количество 1-грамм: 9957\n",
            "Количество уникальных 1-грамм: 3582\n",
            "Коэффициент уникальности: 35.97%\n",
            "💾 Промежуточные результаты сохранены в /content/drive/MyDrive/K_means/split_20/train_20/temp_metrics.csv\n",
            "✅ Файл обработан. Всего записей: 219\n",
            "\n",
            "🚀 Обрабатываю файл 220/2219: part_409.txt\n"
          ]
        },
        {
          "output_type": "display_data",
          "data": {
            "text/plain": [
              "Анализ 1-грамм:   0%|          | 0/2 [00:00<?, ?it/s]"
            ],
            "application/vnd.jupyter.widget-view+json": {
              "version_major": 2,
              "version_minor": 0,
              "model_id": "aac22cbfaed74daaa5cde4191c48d20d"
            }
          },
          "metadata": {}
        },
        {
          "output_type": "stream",
          "name": "stdout",
          "text": [
            "\n",
            "📊 Итоговая статистика 1-грамм:\n",
            "Общее количество 1-грамм: 9972\n",
            "Количество уникальных 1-грамм: 3217\n",
            "Коэффициент уникальности: 32.26%\n",
            "💾 Промежуточные результаты сохранены в /content/drive/MyDrive/K_means/split_20/train_20/temp_metrics.csv\n",
            "✅ Файл обработан. Всего записей: 220\n",
            "\n",
            "🚀 Обрабатываю файл 221/2219: part_411.txt\n"
          ]
        },
        {
          "output_type": "display_data",
          "data": {
            "text/plain": [
              "Анализ 1-грамм:   0%|          | 0/2 [00:00<?, ?it/s]"
            ],
            "application/vnd.jupyter.widget-view+json": {
              "version_major": 2,
              "version_minor": 0,
              "model_id": "9bc372b7428344988316fdd1e53b4f21"
            }
          },
          "metadata": {}
        },
        {
          "output_type": "stream",
          "name": "stdout",
          "text": [
            "\n",
            "📊 Итоговая статистика 1-грамм:\n",
            "Общее количество 1-грамм: 9852\n",
            "Количество уникальных 1-грамм: 3700\n",
            "Коэффициент уникальности: 37.56%\n",
            "💾 Промежуточные результаты сохранены в /content/drive/MyDrive/K_means/split_20/train_20/temp_metrics.csv\n",
            "✅ Файл обработан. Всего записей: 221\n",
            "\n",
            "🚀 Обрабатываю файл 222/2219: part_415.txt\n"
          ]
        },
        {
          "output_type": "display_data",
          "data": {
            "text/plain": [
              "Анализ 1-грамм:   0%|          | 0/2 [00:00<?, ?it/s]"
            ],
            "application/vnd.jupyter.widget-view+json": {
              "version_major": 2,
              "version_minor": 0,
              "model_id": "b8977f774cdf4bae852f46caa76d3328"
            }
          },
          "metadata": {}
        },
        {
          "output_type": "stream",
          "name": "stdout",
          "text": [
            "\n",
            "📊 Итоговая статистика 1-грамм:\n",
            "Общее количество 1-грамм: 10507\n",
            "Количество уникальных 1-грамм: 3894\n",
            "Коэффициент уникальности: 37.06%\n",
            "💾 Промежуточные результаты сохранены в /content/drive/MyDrive/K_means/split_20/train_20/temp_metrics.csv\n",
            "✅ Файл обработан. Всего записей: 222\n",
            "\n",
            "🚀 Обрабатываю файл 223/2219: part_416.txt\n"
          ]
        },
        {
          "output_type": "display_data",
          "data": {
            "text/plain": [
              "Анализ 1-грамм:   0%|          | 0/2 [00:00<?, ?it/s]"
            ],
            "application/vnd.jupyter.widget-view+json": {
              "version_major": 2,
              "version_minor": 0,
              "model_id": "cd960038b3774004904945a58cc43c18"
            }
          },
          "metadata": {}
        },
        {
          "output_type": "stream",
          "name": "stdout",
          "text": [
            "\n",
            "📊 Итоговая статистика 1-грамм:\n",
            "Общее количество 1-грамм: 10665\n",
            "Количество уникальных 1-грамм: 4372\n",
            "Коэффициент уникальности: 40.99%\n",
            "💾 Промежуточные результаты сохранены в /content/drive/MyDrive/K_means/split_20/train_20/temp_metrics.csv\n",
            "✅ Файл обработан. Всего записей: 223\n",
            "\n",
            "🚀 Обрабатываю файл 224/2219: part_417.txt\n"
          ]
        },
        {
          "output_type": "display_data",
          "data": {
            "text/plain": [
              "Анализ 1-грамм:   0%|          | 0/2 [00:00<?, ?it/s]"
            ],
            "application/vnd.jupyter.widget-view+json": {
              "version_major": 2,
              "version_minor": 0,
              "model_id": "3ea6c22f8e4245cb8e8b2784da4a207f"
            }
          },
          "metadata": {}
        },
        {
          "output_type": "stream",
          "name": "stdout",
          "text": [
            "\n",
            "📊 Итоговая статистика 1-грамм:\n",
            "Общее количество 1-грамм: 10641\n",
            "Количество уникальных 1-грамм: 3584\n",
            "Коэффициент уникальности: 33.68%\n",
            "💾 Промежуточные результаты сохранены в /content/drive/MyDrive/K_means/split_20/train_20/temp_metrics.csv\n",
            "✅ Файл обработан. Всего записей: 224\n",
            "\n",
            "🚀 Обрабатываю файл 225/2219: part_418.txt\n"
          ]
        },
        {
          "output_type": "display_data",
          "data": {
            "text/plain": [
              "Анализ 1-грамм:   0%|          | 0/2 [00:00<?, ?it/s]"
            ],
            "application/vnd.jupyter.widget-view+json": {
              "version_major": 2,
              "version_minor": 0,
              "model_id": "97ebbb9c4aee41f6b9f839719a2cf1cb"
            }
          },
          "metadata": {}
        },
        {
          "output_type": "stream",
          "name": "stdout",
          "text": [
            "\n",
            "📊 Итоговая статистика 1-грамм:\n",
            "Общее количество 1-грамм: 10070\n",
            "Количество уникальных 1-грамм: 2452\n",
            "Коэффициент уникальности: 24.35%\n",
            "💾 Промежуточные результаты сохранены в /content/drive/MyDrive/K_means/split_20/train_20/temp_metrics.csv\n",
            "✅ Файл обработан. Всего записей: 225\n",
            "\n",
            "🚀 Обрабатываю файл 226/2219: part_420.txt\n"
          ]
        },
        {
          "output_type": "display_data",
          "data": {
            "text/plain": [
              "Анализ 1-грамм:   0%|          | 0/2 [00:00<?, ?it/s]"
            ],
            "application/vnd.jupyter.widget-view+json": {
              "version_major": 2,
              "version_minor": 0,
              "model_id": "dd458363126c4fd3ad8afe5a86bdc1d0"
            }
          },
          "metadata": {}
        },
        {
          "output_type": "stream",
          "name": "stdout",
          "text": [
            "\n",
            "📊 Итоговая статистика 1-грамм:\n",
            "Общее количество 1-грамм: 9067\n",
            "Количество уникальных 1-грамм: 3090\n",
            "Коэффициент уникальности: 34.08%\n",
            "💾 Промежуточные результаты сохранены в /content/drive/MyDrive/K_means/split_20/train_20/temp_metrics.csv\n",
            "✅ Файл обработан. Всего записей: 226\n",
            "\n",
            "🚀 Обрабатываю файл 227/2219: part_422.txt\n"
          ]
        },
        {
          "output_type": "display_data",
          "data": {
            "text/plain": [
              "Анализ 1-грамм:   0%|          | 0/2 [00:00<?, ?it/s]"
            ],
            "application/vnd.jupyter.widget-view+json": {
              "version_major": 2,
              "version_minor": 0,
              "model_id": "fd5f6034b7cf403d847525ed497aebc4"
            }
          },
          "metadata": {}
        },
        {
          "output_type": "stream",
          "name": "stdout",
          "text": [
            "\n",
            "📊 Итоговая статистика 1-грамм:\n",
            "Общее количество 1-грамм: 8099\n",
            "Количество уникальных 1-грамм: 2268\n",
            "Коэффициент уникальности: 28.00%\n",
            "💾 Промежуточные результаты сохранены в /content/drive/MyDrive/K_means/split_20/train_20/temp_metrics.csv\n",
            "✅ Файл обработан. Всего записей: 227\n",
            "\n",
            "🚀 Обрабатываю файл 228/2219: part_424.txt\n"
          ]
        },
        {
          "output_type": "display_data",
          "data": {
            "text/plain": [
              "Анализ 1-грамм:   0%|          | 0/2 [00:00<?, ?it/s]"
            ],
            "application/vnd.jupyter.widget-view+json": {
              "version_major": 2,
              "version_minor": 0,
              "model_id": "d5f50a4b419b4a7ba56d6b897b854c6a"
            }
          },
          "metadata": {}
        },
        {
          "output_type": "stream",
          "name": "stdout",
          "text": [
            "\n",
            "📊 Итоговая статистика 1-грамм:\n",
            "Общее количество 1-грамм: 9079\n",
            "Количество уникальных 1-грамм: 2861\n",
            "Коэффициент уникальности: 31.51%\n",
            "💾 Промежуточные результаты сохранены в /content/drive/MyDrive/K_means/split_20/train_20/temp_metrics.csv\n",
            "✅ Файл обработан. Всего записей: 228\n",
            "\n",
            "🚀 Обрабатываю файл 229/2219: part_425.txt\n"
          ]
        },
        {
          "output_type": "display_data",
          "data": {
            "text/plain": [
              "Анализ 1-грамм:   0%|          | 0/2 [00:00<?, ?it/s]"
            ],
            "application/vnd.jupyter.widget-view+json": {
              "version_major": 2,
              "version_minor": 0,
              "model_id": "256ca7fda5394503a1fd2c67f6ca8b64"
            }
          },
          "metadata": {}
        },
        {
          "output_type": "stream",
          "name": "stdout",
          "text": [
            "\n",
            "📊 Итоговая статистика 1-грамм:\n",
            "Общее количество 1-грамм: 8970\n",
            "Количество уникальных 1-грамм: 2548\n",
            "Коэффициент уникальности: 28.41%\n",
            "💾 Промежуточные результаты сохранены в /content/drive/MyDrive/K_means/split_20/train_20/temp_metrics.csv\n",
            "✅ Файл обработан. Всего записей: 229\n",
            "\n",
            "🚀 Обрабатываю файл 230/2219: part_433.txt\n"
          ]
        },
        {
          "output_type": "display_data",
          "data": {
            "text/plain": [
              "Анализ 1-грамм:   0%|          | 0/2 [00:00<?, ?it/s]"
            ],
            "application/vnd.jupyter.widget-view+json": {
              "version_major": 2,
              "version_minor": 0,
              "model_id": "1b505efa8eeb4b7fb816d583f0694340"
            }
          },
          "metadata": {}
        },
        {
          "output_type": "stream",
          "name": "stdout",
          "text": [
            "\n",
            "📊 Итоговая статистика 1-грамм:\n",
            "Общее количество 1-грамм: 9991\n",
            "Количество уникальных 1-грамм: 3022\n",
            "Коэффициент уникальности: 30.25%\n",
            "💾 Промежуточные результаты сохранены в /content/drive/MyDrive/K_means/split_20/train_20/temp_metrics.csv\n",
            "✅ Файл обработан. Всего записей: 230\n",
            "\n",
            "🚀 Обрабатываю файл 231/2219: part_435.txt\n"
          ]
        },
        {
          "output_type": "display_data",
          "data": {
            "text/plain": [
              "Анализ 1-грамм:   0%|          | 0/2 [00:00<?, ?it/s]"
            ],
            "application/vnd.jupyter.widget-view+json": {
              "version_major": 2,
              "version_minor": 0,
              "model_id": "49969c101ae0432d84c925daee5fd0a6"
            }
          },
          "metadata": {}
        },
        {
          "output_type": "stream",
          "name": "stdout",
          "text": [
            "\n",
            "📊 Итоговая статистика 1-грамм:\n",
            "Общее количество 1-грамм: 9987\n",
            "Количество уникальных 1-грамм: 3331\n",
            "Коэффициент уникальности: 33.35%\n",
            "💾 Промежуточные результаты сохранены в /content/drive/MyDrive/K_means/split_20/train_20/temp_metrics.csv\n",
            "✅ Файл обработан. Всего записей: 231\n",
            "\n",
            "🚀 Обрабатываю файл 232/2219: part_436.txt\n"
          ]
        },
        {
          "output_type": "display_data",
          "data": {
            "text/plain": [
              "Анализ 1-грамм:   0%|          | 0/2 [00:00<?, ?it/s]"
            ],
            "application/vnd.jupyter.widget-view+json": {
              "version_major": 2,
              "version_minor": 0,
              "model_id": "c72910d89d37408292d325bdbbcbc9ba"
            }
          },
          "metadata": {}
        },
        {
          "output_type": "stream",
          "name": "stdout",
          "text": [
            "\n",
            "📊 Итоговая статистика 1-грамм:\n",
            "Общее количество 1-грамм: 10783\n",
            "Количество уникальных 1-грамм: 3844\n",
            "Коэффициент уникальности: 35.65%\n",
            "💾 Промежуточные результаты сохранены в /content/drive/MyDrive/K_means/split_20/train_20/temp_metrics.csv\n",
            "✅ Файл обработан. Всего записей: 232\n",
            "\n",
            "🚀 Обрабатываю файл 233/2219: part_438.txt\n"
          ]
        },
        {
          "output_type": "display_data",
          "data": {
            "text/plain": [
              "Анализ 1-грамм:   0%|          | 0/2 [00:00<?, ?it/s]"
            ],
            "application/vnd.jupyter.widget-view+json": {
              "version_major": 2,
              "version_minor": 0,
              "model_id": "cd6a9357ad624093898d5ef58c161894"
            }
          },
          "metadata": {}
        },
        {
          "output_type": "stream",
          "name": "stdout",
          "text": [
            "\n",
            "📊 Итоговая статистика 1-грамм:\n",
            "Общее количество 1-грамм: 11941\n",
            "Количество уникальных 1-грамм: 2466\n",
            "Коэффициент уникальности: 20.65%\n",
            "💾 Промежуточные результаты сохранены в /content/drive/MyDrive/K_means/split_20/train_20/temp_metrics.csv\n",
            "✅ Файл обработан. Всего записей: 233\n",
            "\n",
            "🚀 Обрабатываю файл 234/2219: part_439.txt\n"
          ]
        },
        {
          "output_type": "display_data",
          "data": {
            "text/plain": [
              "Анализ 1-грамм:   0%|          | 0/2 [00:00<?, ?it/s]"
            ],
            "application/vnd.jupyter.widget-view+json": {
              "version_major": 2,
              "version_minor": 0,
              "model_id": "71a792617e184c8caf5759b35e53c4a3"
            }
          },
          "metadata": {}
        },
        {
          "output_type": "stream",
          "name": "stdout",
          "text": [
            "\n",
            "📊 Итоговая статистика 1-грамм:\n",
            "Общее количество 1-грамм: 12037\n",
            "Количество уникальных 1-грамм: 2388\n",
            "Коэффициент уникальности: 19.84%\n",
            "💾 Промежуточные результаты сохранены в /content/drive/MyDrive/K_means/split_20/train_20/temp_metrics.csv\n",
            "✅ Файл обработан. Всего записей: 234\n",
            "\n",
            "🚀 Обрабатываю файл 235/2219: part_443.txt\n"
          ]
        },
        {
          "output_type": "display_data",
          "data": {
            "text/plain": [
              "Анализ 1-грамм:   0%|          | 0/2 [00:00<?, ?it/s]"
            ],
            "application/vnd.jupyter.widget-view+json": {
              "version_major": 2,
              "version_minor": 0,
              "model_id": "3e565b80444e4b9e8c2bdd4c424fe7e4"
            }
          },
          "metadata": {}
        },
        {
          "output_type": "stream",
          "name": "stdout",
          "text": [
            "\n",
            "📊 Итоговая статистика 1-грамм:\n",
            "Общее количество 1-грамм: 11246\n",
            "Количество уникальных 1-грамм: 2358\n",
            "Коэффициент уникальности: 20.97%\n",
            "💾 Промежуточные результаты сохранены в /content/drive/MyDrive/K_means/split_20/train_20/temp_metrics.csv\n",
            "✅ Файл обработан. Всего записей: 235\n",
            "\n",
            "🚀 Обрабатываю файл 236/2219: part_444.txt\n"
          ]
        },
        {
          "output_type": "display_data",
          "data": {
            "text/plain": [
              "Анализ 1-грамм:   0%|          | 0/2 [00:00<?, ?it/s]"
            ],
            "application/vnd.jupyter.widget-view+json": {
              "version_major": 2,
              "version_minor": 0,
              "model_id": "2491cba7720747efba88d42b3fa37cdf"
            }
          },
          "metadata": {}
        },
        {
          "output_type": "stream",
          "name": "stdout",
          "text": [
            "\n",
            "📊 Итоговая статистика 1-грамм:\n",
            "Общее количество 1-грамм: 10564\n",
            "Количество уникальных 1-грамм: 3459\n",
            "Коэффициент уникальности: 32.74%\n",
            "💾 Промежуточные результаты сохранены в /content/drive/MyDrive/K_means/split_20/train_20/temp_metrics.csv\n",
            "✅ Файл обработан. Всего записей: 236\n",
            "\n",
            "🚀 Обрабатываю файл 237/2219: part_446.txt\n"
          ]
        },
        {
          "output_type": "display_data",
          "data": {
            "text/plain": [
              "Анализ 1-грамм:   0%|          | 0/2 [00:00<?, ?it/s]"
            ],
            "application/vnd.jupyter.widget-view+json": {
              "version_major": 2,
              "version_minor": 0,
              "model_id": "726408e3a30a4f2883b1db58e2c7e291"
            }
          },
          "metadata": {}
        },
        {
          "output_type": "stream",
          "name": "stdout",
          "text": [
            "\n",
            "📊 Итоговая статистика 1-грамм:\n",
            "Общее количество 1-грамм: 9576\n",
            "Количество уникальных 1-грамм: 3038\n",
            "Коэффициент уникальности: 31.73%\n",
            "💾 Промежуточные результаты сохранены в /content/drive/MyDrive/K_means/split_20/train_20/temp_metrics.csv\n",
            "✅ Файл обработан. Всего записей: 237\n",
            "\n",
            "🚀 Обрабатываю файл 238/2219: part_447.txt\n"
          ]
        },
        {
          "output_type": "display_data",
          "data": {
            "text/plain": [
              "Анализ 1-грамм:   0%|          | 0/2 [00:00<?, ?it/s]"
            ],
            "application/vnd.jupyter.widget-view+json": {
              "version_major": 2,
              "version_minor": 0,
              "model_id": "dc9bebf664e74dd4bb817a502e6ffb68"
            }
          },
          "metadata": {}
        },
        {
          "output_type": "stream",
          "name": "stdout",
          "text": [
            "\n",
            "📊 Итоговая статистика 1-грамм:\n",
            "Общее количество 1-грамм: 9878\n",
            "Количество уникальных 1-грамм: 3070\n",
            "Коэффициент уникальности: 31.08%\n",
            "💾 Промежуточные результаты сохранены в /content/drive/MyDrive/K_means/split_20/train_20/temp_metrics.csv\n",
            "✅ Файл обработан. Всего записей: 238\n",
            "\n",
            "🚀 Обрабатываю файл 239/2219: part_450.txt\n"
          ]
        },
        {
          "output_type": "display_data",
          "data": {
            "text/plain": [
              "Анализ 1-грамм:   0%|          | 0/2 [00:00<?, ?it/s]"
            ],
            "application/vnd.jupyter.widget-view+json": {
              "version_major": 2,
              "version_minor": 0,
              "model_id": "77e55021205e41a2b804c5a59caa89ac"
            }
          },
          "metadata": {}
        },
        {
          "output_type": "stream",
          "name": "stdout",
          "text": [
            "\n",
            "📊 Итоговая статистика 1-грамм:\n",
            "Общее количество 1-грамм: 9559\n",
            "Количество уникальных 1-грамм: 2969\n",
            "Коэффициент уникальности: 31.06%\n",
            "💾 Промежуточные результаты сохранены в /content/drive/MyDrive/K_means/split_20/train_20/temp_metrics.csv\n",
            "✅ Файл обработан. Всего записей: 239\n",
            "\n",
            "🚀 Обрабатываю файл 240/2219: part_453.txt\n"
          ]
        },
        {
          "output_type": "display_data",
          "data": {
            "text/plain": [
              "Анализ 1-грамм:   0%|          | 0/2 [00:00<?, ?it/s]"
            ],
            "application/vnd.jupyter.widget-view+json": {
              "version_major": 2,
              "version_minor": 0,
              "model_id": "82ab329d142a480580190ca91e5e19f3"
            }
          },
          "metadata": {}
        },
        {
          "output_type": "stream",
          "name": "stdout",
          "text": [
            "\n",
            "📊 Итоговая статистика 1-грамм:\n",
            "Общее количество 1-грамм: 9126\n",
            "Количество уникальных 1-грамм: 3371\n",
            "Коэффициент уникальности: 36.94%\n",
            "💾 Промежуточные результаты сохранены в /content/drive/MyDrive/K_means/split_20/train_20/temp_metrics.csv\n",
            "✅ Файл обработан. Всего записей: 240\n",
            "\n",
            "🚀 Обрабатываю файл 241/2219: part_456.txt\n"
          ]
        },
        {
          "output_type": "display_data",
          "data": {
            "text/plain": [
              "Анализ 1-грамм:   0%|          | 0/2 [00:00<?, ?it/s]"
            ],
            "application/vnd.jupyter.widget-view+json": {
              "version_major": 2,
              "version_minor": 0,
              "model_id": "ecc43830eaba489bb2682e024d12886a"
            }
          },
          "metadata": {}
        },
        {
          "output_type": "stream",
          "name": "stdout",
          "text": [
            "\n",
            "📊 Итоговая статистика 1-грамм:\n",
            "Общее количество 1-грамм: 9467\n",
            "Количество уникальных 1-грамм: 3324\n",
            "Коэффициент уникальности: 35.11%\n",
            "💾 Промежуточные результаты сохранены в /content/drive/MyDrive/K_means/split_20/train_20/temp_metrics.csv\n",
            "✅ Файл обработан. Всего записей: 241\n",
            "\n",
            "🚀 Обрабатываю файл 242/2219: part_457.txt\n"
          ]
        },
        {
          "output_type": "display_data",
          "data": {
            "text/plain": [
              "Анализ 1-грамм:   0%|          | 0/2 [00:00<?, ?it/s]"
            ],
            "application/vnd.jupyter.widget-view+json": {
              "version_major": 2,
              "version_minor": 0,
              "model_id": "527ee3fb70c74d55ad39a832f9f46a8a"
            }
          },
          "metadata": {}
        },
        {
          "output_type": "stream",
          "name": "stdout",
          "text": [
            "\n",
            "📊 Итоговая статистика 1-грамм:\n",
            "Общее количество 1-грамм: 10913\n",
            "Количество уникальных 1-грамм: 2969\n",
            "Коэффициент уникальности: 27.21%\n",
            "💾 Промежуточные результаты сохранены в /content/drive/MyDrive/K_means/split_20/train_20/temp_metrics.csv\n",
            "✅ Файл обработан. Всего записей: 242\n",
            "\n",
            "🚀 Обрабатываю файл 243/2219: part_460.txt\n"
          ]
        },
        {
          "output_type": "display_data",
          "data": {
            "text/plain": [
              "Анализ 1-грамм:   0%|          | 0/2 [00:00<?, ?it/s]"
            ],
            "application/vnd.jupyter.widget-view+json": {
              "version_major": 2,
              "version_minor": 0,
              "model_id": "0828ec499b5948cc81da4a915944c30c"
            }
          },
          "metadata": {}
        },
        {
          "output_type": "stream",
          "name": "stdout",
          "text": [
            "\n",
            "📊 Итоговая статистика 1-грамм:\n",
            "Общее количество 1-грамм: 10039\n",
            "Количество уникальных 1-грамм: 3831\n",
            "Коэффициент уникальности: 38.16%\n",
            "💾 Промежуточные результаты сохранены в /content/drive/MyDrive/K_means/split_20/train_20/temp_metrics.csv\n",
            "✅ Файл обработан. Всего записей: 243\n",
            "\n",
            "🚀 Обрабатываю файл 244/2219: part_462.txt\n"
          ]
        },
        {
          "output_type": "display_data",
          "data": {
            "text/plain": [
              "Анализ 1-грамм:   0%|          | 0/2 [00:00<?, ?it/s]"
            ],
            "application/vnd.jupyter.widget-view+json": {
              "version_major": 2,
              "version_minor": 0,
              "model_id": "0363546754014962809cebd1e274730e"
            }
          },
          "metadata": {}
        },
        {
          "output_type": "stream",
          "name": "stdout",
          "text": [
            "\n",
            "📊 Итоговая статистика 1-грамм:\n",
            "Общее количество 1-грамм: 9483\n",
            "Количество уникальных 1-грамм: 2916\n",
            "Коэффициент уникальности: 30.75%\n",
            "💾 Промежуточные результаты сохранены в /content/drive/MyDrive/K_means/split_20/train_20/temp_metrics.csv\n",
            "✅ Файл обработан. Всего записей: 244\n",
            "\n",
            "🚀 Обрабатываю файл 245/2219: part_463.txt\n"
          ]
        },
        {
          "output_type": "display_data",
          "data": {
            "text/plain": [
              "Анализ 1-грамм:   0%|          | 0/2 [00:00<?, ?it/s]"
            ],
            "application/vnd.jupyter.widget-view+json": {
              "version_major": 2,
              "version_minor": 0,
              "model_id": "8e0b7cf219e94abda8f7196dfddc2132"
            }
          },
          "metadata": {}
        },
        {
          "output_type": "stream",
          "name": "stdout",
          "text": [
            "\n",
            "📊 Итоговая статистика 1-грамм:\n",
            "Общее количество 1-грамм: 9633\n",
            "Количество уникальных 1-грамм: 3330\n",
            "Коэффициент уникальности: 34.57%\n",
            "💾 Промежуточные результаты сохранены в /content/drive/MyDrive/K_means/split_20/train_20/temp_metrics.csv\n",
            "✅ Файл обработан. Всего записей: 245\n",
            "\n",
            "🚀 Обрабатываю файл 246/2219: part_466.txt\n"
          ]
        },
        {
          "output_type": "display_data",
          "data": {
            "text/plain": [
              "Анализ 1-грамм:   0%|          | 0/2 [00:00<?, ?it/s]"
            ],
            "application/vnd.jupyter.widget-view+json": {
              "version_major": 2,
              "version_minor": 0,
              "model_id": "59eefa414d824e2f84fb76664f0d7a16"
            }
          },
          "metadata": {}
        },
        {
          "output_type": "stream",
          "name": "stdout",
          "text": [
            "\n",
            "📊 Итоговая статистика 1-грамм:\n",
            "Общее количество 1-грамм: 8953\n",
            "Количество уникальных 1-грамм: 2902\n",
            "Коэффициент уникальности: 32.41%\n",
            "💾 Промежуточные результаты сохранены в /content/drive/MyDrive/K_means/split_20/train_20/temp_metrics.csv\n",
            "✅ Файл обработан. Всего записей: 246\n",
            "\n",
            "🚀 Обрабатываю файл 247/2219: part_468.txt\n"
          ]
        },
        {
          "output_type": "display_data",
          "data": {
            "text/plain": [
              "Анализ 1-грамм:   0%|          | 0/2 [00:00<?, ?it/s]"
            ],
            "application/vnd.jupyter.widget-view+json": {
              "version_major": 2,
              "version_minor": 0,
              "model_id": "b14d50a4d2044c55a648e4e1b834879f"
            }
          },
          "metadata": {}
        },
        {
          "output_type": "stream",
          "name": "stdout",
          "text": [
            "\n",
            "📊 Итоговая статистика 1-грамм:\n",
            "Общее количество 1-грамм: 8015\n",
            "Количество уникальных 1-грамм: 2470\n",
            "Коэффициент уникальности: 30.82%\n",
            "💾 Промежуточные результаты сохранены в /content/drive/MyDrive/K_means/split_20/train_20/temp_metrics.csv\n",
            "✅ Файл обработан. Всего записей: 247\n",
            "\n",
            "🚀 Обрабатываю файл 248/2219: part_469.txt\n"
          ]
        },
        {
          "output_type": "display_data",
          "data": {
            "text/plain": [
              "Анализ 1-грамм:   0%|          | 0/2 [00:00<?, ?it/s]"
            ],
            "application/vnd.jupyter.widget-view+json": {
              "version_major": 2,
              "version_minor": 0,
              "model_id": "ff7e5392ab3f429d9ce9631de19495a4"
            }
          },
          "metadata": {}
        },
        {
          "output_type": "stream",
          "name": "stdout",
          "text": [
            "\n",
            "📊 Итоговая статистика 1-грамм:\n",
            "Общее количество 1-грамм: 8132\n",
            "Количество уникальных 1-грамм: 2469\n",
            "Коэффициент уникальности: 30.36%\n",
            "💾 Промежуточные результаты сохранены в /content/drive/MyDrive/K_means/split_20/train_20/temp_metrics.csv\n",
            "✅ Файл обработан. Всего записей: 248\n",
            "\n",
            "🚀 Обрабатываю файл 249/2219: part_470.txt\n"
          ]
        },
        {
          "output_type": "display_data",
          "data": {
            "text/plain": [
              "Анализ 1-грамм:   0%|          | 0/2 [00:00<?, ?it/s]"
            ],
            "application/vnd.jupyter.widget-view+json": {
              "version_major": 2,
              "version_minor": 0,
              "model_id": "efcc2f7feb8749b2a66cc9fe44eb8eb4"
            }
          },
          "metadata": {}
        },
        {
          "output_type": "stream",
          "name": "stdout",
          "text": [
            "\n",
            "📊 Итоговая статистика 1-грамм:\n",
            "Общее количество 1-грамм: 8565\n",
            "Количество уникальных 1-грамм: 2907\n",
            "Коэффициент уникальности: 33.94%\n",
            "💾 Промежуточные результаты сохранены в /content/drive/MyDrive/K_means/split_20/train_20/temp_metrics.csv\n",
            "✅ Файл обработан. Всего записей: 249\n",
            "\n",
            "🚀 Обрабатываю файл 250/2219: part_473.txt\n"
          ]
        },
        {
          "output_type": "display_data",
          "data": {
            "text/plain": [
              "Анализ 1-грамм:   0%|          | 0/2 [00:00<?, ?it/s]"
            ],
            "application/vnd.jupyter.widget-view+json": {
              "version_major": 2,
              "version_minor": 0,
              "model_id": "757a624ee40c4c03a64fe4007bd0315f"
            }
          },
          "metadata": {}
        },
        {
          "output_type": "stream",
          "name": "stdout",
          "text": [
            "\n",
            "📊 Итоговая статистика 1-грамм:\n",
            "Общее количество 1-грамм: 10192\n",
            "Количество уникальных 1-грамм: 3692\n",
            "Коэффициент уникальности: 36.22%\n",
            "💾 Промежуточные результаты сохранены в /content/drive/MyDrive/K_means/split_20/train_20/temp_metrics.csv\n",
            "✅ Файл обработан. Всего записей: 250\n",
            "\n",
            "🚀 Обрабатываю файл 251/2219: part_474.txt\n"
          ]
        },
        {
          "output_type": "display_data",
          "data": {
            "text/plain": [
              "Анализ 1-грамм:   0%|          | 0/2 [00:00<?, ?it/s]"
            ],
            "application/vnd.jupyter.widget-view+json": {
              "version_major": 2,
              "version_minor": 0,
              "model_id": "3ae551c13bc9418980e31398b7992d2a"
            }
          },
          "metadata": {}
        },
        {
          "output_type": "stream",
          "name": "stdout",
          "text": [
            "\n",
            "📊 Итоговая статистика 1-грамм:\n",
            "Общее количество 1-грамм: 9959\n",
            "Количество уникальных 1-грамм: 3274\n",
            "Коэффициент уникальности: 32.87%\n",
            "💾 Промежуточные результаты сохранены в /content/drive/MyDrive/K_means/split_20/train_20/temp_metrics.csv\n",
            "✅ Файл обработан. Всего записей: 251\n",
            "\n",
            "🚀 Обрабатываю файл 252/2219: part_475.txt\n"
          ]
        },
        {
          "output_type": "display_data",
          "data": {
            "text/plain": [
              "Анализ 1-грамм:   0%|          | 0/2 [00:00<?, ?it/s]"
            ],
            "application/vnd.jupyter.widget-view+json": {
              "version_major": 2,
              "version_minor": 0,
              "model_id": "ea2ab38e27d147caa877fb7835acd100"
            }
          },
          "metadata": {}
        },
        {
          "output_type": "stream",
          "name": "stdout",
          "text": [
            "\n",
            "📊 Итоговая статистика 1-грамм:\n",
            "Общее количество 1-грамм: 9004\n",
            "Количество уникальных 1-грамм: 2569\n",
            "Коэффициент уникальности: 28.53%\n",
            "💾 Промежуточные результаты сохранены в /content/drive/MyDrive/K_means/split_20/train_20/temp_metrics.csv\n",
            "✅ Файл обработан. Всего записей: 252\n",
            "\n",
            "🚀 Обрабатываю файл 253/2219: part_477.txt\n"
          ]
        },
        {
          "output_type": "display_data",
          "data": {
            "text/plain": [
              "Анализ 1-грамм:   0%|          | 0/2 [00:00<?, ?it/s]"
            ],
            "application/vnd.jupyter.widget-view+json": {
              "version_major": 2,
              "version_minor": 0,
              "model_id": "48bbe9d9919847509daee0f9b2b09684"
            }
          },
          "metadata": {}
        },
        {
          "output_type": "stream",
          "name": "stdout",
          "text": [
            "\n",
            "📊 Итоговая статистика 1-грамм:\n",
            "Общее количество 1-грамм: 8501\n",
            "Количество уникальных 1-грамм: 2292\n",
            "Коэффициент уникальности: 26.96%\n",
            "💾 Промежуточные результаты сохранены в /content/drive/MyDrive/K_means/split_20/train_20/temp_metrics.csv\n",
            "✅ Файл обработан. Всего записей: 253\n",
            "\n",
            "🚀 Обрабатываю файл 254/2219: part_480.txt\n"
          ]
        },
        {
          "output_type": "display_data",
          "data": {
            "text/plain": [
              "Анализ 1-грамм:   0%|          | 0/2 [00:00<?, ?it/s]"
            ],
            "application/vnd.jupyter.widget-view+json": {
              "version_major": 2,
              "version_minor": 0,
              "model_id": "e80ea673497e4e5488d83687bca5ecfb"
            }
          },
          "metadata": {}
        },
        {
          "output_type": "stream",
          "name": "stdout",
          "text": [
            "\n",
            "📊 Итоговая статистика 1-грамм:\n",
            "Общее количество 1-грамм: 8503\n",
            "Количество уникальных 1-грамм: 2218\n",
            "Коэффициент уникальности: 26.08%\n",
            "💾 Промежуточные результаты сохранены в /content/drive/MyDrive/K_means/split_20/train_20/temp_metrics.csv\n",
            "✅ Файл обработан. Всего записей: 254\n",
            "\n",
            "🚀 Обрабатываю файл 255/2219: part_481.txt\n"
          ]
        },
        {
          "output_type": "display_data",
          "data": {
            "text/plain": [
              "Анализ 1-грамм:   0%|          | 0/2 [00:00<?, ?it/s]"
            ],
            "application/vnd.jupyter.widget-view+json": {
              "version_major": 2,
              "version_minor": 0,
              "model_id": "016ad69ae8784f3a8d956873df42b464"
            }
          },
          "metadata": {}
        },
        {
          "output_type": "stream",
          "name": "stdout",
          "text": [
            "\n",
            "📊 Итоговая статистика 1-грамм:\n",
            "Общее количество 1-грамм: 9216\n",
            "Количество уникальных 1-грамм: 2157\n",
            "Коэффициент уникальности: 23.40%\n",
            "💾 Промежуточные результаты сохранены в /content/drive/MyDrive/K_means/split_20/train_20/temp_metrics.csv\n",
            "✅ Файл обработан. Всего записей: 255\n",
            "\n",
            "🚀 Обрабатываю файл 256/2219: part_483.txt\n"
          ]
        },
        {
          "output_type": "display_data",
          "data": {
            "text/plain": [
              "Анализ 1-грамм:   0%|          | 0/2 [00:00<?, ?it/s]"
            ],
            "application/vnd.jupyter.widget-view+json": {
              "version_major": 2,
              "version_minor": 0,
              "model_id": "6906a223a8eb4babb31db4a7a41d6eae"
            }
          },
          "metadata": {}
        },
        {
          "output_type": "stream",
          "name": "stdout",
          "text": [
            "\n",
            "📊 Итоговая статистика 1-грамм:\n",
            "Общее количество 1-грамм: 9161\n",
            "Количество уникальных 1-грамм: 2120\n",
            "Коэффициент уникальности: 23.14%\n",
            "💾 Промежуточные результаты сохранены в /content/drive/MyDrive/K_means/split_20/train_20/temp_metrics.csv\n",
            "✅ Файл обработан. Всего записей: 256\n",
            "\n",
            "🚀 Обрабатываю файл 257/2219: part_484.txt\n"
          ]
        },
        {
          "output_type": "display_data",
          "data": {
            "text/plain": [
              "Анализ 1-грамм:   0%|          | 0/2 [00:00<?, ?it/s]"
            ],
            "application/vnd.jupyter.widget-view+json": {
              "version_major": 2,
              "version_minor": 0,
              "model_id": "3c6ad5daabe14e4b89b9d74232cb880e"
            }
          },
          "metadata": {}
        },
        {
          "output_type": "stream",
          "name": "stdout",
          "text": [
            "\n",
            "📊 Итоговая статистика 1-грамм:\n",
            "Общее количество 1-грамм: 8798\n",
            "Количество уникальных 1-грамм: 2345\n",
            "Коэффициент уникальности: 26.65%\n",
            "💾 Промежуточные результаты сохранены в /content/drive/MyDrive/K_means/split_20/train_20/temp_metrics.csv\n",
            "✅ Файл обработан. Всего записей: 257\n",
            "\n",
            "🚀 Обрабатываю файл 258/2219: part_485.txt\n"
          ]
        },
        {
          "output_type": "display_data",
          "data": {
            "text/plain": [
              "Анализ 1-грамм:   0%|          | 0/2 [00:00<?, ?it/s]"
            ],
            "application/vnd.jupyter.widget-view+json": {
              "version_major": 2,
              "version_minor": 0,
              "model_id": "679629e783b94c4ab8be06c7d611e825"
            }
          },
          "metadata": {}
        },
        {
          "output_type": "stream",
          "name": "stdout",
          "text": [
            "\n",
            "📊 Итоговая статистика 1-грамм:\n",
            "Общее количество 1-грамм: 9142\n",
            "Количество уникальных 1-грамм: 2266\n",
            "Коэффициент уникальности: 24.79%\n",
            "💾 Промежуточные результаты сохранены в /content/drive/MyDrive/K_means/split_20/train_20/temp_metrics.csv\n",
            "✅ Файл обработан. Всего записей: 258\n",
            "\n",
            "🚀 Обрабатываю файл 259/2219: part_488.txt\n"
          ]
        },
        {
          "output_type": "display_data",
          "data": {
            "text/plain": [
              "Анализ 1-грамм:   0%|          | 0/2 [00:00<?, ?it/s]"
            ],
            "application/vnd.jupyter.widget-view+json": {
              "version_major": 2,
              "version_minor": 0,
              "model_id": "6c059ca889ae44b3894da36d97cb1be8"
            }
          },
          "metadata": {}
        },
        {
          "output_type": "stream",
          "name": "stdout",
          "text": [
            "\n",
            "📊 Итоговая статистика 1-грамм:\n",
            "Общее количество 1-грамм: 9087\n",
            "Количество уникальных 1-грамм: 2408\n",
            "Коэффициент уникальности: 26.50%\n",
            "💾 Промежуточные результаты сохранены в /content/drive/MyDrive/K_means/split_20/train_20/temp_metrics.csv\n",
            "✅ Файл обработан. Всего записей: 259\n",
            "\n",
            "🚀 Обрабатываю файл 260/2219: part_489.txt\n"
          ]
        },
        {
          "output_type": "display_data",
          "data": {
            "text/plain": [
              "Анализ 1-грамм:   0%|          | 0/2 [00:00<?, ?it/s]"
            ],
            "application/vnd.jupyter.widget-view+json": {
              "version_major": 2,
              "version_minor": 0,
              "model_id": "b9540443a0cc4d1c9e2e403991e5ac91"
            }
          },
          "metadata": {}
        },
        {
          "output_type": "stream",
          "name": "stdout",
          "text": [
            "\n",
            "📊 Итоговая статистика 1-грамм:\n",
            "Общее количество 1-грамм: 9183\n",
            "Количество уникальных 1-грамм: 3439\n",
            "Коэффициент уникальности: 37.45%\n",
            "💾 Промежуточные результаты сохранены в /content/drive/MyDrive/K_means/split_20/train_20/temp_metrics.csv\n",
            "✅ Файл обработан. Всего записей: 260\n",
            "\n",
            "🚀 Обрабатываю файл 261/2219: part_493.txt\n"
          ]
        },
        {
          "output_type": "display_data",
          "data": {
            "text/plain": [
              "Анализ 1-грамм:   0%|          | 0/2 [00:00<?, ?it/s]"
            ],
            "application/vnd.jupyter.widget-view+json": {
              "version_major": 2,
              "version_minor": 0,
              "model_id": "adcca68d440b4307a3b0562e23d9ed4a"
            }
          },
          "metadata": {}
        },
        {
          "output_type": "stream",
          "name": "stdout",
          "text": [
            "\n",
            "📊 Итоговая статистика 1-грамм:\n",
            "Общее количество 1-грамм: 9601\n",
            "Количество уникальных 1-грамм: 3107\n",
            "Коэффициент уникальности: 32.36%\n",
            "💾 Промежуточные результаты сохранены в /content/drive/MyDrive/K_means/split_20/train_20/temp_metrics.csv\n",
            "✅ Файл обработан. Всего записей: 261\n",
            "\n",
            "🚀 Обрабатываю файл 262/2219: part_497.txt\n"
          ]
        },
        {
          "output_type": "display_data",
          "data": {
            "text/plain": [
              "Анализ 1-грамм:   0%|          | 0/2 [00:00<?, ?it/s]"
            ],
            "application/vnd.jupyter.widget-view+json": {
              "version_major": 2,
              "version_minor": 0,
              "model_id": "9f639c6fa6474922970bb5baab1fe1c0"
            }
          },
          "metadata": {}
        },
        {
          "output_type": "stream",
          "name": "stdout",
          "text": [
            "\n",
            "📊 Итоговая статистика 1-грамм:\n",
            "Общее количество 1-грамм: 9627\n",
            "Количество уникальных 1-грамм: 2892\n",
            "Коэффициент уникальности: 30.04%\n",
            "💾 Промежуточные результаты сохранены в /content/drive/MyDrive/K_means/split_20/train_20/temp_metrics.csv\n",
            "✅ Файл обработан. Всего записей: 262\n",
            "\n",
            "🚀 Обрабатываю файл 263/2219: part_500.txt\n"
          ]
        },
        {
          "output_type": "display_data",
          "data": {
            "text/plain": [
              "Анализ 1-грамм:   0%|          | 0/2 [00:00<?, ?it/s]"
            ],
            "application/vnd.jupyter.widget-view+json": {
              "version_major": 2,
              "version_minor": 0,
              "model_id": "3ced6bdbd93c41e0a8a46c57d3a090f6"
            }
          },
          "metadata": {}
        },
        {
          "output_type": "stream",
          "name": "stdout",
          "text": [
            "\n",
            "📊 Итоговая статистика 1-грамм:\n",
            "Общее количество 1-грамм: 9800\n",
            "Количество уникальных 1-грамм: 3219\n",
            "Коэффициент уникальности: 32.85%\n",
            "💾 Промежуточные результаты сохранены в /content/drive/MyDrive/K_means/split_20/train_20/temp_metrics.csv\n",
            "✅ Файл обработан. Всего записей: 263\n",
            "\n",
            "🚀 Обрабатываю файл 264/2219: part_505.txt\n"
          ]
        },
        {
          "output_type": "display_data",
          "data": {
            "text/plain": [
              "Анализ 1-грамм:   0%|          | 0/2 [00:00<?, ?it/s]"
            ],
            "application/vnd.jupyter.widget-view+json": {
              "version_major": 2,
              "version_minor": 0,
              "model_id": "2d7a825520504d0b9205bd8a053f2ece"
            }
          },
          "metadata": {}
        },
        {
          "output_type": "stream",
          "name": "stdout",
          "text": [
            "\n",
            "📊 Итоговая статистика 1-грамм:\n",
            "Общее количество 1-грамм: 9489\n",
            "Количество уникальных 1-грамм: 2620\n",
            "Коэффициент уникальности: 27.61%\n",
            "💾 Промежуточные результаты сохранены в /content/drive/MyDrive/K_means/split_20/train_20/temp_metrics.csv\n",
            "✅ Файл обработан. Всего записей: 264\n",
            "\n",
            "🚀 Обрабатываю файл 265/2219: part_506.txt\n"
          ]
        },
        {
          "output_type": "display_data",
          "data": {
            "text/plain": [
              "Анализ 1-грамм:   0%|          | 0/2 [00:00<?, ?it/s]"
            ],
            "application/vnd.jupyter.widget-view+json": {
              "version_major": 2,
              "version_minor": 0,
              "model_id": "c74f59e05e444dbf89668f1e27a71770"
            }
          },
          "metadata": {}
        },
        {
          "output_type": "stream",
          "name": "stdout",
          "text": [
            "\n",
            "📊 Итоговая статистика 1-грамм:\n",
            "Общее количество 1-грамм: 10142\n",
            "Количество уникальных 1-грамм: 2990\n",
            "Коэффициент уникальности: 29.48%\n",
            "💾 Промежуточные результаты сохранены в /content/drive/MyDrive/K_means/split_20/train_20/temp_metrics.csv\n",
            "✅ Файл обработан. Всего записей: 265\n",
            "\n",
            "🚀 Обрабатываю файл 266/2219: part_509.txt\n"
          ]
        },
        {
          "output_type": "display_data",
          "data": {
            "text/plain": [
              "Анализ 1-грамм:   0%|          | 0/2 [00:00<?, ?it/s]"
            ],
            "application/vnd.jupyter.widget-view+json": {
              "version_major": 2,
              "version_minor": 0,
              "model_id": "6e61e9e64c364af88cd07f32a3bba0cc"
            }
          },
          "metadata": {}
        },
        {
          "output_type": "stream",
          "name": "stdout",
          "text": [
            "\n",
            "📊 Итоговая статистика 1-грамм:\n",
            "Общее количество 1-грамм: 9174\n",
            "Количество уникальных 1-грамм: 2952\n",
            "Коэффициент уникальности: 32.18%\n",
            "💾 Промежуточные результаты сохранены в /content/drive/MyDrive/K_means/split_20/train_20/temp_metrics.csv\n",
            "✅ Файл обработан. Всего записей: 266\n",
            "\n",
            "🚀 Обрабатываю файл 267/2219: part_510.txt\n"
          ]
        },
        {
          "output_type": "display_data",
          "data": {
            "text/plain": [
              "Анализ 1-грамм:   0%|          | 0/2 [00:00<?, ?it/s]"
            ],
            "application/vnd.jupyter.widget-view+json": {
              "version_major": 2,
              "version_minor": 0,
              "model_id": "c9f3a73796604d3094121f8e556d0aa4"
            }
          },
          "metadata": {}
        },
        {
          "output_type": "stream",
          "name": "stdout",
          "text": [
            "\n",
            "📊 Итоговая статистика 1-грамм:\n",
            "Общее количество 1-грамм: 9343\n",
            "Количество уникальных 1-грамм: 3127\n",
            "Коэффициент уникальности: 33.47%\n",
            "💾 Промежуточные результаты сохранены в /content/drive/MyDrive/K_means/split_20/train_20/temp_metrics.csv\n",
            "✅ Файл обработан. Всего записей: 267\n",
            "\n",
            "🚀 Обрабатываю файл 268/2219: part_514.txt\n"
          ]
        },
        {
          "output_type": "display_data",
          "data": {
            "text/plain": [
              "Анализ 1-грамм:   0%|          | 0/2 [00:00<?, ?it/s]"
            ],
            "application/vnd.jupyter.widget-view+json": {
              "version_major": 2,
              "version_minor": 0,
              "model_id": "32a7e7565bee4a4e93cc63d580c1214f"
            }
          },
          "metadata": {}
        },
        {
          "output_type": "stream",
          "name": "stdout",
          "text": [
            "\n",
            "📊 Итоговая статистика 1-грамм:\n",
            "Общее количество 1-грамм: 9535\n",
            "Количество уникальных 1-грамм: 2849\n",
            "Коэффициент уникальности: 29.88%\n",
            "💾 Промежуточные результаты сохранены в /content/drive/MyDrive/K_means/split_20/train_20/temp_metrics.csv\n",
            "✅ Файл обработан. Всего записей: 268\n",
            "\n",
            "🚀 Обрабатываю файл 269/2219: part_517.txt\n"
          ]
        },
        {
          "output_type": "display_data",
          "data": {
            "text/plain": [
              "Анализ 1-грамм:   0%|          | 0/2 [00:00<?, ?it/s]"
            ],
            "application/vnd.jupyter.widget-view+json": {
              "version_major": 2,
              "version_minor": 0,
              "model_id": "5a45dd9eb0b4449a857741c62dc5af4d"
            }
          },
          "metadata": {}
        },
        {
          "output_type": "stream",
          "name": "stdout",
          "text": [
            "\n",
            "📊 Итоговая статистика 1-грамм:\n",
            "Общее количество 1-грамм: 9441\n",
            "Количество уникальных 1-грамм: 2728\n",
            "Коэффициент уникальности: 28.90%\n",
            "💾 Промежуточные результаты сохранены в /content/drive/MyDrive/K_means/split_20/train_20/temp_metrics.csv\n",
            "✅ Файл обработан. Всего записей: 269\n",
            "\n",
            "🚀 Обрабатываю файл 270/2219: part_521.txt\n"
          ]
        },
        {
          "output_type": "display_data",
          "data": {
            "text/plain": [
              "Анализ 1-грамм:   0%|          | 0/2 [00:00<?, ?it/s]"
            ],
            "application/vnd.jupyter.widget-view+json": {
              "version_major": 2,
              "version_minor": 0,
              "model_id": "563f79ce00db4df1a999301c5ea27b9e"
            }
          },
          "metadata": {}
        },
        {
          "output_type": "stream",
          "name": "stdout",
          "text": [
            "\n",
            "📊 Итоговая статистика 1-грамм:\n",
            "Общее количество 1-грамм: 10573\n",
            "Количество уникальных 1-грамм: 2877\n",
            "Коэффициент уникальности: 27.21%\n",
            "💾 Промежуточные результаты сохранены в /content/drive/MyDrive/K_means/split_20/train_20/temp_metrics.csv\n",
            "✅ Файл обработан. Всего записей: 270\n",
            "\n",
            "🚀 Обрабатываю файл 271/2219: part_522.txt\n"
          ]
        },
        {
          "output_type": "display_data",
          "data": {
            "text/plain": [
              "Анализ 1-грамм:   0%|          | 0/2 [00:00<?, ?it/s]"
            ],
            "application/vnd.jupyter.widget-view+json": {
              "version_major": 2,
              "version_minor": 0,
              "model_id": "0e80e9b2894e466aa527e964ad152366"
            }
          },
          "metadata": {}
        },
        {
          "output_type": "stream",
          "name": "stdout",
          "text": [
            "\n",
            "📊 Итоговая статистика 1-грамм:\n",
            "Общее количество 1-грамм: 9683\n",
            "Количество уникальных 1-грамм: 2642\n",
            "Коэффициент уникальности: 27.28%\n",
            "💾 Промежуточные результаты сохранены в /content/drive/MyDrive/K_means/split_20/train_20/temp_metrics.csv\n",
            "✅ Файл обработан. Всего записей: 271\n",
            "\n",
            "🚀 Обрабатываю файл 272/2219: part_525.txt\n"
          ]
        },
        {
          "output_type": "display_data",
          "data": {
            "text/plain": [
              "Анализ 1-грамм:   0%|          | 0/2 [00:00<?, ?it/s]"
            ],
            "application/vnd.jupyter.widget-view+json": {
              "version_major": 2,
              "version_minor": 0,
              "model_id": "3888975a8a134591bcb53177ec4ffac2"
            }
          },
          "metadata": {}
        },
        {
          "output_type": "stream",
          "name": "stdout",
          "text": [
            "\n",
            "📊 Итоговая статистика 1-грамм:\n",
            "Общее количество 1-грамм: 8688\n",
            "Количество уникальных 1-грамм: 2538\n",
            "Коэффициент уникальности: 29.21%\n",
            "💾 Промежуточные результаты сохранены в /content/drive/MyDrive/K_means/split_20/train_20/temp_metrics.csv\n",
            "✅ Файл обработан. Всего записей: 272\n",
            "\n",
            "🚀 Обрабатываю файл 273/2219: part_527.txt\n"
          ]
        },
        {
          "output_type": "display_data",
          "data": {
            "text/plain": [
              "Анализ 1-грамм:   0%|          | 0/2 [00:00<?, ?it/s]"
            ],
            "application/vnd.jupyter.widget-view+json": {
              "version_major": 2,
              "version_minor": 0,
              "model_id": "f3e189f154e844abbe874243c5185351"
            }
          },
          "metadata": {}
        },
        {
          "output_type": "stream",
          "name": "stdout",
          "text": [
            "\n",
            "📊 Итоговая статистика 1-грамм:\n",
            "Общее количество 1-грамм: 8888\n",
            "Количество уникальных 1-грамм: 2486\n",
            "Коэффициент уникальности: 27.97%\n",
            "💾 Промежуточные результаты сохранены в /content/drive/MyDrive/K_means/split_20/train_20/temp_metrics.csv\n",
            "✅ Файл обработан. Всего записей: 273\n",
            "\n",
            "🚀 Обрабатываю файл 274/2219: part_528.txt\n"
          ]
        },
        {
          "output_type": "display_data",
          "data": {
            "text/plain": [
              "Анализ 1-грамм:   0%|          | 0/2 [00:00<?, ?it/s]"
            ],
            "application/vnd.jupyter.widget-view+json": {
              "version_major": 2,
              "version_minor": 0,
              "model_id": "f86069b721ca4217bd6cd2be472da1f5"
            }
          },
          "metadata": {}
        },
        {
          "output_type": "stream",
          "name": "stdout",
          "text": [
            "\n",
            "📊 Итоговая статистика 1-грамм:\n",
            "Общее количество 1-грамм: 8608\n",
            "Количество уникальных 1-грамм: 2559\n",
            "Коэффициент уникальности: 29.73%\n",
            "💾 Промежуточные результаты сохранены в /content/drive/MyDrive/K_means/split_20/train_20/temp_metrics.csv\n",
            "✅ Файл обработан. Всего записей: 274\n",
            "\n",
            "🚀 Обрабатываю файл 275/2219: part_532.txt\n"
          ]
        },
        {
          "output_type": "display_data",
          "data": {
            "text/plain": [
              "Анализ 1-грамм:   0%|          | 0/2 [00:00<?, ?it/s]"
            ],
            "application/vnd.jupyter.widget-view+json": {
              "version_major": 2,
              "version_minor": 0,
              "model_id": "daeb5ed89ce943c982a978e842532b5c"
            }
          },
          "metadata": {}
        },
        {
          "output_type": "stream",
          "name": "stdout",
          "text": [
            "\n",
            "📊 Итоговая статистика 1-грамм:\n",
            "Общее количество 1-грамм: 8246\n",
            "Количество уникальных 1-грамм: 2294\n",
            "Коэффициент уникальности: 27.82%\n",
            "💾 Промежуточные результаты сохранены в /content/drive/MyDrive/K_means/split_20/train_20/temp_metrics.csv\n",
            "✅ Файл обработан. Всего записей: 275\n",
            "\n",
            "🚀 Обрабатываю файл 276/2219: part_534.txt\n"
          ]
        },
        {
          "output_type": "display_data",
          "data": {
            "text/plain": [
              "Анализ 1-грамм:   0%|          | 0/2 [00:00<?, ?it/s]"
            ],
            "application/vnd.jupyter.widget-view+json": {
              "version_major": 2,
              "version_minor": 0,
              "model_id": "3d14df9794324a909535f31bef4cf0f5"
            }
          },
          "metadata": {}
        },
        {
          "output_type": "stream",
          "name": "stdout",
          "text": [
            "\n",
            "📊 Итоговая статистика 1-грамм:\n",
            "Общее количество 1-грамм: 8514\n",
            "Количество уникальных 1-грамм: 2452\n",
            "Коэффициент уникальности: 28.80%\n",
            "💾 Промежуточные результаты сохранены в /content/drive/MyDrive/K_means/split_20/train_20/temp_metrics.csv\n",
            "✅ Файл обработан. Всего записей: 276\n",
            "\n",
            "🚀 Обрабатываю файл 277/2219: part_535.txt\n"
          ]
        },
        {
          "output_type": "display_data",
          "data": {
            "text/plain": [
              "Анализ 1-грамм:   0%|          | 0/2 [00:00<?, ?it/s]"
            ],
            "application/vnd.jupyter.widget-view+json": {
              "version_major": 2,
              "version_minor": 0,
              "model_id": "d26db16d6b6c4ec7a7988339ab9b9121"
            }
          },
          "metadata": {}
        },
        {
          "output_type": "stream",
          "name": "stdout",
          "text": [
            "\n",
            "📊 Итоговая статистика 1-грамм:\n",
            "Общее количество 1-грамм: 8257\n",
            "Количество уникальных 1-грамм: 2311\n",
            "Коэффициент уникальности: 27.99%\n",
            "💾 Промежуточные результаты сохранены в /content/drive/MyDrive/K_means/split_20/train_20/temp_metrics.csv\n",
            "✅ Файл обработан. Всего записей: 277\n",
            "\n",
            "🚀 Обрабатываю файл 278/2219: part_539.txt\n"
          ]
        },
        {
          "output_type": "display_data",
          "data": {
            "text/plain": [
              "Анализ 1-грамм:   0%|          | 0/2 [00:00<?, ?it/s]"
            ],
            "application/vnd.jupyter.widget-view+json": {
              "version_major": 2,
              "version_minor": 0,
              "model_id": "9292e36524c543cfa3ddeedea6179147"
            }
          },
          "metadata": {}
        },
        {
          "output_type": "stream",
          "name": "stdout",
          "text": [
            "\n",
            "📊 Итоговая статистика 1-грамм:\n",
            "Общее количество 1-грамм: 9277\n",
            "Количество уникальных 1-грамм: 2795\n",
            "Коэффициент уникальности: 30.13%\n",
            "💾 Промежуточные результаты сохранены в /content/drive/MyDrive/K_means/split_20/train_20/temp_metrics.csv\n",
            "✅ Файл обработан. Всего записей: 278\n",
            "\n",
            "🚀 Обрабатываю файл 279/2219: part_541.txt\n"
          ]
        },
        {
          "output_type": "display_data",
          "data": {
            "text/plain": [
              "Анализ 1-грамм:   0%|          | 0/2 [00:00<?, ?it/s]"
            ],
            "application/vnd.jupyter.widget-view+json": {
              "version_major": 2,
              "version_minor": 0,
              "model_id": "8d3fb380b88642438cfbe70570151189"
            }
          },
          "metadata": {}
        },
        {
          "output_type": "stream",
          "name": "stdout",
          "text": [
            "\n",
            "📊 Итоговая статистика 1-грамм:\n",
            "Общее количество 1-грамм: 9922\n",
            "Количество уникальных 1-грамм: 3747\n",
            "Коэффициент уникальности: 37.76%\n",
            "💾 Промежуточные результаты сохранены в /content/drive/MyDrive/K_means/split_20/train_20/temp_metrics.csv\n",
            "✅ Файл обработан. Всего записей: 279\n",
            "\n",
            "🚀 Обрабатываю файл 280/2219: part_542.txt\n"
          ]
        },
        {
          "output_type": "display_data",
          "data": {
            "text/plain": [
              "Анализ 1-грамм:   0%|          | 0/2 [00:00<?, ?it/s]"
            ],
            "application/vnd.jupyter.widget-view+json": {
              "version_major": 2,
              "version_minor": 0,
              "model_id": "61579678f8d24cadba73c2d84677991e"
            }
          },
          "metadata": {}
        },
        {
          "output_type": "stream",
          "name": "stdout",
          "text": [
            "\n",
            "📊 Итоговая статистика 1-грамм:\n",
            "Общее количество 1-грамм: 10409\n",
            "Количество уникальных 1-грамм: 3095\n",
            "Коэффициент уникальности: 29.73%\n",
            "💾 Промежуточные результаты сохранены в /content/drive/MyDrive/K_means/split_20/train_20/temp_metrics.csv\n",
            "✅ Файл обработан. Всего записей: 280\n",
            "\n",
            "🚀 Обрабатываю файл 281/2219: part_543.txt\n"
          ]
        },
        {
          "output_type": "display_data",
          "data": {
            "text/plain": [
              "Анализ 1-грамм:   0%|          | 0/2 [00:00<?, ?it/s]"
            ],
            "application/vnd.jupyter.widget-view+json": {
              "version_major": 2,
              "version_minor": 0,
              "model_id": "0b1d477972a64fbca1c6eab5a3c7db9d"
            }
          },
          "metadata": {}
        },
        {
          "output_type": "stream",
          "name": "stdout",
          "text": [
            "\n",
            "📊 Итоговая статистика 1-грамм:\n",
            "Общее количество 1-грамм: 10218\n",
            "Количество уникальных 1-грамм: 3091\n",
            "Коэффициент уникальности: 30.25%\n",
            "💾 Промежуточные результаты сохранены в /content/drive/MyDrive/K_means/split_20/train_20/temp_metrics.csv\n",
            "✅ Файл обработан. Всего записей: 281\n",
            "\n",
            "🚀 Обрабатываю файл 282/2219: part_547.txt\n"
          ]
        },
        {
          "output_type": "display_data",
          "data": {
            "text/plain": [
              "Анализ 1-грамм:   0%|          | 0/2 [00:00<?, ?it/s]"
            ],
            "application/vnd.jupyter.widget-view+json": {
              "version_major": 2,
              "version_minor": 0,
              "model_id": "30fe4639ea2d4d49a2dbc69f0826569a"
            }
          },
          "metadata": {}
        },
        {
          "output_type": "stream",
          "name": "stdout",
          "text": [
            "\n",
            "📊 Итоговая статистика 1-грамм:\n",
            "Общее количество 1-грамм: 9668\n",
            "Количество уникальных 1-грамм: 2735\n",
            "Коэффициент уникальности: 28.29%\n",
            "💾 Промежуточные результаты сохранены в /content/drive/MyDrive/K_means/split_20/train_20/temp_metrics.csv\n",
            "✅ Файл обработан. Всего записей: 282\n",
            "\n",
            "🚀 Обрабатываю файл 283/2219: part_551.txt\n"
          ]
        },
        {
          "output_type": "display_data",
          "data": {
            "text/plain": [
              "Анализ 1-грамм:   0%|          | 0/2 [00:00<?, ?it/s]"
            ],
            "application/vnd.jupyter.widget-view+json": {
              "version_major": 2,
              "version_minor": 0,
              "model_id": "bfc6c1d453c648cd9c553abef08421e0"
            }
          },
          "metadata": {}
        },
        {
          "output_type": "stream",
          "name": "stdout",
          "text": [
            "\n",
            "📊 Итоговая статистика 1-грамм:\n",
            "Общее количество 1-грамм: 8394\n",
            "Количество уникальных 1-грамм: 2566\n",
            "Коэффициент уникальности: 30.57%\n",
            "💾 Промежуточные результаты сохранены в /content/drive/MyDrive/K_means/split_20/train_20/temp_metrics.csv\n",
            "✅ Файл обработан. Всего записей: 283\n",
            "\n",
            "🚀 Обрабатываю файл 284/2219: part_558.txt\n"
          ]
        },
        {
          "output_type": "display_data",
          "data": {
            "text/plain": [
              "Анализ 1-грамм:   0%|          | 0/2 [00:00<?, ?it/s]"
            ],
            "application/vnd.jupyter.widget-view+json": {
              "version_major": 2,
              "version_minor": 0,
              "model_id": "65886eb444dc4d0682b5f16779623093"
            }
          },
          "metadata": {}
        },
        {
          "output_type": "stream",
          "name": "stdout",
          "text": [
            "\n",
            "📊 Итоговая статистика 1-грамм:\n",
            "Общее количество 1-грамм: 8844\n",
            "Количество уникальных 1-грамм: 2998\n",
            "Коэффициент уникальности: 33.90%\n",
            "💾 Промежуточные результаты сохранены в /content/drive/MyDrive/K_means/split_20/train_20/temp_metrics.csv\n",
            "✅ Файл обработан. Всего записей: 284\n",
            "\n",
            "🚀 Обрабатываю файл 285/2219: part_562.txt\n"
          ]
        },
        {
          "output_type": "display_data",
          "data": {
            "text/plain": [
              "Анализ 1-грамм:   0%|          | 0/2 [00:00<?, ?it/s]"
            ],
            "application/vnd.jupyter.widget-view+json": {
              "version_major": 2,
              "version_minor": 0,
              "model_id": "fdc9cc8b26574870b46aead42e7b3b16"
            }
          },
          "metadata": {}
        },
        {
          "output_type": "stream",
          "name": "stdout",
          "text": [
            "\n",
            "📊 Итоговая статистика 1-грамм:\n",
            "Общее количество 1-грамм: 9275\n",
            "Количество уникальных 1-грамм: 3347\n",
            "Коэффициент уникальности: 36.09%\n",
            "💾 Промежуточные результаты сохранены в /content/drive/MyDrive/K_means/split_20/train_20/temp_metrics.csv\n",
            "✅ Файл обработан. Всего записей: 285\n",
            "\n",
            "🚀 Обрабатываю файл 286/2219: part_563.txt\n"
          ]
        },
        {
          "output_type": "display_data",
          "data": {
            "text/plain": [
              "Анализ 1-грамм:   0%|          | 0/2 [00:00<?, ?it/s]"
            ],
            "application/vnd.jupyter.widget-view+json": {
              "version_major": 2,
              "version_minor": 0,
              "model_id": "fd42b7ade8784f17b7f2d13bbf5d1e13"
            }
          },
          "metadata": {}
        },
        {
          "output_type": "stream",
          "name": "stdout",
          "text": [
            "\n",
            "📊 Итоговая статистика 1-грамм:\n",
            "Общее количество 1-грамм: 10013\n",
            "Количество уникальных 1-грамм: 3738\n",
            "Коэффициент уникальности: 37.33%\n",
            "💾 Промежуточные результаты сохранены в /content/drive/MyDrive/K_means/split_20/train_20/temp_metrics.csv\n",
            "✅ Файл обработан. Всего записей: 286\n",
            "\n",
            "🚀 Обрабатываю файл 287/2219: part_568.txt\n"
          ]
        },
        {
          "output_type": "display_data",
          "data": {
            "text/plain": [
              "Анализ 1-грамм:   0%|          | 0/2 [00:00<?, ?it/s]"
            ],
            "application/vnd.jupyter.widget-view+json": {
              "version_major": 2,
              "version_minor": 0,
              "model_id": "c6c8a85d4d9b45a9af5ed4c993a95ea3"
            }
          },
          "metadata": {}
        },
        {
          "output_type": "stream",
          "name": "stdout",
          "text": [
            "\n",
            "📊 Итоговая статистика 1-грамм:\n",
            "Общее количество 1-грамм: 9029\n",
            "Количество уникальных 1-грамм: 2997\n",
            "Коэффициент уникальности: 33.19%\n",
            "💾 Промежуточные результаты сохранены в /content/drive/MyDrive/K_means/split_20/train_20/temp_metrics.csv\n",
            "✅ Файл обработан. Всего записей: 287\n",
            "\n",
            "🚀 Обрабатываю файл 288/2219: part_569.txt\n"
          ]
        },
        {
          "output_type": "display_data",
          "data": {
            "text/plain": [
              "Анализ 1-грамм:   0%|          | 0/2 [00:00<?, ?it/s]"
            ],
            "application/vnd.jupyter.widget-view+json": {
              "version_major": 2,
              "version_minor": 0,
              "model_id": "65760da5e5e546bdb86fe97866191426"
            }
          },
          "metadata": {}
        },
        {
          "output_type": "stream",
          "name": "stdout",
          "text": [
            "\n",
            "📊 Итоговая статистика 1-грамм:\n",
            "Общее количество 1-грамм: 9619\n",
            "Количество уникальных 1-грамм: 3808\n",
            "Коэффициент уникальности: 39.59%\n",
            "💾 Промежуточные результаты сохранены в /content/drive/MyDrive/K_means/split_20/train_20/temp_metrics.csv\n",
            "✅ Файл обработан. Всего записей: 288\n",
            "\n",
            "🚀 Обрабатываю файл 289/2219: part_580.txt\n"
          ]
        },
        {
          "output_type": "display_data",
          "data": {
            "text/plain": [
              "Анализ 1-грамм:   0%|          | 0/2 [00:00<?, ?it/s]"
            ],
            "application/vnd.jupyter.widget-view+json": {
              "version_major": 2,
              "version_minor": 0,
              "model_id": "da4cd757ed454f35bdb02b9bc5187cc6"
            }
          },
          "metadata": {}
        },
        {
          "output_type": "stream",
          "name": "stdout",
          "text": [
            "\n",
            "📊 Итоговая статистика 1-грамм:\n",
            "Общее количество 1-грамм: 10829\n",
            "Количество уникальных 1-грамм: 4378\n",
            "Коэффициент уникальности: 40.43%\n",
            "💾 Промежуточные результаты сохранены в /content/drive/MyDrive/K_means/split_20/train_20/temp_metrics.csv\n",
            "✅ Файл обработан. Всего записей: 289\n",
            "\n",
            "🚀 Обрабатываю файл 290/2219: part_584.txt\n"
          ]
        },
        {
          "output_type": "display_data",
          "data": {
            "text/plain": [
              "Анализ 1-грамм:   0%|          | 0/2 [00:00<?, ?it/s]"
            ],
            "application/vnd.jupyter.widget-view+json": {
              "version_major": 2,
              "version_minor": 0,
              "model_id": "25e3f86747344fb7b845280e9ceb7bd5"
            }
          },
          "metadata": {}
        },
        {
          "output_type": "stream",
          "name": "stdout",
          "text": [
            "\n",
            "📊 Итоговая статистика 1-грамм:\n",
            "Общее количество 1-грамм: 10333\n",
            "Количество уникальных 1-грамм: 3989\n",
            "Коэффициент уникальности: 38.60%\n",
            "💾 Промежуточные результаты сохранены в /content/drive/MyDrive/K_means/split_20/train_20/temp_metrics.csv\n",
            "✅ Файл обработан. Всего записей: 290\n",
            "\n",
            "🚀 Обрабатываю файл 291/2219: part_585.txt\n"
          ]
        },
        {
          "output_type": "display_data",
          "data": {
            "text/plain": [
              "Анализ 1-грамм:   0%|          | 0/2 [00:00<?, ?it/s]"
            ],
            "application/vnd.jupyter.widget-view+json": {
              "version_major": 2,
              "version_minor": 0,
              "model_id": "4dfc857c15484a3498f7a21492aa181a"
            }
          },
          "metadata": {}
        },
        {
          "output_type": "stream",
          "name": "stdout",
          "text": [
            "\n",
            "📊 Итоговая статистика 1-грамм:\n",
            "Общее количество 1-грамм: 10475\n",
            "Количество уникальных 1-грамм: 3935\n",
            "Коэффициент уникальности: 37.57%\n",
            "💾 Промежуточные результаты сохранены в /content/drive/MyDrive/K_means/split_20/train_20/temp_metrics.csv\n",
            "✅ Файл обработан. Всего записей: 291\n",
            "\n",
            "🚀 Обрабатываю файл 292/2219: part_586.txt\n"
          ]
        },
        {
          "output_type": "display_data",
          "data": {
            "text/plain": [
              "Анализ 1-грамм:   0%|          | 0/2 [00:00<?, ?it/s]"
            ],
            "application/vnd.jupyter.widget-view+json": {
              "version_major": 2,
              "version_minor": 0,
              "model_id": "9b8ac70f706047929348a84b5d0c81f2"
            }
          },
          "metadata": {}
        },
        {
          "output_type": "stream",
          "name": "stdout",
          "text": [
            "\n",
            "📊 Итоговая статистика 1-грамм:\n",
            "Общее количество 1-грамм: 10553\n",
            "Количество уникальных 1-грамм: 4184\n",
            "Коэффициент уникальности: 39.65%\n",
            "💾 Промежуточные результаты сохранены в /content/drive/MyDrive/K_means/split_20/train_20/temp_metrics.csv\n",
            "✅ Файл обработан. Всего записей: 292\n",
            "\n",
            "🚀 Обрабатываю файл 293/2219: part_588.txt\n"
          ]
        },
        {
          "output_type": "display_data",
          "data": {
            "text/plain": [
              "Анализ 1-грамм:   0%|          | 0/2 [00:00<?, ?it/s]"
            ],
            "application/vnd.jupyter.widget-view+json": {
              "version_major": 2,
              "version_minor": 0,
              "model_id": "4881df7f6225485683b51a2406d49758"
            }
          },
          "metadata": {}
        },
        {
          "output_type": "stream",
          "name": "stdout",
          "text": [
            "\n",
            "📊 Итоговая статистика 1-грамм:\n",
            "Общее количество 1-грамм: 10016\n",
            "Количество уникальных 1-грамм: 3663\n",
            "Коэффициент уникальности: 36.57%\n",
            "💾 Промежуточные результаты сохранены в /content/drive/MyDrive/K_means/split_20/train_20/temp_metrics.csv\n",
            "✅ Файл обработан. Всего записей: 293\n",
            "\n",
            "🚀 Обрабатываю файл 294/2219: part_590.txt\n"
          ]
        },
        {
          "output_type": "display_data",
          "data": {
            "text/plain": [
              "Анализ 1-грамм:   0%|          | 0/2 [00:00<?, ?it/s]"
            ],
            "application/vnd.jupyter.widget-view+json": {
              "version_major": 2,
              "version_minor": 0,
              "model_id": "e4870680d6014fd08b57396469c9a4fe"
            }
          },
          "metadata": {}
        },
        {
          "output_type": "stream",
          "name": "stdout",
          "text": [
            "\n",
            "📊 Итоговая статистика 1-грамм:\n",
            "Общее количество 1-грамм: 10229\n",
            "Количество уникальных 1-грамм: 4080\n",
            "Коэффициент уникальности: 39.89%\n",
            "💾 Промежуточные результаты сохранены в /content/drive/MyDrive/K_means/split_20/train_20/temp_metrics.csv\n",
            "✅ Файл обработан. Всего записей: 294\n",
            "\n",
            "🚀 Обрабатываю файл 295/2219: part_596.txt\n"
          ]
        },
        {
          "output_type": "display_data",
          "data": {
            "text/plain": [
              "Анализ 1-грамм:   0%|          | 0/2 [00:00<?, ?it/s]"
            ],
            "application/vnd.jupyter.widget-view+json": {
              "version_major": 2,
              "version_minor": 0,
              "model_id": "67ed6b8605aa4254bd87749ab71f3dbd"
            }
          },
          "metadata": {}
        },
        {
          "output_type": "stream",
          "name": "stdout",
          "text": [
            "\n",
            "📊 Итоговая статистика 1-грамм:\n",
            "Общее количество 1-грамм: 8062\n",
            "Количество уникальных 1-грамм: 2930\n",
            "Коэффициент уникальности: 36.34%\n",
            "💾 Промежуточные результаты сохранены в /content/drive/MyDrive/K_means/split_20/train_20/temp_metrics.csv\n",
            "✅ Файл обработан. Всего записей: 295\n",
            "\n",
            "🚀 Обрабатываю файл 296/2219: part_597.txt\n"
          ]
        },
        {
          "output_type": "display_data",
          "data": {
            "text/plain": [
              "Анализ 1-грамм:   0%|          | 0/2 [00:00<?, ?it/s]"
            ],
            "application/vnd.jupyter.widget-view+json": {
              "version_major": 2,
              "version_minor": 0,
              "model_id": "cd7a684feb7043c383115c7176307ae7"
            }
          },
          "metadata": {}
        },
        {
          "output_type": "stream",
          "name": "stdout",
          "text": [
            "\n",
            "📊 Итоговая статистика 1-грамм:\n",
            "Общее количество 1-грамм: 11397\n",
            "Количество уникальных 1-грамм: 3513\n",
            "Коэффициент уникальности: 30.82%\n",
            "💾 Промежуточные результаты сохранены в /content/drive/MyDrive/K_means/split_20/train_20/temp_metrics.csv\n",
            "✅ Файл обработан. Всего записей: 296\n",
            "\n",
            "🚀 Обрабатываю файл 297/2219: part_598.txt\n"
          ]
        },
        {
          "output_type": "display_data",
          "data": {
            "text/plain": [
              "Анализ 1-грамм:   0%|          | 0/2 [00:00<?, ?it/s]"
            ],
            "application/vnd.jupyter.widget-view+json": {
              "version_major": 2,
              "version_minor": 0,
              "model_id": "aa2560f7cd484a2dbc0a319581800fcb"
            }
          },
          "metadata": {}
        },
        {
          "output_type": "stream",
          "name": "stdout",
          "text": [
            "\n",
            "📊 Итоговая статистика 1-грамм:\n",
            "Общее количество 1-грамм: 9548\n",
            "Количество уникальных 1-грамм: 3083\n",
            "Коэффициент уникальности: 32.29%\n",
            "💾 Промежуточные результаты сохранены в /content/drive/MyDrive/K_means/split_20/train_20/temp_metrics.csv\n",
            "✅ Файл обработан. Всего записей: 297\n",
            "\n",
            "🚀 Обрабатываю файл 298/2219: part_599.txt\n"
          ]
        },
        {
          "output_type": "display_data",
          "data": {
            "text/plain": [
              "Анализ 1-грамм:   0%|          | 0/2 [00:00<?, ?it/s]"
            ],
            "application/vnd.jupyter.widget-view+json": {
              "version_major": 2,
              "version_minor": 0,
              "model_id": "d50b1f8ed9474560bdb77ac6e6c2c31c"
            }
          },
          "metadata": {}
        },
        {
          "output_type": "stream",
          "name": "stdout",
          "text": [
            "\n",
            "📊 Итоговая статистика 1-грамм:\n",
            "Общее количество 1-грамм: 9874\n",
            "Количество уникальных 1-грамм: 3757\n",
            "Коэффициент уникальности: 38.05%\n",
            "💾 Промежуточные результаты сохранены в /content/drive/MyDrive/K_means/split_20/train_20/temp_metrics.csv\n",
            "✅ Файл обработан. Всего записей: 298\n",
            "\n",
            "🚀 Обрабатываю файл 299/2219: part_600.txt\n"
          ]
        },
        {
          "output_type": "display_data",
          "data": {
            "text/plain": [
              "Анализ 1-грамм:   0%|          | 0/2 [00:00<?, ?it/s]"
            ],
            "application/vnd.jupyter.widget-view+json": {
              "version_major": 2,
              "version_minor": 0,
              "model_id": "af1f6e0f587a4b88a50e24b9c77939b8"
            }
          },
          "metadata": {}
        },
        {
          "output_type": "stream",
          "name": "stdout",
          "text": [
            "\n",
            "📊 Итоговая статистика 1-грамм:\n",
            "Общее количество 1-грамм: 9018\n",
            "Количество уникальных 1-грамм: 3099\n",
            "Коэффициент уникальности: 34.36%\n",
            "💾 Промежуточные результаты сохранены в /content/drive/MyDrive/K_means/split_20/train_20/temp_metrics.csv\n",
            "✅ Файл обработан. Всего записей: 299\n",
            "\n",
            "🚀 Обрабатываю файл 300/2219: part_601.txt\n"
          ]
        },
        {
          "output_type": "display_data",
          "data": {
            "text/plain": [
              "Анализ 1-грамм:   0%|          | 0/2 [00:00<?, ?it/s]"
            ],
            "application/vnd.jupyter.widget-view+json": {
              "version_major": 2,
              "version_minor": 0,
              "model_id": "c9bc2a31a08b404792641433a19eb145"
            }
          },
          "metadata": {}
        },
        {
          "output_type": "stream",
          "name": "stdout",
          "text": [
            "\n",
            "📊 Итоговая статистика 1-грамм:\n",
            "Общее количество 1-грамм: 9248\n",
            "Количество уникальных 1-грамм: 3188\n",
            "Коэффициент уникальности: 34.47%\n",
            "💾 Промежуточные результаты сохранены в /content/drive/MyDrive/K_means/split_20/train_20/temp_metrics.csv\n",
            "✅ Файл обработан. Всего записей: 300\n",
            "\n",
            "🚀 Обрабатываю файл 301/2219: part_602.txt\n"
          ]
        },
        {
          "output_type": "display_data",
          "data": {
            "text/plain": [
              "Анализ 1-грамм:   0%|          | 0/2 [00:00<?, ?it/s]"
            ],
            "application/vnd.jupyter.widget-view+json": {
              "version_major": 2,
              "version_minor": 0,
              "model_id": "a26ea63dff194d8989a04fa6996ee9c3"
            }
          },
          "metadata": {}
        },
        {
          "output_type": "stream",
          "name": "stdout",
          "text": [
            "\n",
            "📊 Итоговая статистика 1-грамм:\n",
            "Общее количество 1-грамм: 9811\n",
            "Количество уникальных 1-грамм: 3114\n",
            "Коэффициент уникальности: 31.74%\n",
            "💾 Промежуточные результаты сохранены в /content/drive/MyDrive/K_means/split_20/train_20/temp_metrics.csv\n",
            "✅ Файл обработан. Всего записей: 301\n",
            "\n",
            "🚀 Обрабатываю файл 302/2219: part_603.txt\n"
          ]
        },
        {
          "output_type": "display_data",
          "data": {
            "text/plain": [
              "Анализ 1-грамм:   0%|          | 0/2 [00:00<?, ?it/s]"
            ],
            "application/vnd.jupyter.widget-view+json": {
              "version_major": 2,
              "version_minor": 0,
              "model_id": "c44e2c5403794371a765433367d0b72d"
            }
          },
          "metadata": {}
        },
        {
          "output_type": "stream",
          "name": "stdout",
          "text": [
            "\n",
            "📊 Итоговая статистика 1-грамм:\n",
            "Общее количество 1-грамм: 9606\n",
            "Количество уникальных 1-грамм: 3226\n",
            "Коэффициент уникальности: 33.58%\n",
            "💾 Промежуточные результаты сохранены в /content/drive/MyDrive/K_means/split_20/train_20/temp_metrics.csv\n",
            "✅ Файл обработан. Всего записей: 302\n",
            "\n",
            "🚀 Обрабатываю файл 303/2219: part_605.txt\n"
          ]
        },
        {
          "output_type": "display_data",
          "data": {
            "text/plain": [
              "Анализ 1-грамм:   0%|          | 0/2 [00:00<?, ?it/s]"
            ],
            "application/vnd.jupyter.widget-view+json": {
              "version_major": 2,
              "version_minor": 0,
              "model_id": "6379e3a7cf204799b1e2a25e70009bed"
            }
          },
          "metadata": {}
        },
        {
          "output_type": "stream",
          "name": "stdout",
          "text": [
            "\n",
            "📊 Итоговая статистика 1-грамм:\n",
            "Общее количество 1-грамм: 8998\n",
            "Количество уникальных 1-грамм: 2810\n",
            "Коэффициент уникальности: 31.23%\n",
            "💾 Промежуточные результаты сохранены в /content/drive/MyDrive/K_means/split_20/train_20/temp_metrics.csv\n",
            "✅ Файл обработан. Всего записей: 303\n",
            "\n",
            "🚀 Обрабатываю файл 304/2219: part_606.txt\n"
          ]
        },
        {
          "output_type": "display_data",
          "data": {
            "text/plain": [
              "Анализ 1-грамм:   0%|          | 0/2 [00:00<?, ?it/s]"
            ],
            "application/vnd.jupyter.widget-view+json": {
              "version_major": 2,
              "version_minor": 0,
              "model_id": "9d84ff8c99ce4f0a835c556168e9ce10"
            }
          },
          "metadata": {}
        },
        {
          "output_type": "stream",
          "name": "stdout",
          "text": [
            "\n",
            "📊 Итоговая статистика 1-грамм:\n",
            "Общее количество 1-грамм: 9956\n",
            "Количество уникальных 1-грамм: 3586\n",
            "Коэффициент уникальности: 36.02%\n",
            "💾 Промежуточные результаты сохранены в /content/drive/MyDrive/K_means/split_20/train_20/temp_metrics.csv\n",
            "✅ Файл обработан. Всего записей: 304\n",
            "\n",
            "🚀 Обрабатываю файл 305/2219: part_608.txt\n"
          ]
        },
        {
          "output_type": "display_data",
          "data": {
            "text/plain": [
              "Анализ 1-грамм:   0%|          | 0/2 [00:00<?, ?it/s]"
            ],
            "application/vnd.jupyter.widget-view+json": {
              "version_major": 2,
              "version_minor": 0,
              "model_id": "30f64265c31d4a4388f063fe3567cc4c"
            }
          },
          "metadata": {}
        },
        {
          "output_type": "stream",
          "name": "stdout",
          "text": [
            "\n",
            "📊 Итоговая статистика 1-грамм:\n",
            "Общее количество 1-грамм: 9289\n",
            "Количество уникальных 1-грамм: 3039\n",
            "Коэффициент уникальности: 32.72%\n",
            "💾 Промежуточные результаты сохранены в /content/drive/MyDrive/K_means/split_20/train_20/temp_metrics.csv\n",
            "✅ Файл обработан. Всего записей: 305\n",
            "\n",
            "🚀 Обрабатываю файл 306/2219: part_609.txt\n"
          ]
        },
        {
          "output_type": "display_data",
          "data": {
            "text/plain": [
              "Анализ 1-грамм:   0%|          | 0/2 [00:00<?, ?it/s]"
            ],
            "application/vnd.jupyter.widget-view+json": {
              "version_major": 2,
              "version_minor": 0,
              "model_id": "05c942683be346a0a04c312f6c63f886"
            }
          },
          "metadata": {}
        },
        {
          "output_type": "stream",
          "name": "stdout",
          "text": [
            "\n",
            "📊 Итоговая статистика 1-грамм:\n",
            "Общее количество 1-грамм: 8753\n",
            "Количество уникальных 1-грамм: 2726\n",
            "Коэффициент уникальности: 31.14%\n",
            "💾 Промежуточные результаты сохранены в /content/drive/MyDrive/K_means/split_20/train_20/temp_metrics.csv\n",
            "✅ Файл обработан. Всего записей: 306\n",
            "\n",
            "🚀 Обрабатываю файл 307/2219: part_611.txt\n"
          ]
        },
        {
          "output_type": "display_data",
          "data": {
            "text/plain": [
              "Анализ 1-грамм:   0%|          | 0/2 [00:00<?, ?it/s]"
            ],
            "application/vnd.jupyter.widget-view+json": {
              "version_major": 2,
              "version_minor": 0,
              "model_id": "6250307b531b4659bdecb606c4e65a64"
            }
          },
          "metadata": {}
        },
        {
          "output_type": "stream",
          "name": "stdout",
          "text": [
            "\n",
            "📊 Итоговая статистика 1-грамм:\n",
            "Общее количество 1-грамм: 8737\n",
            "Количество уникальных 1-грамм: 2364\n",
            "Коэффициент уникальности: 27.06%\n",
            "💾 Промежуточные результаты сохранены в /content/drive/MyDrive/K_means/split_20/train_20/temp_metrics.csv\n",
            "✅ Файл обработан. Всего записей: 307\n",
            "\n",
            "🚀 Обрабатываю файл 308/2219: part_613.txt\n"
          ]
        },
        {
          "output_type": "display_data",
          "data": {
            "text/plain": [
              "Анализ 1-грамм:   0%|          | 0/2 [00:00<?, ?it/s]"
            ],
            "application/vnd.jupyter.widget-view+json": {
              "version_major": 2,
              "version_minor": 0,
              "model_id": "344a919367584b44b9bcb0610f0b0169"
            }
          },
          "metadata": {}
        },
        {
          "output_type": "stream",
          "name": "stdout",
          "text": [
            "\n",
            "📊 Итоговая статистика 1-грамм:\n",
            "Общее количество 1-грамм: 9008\n",
            "Количество уникальных 1-грамм: 2651\n",
            "Коэффициент уникальности: 29.43%\n",
            "💾 Промежуточные результаты сохранены в /content/drive/MyDrive/K_means/split_20/train_20/temp_metrics.csv\n",
            "✅ Файл обработан. Всего записей: 308\n",
            "\n",
            "🚀 Обрабатываю файл 309/2219: part_614.txt\n"
          ]
        },
        {
          "output_type": "display_data",
          "data": {
            "text/plain": [
              "Анализ 1-грамм:   0%|          | 0/2 [00:00<?, ?it/s]"
            ],
            "application/vnd.jupyter.widget-view+json": {
              "version_major": 2,
              "version_minor": 0,
              "model_id": "848c58cfe35845c9bbea587f6f35c95b"
            }
          },
          "metadata": {}
        },
        {
          "output_type": "stream",
          "name": "stdout",
          "text": [
            "\n",
            "📊 Итоговая статистика 1-грамм:\n",
            "Общее количество 1-грамм: 8639\n",
            "Количество уникальных 1-грамм: 2354\n",
            "Коэффициент уникальности: 27.25%\n",
            "💾 Промежуточные результаты сохранены в /content/drive/MyDrive/K_means/split_20/train_20/temp_metrics.csv\n",
            "✅ Файл обработан. Всего записей: 309\n",
            "\n",
            "🚀 Обрабатываю файл 310/2219: part_615.txt\n"
          ]
        },
        {
          "output_type": "display_data",
          "data": {
            "text/plain": [
              "Анализ 1-грамм:   0%|          | 0/2 [00:00<?, ?it/s]"
            ],
            "application/vnd.jupyter.widget-view+json": {
              "version_major": 2,
              "version_minor": 0,
              "model_id": "bb9ba01737b94f459c8f0fdbe9407d2c"
            }
          },
          "metadata": {}
        },
        {
          "output_type": "stream",
          "name": "stdout",
          "text": [
            "\n",
            "📊 Итоговая статистика 1-грамм:\n",
            "Общее количество 1-грамм: 8158\n",
            "Количество уникальных 1-грамм: 2230\n",
            "Коэффициент уникальности: 27.34%\n",
            "💾 Промежуточные результаты сохранены в /content/drive/MyDrive/K_means/split_20/train_20/temp_metrics.csv\n",
            "✅ Файл обработан. Всего записей: 310\n",
            "\n",
            "🚀 Обрабатываю файл 311/2219: part_618.txt\n"
          ]
        },
        {
          "output_type": "display_data",
          "data": {
            "text/plain": [
              "Анализ 1-грамм:   0%|          | 0/2 [00:00<?, ?it/s]"
            ],
            "application/vnd.jupyter.widget-view+json": {
              "version_major": 2,
              "version_minor": 0,
              "model_id": "7be71a26ef2845669f42cf0aecf5f1b8"
            }
          },
          "metadata": {}
        },
        {
          "output_type": "stream",
          "name": "stdout",
          "text": [
            "\n",
            "📊 Итоговая статистика 1-грамм:\n",
            "Общее количество 1-грамм: 9147\n",
            "Количество уникальных 1-грамм: 3021\n",
            "Коэффициент уникальности: 33.03%\n",
            "💾 Промежуточные результаты сохранены в /content/drive/MyDrive/K_means/split_20/train_20/temp_metrics.csv\n",
            "✅ Файл обработан. Всего записей: 311\n",
            "\n",
            "🚀 Обрабатываю файл 312/2219: part_619.txt\n"
          ]
        },
        {
          "output_type": "display_data",
          "data": {
            "text/plain": [
              "Анализ 1-грамм:   0%|          | 0/2 [00:00<?, ?it/s]"
            ],
            "application/vnd.jupyter.widget-view+json": {
              "version_major": 2,
              "version_minor": 0,
              "model_id": "f6159f462741440b9e9f238275b24c4e"
            }
          },
          "metadata": {}
        },
        {
          "output_type": "stream",
          "name": "stdout",
          "text": [
            "\n",
            "📊 Итоговая статистика 1-грамм:\n",
            "Общее количество 1-грамм: 9412\n",
            "Количество уникальных 1-грамм: 3639\n",
            "Коэффициент уникальности: 38.66%\n",
            "💾 Промежуточные результаты сохранены в /content/drive/MyDrive/K_means/split_20/train_20/temp_metrics.csv\n",
            "✅ Файл обработан. Всего записей: 312\n",
            "\n",
            "🚀 Обрабатываю файл 313/2219: part_620.txt\n"
          ]
        },
        {
          "output_type": "display_data",
          "data": {
            "text/plain": [
              "Анализ 1-грамм:   0%|          | 0/2 [00:00<?, ?it/s]"
            ],
            "application/vnd.jupyter.widget-view+json": {
              "version_major": 2,
              "version_minor": 0,
              "model_id": "00405f2a24c04548936d579786731eb0"
            }
          },
          "metadata": {}
        },
        {
          "output_type": "stream",
          "name": "stdout",
          "text": [
            "\n",
            "📊 Итоговая статистика 1-грамм:\n",
            "Общее количество 1-грамм: 9840\n",
            "Количество уникальных 1-грамм: 3315\n",
            "Коэффициент уникальности: 33.69%\n",
            "💾 Промежуточные результаты сохранены в /content/drive/MyDrive/K_means/split_20/train_20/temp_metrics.csv\n",
            "✅ Файл обработан. Всего записей: 313\n",
            "\n",
            "🚀 Обрабатываю файл 314/2219: part_621.txt\n"
          ]
        },
        {
          "output_type": "display_data",
          "data": {
            "text/plain": [
              "Анализ 1-грамм:   0%|          | 0/2 [00:00<?, ?it/s]"
            ],
            "application/vnd.jupyter.widget-view+json": {
              "version_major": 2,
              "version_minor": 0,
              "model_id": "b834aa69a255427fbc9e2a86b93500f8"
            }
          },
          "metadata": {}
        },
        {
          "output_type": "stream",
          "name": "stdout",
          "text": [
            "\n",
            "📊 Итоговая статистика 1-грамм:\n",
            "Общее количество 1-грамм: 9849\n",
            "Количество уникальных 1-грамм: 3261\n",
            "Коэффициент уникальности: 33.11%\n",
            "💾 Промежуточные результаты сохранены в /content/drive/MyDrive/K_means/split_20/train_20/temp_metrics.csv\n",
            "✅ Файл обработан. Всего записей: 314\n",
            "\n",
            "🚀 Обрабатываю файл 315/2219: part_622.txt\n"
          ]
        },
        {
          "output_type": "display_data",
          "data": {
            "text/plain": [
              "Анализ 1-грамм:   0%|          | 0/2 [00:00<?, ?it/s]"
            ],
            "application/vnd.jupyter.widget-view+json": {
              "version_major": 2,
              "version_minor": 0,
              "model_id": "65f2958b1ff64f30a9ca1904cf539f9d"
            }
          },
          "metadata": {}
        },
        {
          "output_type": "stream",
          "name": "stdout",
          "text": [
            "\n",
            "📊 Итоговая статистика 1-грамм:\n",
            "Общее количество 1-грамм: 9645\n",
            "Количество уникальных 1-грамм: 3378\n",
            "Коэффициент уникальности: 35.02%\n",
            "💾 Промежуточные результаты сохранены в /content/drive/MyDrive/K_means/split_20/train_20/temp_metrics.csv\n",
            "✅ Файл обработан. Всего записей: 315\n",
            "\n",
            "🚀 Обрабатываю файл 316/2219: part_623.txt\n"
          ]
        },
        {
          "output_type": "display_data",
          "data": {
            "text/plain": [
              "Анализ 1-грамм:   0%|          | 0/2 [00:00<?, ?it/s]"
            ],
            "application/vnd.jupyter.widget-view+json": {
              "version_major": 2,
              "version_minor": 0,
              "model_id": "33dd2208fc0043deb0825dd113be0a17"
            }
          },
          "metadata": {}
        },
        {
          "output_type": "stream",
          "name": "stdout",
          "text": [
            "\n",
            "📊 Итоговая статистика 1-грамм:\n",
            "Общее количество 1-грамм: 7883\n",
            "Количество уникальных 1-грамм: 2057\n",
            "Коэффициент уникальности: 26.09%\n",
            "💾 Промежуточные результаты сохранены в /content/drive/MyDrive/K_means/split_20/train_20/temp_metrics.csv\n",
            "✅ Файл обработан. Всего записей: 316\n",
            "\n",
            "🚀 Обрабатываю файл 317/2219: part_626.txt\n"
          ]
        },
        {
          "output_type": "display_data",
          "data": {
            "text/plain": [
              "Анализ 1-грамм:   0%|          | 0/2 [00:00<?, ?it/s]"
            ],
            "application/vnd.jupyter.widget-view+json": {
              "version_major": 2,
              "version_minor": 0,
              "model_id": "fda20e839a024f0eafe2f63382df1ef7"
            }
          },
          "metadata": {}
        },
        {
          "output_type": "stream",
          "name": "stdout",
          "text": [
            "\n",
            "📊 Итоговая статистика 1-грамм:\n",
            "Общее количество 1-грамм: 10033\n",
            "Количество уникальных 1-грамм: 3833\n",
            "Коэффициент уникальности: 38.20%\n",
            "💾 Промежуточные результаты сохранены в /content/drive/MyDrive/K_means/split_20/train_20/temp_metrics.csv\n",
            "✅ Файл обработан. Всего записей: 317\n",
            "\n",
            "🚀 Обрабатываю файл 318/2219: part_627.txt\n"
          ]
        },
        {
          "output_type": "display_data",
          "data": {
            "text/plain": [
              "Анализ 1-грамм:   0%|          | 0/2 [00:00<?, ?it/s]"
            ],
            "application/vnd.jupyter.widget-view+json": {
              "version_major": 2,
              "version_minor": 0,
              "model_id": "5ac3183e32f0449fbb5134f54a6c6154"
            }
          },
          "metadata": {}
        },
        {
          "output_type": "stream",
          "name": "stdout",
          "text": [
            "\n",
            "📊 Итоговая статистика 1-грамм:\n",
            "Общее количество 1-грамм: 9883\n",
            "Количество уникальных 1-грамм: 3939\n",
            "Коэффициент уникальности: 39.86%\n",
            "💾 Промежуточные результаты сохранены в /content/drive/MyDrive/K_means/split_20/train_20/temp_metrics.csv\n",
            "✅ Файл обработан. Всего записей: 318\n",
            "\n",
            "🚀 Обрабатываю файл 319/2219: part_629.txt\n"
          ]
        },
        {
          "output_type": "display_data",
          "data": {
            "text/plain": [
              "Анализ 1-грамм:   0%|          | 0/2 [00:00<?, ?it/s]"
            ],
            "application/vnd.jupyter.widget-view+json": {
              "version_major": 2,
              "version_minor": 0,
              "model_id": "21dc2e128c644986bc43a0d766c43995"
            }
          },
          "metadata": {}
        },
        {
          "output_type": "stream",
          "name": "stdout",
          "text": [
            "\n",
            "📊 Итоговая статистика 1-грамм:\n",
            "Общее количество 1-грамм: 9239\n",
            "Количество уникальных 1-грамм: 3408\n",
            "Коэффициент уникальности: 36.89%\n",
            "💾 Промежуточные результаты сохранены в /content/drive/MyDrive/K_means/split_20/train_20/temp_metrics.csv\n",
            "✅ Файл обработан. Всего записей: 319\n",
            "\n",
            "🚀 Обрабатываю файл 320/2219: part_630.txt\n"
          ]
        },
        {
          "output_type": "display_data",
          "data": {
            "text/plain": [
              "Анализ 1-грамм:   0%|          | 0/2 [00:00<?, ?it/s]"
            ],
            "application/vnd.jupyter.widget-view+json": {
              "version_major": 2,
              "version_minor": 0,
              "model_id": "d408f28f2e3346abaa411fb31c0e2593"
            }
          },
          "metadata": {}
        },
        {
          "output_type": "stream",
          "name": "stdout",
          "text": [
            "\n",
            "📊 Итоговая статистика 1-грамм:\n",
            "Общее количество 1-грамм: 10407\n",
            "Количество уникальных 1-грамм: 3608\n",
            "Коэффициент уникальности: 34.67%\n",
            "💾 Промежуточные результаты сохранены в /content/drive/MyDrive/K_means/split_20/train_20/temp_metrics.csv\n",
            "✅ Файл обработан. Всего записей: 320\n",
            "\n",
            "🚀 Обрабатываю файл 321/2219: part_632.txt\n"
          ]
        },
        {
          "output_type": "display_data",
          "data": {
            "text/plain": [
              "Анализ 1-грамм:   0%|          | 0/2 [00:00<?, ?it/s]"
            ],
            "application/vnd.jupyter.widget-view+json": {
              "version_major": 2,
              "version_minor": 0,
              "model_id": "79a81e2de8ff415c8d3fab75261e0b30"
            }
          },
          "metadata": {}
        },
        {
          "output_type": "stream",
          "name": "stdout",
          "text": [
            "\n",
            "📊 Итоговая статистика 1-грамм:\n",
            "Общее количество 1-грамм: 8687\n",
            "Количество уникальных 1-грамм: 2525\n",
            "Коэффициент уникальности: 29.07%\n",
            "💾 Промежуточные результаты сохранены в /content/drive/MyDrive/K_means/split_20/train_20/temp_metrics.csv\n",
            "✅ Файл обработан. Всего записей: 321\n",
            "\n",
            "🚀 Обрабатываю файл 322/2219: part_633.txt\n"
          ]
        },
        {
          "output_type": "display_data",
          "data": {
            "text/plain": [
              "Анализ 1-грамм:   0%|          | 0/2 [00:00<?, ?it/s]"
            ],
            "application/vnd.jupyter.widget-view+json": {
              "version_major": 2,
              "version_minor": 0,
              "model_id": "8de5ca6f817a46d5abd89cc83669a31a"
            }
          },
          "metadata": {}
        },
        {
          "output_type": "stream",
          "name": "stdout",
          "text": [
            "\n",
            "📊 Итоговая статистика 1-грамм:\n",
            "Общее количество 1-грамм: 9559\n",
            "Количество уникальных 1-грамм: 3718\n",
            "Коэффициент уникальности: 38.90%\n",
            "💾 Промежуточные результаты сохранены в /content/drive/MyDrive/K_means/split_20/train_20/temp_metrics.csv\n",
            "✅ Файл обработан. Всего записей: 322\n",
            "\n",
            "🚀 Обрабатываю файл 323/2219: part_634.txt\n"
          ]
        },
        {
          "output_type": "display_data",
          "data": {
            "text/plain": [
              "Анализ 1-грамм:   0%|          | 0/2 [00:00<?, ?it/s]"
            ],
            "application/vnd.jupyter.widget-view+json": {
              "version_major": 2,
              "version_minor": 0,
              "model_id": "c72a40ffdad54bc489f09e603b89ca8c"
            }
          },
          "metadata": {}
        },
        {
          "output_type": "stream",
          "name": "stdout",
          "text": [
            "\n",
            "📊 Итоговая статистика 1-грамм:\n",
            "Общее количество 1-грамм: 10534\n",
            "Количество уникальных 1-грамм: 3667\n",
            "Коэффициент уникальности: 34.81%\n",
            "💾 Промежуточные результаты сохранены в /content/drive/MyDrive/K_means/split_20/train_20/temp_metrics.csv\n",
            "✅ Файл обработан. Всего записей: 323\n",
            "\n",
            "🚀 Обрабатываю файл 324/2219: part_637.txt\n"
          ]
        },
        {
          "output_type": "display_data",
          "data": {
            "text/plain": [
              "Анализ 1-грамм:   0%|          | 0/2 [00:00<?, ?it/s]"
            ],
            "application/vnd.jupyter.widget-view+json": {
              "version_major": 2,
              "version_minor": 0,
              "model_id": "d341f2e8f8934a9594b26d7ce976053b"
            }
          },
          "metadata": {}
        },
        {
          "output_type": "stream",
          "name": "stdout",
          "text": [
            "\n",
            "📊 Итоговая статистика 1-грамм:\n",
            "Общее количество 1-грамм: 9965\n",
            "Количество уникальных 1-грамм: 3358\n",
            "Коэффициент уникальности: 33.70%\n",
            "💾 Промежуточные результаты сохранены в /content/drive/MyDrive/K_means/split_20/train_20/temp_metrics.csv\n",
            "✅ Файл обработан. Всего записей: 324\n",
            "\n",
            "🚀 Обрабатываю файл 325/2219: part_640.txt\n"
          ]
        },
        {
          "output_type": "display_data",
          "data": {
            "text/plain": [
              "Анализ 1-грамм:   0%|          | 0/2 [00:00<?, ?it/s]"
            ],
            "application/vnd.jupyter.widget-view+json": {
              "version_major": 2,
              "version_minor": 0,
              "model_id": "48d59339321945debf949bbcfe3b58a5"
            }
          },
          "metadata": {}
        },
        {
          "output_type": "stream",
          "name": "stdout",
          "text": [
            "\n",
            "📊 Итоговая статистика 1-грамм:\n",
            "Общее количество 1-грамм: 9278\n",
            "Количество уникальных 1-грамм: 3365\n",
            "Коэффициент уникальности: 36.27%\n",
            "💾 Промежуточные результаты сохранены в /content/drive/MyDrive/K_means/split_20/train_20/temp_metrics.csv\n",
            "✅ Файл обработан. Всего записей: 325\n",
            "\n",
            "🚀 Обрабатываю файл 326/2219: part_643.txt\n"
          ]
        },
        {
          "output_type": "display_data",
          "data": {
            "text/plain": [
              "Анализ 1-грамм:   0%|          | 0/2 [00:00<?, ?it/s]"
            ],
            "application/vnd.jupyter.widget-view+json": {
              "version_major": 2,
              "version_minor": 0,
              "model_id": "d51dbf05ebfd4c32adf20b9d66d3a983"
            }
          },
          "metadata": {}
        },
        {
          "output_type": "stream",
          "name": "stdout",
          "text": [
            "\n",
            "📊 Итоговая статистика 1-грамм:\n",
            "Общее количество 1-грамм: 9491\n",
            "Количество уникальных 1-грамм: 3535\n",
            "Коэффициент уникальности: 37.25%\n",
            "💾 Промежуточные результаты сохранены в /content/drive/MyDrive/K_means/split_20/train_20/temp_metrics.csv\n",
            "✅ Файл обработан. Всего записей: 326\n",
            "\n",
            "🚀 Обрабатываю файл 327/2219: part_644.txt\n"
          ]
        },
        {
          "output_type": "display_data",
          "data": {
            "text/plain": [
              "Анализ 1-грамм:   0%|          | 0/2 [00:00<?, ?it/s]"
            ],
            "application/vnd.jupyter.widget-view+json": {
              "version_major": 2,
              "version_minor": 0,
              "model_id": "6192e2b9702b4dd49ab3939a28d1f0e4"
            }
          },
          "metadata": {}
        },
        {
          "output_type": "stream",
          "name": "stdout",
          "text": [
            "\n",
            "📊 Итоговая статистика 1-грамм:\n",
            "Общее количество 1-грамм: 10340\n",
            "Количество уникальных 1-грамм: 2669\n",
            "Коэффициент уникальности: 25.81%\n",
            "💾 Промежуточные результаты сохранены в /content/drive/MyDrive/K_means/split_20/train_20/temp_metrics.csv\n",
            "✅ Файл обработан. Всего записей: 327\n",
            "\n",
            "🚀 Обрабатываю файл 328/2219: part_647.txt\n"
          ]
        },
        {
          "output_type": "display_data",
          "data": {
            "text/plain": [
              "Анализ 1-грамм:   0%|          | 0/2 [00:00<?, ?it/s]"
            ],
            "application/vnd.jupyter.widget-view+json": {
              "version_major": 2,
              "version_minor": 0,
              "model_id": "b401f602323847da8f2a1ee1391c36b5"
            }
          },
          "metadata": {}
        },
        {
          "output_type": "stream",
          "name": "stdout",
          "text": [
            "\n",
            "📊 Итоговая статистика 1-грамм:\n",
            "Общее количество 1-грамм: 9988\n",
            "Количество уникальных 1-грамм: 3326\n",
            "Коэффициент уникальности: 33.30%\n"
          ]
        }
      ]
    },
    {
      "cell_type": "markdown",
      "source": [
        "## Обучение классификатора с кросс-валидацией"
      ],
      "metadata": {
        "id": "3fbDpbd5_95Y"
      }
    },
    {
      "cell_type": "code",
      "source": [
        "import os\n",
        "import pandas as pd\n",
        "import numpy as np\n",
        "import matplotlib.pyplot as plt\n",
        "import seaborn as sns\n",
        "import joblib\n",
        "\n",
        "from sklearn.model_selection import StratifiedKFold\n",
        "from sklearn.preprocessing import StandardScaler\n",
        "from sklearn.svm import SVC, LinearSVC\n",
        "from sklearn.tree import DecisionTreeClassifier\n",
        "from sklearn.ensemble import RandomForestClassifier\n",
        "from sklearn.metrics import accuracy_score, f1_score, classification_report, confusion_matrix\n",
        "\n",
        "# === Пути ===\n",
        "base_path = \"/content/drive/MyDrive/K_means/texts_for_classificator/split/\"\n",
        "train_csv = f\"{base_path}/features_train_k_means.csv\"\n",
        "test_csv = f\"{base_path}/features_test_k_means.csv\"\n",
        "model_output_path = f\"{base_path}/models\"\n",
        "os.makedirs(model_output_path, exist_ok=True)\n",
        "\n",
        "# === Загрузка данных ===\n",
        "train_df = pd.read_csv(train_csv)\n",
        "test_df = pd.read_csv(test_csv)\n",
        "\n",
        "# drop_cols = [\"text_id\", \"filename\", \"bot\", \"human\", \"cluster_distribution\", \"uniqueness_ratio\"]\n",
        "selected_features = ['min_inter']\n",
        "X_train = train_df[selected_features].values\n",
        "y_train = train_df[\"bot\"].values\n",
        "X_test = test_df[selected_features].values\n",
        "y_test = test_df[\"bot\"].values\n",
        "\n",
        "# === Масштабирование ===\n",
        "scaler = StandardScaler()\n",
        "X_train_scaled = scaler.fit_transform(X_train)\n",
        "X_test_scaled = scaler.transform(X_test)\n",
        "\n",
        "# === Классификаторы ===\n",
        "models = {\n",
        "    \"Linear SVC (balanced)\": LinearSVC(max_iter=10000, class_weight=\"balanced\"),\n",
        "    \"SVM (RBF, balanced)\": SVC(kernel=\"rbf\", class_weight=\"balanced\"),\n",
        "    \"Decision Tree (balanced)\": DecisionTreeClassifier(class_weight=\"balanced\"),\n",
        "    \"Random Forest (balanced)\": RandomForestClassifier(class_weight=\"balanced\")\n",
        "}\n",
        "\n",
        "results = []\n",
        "predictions = {}\n",
        "trained_models = {}\n",
        "\n",
        "# === Кросс-валидация ===\n",
        "skf = StratifiedKFold(n_splits=5, shuffle=True, random_state=42)\n",
        "\n",
        "for name, model in models.items():\n",
        "    acc_scores = []\n",
        "    f1_scores = []\n",
        "\n",
        "    print(f\"\\n📌 Модель: {name}\")\n",
        "    for fold, (train_idx, val_idx) in enumerate(skf.split(X_train_scaled, y_train), 1):\n",
        "        X_fold_train, X_fold_val = X_train_scaled[train_idx], X_train_scaled[val_idx]\n",
        "        y_fold_train, y_fold_val = y_train[train_idx], y_train[val_idx]\n",
        "\n",
        "        model.fit(X_fold_train, y_fold_train)\n",
        "        y_val_pred = model.predict(X_fold_val)\n",
        "\n",
        "        acc_scores.append(accuracy_score(y_fold_val, y_val_pred))\n",
        "        f1_scores.append(f1_score(y_fold_val, y_val_pred))\n",
        "\n",
        "        print(f\"Фолд {fold}: Accuracy = {acc_scores[-1]:.3f}, F1 = {f1_scores[-1]:.3f}\")\n",
        "\n",
        "    # Обучаем на всей обучающей выборке\n",
        "    model.fit(X_train_scaled, y_train)\n",
        "    trained_models[name] = model\n",
        "    y_test_pred = model.predict(X_test_scaled)\n",
        "    predictions[name] = y_test_pred\n",
        "\n",
        "    results.append({\n",
        "        \"Model\": name,\n",
        "        \"CV Accuracy\": np.mean(acc_scores),\n",
        "        \"CV F1 Score\": np.mean(f1_scores),\n",
        "        \"Test Accuracy\": accuracy_score(y_test, y_test_pred),\n",
        "        \"Test F1 Score\": f1_score(y_test, y_test_pred),\n",
        "        \"Precision (Bot)\": classification_report(y_test, y_test_pred, output_dict=True)[\"1\"][\"precision\"],\n",
        "        \"Recall (Bot)\": classification_report(y_test, y_test_pred, output_dict=True)[\"1\"][\"recall\"]\n",
        "    })\n",
        "\n",
        "# === Результаты ===\n",
        "results_df = pd.DataFrame(results).sort_values(by=\"Test F1 Score\", ascending=False)\n",
        "print(\"\\n📊 Сравнение моделей:\")\n",
        "print(results_df)\n",
        "\n",
        "# === Матрица ошибок для лучшей модели ===\n",
        "best_model_name = results_df.iloc[0][\"Model\"]\n",
        "best_model = trained_models[best_model_name]\n",
        "y_best = predictions[best_model_name]\n",
        "\n",
        "conf_matrix = confusion_matrix(y_test, y_best)\n",
        "plt.figure(figsize=(6, 5))\n",
        "sns.heatmap(conf_matrix, annot=True, fmt=\"d\", cmap=\"Blues\")\n",
        "plt.xlabel(\"Predicted\")\n",
        "plt.ylabel(\"Actual\")\n",
        "plt.title(f\"Confusion Matrix: {best_model_name}\")\n",
        "plt.show()\n",
        "\n",
        "print(f\"\\n📋 Classification Report: {best_model_name}\")\n",
        "print(classification_report(y_test, y_best))\n",
        "\n",
        "# === Сохранение лучшей модели ===\n",
        "model_path = os.path.join(model_output_path, f\"best_model_cv_{best_model_name.replace(' ', '_').lower()}.pkl\")\n",
        "scaler_path = os.path.join(model_output_path, \"scaler.pkl\")\n",
        "joblib.dump(best_model, model_path)\n",
        "joblib.dump(scaler, scaler_path)\n",
        "\n",
        "print(f\"\\n✅ Модель и scaler сохранены в: {model_output_path}\")\n"
      ],
      "metadata": {
        "colab": {
          "base_uri": "https://localhost:8080/",
          "height": 1000
        },
        "id": "o3eGVSXrXf2V",
        "outputId": "02be06d2-9d1c-46f2-ff5e-9351cac9d300"
      },
      "execution_count": null,
      "outputs": [
        {
          "output_type": "stream",
          "name": "stdout",
          "text": [
            "\n",
            "📌 Модель: Linear SVC (balanced)\n",
            "Фолд 1: Accuracy = 0.662, F1 = 0.603\n",
            "Фолд 2: Accuracy = 0.691, F1 = 0.662\n",
            "Фолд 3: Accuracy = 0.675, F1 = 0.628\n",
            "Фолд 4: Accuracy = 0.667, F1 = 0.614\n",
            "Фолд 5: Accuracy = 0.666, F1 = 0.628\n",
            "\n",
            "📌 Модель: SVM (RBF, balanced)\n",
            "Фолд 1: Accuracy = 0.670, F1 = 0.637\n",
            "Фолд 2: Accuracy = 0.691, F1 = 0.684\n",
            "Фолд 3: Accuracy = 0.683, F1 = 0.665\n",
            "Фолд 4: Accuracy = 0.661, F1 = 0.639\n",
            "Фолд 5: Accuracy = 0.678, F1 = 0.661\n",
            "\n",
            "📌 Модель: Decision Tree (balanced)\n",
            "Фолд 1: Accuracy = 0.578, F1 = 0.569\n",
            "Фолд 2: Accuracy = 0.596, F1 = 0.594\n",
            "Фолд 3: Accuracy = 0.587, F1 = 0.600\n",
            "Фолд 4: Accuracy = 0.572, F1 = 0.551\n",
            "Фолд 5: Accuracy = 0.552, F1 = 0.545\n",
            "\n",
            "📌 Модель: Random Forest (balanced)\n",
            "Фолд 1: Accuracy = 0.578, F1 = 0.569\n",
            "Фолд 2: Accuracy = 0.596, F1 = 0.594\n",
            "Фолд 3: Accuracy = 0.587, F1 = 0.600\n",
            "Фолд 4: Accuracy = 0.572, F1 = 0.551\n",
            "Фолд 5: Accuracy = 0.553, F1 = 0.545\n",
            "\n",
            "📊 Сравнение моделей:\n",
            "                      Model  CV Accuracy  CV F1 Score  Test Accuracy  \\\n",
            "1       SVM (RBF, balanced)     0.676756     0.657309       0.724089   \n",
            "0     Linear SVC (balanced)     0.672252     0.626933       0.689778   \n",
            "2  Decision Tree (balanced)     0.576928     0.571563       0.593281   \n",
            "3  Random Forest (balanced)     0.577178     0.571701       0.593281   \n",
            "\n",
            "   Test F1 Score  Precision (Bot)  Recall (Bot)  \n",
            "1       0.717836         0.734480      0.701930  \n",
            "0       0.650564         0.744700      0.577555  \n",
            "2       0.597311         0.591451      0.603288  \n",
            "3       0.597311         0.591451      0.603288  \n"
          ]
        },
        {
          "output_type": "display_data",
          "data": {
            "text/plain": [
              "<Figure size 600x500 with 2 Axes>"
            ],
            "image/png": "[encoded data removed]"
          },
          "metadata": {}
        },
        {
          "output_type": "stream",
          "name": "stdout",
          "text": [
            "\n",
            "📋 Classification Report: SVM (RBF, balanced)\n",
            "              precision    recall  f1-score   support\n",
            "\n",
            "           0       0.71      0.75      0.73      1399\n",
            "           1       0.73      0.70      0.72      1399\n",
            "\n",
            "    accuracy                           0.72      2798\n",
            "   macro avg       0.72      0.72      0.72      2798\n",
            "weighted avg       0.72      0.72      0.72      2798\n",
            "\n",
            "\n",
            "✅ Модель и scaler сохранены в: /content/drive/MyDrive/K_means/texts_for_classificator/split//models\n"
          ]
        }
      ]
    }
  ]
}